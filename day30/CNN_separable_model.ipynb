{
  "cells": [
    {
      "cell_type": "code",
      "execution_count": 73,
      "metadata": {
        "colab": {
          "base_uri": "https://localhost:8080/"
        },
        "id": "b1v7nIKe2wnB",
        "outputId": "127e4375-bc51-4b35-8e5c-74de38f2ec64"
      },
      "outputs": [
        {
          "output_type": "stream",
          "name": "stdout",
          "text": [
            "/content\n"
          ]
        }
      ],
      "source": [
        "!pwd"
      ]
    },
    {
      "cell_type": "code",
      "execution_count": 74,
      "metadata": {
        "colab": {
          "base_uri": "https://localhost:8080/"
        },
        "id": "Zb5kNhjG2zPS",
        "outputId": "84a7bf6b-e75c-4479-d8ae-ef50bd2615fe"
      },
      "outputs": [
        {
          "output_type": "stream",
          "name": "stdout",
          "text": [
            "data  deeplearning_model.py  model_weights  __pycache__  sample_data\n"
          ]
        }
      ],
      "source": [
        "!ls"
      ]
    },
    {
      "cell_type": "markdown",
      "metadata": {
        "id": "7hhMZpnw2ZoP"
      },
      "source": [
        "# CNN卷积神经网络"
      ]
    },
    {
      "cell_type": "code",
      "execution_count": 75,
      "metadata": {
        "colab": {
          "base_uri": "https://localhost:8080/",
          "height": 62
        },
        "execution": {
          "iopub.execute_input": "2025-06-29T12:54:32.282348Z",
          "iopub.status.busy": "2025-06-29T12:54:32.281867Z",
          "iopub.status.idle": "2025-06-29T12:54:32.361511Z",
          "shell.execute_reply": "2025-06-29T12:54:32.360967Z",
          "shell.execute_reply.started": "2025-06-29T12:54:32.282322Z"
        },
        "id": "QfixIZLQ2ZoR",
        "outputId": "b257fdf8-88ee-4f2f-8fbb-5b58e74aa536"
      },
      "outputs": [
        {
          "output_type": "stream",
          "name": "stdout",
          "text": [
            "(<PIL.Image.Image image mode=L size=28x28 at 0x7816F1F863D0>, 9)\n"
          ]
        },
        {
          "output_type": "execute_result",
          "data": {
            "text/plain": [
              "<PIL.Image.Image image mode=L size=28x28>"
            ],
            "image/png": "[encoded data removed]",
            "image/jpeg": "[encoded data removed]"
          },
          "metadata": {},
          "execution_count": 75
        }
      ],
      "source": [
        "import torch\n",
        "import torchvision\n",
        "import numpy as np\n",
        "from torchvision import datasets, transforms\n",
        "from deeplearning_model import EarlyStopping, ModelSaver,train_classification_model,plot_learning_curves\n",
        "from deeplearning_model import evaluate_classification_model as evaluate_model\n",
        "import torch.nn as nn\n",
        "import torch.nn.functional as F\n",
        "import torch.nn.init as init\n",
        "import torchvision.transforms as transforms\n",
        "from  torchvision.transforms import Normalize\n",
        "\n",
        "# 加载Fashion MNIST数据集，张量就是和numpy数组一样\n",
        "transform = transforms.Compose([])\n",
        "train_dataset = datasets.FashionMNIST(root='./data', train=True, download=True, transform=transform)\n",
        "test_dataset = datasets.FashionMNIST(root='./data', train=False, download=True, transform=transform)\n",
        "print(train_dataset[0])\n",
        "train_dataset[0][0]"
      ]
    },
    {
      "cell_type": "markdown",
      "metadata": {
        "id": "-w6-C80W2ZoS"
      },
      "source": [
        "# 加载数据并处理为tensor格式"
      ]
    },
    {
      "cell_type": "code",
      "execution_count": 76,
      "metadata": {
        "colab": {
          "base_uri": "https://localhost:8080/"
        },
        "execution": {
          "iopub.execute_input": "2025-06-29T12:54:32.362911Z",
          "iopub.status.busy": "2025-06-29T12:54:32.362450Z",
          "iopub.status.idle": "2025-06-29T12:54:32.436429Z",
          "shell.execute_reply": "2025-06-29T12:54:32.435902Z",
          "shell.execute_reply.started": "2025-06-29T12:54:32.362889Z"
        },
        "id": "r3m_8XtW2ZoS",
        "outputId": "ead3ee36-56f1-446f-aeba-393e1f30c8bf"
      },
      "outputs": [
        {
          "output_type": "stream",
          "name": "stdout",
          "text": [
            "训练集形状: (60000, 28, 28)\n",
            "训练集标签数量: 60000\n",
            "测试集形状: (10000, 28, 28)\n",
            "测试集标签数量: 10000\n"
          ]
        }
      ],
      "source": [
        "# 加载Fashion MNIST数据集，张量就是和numpy数组一样\n",
        "train_dataset = datasets.FashionMNIST(root='./data', train=True, download=True, transform=transforms.ToTensor())\n",
        "test_dataset = datasets.FashionMNIST(root='./data', train=False, download=True, transform=transforms.ToTensor())\n",
        "\n",
        "\n",
        "# 获取图像和标签\n",
        "# 注意：由于使用了transform，图像已经被转换为张量且标准化\n",
        "# 我们需要从dataset中提取原始图像用于显示\n",
        "train_images = train_dataset.data.numpy()\n",
        "train_labels = train_dataset.targets.numpy()\n",
        "test_images = test_dataset.data.numpy()\n",
        "test_labels = test_dataset.targets.numpy()\n",
        "\n",
        "# 定义类别名称标签\n",
        "class_names = ['T-shirt/top', 'Trouser', 'Pullover', 'Dress', 'Coat', 'Sandal', 'Shirt', 'Sneaker', 'Bag', 'Ankle boot']\n",
        "\n",
        "# 查看数据集基本信息\n",
        "print(f\"训练集形状: {train_images.shape}\")\n",
        "print(f\"训练集标签数量: {len(train_labels)}\")\n",
        "print(f\"测试集形状: {test_images.shape}\")\n",
        "print(f\"测试集标签数量: {len(test_labels)}\")"
      ]
    },
    {
      "cell_type": "code",
      "source": [
        "# 从训练集中划分出验证集\n",
        "train_size = 55000\n",
        "val_size = 5000\n",
        "# 设置随机种子以确保每次得到相同的随机划分结果\n",
        "generator = torch.Generator().manual_seed(42)\n",
        "train_subset, val_subset = torch.utils.data.random_split(\n",
        "    train_dataset,\n",
        "    [train_size, val_size],\n",
        "    generator=generator #设置随机种子，确保每次得到相同的随机划分结果\n",
        ")\n",
        "\n",
        "# 创建数据加载器\n",
        "batch_size = 64\n",
        "train_loader = torch.utils.data.DataLoader(\n",
        "    train_subset,\n",
        "    batch_size=batch_size,\n",
        "    shuffle=True #打乱数据集，每次迭代时，数据集的顺序都会被打乱\n",
        ")\n",
        "\n",
        "val_loader = torch.utils.data.DataLoader(\n",
        "    val_subset,\n",
        "    batch_size=batch_size,\n",
        "    shuffle=False\n",
        ")\n",
        "\n",
        "test_loader = torch.utils.data.DataLoader(\n",
        "    test_dataset,\n",
        "    batch_size=batch_size,\n",
        "    shuffle=False\n",
        ")\n",
        "\n",
        "print(f\"训练批次数: {len(train_loader)}\")"
      ],
      "metadata": {
        "colab": {
          "base_uri": "https://localhost:8080/"
        },
        "id": "fQHSw7Q1AqNG",
        "outputId": "cf581dc3-375c-4737-ba49-45ad4da1ed0d"
      },
      "execution_count": 77,
      "outputs": [
        {
          "output_type": "stream",
          "name": "stdout",
          "text": [
            "训练批次数: 860\n"
          ]
        }
      ]
    },
    {
      "cell_type": "code",
      "execution_count": 78,
      "metadata": {
        "colab": {
          "base_uri": "https://localhost:8080/"
        },
        "id": "U50VdHbE6Iku",
        "outputId": "8bd6284d-f918-411e-96a2-b6d2c7832259"
      },
      "outputs": [
        {
          "output_type": "stream",
          "name": "stdout",
          "text": [
            "torch.Size([60000, 1, 28, 28])\n",
            "训练数据集均值: 0.2860\n",
            "训练数据集标准差: 0.3530\n",
            "数据集中图像总数: 60000\n"
          ]
        }
      ],
      "source": [
        "# 计算训练集均值和方差，以便加载数据集时直接标准化\n",
        "def calculate_mean_std(train_dataset):\n",
        "    # 首先将所有图像数据堆叠为一个大张量\n",
        "    all_images = torch.stack([img_tensor for img_tensor, _ in train_dataset])\n",
        "    print(all_images.shape)\n",
        "    # 计算通道维度上的均值和标准差\n",
        "    # Fashion MNIST是灰度图像，只有一个通道\n",
        "    # 对所有像素值计算均值和标准差\n",
        "    mean = torch.mean(all_images)\n",
        "    std = torch.std(all_images)\n",
        "\n",
        "    print(f\"训练数据集均值: {mean.item():.4f}\")\n",
        "    print(f\"训练数据集标准差: {std.item():.4f}\")\n",
        "\n",
        "    # 检查数据集大小\n",
        "    print(f\"数据集中图像总数: {len(train_dataset)}\")\n",
        "\n",
        "calculate_mean_std(train_dataset)"
      ]
    },
    {
      "cell_type": "markdown",
      "metadata": {
        "id": "JiJZ_o242ZoT"
      },
      "source": [
        "# 定义CNN模型类"
      ]
    },
    {
      "cell_type": "markdown",
      "metadata": {
        "id": "TpaF62iJ6Ikv"
      },
      "source": [
        "## 深度可分离CNN"
      ]
    },
    {
      "cell_type": "code",
      "execution_count": 79,
      "metadata": {
        "id": "nifzzaN46Ikv"
      },
      "outputs": [],
      "source": [
        "\n",
        "class DepthwiseSeparableConv(nn.Module):\n",
        "    def __init__(self, in_channels, out_channels, kernel_size, stride=1, padding=0):\n",
        "        \"\"\"\n",
        "        深度可分离卷积模块\n",
        "\n",
        "        参数:\n",
        "            in_channels: 输入通道数\n",
        "            out_channels: 输出通道数\n",
        "            kernel_size: 卷积核大小\n",
        "            stride: 步长\n",
        "            padding: 填充\n",
        "        \"\"\"\n",
        "        super(DepthwiseSeparableConv, self).__init__()\n",
        "\n",
        "        # 深度卷积 - 对每个输入通道单独进行卷积操作\n",
        "        self.depthwise = nn.Conv2d(\n",
        "            in_channels=in_channels,\n",
        "            out_channels=in_channels,\n",
        "            kernel_size=kernel_size,\n",
        "            stride=stride,\n",
        "            padding=padding,\n",
        "            groups=in_channels  # 将输入通道分组，每组一个通道\n",
        "        )\n",
        "\n",
        "        # 逐点卷积 - 使用1x1卷积进行通道混合\n",
        "        self.pointwise = nn.Conv2d(\n",
        "            in_channels=in_channels,\n",
        "            out_channels=out_channels,\n",
        "            kernel_size=1,\n",
        "            stride=1,\n",
        "            padding=0\n",
        "        )\n",
        "\n",
        "    def forward(self, x):\n",
        "        # 先进行深度卷积，再进行逐点卷积\n",
        "        x = self.depthwise(x)  # 深度卷积\n",
        "        x = self.pointwise(x)  # 逐点卷积\n",
        "        return x\n",
        "\n",
        "\n",
        "\n"
      ]
    },
    {
      "cell_type": "code",
      "source": [
        "# 测试深度可分离卷积层\n",
        "input_tensor = torch.randn(1, 3, 28, 28)  # 批次大小为1，3个输入通道，28x28图像\n",
        "separable_conv = DepthwiseSeparableConv(in_channels=3, out_channels=16, kernel_size=3, padding=1)\n",
        "output = separable_conv(input_tensor)\n",
        "print(f\"输入形状: {input_tensor.shape}\")\n",
        "print(f\"输出形状: {output.shape}\")\n",
        "print(f\"参数数量: {sum(p.numel() for p in separable_conv.parameters())}\")"
      ],
      "metadata": {
        "colab": {
          "base_uri": "https://localhost:8080/"
        },
        "id": "MMGFjJz8-Vn-",
        "outputId": "08a0402e-8d20-4d7d-9189-9964b798ed5f"
      },
      "execution_count": 80,
      "outputs": [
        {
          "output_type": "stream",
          "name": "stdout",
          "text": [
            "输入形状: torch.Size([1, 3, 28, 28])\n",
            "输出形状: torch.Size([1, 16, 28, 28])\n",
            "参数数量: 94\n"
          ]
        }
      ]
    },
    {
      "cell_type": "code",
      "execution_count": 81,
      "metadata": {
        "id": "Ne-jvDM8-rhI"
      },
      "outputs": [],
      "source": [
        "class DepthwiseSeparableConv(nn.Module):\n",
        "    def __init__(self, in_channels, out_channels, kernel_size, stride=1, padding=0):\n",
        "        \"\"\"\n",
        "        深度可分离卷积模块\n",
        "\n",
        "        参数:\n",
        "            in_channels: 输入通道数\n",
        "            out_channels: 输出通道数\n",
        "            kernel_size: 卷积核大小\n",
        "            stride: 步长\n",
        "            padding: 填充\n",
        "        \"\"\"\n",
        "        super().__init__()\n",
        "        # normalize归一化\n",
        "        self.transform = nn.Sequential(\n",
        "            transforms.Normalize([0.2856], [0.3527])\n",
        "        )\n",
        "\n",
        "        # 深度卷积 - 对每个输入通道单独进行卷积操作\n",
        "        self.depthwise = nn.Conv2d(\n",
        "            in_channels=in_channels,\n",
        "            out_channels=in_channels,\n",
        "            kernel_size=kernel_size,\n",
        "            stride=stride,\n",
        "            padding=padding,\n",
        "            groups=in_channels  # 将输入通道分组，每组一个通道\n",
        "        )\n",
        "\n",
        "        # 逐点卷积 - 使用1x1卷积进行通道混合\n",
        "        self.pointwise = nn.Conv2d(\n",
        "            in_channels=in_channels,\n",
        "            out_channels=out_channels,\n",
        "            kernel_size=1,\n",
        "            stride=1,\n",
        "            padding=0\n",
        "        )\n",
        "\n",
        "    def forward(self, x):\n",
        "        # 先进行深度卷积，再进行逐点卷积\n",
        "        x = self.depthwise(x)  # 深度卷积\n",
        "        x = self.pointwise(x)  # 逐点卷积\n",
        "        return x\n",
        "\n",
        "\n",
        "class SeparableCNN(nn.Module):\n",
        "    def __init__(self,activation='relu'):\n",
        "        \"\"\"\n",
        "        使用深度可分离卷积的CNN模型\n",
        "        参数:\n",
        "            activation: 激活函数，可选'relu'或'selu'\n",
        "        卷积核数量由32依次递增\n",
        "        使用Xavier均匀分布初始化权重\n",
        "        使用最大值池化\n",
        "        \"\"\"\n",
        "        super().__init__()\n",
        "\n",
        "        # 标准化层\n",
        "        self.normalize = nn.Sequential(Normalize(mean=0.2856, std=0.3527))\n",
        "\n",
        "        # 设置激活函数\n",
        "        if activation == 'relu':\n",
        "            self.activation = F.relu\n",
        "        elif activation == 'selu':\n",
        "            self.activation = F.selu\n",
        "        else:\n",
        "            raise ValueError(f\"不支持的激活函数: {activation}\")\n",
        "        # 第一个卷积块 - 使用标准卷积\n",
        "        self.conv1 = nn.Conv2d(1, 32, kernel_size=3, padding='same')  # 第一层使用标准卷积\n",
        "        self.sep_conv1 = DepthwiseSeparableConv(32, 32, kernel_size=3, padding=1)\n",
        "\n",
        "        # 第二个卷积块 - 使用深度可分离卷积\n",
        "        self.sep_conv2 = DepthwiseSeparableConv(32, 64, kernel_size=3, padding=1)\n",
        "        self.sep_conv3 = DepthwiseSeparableConv(64, 64, kernel_size=3, padding=1)\n",
        "\n",
        "        # 第三个卷积块 - 使用深度可分离卷积\n",
        "        self.sep_conv4 = DepthwiseSeparableConv(64, 128, kernel_size=3, padding=1)\n",
        "        self.sep_conv5 = DepthwiseSeparableConv(128, 128, kernel_size=3, padding=1)\n",
        "\n",
        "\n",
        "        # 池化层\n",
        "        self.pool = nn.MaxPool2d(kernel_size=2, stride=2)\n",
        "\n",
        "        # 全连接层\n",
        "        self.fc1 = nn.Linear(128 * 3 * 3, 256)\n",
        "        self.fc2 = nn.Linear(256, 10)  # 输出10个类别\n",
        "\n",
        "        # 初始化权重\n",
        "        self._initialize_weights()\n",
        "\n",
        "    def _initialize_weights(self):\n",
        "        \"\"\"\n",
        "        使用Xavier初始化权重\n",
        "        \"\"\"\n",
        "        for m in self.modules():\n",
        "            if isinstance(m, nn.Conv2d):\n",
        "                nn.init.xavier_uniform_(m.weight)  # Xavier均匀分布初始化\n",
        "                if m.bias is not None:\n",
        "                    nn.init.constant_(m.bias, 0)\n",
        "            elif isinstance(m, nn.Linear):\n",
        "                nn.init.xavier_uniform_(m.weight)\n",
        "                nn.init.constant_(m.bias, 0)\n",
        "            elif isinstance(m, nn.BatchNorm2d):\n",
        "                nn.init.constant_(m.weight, 1)\n",
        "                nn.init.constant_(m.bias, 0)\n",
        "\n",
        "    def forward(self, x):\n",
        "        # 第一个卷积块\n",
        "        x = self.activation(self.conv1(x))\n",
        "        x = self.activation(self.sep_conv1(x))\n",
        "        x = self.pool(x)  # 28x28 -> 14x14\n",
        "\n",
        "        # 第二个卷积块\n",
        "        x = self.activation(self.sep_conv2(x))\n",
        "        x = self.activation(self.sep_conv3(x))\n",
        "        x = self.pool(x)  # 14x14 -> 7x7\n",
        "\n",
        "        # 第三个卷积块\n",
        "        x = self.activation(self.sep_conv4(x))\n",
        "        x = self.activation(self.sep_conv5(x))\n",
        "        x = self.pool(x)  # 7x7 -> 3x3 (向下取整)\n",
        "\n",
        "\n",
        "        # 展平\n",
        "        x = x.view(x.size(0), -1)\n",
        "\n",
        "        # 全连接层\n",
        "        x = F.relu(self.fc1(x))\n",
        "        x = self.fc2(x)\n",
        "\n",
        "        return x\n"
      ]
    },
    {
      "cell_type": "code",
      "execution_count": 82,
      "metadata": {
        "colab": {
          "base_uri": "https://localhost:8080/"
        },
        "execution": {
          "iopub.execute_input": "2025-06-29T12:58:48.596226Z",
          "iopub.status.busy": "2025-06-29T12:58:48.595901Z",
          "iopub.status.idle": "2025-06-29T12:58:48.650438Z",
          "shell.execute_reply": "2025-06-29T12:58:48.649894Z",
          "shell.execute_reply.started": "2025-06-29T12:58:48.596200Z"
        },
        "id": "CCBjbmI22ZoU",
        "outputId": "823cb935-73ba-4840-edc8-574d810c83ca"
      },
      "outputs": [
        {
          "output_type": "stream",
          "name": "stdout",
          "text": [
            "批次图像形状: torch.Size([64, 1, 28, 28])\n",
            "批次标签形状: torch.Size([64])\n",
            "----------------------------------------------------------------------------------------------------\n",
            "torch.Size([64, 10])\n"
          ]
        }
      ],
      "source": [
        "# 实例化模型\n",
        "model = SeparableCNN(activation=\"selu\")\n",
        "\n",
        "# 从train_loader获取第一个批次的数据\n",
        "dataiter = iter(train_loader)\n",
        "images, labels = next(dataiter)\n",
        "\n",
        "# 查看批次数据的形状\n",
        "print(\"批次图像形状:\", images.shape)\n",
        "print(\"批次标签形状:\", labels.shape)\n",
        "\n",
        "\n",
        "print('-'*100)\n",
        "# 进行前向传播\n",
        "with torch.no_grad():  # 不需要计算梯度\n",
        "    outputs = model(images)\n",
        "\n",
        "print(outputs.shape)"
      ]
    },
    {
      "cell_type": "code",
      "execution_count": 83,
      "metadata": {
        "colab": {
          "base_uri": "https://localhost:8080/"
        },
        "execution": {
          "iopub.execute_input": "2025-06-29T12:58:48.657365Z",
          "iopub.status.busy": "2025-06-29T12:58:48.657116Z",
          "iopub.status.idle": "2025-06-29T12:58:48.662229Z",
          "shell.execute_reply": "2025-06-29T12:58:48.661619Z",
          "shell.execute_reply.started": "2025-06-29T12:58:48.657349Z"
        },
        "id": "c0rTzpNh2ZoU",
        "outputId": "8ded7af2-9ed9-4891-e084-6de1594063b2"
      },
      "outputs": [
        {
          "output_type": "stream",
          "name": "stdout",
          "text": [
            "需要求梯度的参数总量: 333418\n",
            "模型总参数量: 333418\n",
            "\n",
            "各层参数量明细:\n",
            "conv1.weight: 288 参数\n",
            "conv1.bias: 32 参数\n",
            "sep_conv1.depthwise.weight: 288 参数\n",
            "sep_conv1.depthwise.bias: 32 参数\n",
            "sep_conv1.pointwise.weight: 1024 参数\n",
            "sep_conv1.pointwise.bias: 32 参数\n",
            "sep_conv2.depthwise.weight: 288 参数\n",
            "sep_conv2.depthwise.bias: 32 参数\n",
            "sep_conv2.pointwise.weight: 2048 参数\n",
            "sep_conv2.pointwise.bias: 64 参数\n",
            "sep_conv3.depthwise.weight: 576 参数\n",
            "sep_conv3.depthwise.bias: 64 参数\n",
            "sep_conv3.pointwise.weight: 4096 参数\n",
            "sep_conv3.pointwise.bias: 64 参数\n",
            "sep_conv4.depthwise.weight: 576 参数\n",
            "sep_conv4.depthwise.bias: 64 参数\n",
            "sep_conv4.pointwise.weight: 8192 参数\n",
            "sep_conv4.pointwise.bias: 128 参数\n",
            "sep_conv5.depthwise.weight: 1152 参数\n",
            "sep_conv5.depthwise.bias: 128 参数\n",
            "sep_conv5.pointwise.weight: 16384 参数\n",
            "sep_conv5.pointwise.bias: 128 参数\n",
            "fc1.weight: 294912 参数\n",
            "fc1.bias: 256 参数\n",
            "fc2.weight: 2560 参数\n",
            "fc2.bias: 10 参数\n"
          ]
        }
      ],
      "source": [
        "# 计算模型的总参数量\n",
        "# 统计需要求梯度的参数总量\n",
        "total_params = sum(p.numel() for p in model.parameters() if p.requires_grad)\n",
        "print(f\"需要求梯度的参数总量: {total_params}\")\n",
        "\n",
        "# 统计所有参数总量\n",
        "all_params = sum(p.numel() for p in model.parameters())\n",
        "print(f\"模型总参数量: {all_params}\")\n",
        "\n",
        "# 查看每层参数量明细\n",
        "print(\"\\n各层参数量明细:\")\n",
        "for name, param in model.named_parameters():\n",
        "    print(f\"{name}: {param.numel()} 参数\")\n"
      ]
    },
    {
      "cell_type": "markdown",
      "metadata": {
        "id": "efyI2AwP2ZoU"
      },
      "source": [
        "# 设置交叉熵损失函数，SGD优化器"
      ]
    },
    {
      "cell_type": "code",
      "execution_count": 84,
      "metadata": {
        "execution": {
          "iopub.execute_input": "2025-06-29T12:58:48.663022Z",
          "iopub.status.busy": "2025-06-29T12:58:48.662793Z",
          "iopub.status.idle": "2025-06-29T12:58:48.675017Z",
          "shell.execute_reply": "2025-06-29T12:58:48.674585Z",
          "shell.execute_reply.started": "2025-06-29T12:58:48.663005Z"
        },
        "id": "RBavLYdP2ZoU"
      },
      "outputs": [],
      "source": [
        "model = SeparableCNN(activation='selu')\n",
        "# 定义损失函数和优化器\n",
        "loss_fn = nn.CrossEntropyLoss()  # 交叉熵损失函数，适用于多分类问题，里边会做softmax，还有会把0-9标签转换成one-hot编码\n",
        "# 用少量样本就能更新权重，训练更快，且更容易跳出局部最优,动量为0.9的含义指，当前的梯度是上一次的梯度乘以0.9加上当前的梯度乘以0.1\n",
        "optimizer = torch.optim.SGD(model.parameters(), lr=0.001, momentum=0.9)  # SGD优化器，学习率为0.01，动量为0.9\n"
      ]
    },
    {
      "cell_type": "code",
      "execution_count": 85,
      "metadata": {
        "colab": {
          "base_uri": "https://localhost:8080/",
          "height": 84,
          "referenced_widgets": [
            "38deab685103420c9aee1c48f8b4ed52",
            "b54d8be7ff6f4abb81d9a5ae7ad27070",
            "29f3a2a53b3340ddae31fab563ef91e2",
            "b87c1a603b9a46eea65ce4e562c8347e",
            "5854e120ec0d4c25adf9d407eeb4f693",
            "d314a3cb972742c8bc0a324d768b9d77",
            "ef5e10e3cda24b99b772cfb4fff7f92c",
            "c9093c7948874f06a149927e689dc3cc",
            "b62e627e2f0f42fea75108bd4484ad50",
            "7333a6502cce4cd5a7e15bf868f34c7a",
            "9136b33567a24706b5a7595200d3a0ae"
          ]
        },
        "execution": {
          "iopub.execute_input": "2025-06-29T12:58:48.676141Z",
          "iopub.status.busy": "2025-06-29T12:58:48.675670Z",
          "iopub.status.idle": "2025-06-29T13:02:40.406935Z",
          "shell.execute_reply": "2025-06-29T13:02:40.406203Z",
          "shell.execute_reply.started": "2025-06-29T12:58:48.676099Z"
        },
        "id": "IjRDTIuJ2ZoV",
        "outputId": "699b6827-9550-45d7-a9cb-2627d89868f4",
        "tags": []
      },
      "outputs": [
        {
          "output_type": "stream",
          "name": "stdout",
          "text": [
            "使用设备: cuda:0\n",
            "训练开始，共43000步\n"
          ]
        },
        {
          "output_type": "display_data",
          "data": {
            "text/plain": [
              "  0%|          | 0/43000 [00:00<?, ?it/s]"
            ],
            "application/vnd.jupyter.widget-view+json": {
              "version_major": 2,
              "version_minor": 0,
              "model_id": "38deab685103420c9aee1c48f8b4ed52"
            }
          },
          "metadata": {}
        }
      ],
      "source": [
        "device = torch.device(\"cuda:0\" if torch.cuda.is_available() else \"cpu\") #如果GPU可用，则使用GPU，否则使用CPU\n",
        "print(f\"使用设备: {device}\")\n",
        "model = model.to(device) #将模型移动到GPU与训练模型，评估模型，保存模型中相同\n",
        "early_stopping=EarlyStopping(patience=10, delta=0.001)\n",
        "model_saver=ModelSaver(save_dir='model_weights', save_best_only=True)\n",
        "\n",
        "model, history = train_classification_model(model, train_loader, val_loader, loss_fn, optimizer, device, num_epochs=50, early_stopping=early_stopping, model_saver=model_saver,eval_step=500)\n"
      ]
    },
    {
      "cell_type": "code",
      "execution_count": 86,
      "metadata": {
        "colab": {
          "base_uri": "https://localhost:8080/"
        },
        "id": "5p77eLdm6Ikx",
        "outputId": "9fae3abc-20fd-488d-a656-17a071451f5b"
      },
      "outputs": [
        {
          "output_type": "execute_result",
          "data": {
            "text/plain": [
              "[{'loss': 0.39552197182178495, 'acc': 85.04, 'step': 33000},\n",
              " {'loss': 0.3893888226747513, 'acc': 85.22, 'step': 33500},\n",
              " {'loss': 0.38540690274238587, 'acc': 85.72, 'step': 34000},\n",
              " {'loss': 0.37479470241069796, 'acc': 85.72, 'step': 34500},\n",
              " {'loss': 0.38485092911720276, 'acc': 85.66, 'step': 35000},\n",
              " {'loss': 0.38384305210113523, 'acc': 85.64, 'step': 35500},\n",
              " {'loss': 0.3783602005004883, 'acc': 85.66, 'step': 36000},\n",
              " {'loss': 0.37976522810459135, 'acc': 85.68, 'step': 36500},\n",
              " {'loss': 0.3739768488407135, 'acc': 86.22, 'step': 37000},\n",
              " {'loss': 0.3614908219099045, 'acc': 86.5, 'step': 37500},\n",
              " {'loss': 0.37128071501255033, 'acc': 86.2, 'step': 38000},\n",
              " {'loss': 0.35979204699993134, 'acc': 85.92, 'step': 38500},\n",
              " {'loss': 0.36195913150310516, 'acc': 86.06, 'step': 39000},\n",
              " {'loss': 0.37295434393882754, 'acc': 86.28, 'step': 39500},\n",
              " {'loss': 0.3643940505504608, 'acc': 86.22, 'step': 40000},\n",
              " {'loss': 0.3533815556526184, 'acc': 86.38, 'step': 40500},\n",
              " {'loss': 0.3672690135240555, 'acc': 86.36, 'step': 41000},\n",
              " {'loss': 0.36423464624881746, 'acc': 86.6, 'step': 41500},\n",
              " {'loss': 0.34777135882377624, 'acc': 87.0, 'step': 42000}]"
            ]
          },
          "metadata": {},
          "execution_count": 86
        }
      ],
      "source": [
        "history['val'][-20:-1]"
      ]
    },
    {
      "cell_type": "code",
      "execution_count": 87,
      "metadata": {
        "colab": {
          "base_uri": "https://localhost:8080/",
          "height": 465
        },
        "execution": {
          "iopub.status.busy": "2025-06-29T13:02:40.407501Z",
          "iopub.status.idle": "2025-06-29T13:02:40.407754Z",
          "shell.execute_reply": "2025-06-29T13:02:40.407655Z",
          "shell.execute_reply.started": "2025-06-29T13:02:40.407643Z"
        },
        "id": "jOf2j-Vp2ZoV",
        "outputId": "205fd1f3-b3eb-4497-8f04-e1ea0129de82"
      },
      "outputs": [
        {
          "output_type": "display_data",
          "data": {
            "text/plain": [
              "<Figure size 1000x500 with 2 Axes>"
            ],
            "image/png": "[encoded data removed]"
          },
          "metadata": {}
        }
      ],
      "source": [
        "# 绘制学习损失曲线，sample_step是每500步绘制一次\n",
        "plot_learning_curves(history, sample_step=500)  #横坐标是 steps，纵坐标是 loss，accuracy"
      ]
    },
    {
      "cell_type": "code",
      "execution_count": 88,
      "metadata": {
        "colab": {
          "base_uri": "https://localhost:8080/"
        },
        "execution": {
          "iopub.status.busy": "2025-06-29T13:02:40.408364Z",
          "iopub.status.idle": "2025-06-29T13:02:40.408589Z",
          "shell.execute_reply": "2025-06-29T13:02:40.408482Z",
          "shell.execute_reply.started": "2025-06-29T13:02:40.408472Z"
        },
        "id": "yof2QMw92ZoV",
        "outputId": "819429bf-51a4-4d9d-ab4d-6c15f9091616",
        "tags": []
      },
      "outputs": [
        {
          "output_type": "execute_result",
          "data": {
            "text/plain": [
              "(86.72, 0.35295231926441195)"
            ]
          },
          "metadata": {},
          "execution_count": 88
        }
      ],
      "source": [
        "# 在测试集上评估模型\n",
        "test_accuracy = evaluate_model(model, val_loader, device, loss_fn)\n",
        "test_accuracy"
      ]
    }
  ],
  "metadata": {
    "accelerator": "GPU",
    "colab": {
      "gpuType": "T4",
      "provenance": []
    },
    "kernelspec": {
      "display_name": "Python 3",
      "name": "python3"
    },
    "language_info": {
      "codemirror_mode": {
        "name": "ipython",
        "version": 3
      },
      "file_extension": ".py",
      "mimetype": "text/x-python",
      "name": "python",
      "nbconvert_exporter": "python",
      "pygments_lexer": "ipython3",
      "version": "3.12.1"
    },
    "widgets": {
      "application/vnd.jupyter.widget-state+json": {
        "38deab685103420c9aee1c48f8b4ed52": {
          "model_module": "@jupyter-widgets/controls",
          "model_name": "HBoxModel",
          "model_module_version": "1.5.0",
          "state": {
            "_dom_classes": [],
            "_model_module": "@jupyter-widgets/controls",
            "_model_module_version": "1.5.0",
            "_model_name": "HBoxModel",
            "_view_count": null,
            "_view_module": "@jupyter-widgets/controls",
            "_view_module_version": "1.5.0",
            "_view_name": "HBoxView",
            "box_style": "",
            "children": [
              "IPY_MODEL_b54d8be7ff6f4abb81d9a5ae7ad27070",
              "IPY_MODEL_29f3a2a53b3340ddae31fab563ef91e2",
              "IPY_MODEL_b87c1a603b9a46eea65ce4e562c8347e"
            ],
            "layout": "IPY_MODEL_5854e120ec0d4c25adf9d407eeb4f693"
          }
        },
        "b54d8be7ff6f4abb81d9a5ae7ad27070": {
          "model_module": "@jupyter-widgets/controls",
          "model_name": "HTMLModel",
          "model_module_version": "1.5.0",
          "state": {
            "_dom_classes": [],
            "_model_module": "@jupyter-widgets/controls",
            "_model_module_version": "1.5.0",
            "_model_name": "HTMLModel",
            "_view_count": null,
            "_view_module": "@jupyter-widgets/controls",
            "_view_module_version": "1.5.0",
            "_view_name": "HTMLView",
            "description": "",
            "description_tooltip": null,
            "layout": "IPY_MODEL_d314a3cb972742c8bc0a324d768b9d77",
            "placeholder": "​",
            "style": "IPY_MODEL_ef5e10e3cda24b99b772cfb4fff7f92c",
            "value": "100%"
          }
        },
        "29f3a2a53b3340ddae31fab563ef91e2": {
          "model_module": "@jupyter-widgets/controls",
          "model_name": "FloatProgressModel",
          "model_module_version": "1.5.0",
          "state": {
            "_dom_classes": [],
            "_model_module": "@jupyter-widgets/controls",
            "_model_module_version": "1.5.0",
            "_model_name": "FloatProgressModel",
            "_view_count": null,
            "_view_module": "@jupyter-widgets/controls",
            "_view_module_version": "1.5.0",
            "_view_name": "ProgressView",
            "bar_style": "success",
            "description": "",
            "description_tooltip": null,
            "layout": "IPY_MODEL_c9093c7948874f06a149927e689dc3cc",
            "max": 43000,
            "min": 0,
            "orientation": "horizontal",
            "style": "IPY_MODEL_b62e627e2f0f42fea75108bd4484ad50",
            "value": 43000
          }
        },
        "b87c1a603b9a46eea65ce4e562c8347e": {
          "model_module": "@jupyter-widgets/controls",
          "model_name": "HTMLModel",
          "model_module_version": "1.5.0",
          "state": {
            "_dom_classes": [],
            "_model_module": "@jupyter-widgets/controls",
            "_model_module_version": "1.5.0",
            "_model_name": "HTMLModel",
            "_view_count": null,
            "_view_module": "@jupyter-widgets/controls",
            "_view_module_version": "1.5.0",
            "_view_name": "HTMLView",
            "description": "",
            "description_tooltip": null,
            "layout": "IPY_MODEL_7333a6502cce4cd5a7e15bf868f34c7a",
            "placeholder": "​",
            "style": "IPY_MODEL_9136b33567a24706b5a7595200d3a0ae",
            "value": " 43000/43000 [13:53&lt;00:00, 57.19it/s, epoch=49, loss=0.1036, acc=100.00%]"
          }
        },
        "5854e120ec0d4c25adf9d407eeb4f693": {
          "model_module": "@jupyter-widgets/base",
          "model_name": "LayoutModel",
          "model_module_version": "1.2.0",
          "state": {
            "_model_module": "@jupyter-widgets/base",
            "_model_module_version": "1.2.0",
            "_model_name": "LayoutModel",
            "_view_count": null,
            "_view_module": "@jupyter-widgets/base",
            "_view_module_version": "1.2.0",
            "_view_name": "LayoutView",
            "align_content": null,
            "align_items": null,
            "align_self": null,
            "border": null,
            "bottom": null,
            "display": null,
            "flex": null,
            "flex_flow": null,
            "grid_area": null,
            "grid_auto_columns": null,
            "grid_auto_flow": null,
            "grid_auto_rows": null,
            "grid_column": null,
            "grid_gap": null,
            "grid_row": null,
            "grid_template_areas": null,
            "grid_template_columns": null,
            "grid_template_rows": null,
            "height": null,
            "justify_content": null,
            "justify_items": null,
            "left": null,
            "margin": null,
            "max_height": null,
            "max_width": null,
            "min_height": null,
            "min_width": null,
            "object_fit": null,
            "object_position": null,
            "order": null,
            "overflow": null,
            "overflow_x": null,
            "overflow_y": null,
            "padding": null,
            "right": null,
            "top": null,
            "visibility": null,
            "width": null
          }
        },
        "d314a3cb972742c8bc0a324d768b9d77": {
          "model_module": "@jupyter-widgets/base",
          "model_name": "LayoutModel",
          "model_module_version": "1.2.0",
          "state": {
            "_model_module": "@jupyter-widgets/base",
            "_model_module_version": "1.2.0",
            "_model_name": "LayoutModel",
            "_view_count": null,
            "_view_module": "@jupyter-widgets/base",
            "_view_module_version": "1.2.0",
            "_view_name": "LayoutView",
            "align_content": null,
            "align_items": null,
            "align_self": null,
            "border": null,
            "bottom": null,
            "display": null,
            "flex": null,
            "flex_flow": null,
            "grid_area": null,
            "grid_auto_columns": null,
            "grid_auto_flow": null,
            "grid_auto_rows": null,
            "grid_column": null,
            "grid_gap": null,
            "grid_row": null,
            "grid_template_areas": null,
            "grid_template_columns": null,
            "grid_template_rows": null,
            "height": null,
            "justify_content": null,
            "justify_items": null,
            "left": null,
            "margin": null,
            "max_height": null,
            "max_width": null,
            "min_height": null,
            "min_width": null,
            "object_fit": null,
            "object_position": null,
            "order": null,
            "overflow": null,
            "overflow_x": null,
            "overflow_y": null,
            "padding": null,
            "right": null,
            "top": null,
            "visibility": null,
            "width": null
          }
        },
        "ef5e10e3cda24b99b772cfb4fff7f92c": {
          "model_module": "@jupyter-widgets/controls",
          "model_name": "DescriptionStyleModel",
          "model_module_version": "1.5.0",
          "state": {
            "_model_module": "@jupyter-widgets/controls",
            "_model_module_version": "1.5.0",
            "_model_name": "DescriptionStyleModel",
            "_view_count": null,
            "_view_module": "@jupyter-widgets/base",
            "_view_module_version": "1.2.0",
            "_view_name": "StyleView",
            "description_width": ""
          }
        },
        "c9093c7948874f06a149927e689dc3cc": {
          "model_module": "@jupyter-widgets/base",
          "model_name": "LayoutModel",
          "model_module_version": "1.2.0",
          "state": {
            "_model_module": "@jupyter-widgets/base",
            "_model_module_version": "1.2.0",
            "_model_name": "LayoutModel",
            "_view_count": null,
            "_view_module": "@jupyter-widgets/base",
            "_view_module_version": "1.2.0",
            "_view_name": "LayoutView",
            "align_content": null,
            "align_items": null,
            "align_self": null,
            "border": null,
            "bottom": null,
            "display": null,
            "flex": null,
            "flex_flow": null,
            "grid_area": null,
            "grid_auto_columns": null,
            "grid_auto_flow": null,
            "grid_auto_rows": null,
            "grid_column": null,
            "grid_gap": null,
            "grid_row": null,
            "grid_template_areas": null,
            "grid_template_columns": null,
            "grid_template_rows": null,
            "height": null,
            "justify_content": null,
            "justify_items": null,
            "left": null,
            "margin": null,
            "max_height": null,
            "max_width": null,
            "min_height": null,
            "min_width": null,
            "object_fit": null,
            "object_position": null,
            "order": null,
            "overflow": null,
            "overflow_x": null,
            "overflow_y": null,
            "padding": null,
            "right": null,
            "top": null,
            "visibility": null,
            "width": null
          }
        },
        "b62e627e2f0f42fea75108bd4484ad50": {
          "model_module": "@jupyter-widgets/controls",
          "model_name": "ProgressStyleModel",
          "model_module_version": "1.5.0",
          "state": {
            "_model_module": "@jupyter-widgets/controls",
            "_model_module_version": "1.5.0",
            "_model_name": "ProgressStyleModel",
            "_view_count": null,
            "_view_module": "@jupyter-widgets/base",
            "_view_module_version": "1.2.0",
            "_view_name": "StyleView",
            "bar_color": null,
            "description_width": ""
          }
        },
        "7333a6502cce4cd5a7e15bf868f34c7a": {
          "model_module": "@jupyter-widgets/base",
          "model_name": "LayoutModel",
          "model_module_version": "1.2.0",
          "state": {
            "_model_module": "@jupyter-widgets/base",
            "_model_module_version": "1.2.0",
            "_model_name": "LayoutModel",
            "_view_count": null,
            "_view_module": "@jupyter-widgets/base",
            "_view_module_version": "1.2.0",
            "_view_name": "LayoutView",
            "align_content": null,
            "align_items": null,
            "align_self": null,
            "border": null,
            "bottom": null,
            "display": null,
            "flex": null,
            "flex_flow": null,
            "grid_area": null,
            "grid_auto_columns": null,
            "grid_auto_flow": null,
            "grid_auto_rows": null,
            "grid_column": null,
            "grid_gap": null,
            "grid_row": null,
            "grid_template_areas": null,
            "grid_template_columns": null,
            "grid_template_rows": null,
            "height": null,
            "justify_content": null,
            "justify_items": null,
            "left": null,
            "margin": null,
            "max_height": null,
            "max_width": null,
            "min_height": null,
            "min_width": null,
            "object_fit": null,
            "object_position": null,
            "order": null,
            "overflow": null,
            "overflow_x": null,
            "overflow_y": null,
            "padding": null,
            "right": null,
            "top": null,
            "visibility": null,
            "width": null
          }
        },
        "9136b33567a24706b5a7595200d3a0ae": {
          "model_module": "@jupyter-widgets/controls",
          "model_name": "DescriptionStyleModel",
          "model_module_version": "1.5.0",
          "state": {
            "_model_module": "@jupyter-widgets/controls",
            "_model_module_version": "1.5.0",
            "_model_name": "DescriptionStyleModel",
            "_view_count": null,
            "_view_module": "@jupyter-widgets/base",
            "_view_module_version": "1.2.0",
            "_view_name": "StyleView",
            "description_width": ""
          }
        }
      }
    }
  },
  "nbformat": 4,
  "nbformat_minor": 0
}