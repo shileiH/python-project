{
  "cells": [
    {
      "cell_type": "code",
      "execution_count": 17,
      "metadata": {
        "colab": {
          "base_uri": "https://localhost:8080/"
        },
        "id": "b1v7nIKe2wnB",
        "outputId": "a9e26dd4-8848-4905-c44d-7f6beae26a91"
      },
      "outputs": [
        {
          "output_type": "stream",
          "name": "stdout",
          "text": [
            "/content\n"
          ]
        }
      ],
      "source": [
        "!pwd"
      ]
    },
    {
      "cell_type": "code",
      "execution_count": 18,
      "metadata": {
        "colab": {
          "base_uri": "https://localhost:8080/"
        },
        "id": "Zb5kNhjG2zPS",
        "outputId": "44553a31-2f7e-448f-d3c2-dc9a60d26c10"
      },
      "outputs": [
        {
          "output_type": "stream",
          "name": "stdout",
          "text": [
            "data  deeplearning_model.py  __pycache__  sample_data\n"
          ]
        }
      ],
      "source": [
        "!ls"
      ]
    },
    {
      "cell_type": "markdown",
      "metadata": {
        "id": "7hhMZpnw2ZoP"
      },
      "source": [
        "# CNN卷积神经网络"
      ]
    },
    {
      "cell_type": "code",
      "execution_count": 31,
      "metadata": {
        "colab": {
          "base_uri": "https://localhost:8080/",
          "height": 62
        },
        "execution": {
          "iopub.execute_input": "2025-06-29T12:54:32.282348Z",
          "iopub.status.busy": "2025-06-29T12:54:32.281867Z",
          "iopub.status.idle": "2025-06-29T12:54:32.361511Z",
          "shell.execute_reply": "2025-06-29T12:54:32.360967Z",
          "shell.execute_reply.started": "2025-06-29T12:54:32.282322Z"
        },
        "id": "QfixIZLQ2ZoR",
        "outputId": "8490b63a-a5bb-4f1b-dd67-c8934727b2b1"
      },
      "outputs": [
        {
          "output_type": "stream",
          "name": "stdout",
          "text": [
            "(<PIL.Image.Image image mode=L size=28x28 at 0x79956AE2C690>, 9)\n"
          ]
        },
        {
          "output_type": "execute_result",
          "data": {
            "text/plain": [
              "<PIL.Image.Image image mode=L size=28x28>"
            ],
            "image/png": "[encoded data removed]",
            "image/jpeg": "[encoded data removed]"
          },
          "metadata": {},
          "execution_count": 31
        }
      ],
      "source": [
        "import torch\n",
        "import torchvision\n",
        "import numpy as np\n",
        "import matplotlib.pyplot as plt\n",
        "from torchvision import datasets, transforms\n",
        "from deeplearning_model import EarlyStopping, ModelSaver,train_classification_model,plot_learning_curves\n",
        "from deeplearning_model import evaluate_classification_model\n",
        "# 加载Fashion MNIST数据集，张量就是和numpy数组一样\n",
        "transform = transforms.Compose([])\n",
        "train_dataset = datasets.FashionMNIST(root='./data', train=True, download=True, transform=transform)\n",
        "test_dataset = datasets.FashionMNIST(root='./data', train=False, download=True, transform=transform)\n",
        "print(train_dataset[0])\n",
        "train_dataset[0][0]"
      ]
    },
    {
      "cell_type": "markdown",
      "metadata": {
        "id": "-w6-C80W2ZoS"
      },
      "source": [
        "# 加载数据并处理为tensor格式"
      ]
    },
    {
      "cell_type": "code",
      "execution_count": 41,
      "metadata": {
        "colab": {
          "base_uri": "https://localhost:8080/"
        },
        "execution": {
          "iopub.execute_input": "2025-06-29T12:54:32.362911Z",
          "iopub.status.busy": "2025-06-29T12:54:32.362450Z",
          "iopub.status.idle": "2025-06-29T12:54:32.436429Z",
          "shell.execute_reply": "2025-06-29T12:54:32.435902Z",
          "shell.execute_reply.started": "2025-06-29T12:54:32.362889Z"
        },
        "id": "r3m_8XtW2ZoS",
        "outputId": "b2ef0ed5-7b0e-4902-da6e-60d999047bb7"
      },
      "outputs": [
        {
          "output_type": "stream",
          "name": "stdout",
          "text": [
            "训练集形状: (60000, 28, 28)\n",
            "训练集标签数量: 60000\n",
            "测试集形状: (10000, 28, 28)\n",
            "测试集标签数量: 10000\n"
          ]
        }
      ],
      "source": [
        "# 加载Fashion MNIST数据集，张量就是和numpy数组一样\n",
        "train_dataset = datasets.FashionMNIST(root='./data', train=True, download=True, transform=transforms.ToTensor())\n",
        "test_dataset = datasets.FashionMNIST(root='./data', train=False, download=True, transform=transforms.ToTensor())\n",
        "\n",
        "\n",
        "# 获取图像和标签\n",
        "# 注意：由于使用了transform，图像已经被转换为张量且标准化\n",
        "# 我们需要从dataset中提取原始图像用于显示\n",
        "train_images = train_dataset.data.numpy()\n",
        "train_labels = train_dataset.targets.numpy()\n",
        "test_images = test_dataset.data.numpy()\n",
        "test_labels = test_dataset.targets.numpy()\n",
        "\n",
        "# 定义类别名称标签\n",
        "class_names = ['T-shirt/top', 'Trouser', 'Pullover', 'Dress', 'Coat', 'Sandal', 'Shirt', 'Sneaker', 'Bag', 'Ankle boot']\n",
        "\n",
        "# 查看数据集基本信息\n",
        "print(f\"训练集形状: {train_images.shape}\")\n",
        "print(f\"训练集标签数量: {len(train_labels)}\")\n",
        "print(f\"测试集形状: {test_images.shape}\")\n",
        "print(f\"测试集标签数量: {len(test_labels)}\")"
      ]
    },
    {
      "cell_type": "code",
      "source": [
        "# 从训练集中划分出验证集\n",
        "train_size = 55000\n",
        "val_size = 5000\n",
        "# 设置随机种子以确保每次得到相同的随机划分结果\n",
        "generator = torch.Generator().manual_seed(42)\n",
        "train_subset, val_subset = torch.utils.data.random_split(\n",
        "    train_dataset,\n",
        "    [train_size, val_size],\n",
        "    generator=generator #设置随机种子，确保每次得到相同的随机划分结果\n",
        ")\n",
        "\n",
        "# 创建数据加载器\n",
        "batch_size = 64\n",
        "train_loader = torch.utils.data.DataLoader(\n",
        "    train_subset,\n",
        "    batch_size=batch_size,\n",
        "    shuffle=True #打乱数据集，每次迭代时，数据集的顺序都会被打乱\n",
        ")\n",
        "\n",
        "val_loader = torch.utils.data.DataLoader(\n",
        "    val_subset,\n",
        "    batch_size=batch_size,\n",
        "    shuffle=False\n",
        ")\n",
        "\n",
        "test_loader = torch.utils.data.DataLoader(\n",
        "    test_dataset,\n",
        "    batch_size=batch_size,\n",
        "    shuffle=False\n",
        ")\n",
        "\n",
        "# 打印数据集大小信息\n",
        "print(f\"训练集大小: {len(train_subset)}\")\n",
        "print(f\"验证集大小: {len(val_subset)}\")\n",
        "print(f\"测试集大小: {len(test_dataset)}\")\n",
        "print(f\"批次大小: {batch_size}\")\n",
        "print(f\"训练批次数: {len(train_loader)}\")"
      ],
      "metadata": {
        "colab": {
          "base_uri": "https://localhost:8080/"
        },
        "id": "pjn063H6yVKb",
        "outputId": "47cf064c-907d-4fe1-929f-b2a2a37d248f"
      },
      "execution_count": 42,
      "outputs": [
        {
          "output_type": "stream",
          "name": "stdout",
          "text": [
            "训练集大小: 55000\n",
            "验证集大小: 5000\n",
            "测试集大小: 10000\n",
            "批次大小: 64\n",
            "训练批次数: 860\n"
          ]
        }
      ]
    },
    {
      "cell_type": "code",
      "execution_count": 22,
      "metadata": {
        "colab": {
          "base_uri": "https://localhost:8080/"
        },
        "id": "HkVblVAKqNCs",
        "outputId": "86f72da9-98b8-479b-a504-f2403553b20d"
      },
      "outputs": [
        {
          "output_type": "stream",
          "name": "stdout",
          "text": [
            "torch.Size([60000, 1, 28, 28])\n",
            "训练数据集均值: 0.2860\n",
            "训练数据集标准差: 0.3530\n",
            "数据集中图像总数: 60000\n"
          ]
        }
      ],
      "source": [
        "# 计算训练集均值和方差，以便加载数据集时直接标准化\n",
        "def calculate_mean_std(train_dataset):\n",
        "    # 首先将所有图像数据堆叠为一个大张量\n",
        "    all_images = torch.stack([img_tensor for img_tensor, _ in train_dataset])\n",
        "    print(all_images.shape)\n",
        "    # 计算通道维度上的均值和标准差\n",
        "    # Fashion MNIST是灰度图像，只有一个通道\n",
        "    # 对所有像素值计算均值和标准差\n",
        "    mean = torch.mean(all_images)\n",
        "    std = torch.std(all_images)\n",
        "\n",
        "    print(f\"训练数据集均值: {mean.item():.4f}\")\n",
        "    print(f\"训练数据集标准差: {std.item():.4f}\")\n",
        "\n",
        "    # 检查数据集大小\n",
        "    print(f\"数据集中图像总数: {len(train_dataset)}\")\n",
        "\n",
        "calculate_mean_std(train_dataset)"
      ]
    },
    {
      "cell_type": "markdown",
      "metadata": {
        "id": "JiJZ_o242ZoT"
      },
      "source": [
        "# 定义CNN模型类"
      ]
    },
    {
      "cell_type": "code",
      "execution_count": 23,
      "metadata": {
        "ExecutionIndicator": {
          "show": true
        },
        "execution": {
          "iopub.execute_input": "2025-06-29T12:58:48.585502Z",
          "iopub.status.busy": "2025-06-29T12:58:48.584961Z",
          "iopub.status.idle": "2025-06-29T12:58:48.594720Z",
          "shell.execute_reply": "2025-06-29T12:58:48.594051Z",
          "shell.execute_reply.started": "2025-06-29T12:58:48.585475Z"
        },
        "id": "vqzKSB8K2ZoT",
        "tags": []
      },
      "outputs": [],
      "source": [
        "import torch.nn as nn\n",
        "import torch\n",
        "import torch.nn.functional as F\n",
        "import torch.nn.init as init\n",
        "import torchvision.transforms as transforms\n",
        "from  torchvision.transforms import Normalize\n",
        "\n",
        "class CNN(nn.Module):\n",
        "    def __init__(self):\n",
        "        \"\"\"\n",
        "        CNN卷积神经网络模型\n",
        "        卷积核数量由32依次递增\n",
        "        使用Xavier均匀分布初始化权重\n",
        "        \"\"\"\n",
        "        super().__init__()\n",
        "        # 也可以使用固定的均值和标准差进行标准化\n",
        "        self.normalize = nn.Sequential(Normalize(mean=0.2860, std=0.3530))\n",
        "\n",
        "        # 标准化层，将输入数据标准化为均值0，标准差1\n",
        "        # nn.BatchNorm2d(1, affine=False)  # 对单通道灰度图像进行标准化\n",
        "        # 也可以使用固定的均值和标准差进行标准化\n",
        "\n",
        "        # 第一个卷积块\n",
        "        self.conv1 = nn.Conv2d(1, 32, kernel_size=3, padding=1)  # 输入通道1，输出通道32\n",
        "        self.conv2 = nn.Conv2d(32, 32, kernel_size=3, padding=1)  # 输入通道1，输出通道32\n",
        "\n",
        "        # 池化层，最大值与平均值池化在调参时分别倾向于提取特征和保留特征\n",
        "        self.pool = nn.MaxPool2d(kernel_size=2, stride=2)  # 最大池化层\n",
        "\n",
        "        # 第二个卷积块\n",
        "        self.conv3 = nn.Conv2d(32, 64, kernel_size=3, padding=1)  # 输入通道32，输出通道64\n",
        "        self.conv4 = nn.Conv2d(64, 64, kernel_size=3, padding=1)  # 输入通道64，输出通道64\n",
        "\n",
        "        # 第三个卷积块\n",
        "        self.conv5 = nn.Conv2d(64, 128, kernel_size=3, padding=1)  # 输入通道64，输出通道128\n",
        "        self.conv6 = nn.Conv2d(128, 128, kernel_size=3, padding=1)  # 输入通道128，输出通道128\n",
        "\n",
        "        # 全连接层\n",
        "        self.fc1 = nn.Linear(128 * 3 * 3, 512)  # 全连接层\n",
        "        self.dropout = nn.Dropout(0.2)  # dropout层防止过拟合\n",
        "        self.fc2 = nn.Linear(512, 10)  # 输出10个类别\n",
        "\n",
        "        # 初始化权重\n",
        "        self._initialize_weights()\n",
        "\n",
        "    def forward(self, x):\n",
        "        \"\"\"\n",
        "        前向传播\n",
        "        \"\"\"\n",
        "        # 第一个卷积块\n",
        "        x = F.relu(self.conv1(x))\n",
        "        x = self.pool(F.relu(self.conv2(x)))  # 卷积->ReLU激活->池化\n",
        "\n",
        "        # 第二个卷积块\n",
        "        x = F.relu(self.conv3(x))\n",
        "        x = self.pool(F.relu(self.conv4(x)))  # 卷积->ReLU激活->池化\n",
        "\n",
        "        # 第三个卷积块\n",
        "        x = F.relu(self.conv5(x))\n",
        "        x = self.pool(F.relu(self.conv6(x)))  # 卷积->ReLU激活->池化\n",
        "\n",
        "        # 展平\n",
        "        x = x.view(-1, 128 * 3 * 3)  # 展平为一维向量x.size(0)\n",
        "\n",
        "        # 全连接层\n",
        "        x = F.relu(self.fc1(x))  # 全连接->ReLU激活\n",
        "        x = self.dropout(x)  # dropout\n",
        "        x = self.fc2(x)  # 输出层\n",
        "        return x\n",
        "\n",
        "    def _initialize_weights(self):\n",
        "        \"\"\"\n",
        "        使用Xavier均匀分布初始化权重\n",
        "        \"\"\"\n",
        "        for m in self.modules():\n",
        "            if isinstance(m, nn.Conv2d):\n",
        "                # 卷积层使用Xavier均匀分布初始化\n",
        "                init.xavier_uniform_(m.weight)\n",
        "                if m.bias is not None:\n",
        "                    init.constant_(m.bias, 0)\n",
        "            elif isinstance(m, nn.Linear):\n",
        "                # 全连接层使用Xavier均匀分布初始化\n",
        "                init.xavier_uniform_(m.weight)\n",
        "                init.constant_(m.bias, 0)\n"
      ]
    },
    {
      "cell_type": "code",
      "execution_count": 24,
      "metadata": {
        "colab": {
          "base_uri": "https://localhost:8080/"
        },
        "execution": {
          "iopub.execute_input": "2025-06-29T12:58:48.596226Z",
          "iopub.status.busy": "2025-06-29T12:58:48.595901Z",
          "iopub.status.idle": "2025-06-29T12:58:48.650438Z",
          "shell.execute_reply": "2025-06-29T12:58:48.649894Z",
          "shell.execute_reply.started": "2025-06-29T12:58:48.596200Z"
        },
        "id": "CCBjbmI22ZoU",
        "outputId": "0757bb14-0790-488e-e642-817bdfff50b2"
      },
      "outputs": [
        {
          "output_type": "stream",
          "name": "stdout",
          "text": [
            "批次图像形状: torch.Size([64, 1, 28, 28])\n",
            "批次标签形状: torch.Size([64])\n",
            "----------------------------------------------------------------------------------------------------\n",
            "torch.Size([64, 10])\n"
          ]
        }
      ],
      "source": [
        "# 实例化模型\n",
        "model = CNN()\n",
        "\n",
        "# 从train_loader获取第一个批次的数据\n",
        "dataiter = iter(train_loader)\n",
        "images, labels = next(dataiter)\n",
        "\n",
        "# 查看批次数据的形状\n",
        "print(\"批次图像形状:\", images.shape)\n",
        "print(\"批次标签形状:\", labels.shape)\n",
        "\n",
        "\n",
        "print('-'*100)\n",
        "# 进行前向传播\n",
        "with torch.no_grad():  # 不需要计算梯度\n",
        "    outputs = model(images)\n",
        "\n",
        "print(outputs.shape)"
      ]
    },
    {
      "cell_type": "code",
      "execution_count": 25,
      "metadata": {
        "colab": {
          "base_uri": "https://localhost:8080/"
        },
        "execution": {
          "iopub.execute_input": "2025-06-29T12:58:48.657365Z",
          "iopub.status.busy": "2025-06-29T12:58:48.657116Z",
          "iopub.status.idle": "2025-06-29T12:58:48.662229Z",
          "shell.execute_reply": "2025-06-29T12:58:48.661619Z",
          "shell.execute_reply.started": "2025-06-29T12:58:48.657349Z"
        },
        "id": "c0rTzpNh2ZoU",
        "outputId": "1409c1c9-fe60-4d23-eff0-38534804b87d"
      },
      "outputs": [
        {
          "output_type": "stream",
          "name": "stdout",
          "text": [
            "需要求梯度的参数总量: 881898\n",
            "模型总参数量: 881898\n",
            "\n",
            "各层参数量明细:\n",
            "conv1.weight: 288 参数\n",
            "conv1.bias: 32 参数\n",
            "conv2.weight: 9216 参数\n",
            "conv2.bias: 32 参数\n",
            "conv3.weight: 18432 参数\n",
            "conv3.bias: 64 参数\n",
            "conv4.weight: 36864 参数\n",
            "conv4.bias: 64 参数\n",
            "conv5.weight: 73728 参数\n",
            "conv5.bias: 128 参数\n",
            "conv6.weight: 147456 参数\n",
            "conv6.bias: 128 参数\n",
            "fc1.weight: 589824 参数\n",
            "fc1.bias: 512 参数\n",
            "fc2.weight: 5120 参数\n",
            "fc2.bias: 10 参数\n"
          ]
        }
      ],
      "source": [
        "# 计算模型的总参数量\n",
        "# 统计需要求梯度的参数总量\n",
        "total_params = sum(p.numel() for p in model.parameters() if p.requires_grad)\n",
        "print(f\"需要求梯度的参数总量: {total_params}\")\n",
        "\n",
        "# 统计所有参数总量\n",
        "all_params = sum(p.numel() for p in model.parameters())\n",
        "print(f\"模型总参数量: {all_params}\")\n",
        "\n",
        "# 查看每层参数量明细\n",
        "print(\"\\n各层参数量明细:\")\n",
        "for name, param in model.named_parameters():\n",
        "    print(f\"{name}: {param.numel()} 参数\")\n"
      ]
    },
    {
      "cell_type": "markdown",
      "metadata": {
        "id": "efyI2AwP2ZoU"
      },
      "source": [
        "# 设置交叉熵损失函数，SGD优化器"
      ]
    },
    {
      "cell_type": "code",
      "execution_count": 26,
      "metadata": {
        "execution": {
          "iopub.execute_input": "2025-06-29T12:58:48.663022Z",
          "iopub.status.busy": "2025-06-29T12:58:48.662793Z",
          "iopub.status.idle": "2025-06-29T12:58:48.675017Z",
          "shell.execute_reply": "2025-06-29T12:58:48.674585Z",
          "shell.execute_reply.started": "2025-06-29T12:58:48.663005Z"
        },
        "id": "RBavLYdP2ZoU"
      },
      "outputs": [],
      "source": [
        "model = CNN()\n",
        "# 定义损失函数和优化器\n",
        "loss_fn = nn.CrossEntropyLoss()  # 交叉熵损失函数，适用于多分类问题，里边会做softmax，还有会把0-9标签转换成one-hot编码\n",
        "# 用少量样本就能更新权重，训练更快，且更容易跳出局部最优,动量为0.9的含义指，当前的梯度是上一次的梯度乘以0.9加上当前的梯度乘以0.1\n",
        "optimizer = torch.optim.SGD(model.parameters(), lr=0.001, momentum=0.9)  # SGD优化器，学习率为0.01，动量为0.9\n"
      ]
    },
    {
      "cell_type": "code",
      "execution_count": 27,
      "metadata": {
        "colab": {
          "base_uri": "https://localhost:8080/",
          "height": 136,
          "referenced_widgets": [
            "bc2e52815a7a4b8c8556cd4f5d6f274f",
            "5db4cc0f0e2d47519fe2a08ba234763f",
            "717711dce16e4265b58165692b159d0d",
            "278058a5935f4e1eac6ac51a4ac07d40",
            "8a097b205bb84968b9b78dc59992ca24",
            "91e02adbd9e240878005bc53070a0ee4",
            "41401c68679f4bcca5022e742ee694b5",
            "004688c119b54804a53b539c087061a4",
            "676f844a696c474ab515acdbdf9d3623",
            "bc00e84e351e4d3780e0a474720e4f0e",
            "3a63863d7ab34621bd5e5af9e62ed8fd"
          ]
        },
        "execution": {
          "iopub.execute_input": "2025-06-29T12:58:48.676141Z",
          "iopub.status.busy": "2025-06-29T12:58:48.675670Z",
          "iopub.status.idle": "2025-06-29T13:02:40.406935Z",
          "shell.execute_reply": "2025-06-29T13:02:40.406203Z",
          "shell.execute_reply.started": "2025-06-29T12:58:48.676099Z"
        },
        "id": "IjRDTIuJ2ZoV",
        "outputId": "599ae25a-cb27-4d8c-c311-6d2a02a59b7d",
        "tags": []
      },
      "outputs": [
        {
          "output_type": "stream",
          "name": "stdout",
          "text": [
            "使用设备: cuda:0\n",
            "训练开始，共43000步\n"
          ]
        },
        {
          "output_type": "display_data",
          "data": {
            "text/plain": [
              "  0%|          | 0/43000 [00:00<?, ?it/s]"
            ],
            "application/vnd.jupyter.widget-view+json": {
              "version_major": 2,
              "version_minor": 0,
              "model_id": "bc2e52815a7a4b8c8556cd4f5d6f274f"
            }
          },
          "metadata": {}
        },
        {
          "output_type": "stream",
          "name": "stdout",
          "text": [
            "早停触发!\n",
            "90.5000\n",
            "早停: 在22000 步\n"
          ]
        }
      ],
      "source": [
        "device = torch.device(\"cuda:0\" if torch.cuda.is_available() else \"cpu\") #如果GPU可用，则使用GPU，否则使用CPU\n",
        "print(f\"使用设备: {device}\")\n",
        "model = model.to(device) #将模型移动到GPU与训练模型，评估模型，保存模型中相同\n",
        "early_stopping=EarlyStopping(patience=5, delta=0.005)\n",
        "model_saver=ModelSaver(save_dir='model_weights', save_best_only=True)\n",
        "\n",
        "model, history = train_classification_model(model, train_loader, val_loader, loss_fn, optimizer, device, num_epochs=50, early_stopping=early_stopping, model_saver=model_saver,eval_step=500)\n"
      ]
    },
    {
      "cell_type": "code",
      "execution_count": 28,
      "metadata": {
        "colab": {
          "base_uri": "https://localhost:8080/"
        },
        "id": "9_cRPyZ2qNCu",
        "outputId": "179389bf-1a32-4aca-b29b-75f81ae3b9a4"
      },
      "outputs": [
        {
          "output_type": "execute_result",
          "data": {
            "text/plain": [
              "[{'loss': 0.2965325319766998, 'acc': 88.84, 'step': 12500},\n",
              " {'loss': 0.29657578399181367, 'acc': 88.96, 'step': 13000},\n",
              " {'loss': 0.28691961913108827, 'acc': 89.26, 'step': 13500},\n",
              " {'loss': 0.300902394759655, 'acc': 88.94, 'step': 14000},\n",
              " {'loss': 0.2831677755355835, 'acc': 89.48, 'step': 14500},\n",
              " {'loss': 0.2826060162305832, 'acc': 89.54, 'step': 15000},\n",
              " {'loss': 0.28077972559928893, 'acc': 89.86, 'step': 15500},\n",
              " {'loss': 0.2825756584405899, 'acc': 89.34, 'step': 16000},\n",
              " {'loss': 0.284280769610405, 'acc': 89.76, 'step': 16500},\n",
              " {'loss': 0.27590565547943113, 'acc': 90.1, 'step': 17000},\n",
              " {'loss': 0.27276623077392576, 'acc': 89.88, 'step': 17500},\n",
              " {'loss': 0.2674396544456482, 'acc': 90.36, 'step': 18000},\n",
              " {'loss': 0.2807819659590721, 'acc': 89.66, 'step': 18500},\n",
              " {'loss': 0.2751518964290619, 'acc': 89.86, 'step': 19000},\n",
              " {'loss': 0.26058783268928526, 'acc': 90.5, 'step': 19500},\n",
              " {'loss': 0.276428786277771, 'acc': 89.78, 'step': 20000},\n",
              " {'loss': 0.2609082577943802, 'acc': 90.34, 'step': 20500},\n",
              " {'loss': 0.2719438241004944, 'acc': 89.94, 'step': 21000},\n",
              " {'loss': 0.2620047752857208, 'acc': 90.12, 'step': 21500}]"
            ]
          },
          "metadata": {},
          "execution_count": 28
        }
      ],
      "source": [
        "history['val'][-20:-1]"
      ]
    },
    {
      "cell_type": "code",
      "execution_count": 29,
      "metadata": {
        "colab": {
          "base_uri": "https://localhost:8080/",
          "height": 465
        },
        "execution": {
          "iopub.status.busy": "2025-06-29T13:02:40.407501Z",
          "iopub.status.idle": "2025-06-29T13:02:40.407754Z",
          "shell.execute_reply": "2025-06-29T13:02:40.407655Z",
          "shell.execute_reply.started": "2025-06-29T13:02:40.407643Z"
        },
        "id": "jOf2j-Vp2ZoV",
        "outputId": "c255f8cd-e78a-466c-accc-aabf3c296890"
      },
      "outputs": [
        {
          "output_type": "display_data",
          "data": {
            "text/plain": [
              "<Figure size 1000x500 with 2 Axes>"
            ],
            "image/png": "[encoded data removed]"
          },
          "metadata": {}
        }
      ],
      "source": [
        "# 绘制学习损失曲线，sample_step是每500步绘制一次\n",
        "plot_learning_curves(history, sample_step=500)  #横坐标是 steps，纵坐标是 loss，accuracy"
      ]
    },
    {
      "cell_type": "code",
      "execution_count": 43,
      "metadata": {
        "colab": {
          "base_uri": "https://localhost:8080/"
        },
        "execution": {
          "iopub.status.busy": "2025-06-29T13:02:40.408364Z",
          "iopub.status.idle": "2025-06-29T13:02:40.408589Z",
          "shell.execute_reply": "2025-06-29T13:02:40.408482Z",
          "shell.execute_reply.started": "2025-06-29T13:02:40.408472Z"
        },
        "id": "yof2QMw92ZoV",
        "outputId": "0a4ca75b-a89f-4fb6-f28c-af94b296a27d",
        "tags": []
      },
      "outputs": [
        {
          "output_type": "execute_result",
          "data": {
            "text/plain": [
              "(89.5, None)"
            ]
          },
          "metadata": {},
          "execution_count": 43
        }
      ],
      "source": [
        "# 在测试集上评估模型\n",
        "test_accuracy = evaluate_classification_model(model, test_loader, device)\n",
        "test_accuracy"
      ]
    }
  ],
  "metadata": {
    "accelerator": "GPU",
    "colab": {
      "gpuType": "T4",
      "provenance": []
    },
    "kernelspec": {
      "display_name": "Python 3",
      "name": "python3"
    },
    "language_info": {
      "codemirror_mode": {
        "name": "ipython",
        "version": 3
      },
      "file_extension": ".py",
      "mimetype": "text/x-python",
      "name": "python",
      "nbconvert_exporter": "python",
      "pygments_lexer": "ipython3",
      "version": "3.12.1"
    },
    "widgets": {
      "application/vnd.jupyter.widget-state+json": {
        "bc2e52815a7a4b8c8556cd4f5d6f274f": {
          "model_module": "@jupyter-widgets/controls",
          "model_name": "HBoxModel",
          "model_module_version": "1.5.0",
          "state": {
            "_dom_classes": [],
            "_model_module": "@jupyter-widgets/controls",
            "_model_module_version": "1.5.0",
            "_model_name": "HBoxModel",
            "_view_count": null,
            "_view_module": "@jupyter-widgets/controls",
            "_view_module_version": "1.5.0",
            "_view_name": "HBoxView",
            "box_style": "",
            "children": [
              "IPY_MODEL_5db4cc0f0e2d47519fe2a08ba234763f",
              "IPY_MODEL_717711dce16e4265b58165692b159d0d",
              "IPY_MODEL_278058a5935f4e1eac6ac51a4ac07d40"
            ],
            "layout": "IPY_MODEL_8a097b205bb84968b9b78dc59992ca24"
          }
        },
        "5db4cc0f0e2d47519fe2a08ba234763f": {
          "model_module": "@jupyter-widgets/controls",
          "model_name": "HTMLModel",
          "model_module_version": "1.5.0",
          "state": {
            "_dom_classes": [],
            "_model_module": "@jupyter-widgets/controls",
            "_model_module_version": "1.5.0",
            "_model_name": "HTMLModel",
            "_view_count": null,
            "_view_module": "@jupyter-widgets/controls",
            "_view_module_version": "1.5.0",
            "_view_name": "HTMLView",
            "description": "",
            "description_tooltip": null,
            "layout": "IPY_MODEL_91e02adbd9e240878005bc53070a0ee4",
            "placeholder": "​",
            "style": "IPY_MODEL_41401c68679f4bcca5022e742ee694b5",
            "value": " 51%"
          }
        },
        "717711dce16e4265b58165692b159d0d": {
          "model_module": "@jupyter-widgets/controls",
          "model_name": "FloatProgressModel",
          "model_module_version": "1.5.0",
          "state": {
            "_dom_classes": [],
            "_model_module": "@jupyter-widgets/controls",
            "_model_module_version": "1.5.0",
            "_model_name": "FloatProgressModel",
            "_view_count": null,
            "_view_module": "@jupyter-widgets/controls",
            "_view_module_version": "1.5.0",
            "_view_name": "ProgressView",
            "bar_style": "danger",
            "description": "",
            "description_tooltip": null,
            "layout": "IPY_MODEL_004688c119b54804a53b539c087061a4",
            "max": 43000,
            "min": 0,
            "orientation": "horizontal",
            "style": "IPY_MODEL_676f844a696c474ab515acdbdf9d3623",
            "value": 22000
          }
        },
        "278058a5935f4e1eac6ac51a4ac07d40": {
          "model_module": "@jupyter-widgets/controls",
          "model_name": "HTMLModel",
          "model_module_version": "1.5.0",
          "state": {
            "_dom_classes": [],
            "_model_module": "@jupyter-widgets/controls",
            "_model_module_version": "1.5.0",
            "_model_name": "HTMLModel",
            "_view_count": null,
            "_view_module": "@jupyter-widgets/controls",
            "_view_module_version": "1.5.0",
            "_view_name": "HTMLView",
            "description": "",
            "description_tooltip": null,
            "layout": "IPY_MODEL_bc00e84e351e4d3780e0a474720e4f0e",
            "placeholder": "​",
            "style": "IPY_MODEL_3a63863d7ab34621bd5e5af9e62ed8fd",
            "value": " 22000/43000 [06:42&lt;05:44, 60.95it/s, epoch=25, loss=0.1944, acc=93.75%]"
          }
        },
        "8a097b205bb84968b9b78dc59992ca24": {
          "model_module": "@jupyter-widgets/base",
          "model_name": "LayoutModel",
          "model_module_version": "1.2.0",
          "state": {
            "_model_module": "@jupyter-widgets/base",
            "_model_module_version": "1.2.0",
            "_model_name": "LayoutModel",
            "_view_count": null,
            "_view_module": "@jupyter-widgets/base",
            "_view_module_version": "1.2.0",
            "_view_name": "LayoutView",
            "align_content": null,
            "align_items": null,
            "align_self": null,
            "border": null,
            "bottom": null,
            "display": null,
            "flex": null,
            "flex_flow": null,
            "grid_area": null,
            "grid_auto_columns": null,
            "grid_auto_flow": null,
            "grid_auto_rows": null,
            "grid_column": null,
            "grid_gap": null,
            "grid_row": null,
            "grid_template_areas": null,
            "grid_template_columns": null,
            "grid_template_rows": null,
            "height": null,
            "justify_content": null,
            "justify_items": null,
            "left": null,
            "margin": null,
            "max_height": null,
            "max_width": null,
            "min_height": null,
            "min_width": null,
            "object_fit": null,
            "object_position": null,
            "order": null,
            "overflow": null,
            "overflow_x": null,
            "overflow_y": null,
            "padding": null,
            "right": null,
            "top": null,
            "visibility": null,
            "width": null
          }
        },
        "91e02adbd9e240878005bc53070a0ee4": {
          "model_module": "@jupyter-widgets/base",
          "model_name": "LayoutModel",
          "model_module_version": "1.2.0",
          "state": {
            "_model_module": "@jupyter-widgets/base",
            "_model_module_version": "1.2.0",
            "_model_name": "LayoutModel",
            "_view_count": null,
            "_view_module": "@jupyter-widgets/base",
            "_view_module_version": "1.2.0",
            "_view_name": "LayoutView",
            "align_content": null,
            "align_items": null,
            "align_self": null,
            "border": null,
            "bottom": null,
            "display": null,
            "flex": null,
            "flex_flow": null,
            "grid_area": null,
            "grid_auto_columns": null,
            "grid_auto_flow": null,
            "grid_auto_rows": null,
            "grid_column": null,
            "grid_gap": null,
            "grid_row": null,
            "grid_template_areas": null,
            "grid_template_columns": null,
            "grid_template_rows": null,
            "height": null,
            "justify_content": null,
            "justify_items": null,
            "left": null,
            "margin": null,
            "max_height": null,
            "max_width": null,
            "min_height": null,
            "min_width": null,
            "object_fit": null,
            "object_position": null,
            "order": null,
            "overflow": null,
            "overflow_x": null,
            "overflow_y": null,
            "padding": null,
            "right": null,
            "top": null,
            "visibility": null,
            "width": null
          }
        },
        "41401c68679f4bcca5022e742ee694b5": {
          "model_module": "@jupyter-widgets/controls",
          "model_name": "DescriptionStyleModel",
          "model_module_version": "1.5.0",
          "state": {
            "_model_module": "@jupyter-widgets/controls",
            "_model_module_version": "1.5.0",
            "_model_name": "DescriptionStyleModel",
            "_view_count": null,
            "_view_module": "@jupyter-widgets/base",
            "_view_module_version": "1.2.0",
            "_view_name": "StyleView",
            "description_width": ""
          }
        },
        "004688c119b54804a53b539c087061a4": {
          "model_module": "@jupyter-widgets/base",
          "model_name": "LayoutModel",
          "model_module_version": "1.2.0",
          "state": {
            "_model_module": "@jupyter-widgets/base",
            "_model_module_version": "1.2.0",
            "_model_name": "LayoutModel",
            "_view_count": null,
            "_view_module": "@jupyter-widgets/base",
            "_view_module_version": "1.2.0",
            "_view_name": "LayoutView",
            "align_content": null,
            "align_items": null,
            "align_self": null,
            "border": null,
            "bottom": null,
            "display": null,
            "flex": null,
            "flex_flow": null,
            "grid_area": null,
            "grid_auto_columns": null,
            "grid_auto_flow": null,
            "grid_auto_rows": null,
            "grid_column": null,
            "grid_gap": null,
            "grid_row": null,
            "grid_template_areas": null,
            "grid_template_columns": null,
            "grid_template_rows": null,
            "height": null,
            "justify_content": null,
            "justify_items": null,
            "left": null,
            "margin": null,
            "max_height": null,
            "max_width": null,
            "min_height": null,
            "min_width": null,
            "object_fit": null,
            "object_position": null,
            "order": null,
            "overflow": null,
            "overflow_x": null,
            "overflow_y": null,
            "padding": null,
            "right": null,
            "top": null,
            "visibility": null,
            "width": null
          }
        },
        "676f844a696c474ab515acdbdf9d3623": {
          "model_module": "@jupyter-widgets/controls",
          "model_name": "ProgressStyleModel",
          "model_module_version": "1.5.0",
          "state": {
            "_model_module": "@jupyter-widgets/controls",
            "_model_module_version": "1.5.0",
            "_model_name": "ProgressStyleModel",
            "_view_count": null,
            "_view_module": "@jupyter-widgets/base",
            "_view_module_version": "1.2.0",
            "_view_name": "StyleView",
            "bar_color": null,
            "description_width": ""
          }
        },
        "bc00e84e351e4d3780e0a474720e4f0e": {
          "model_module": "@jupyter-widgets/base",
          "model_name": "LayoutModel",
          "model_module_version": "1.2.0",
          "state": {
            "_model_module": "@jupyter-widgets/base",
            "_model_module_version": "1.2.0",
            "_model_name": "LayoutModel",
            "_view_count": null,
            "_view_module": "@jupyter-widgets/base",
            "_view_module_version": "1.2.0",
            "_view_name": "LayoutView",
            "align_content": null,
            "align_items": null,
            "align_self": null,
            "border": null,
            "bottom": null,
            "display": null,
            "flex": null,
            "flex_flow": null,
            "grid_area": null,
            "grid_auto_columns": null,
            "grid_auto_flow": null,
            "grid_auto_rows": null,
            "grid_column": null,
            "grid_gap": null,
            "grid_row": null,
            "grid_template_areas": null,
            "grid_template_columns": null,
            "grid_template_rows": null,
            "height": null,
            "justify_content": null,
            "justify_items": null,
            "left": null,
            "margin": null,
            "max_height": null,
            "max_width": null,
            "min_height": null,
            "min_width": null,
            "object_fit": null,
            "object_position": null,
            "order": null,
            "overflow": null,
            "overflow_x": null,
            "overflow_y": null,
            "padding": null,
            "right": null,
            "top": null,
            "visibility": null,
            "width": null
          }
        },
        "3a63863d7ab34621bd5e5af9e62ed8fd": {
          "model_module": "@jupyter-widgets/controls",
          "model_name": "DescriptionStyleModel",
          "model_module_version": "1.5.0",
          "state": {
            "_model_module": "@jupyter-widgets/controls",
            "_model_module_version": "1.5.0",
            "_model_name": "DescriptionStyleModel",
            "_view_count": null,
            "_view_module": "@jupyter-widgets/base",
            "_view_module_version": "1.2.0",
            "_view_name": "StyleView",
            "description_width": ""
          }
        }
      }
    }
  },
  "nbformat": 4,
  "nbformat_minor": 0
}