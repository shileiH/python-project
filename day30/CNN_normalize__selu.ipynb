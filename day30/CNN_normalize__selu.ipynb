{
  "cells": [
    {
      "cell_type": "code",
      "execution_count": 14,
      "metadata": {
        "colab": {
          "base_uri": "https://localhost:8080/"
        },
        "id": "b1v7nIKe2wnB",
        "outputId": "ca83710e-72f4-4345-ba75-4b7984d3ec36"
      },
      "outputs": [
        {
          "name": "stdout",
          "output_type": "stream",
          "text": [
            "/content\n"
          ]
        }
      ],
      "source": [
        "!pwd"
      ]
    },
    {
      "cell_type": "code",
      "execution_count": 15,
      "metadata": {
        "colab": {
          "base_uri": "https://localhost:8080/"
        },
        "id": "Zb5kNhjG2zPS",
        "outputId": "6881576b-2d48-4d3d-81b1-f6096f6c1a5f"
      },
      "outputs": [
        {
          "name": "stdout",
          "output_type": "stream",
          "text": [
            "data  deeplearning_model.py  model_weights  __pycache__  sample_data\n"
          ]
        }
      ],
      "source": [
        "!ls"
      ]
    },
    {
      "cell_type": "markdown",
      "metadata": {
        "id": "7hhMZpnw2ZoP"
      },
      "source": [
        "# CNN卷积神经网络"
      ]
    },
    {
      "cell_type": "code",
      "execution_count": 16,
      "metadata": {
        "colab": {
          "base_uri": "https://localhost:8080/",
          "height": 62
        },
        "execution": {
          "iopub.execute_input": "2025-06-29T12:54:32.282348Z",
          "iopub.status.busy": "2025-06-29T12:54:32.281867Z",
          "iopub.status.idle": "2025-06-29T12:54:32.361511Z",
          "shell.execute_reply": "2025-06-29T12:54:32.360967Z",
          "shell.execute_reply.started": "2025-06-29T12:54:32.282322Z"
        },
        "id": "QfixIZLQ2ZoR",
        "outputId": "74696d62-497a-42c5-bffb-f98922632542"
      },
      "outputs": [
        {
          "name": "stdout",
          "output_type": "stream",
          "text": [
            "(<PIL.Image.Image image mode=L size=28x28 at 0x786CB713C3D0>, 9)\n"
          ]
        },
        {
          "data": {
            "image/jpeg": "[encoded data removed]",
            "image/png": "[encoded data removed]",
            "text/plain": [
              "<PIL.Image.Image image mode=L size=28x28>"
            ]
          },
          "execution_count": 16,
          "metadata": {},
          "output_type": "execute_result"
        }
      ],
      "source": [
        "import torch\n",
        "import numpy as np\n",
        "import matplotlib.pyplot as plt\n",
        "from torchvision import datasets, transforms\n",
        "from deeplearning_model import EarlyStopping, ModelSaver,train_classification_model,plot_learning_curves\n",
        "from deeplearning_model import evaluate_classification_model as evaluate_model\n",
        "# 加载Fashion MNIST数据集，张量就是和numpy数组一样\n",
        "transform = transforms.Compose([])\n",
        "train_dataset = datasets.FashionMNIST(root='./data', train=True, download=True, transform=transform)\n",
        "test_dataset = datasets.FashionMNIST(root='./data', train=False, download=True, transform=transform)\n",
        "print(train_dataset[0])\n",
        "train_dataset[0][0]"
      ]
    },
    {
      "cell_type": "markdown",
      "metadata": {
        "id": "-w6-C80W2ZoS"
      },
      "source": [
        "# 加载数据并处理为tensor格式"
      ]
    },
    {
      "cell_type": "code",
      "execution_count": 17,
      "metadata": {
        "colab": {
          "base_uri": "https://localhost:8080/"
        },
        "execution": {
          "iopub.execute_input": "2025-06-29T12:54:32.362911Z",
          "iopub.status.busy": "2025-06-29T12:54:32.362450Z",
          "iopub.status.idle": "2025-06-29T12:54:32.436429Z",
          "shell.execute_reply": "2025-06-29T12:54:32.435902Z",
          "shell.execute_reply.started": "2025-06-29T12:54:32.362889Z"
        },
        "id": "r3m_8XtW2ZoS",
        "outputId": "fd09039c-6f20-495a-8cb6-c9a98645bcc7"
      },
      "outputs": [
        {
          "name": "stdout",
          "output_type": "stream",
          "text": [
            "训练集形状: (60000, 28, 28)\n",
            "训练集标签数量: 60000\n",
            "测试集形状: (10000, 28, 28)\n",
            "测试集标签数量: 10000\n"
          ]
        }
      ],
      "source": [
        "# 加载Fashion MNIST数据集，张量就是和numpy数组一样\n",
        "train_dataset = datasets.FashionMNIST(root='./data', train=True, download=True, transform=transforms.ToTensor())\n",
        "test_dataset = datasets.FashionMNIST(root='./data', train=False, download=True, transform=transforms.ToTensor())\n",
        "\n",
        "\n",
        "# 获取图像和标签\n",
        "# 注意：由于使用了transform，图像已经被转换为张量且标准化\n",
        "# 我们需要从dataset中提取原始图像用于显示\n",
        "train_images = train_dataset.data.numpy()\n",
        "train_labels = train_dataset.targets.numpy()\n",
        "test_images = test_dataset.data.numpy()\n",
        "test_labels = test_dataset.targets.numpy()\n",
        "\n",
        "# 定义类别名称标签\n",
        "class_names = ['T-shirt/top', 'Trouser', 'Pullover', 'Dress', 'Coat', 'Sandal', 'Shirt', 'Sneaker', 'Bag', 'Ankle boot']\n",
        "\n",
        "# 查看数据集基本信息\n",
        "print(f\"训练集形状: {train_images.shape}\")\n",
        "print(f\"训练集标签数量: {len(train_labels)}\")\n",
        "print(f\"测试集形状: {test_images.shape}\")\n",
        "print(f\"测试集标签数量: {len(test_labels)}\")"
      ]
    },
    {
      "cell_type": "code",
      "execution_count": 18,
      "metadata": {
        "colab": {
          "base_uri": "https://localhost:8080/"
        },
        "execution": {
          "iopub.execute_input": "2025-06-29T12:57:57.199273Z",
          "iopub.status.busy": "2025-06-29T12:57:57.198947Z",
          "iopub.status.idle": "2025-06-29T12:57:57.207366Z",
          "shell.execute_reply": "2025-06-29T12:57:57.206688Z",
          "shell.execute_reply.started": "2025-06-29T12:57:57.199249Z"
        },
        "id": "eAkDsNfj2ZoT",
        "outputId": "96f8e0b3-b31d-4abe-837d-302d4ab97c6d"
      },
      "outputs": [
        {
          "name": "stdout",
          "output_type": "stream",
          "text": [
            "训练集大小: 55000\n",
            "验证集大小: 5000\n",
            "测试集大小: 10000\n",
            "批次大小: 64\n",
            "训练批次数: 860\n"
          ]
        }
      ],
      "source": [
        "\n",
        "# 从训练集中划分出验证集\n",
        "train_size = 55000\n",
        "val_size = 5000\n",
        "# 设置随机种子以确保每次得到相同的随机划分结果\n",
        "generator = torch.Generator().manual_seed(42)\n",
        "train_subset, val_subset = torch.utils.data.random_split(\n",
        "    train_dataset,\n",
        "    [train_size, val_size],\n",
        "    generator=generator #设置随机种子，确保每次得到相同的随机划分结果\n",
        ")\n",
        "\n",
        "# 创建数据加载器\n",
        "batch_size = 64\n",
        "train_loader = torch.utils.data.DataLoader(\n",
        "    train_subset,\n",
        "    batch_size=batch_size,\n",
        "    shuffle=True #打乱数据集，每次迭代时，数据集的顺序都会被打乱\n",
        ")\n",
        "\n",
        "val_loader = torch.utils.data.DataLoader(\n",
        "    val_subset,\n",
        "    batch_size=batch_size,\n",
        "    shuffle=False\n",
        ")\n",
        "\n",
        "test_loader = torch.utils.data.DataLoader(\n",
        "    test_dataset,\n",
        "    batch_size=batch_size,\n",
        "    shuffle=False\n",
        ")\n",
        "\n",
        "# 打印数据集大小信息\n",
        "print(f\"训练集大小: {len(train_subset)}\")\n",
        "print(f\"验证集大小: {len(val_subset)}\")\n",
        "print(f\"测试集大小: {len(test_dataset)}\")\n",
        "print(f\"批次大小: {batch_size}\")\n",
        "print(f\"训练批次数: {len(train_loader)}\")\n"
      ]
    },
    {
      "cell_type": "code",
      "execution_count": 19,
      "metadata": {
        "colab": {
          "base_uri": "https://localhost:8080/"
        },
        "id": "fO05w3BZzGGl",
        "outputId": "8bd038a2-9cb0-469e-f7c1-07aa47be5d2d"
      },
      "outputs": [
        {
          "name": "stdout",
          "output_type": "stream",
          "text": [
            "torch.Size([60000, 1, 28, 28])\n",
            "训练数据集均值: 0.2860\n",
            "训练数据集标准差: 0.3530\n",
            "数据集中图像总数: 60000\n"
          ]
        }
      ],
      "source": [
        "# 计算训练集均值和方差，以便加载数据集时直接标准化\n",
        "def calculate_mean_std(train_dataset):\n",
        "    # 首先将所有图像数据堆叠为一个大张量\n",
        "    all_images = torch.stack([img_tensor for img_tensor, _ in train_dataset])\n",
        "    print(all_images.shape)\n",
        "    # 计算通道维度上的均值和标准差\n",
        "    # Fashion MNIST是灰度图像，只有一个通道\n",
        "    # 对所有像素值计算均值和标准差\n",
        "    mean = torch.mean(all_images)\n",
        "    std = torch.std(all_images)\n",
        "\n",
        "    print(f\"训练数据集均值: {mean.item():.4f}\")\n",
        "    print(f\"训练数据集标准差: {std.item():.4f}\")\n",
        "\n",
        "    # 检查数据集大小\n",
        "    print(f\"数据集中图像总数: {len(train_dataset)}\")\n",
        "\n",
        "calculate_mean_std(train_dataset)"
      ]
    },
    {
      "cell_type": "markdown",
      "metadata": {
        "id": "JiJZ_o242ZoT"
      },
      "source": [
        "# 定义CNN模型类"
      ]
    },
    {
      "cell_type": "code",
      "execution_count": 28,
      "metadata": {
        "ExecutionIndicator": {
          "show": true
        },
        "execution": {
          "iopub.execute_input": "2025-06-29T12:58:48.585502Z",
          "iopub.status.busy": "2025-06-29T12:58:48.584961Z",
          "iopub.status.idle": "2025-06-29T12:58:48.594720Z",
          "shell.execute_reply": "2025-06-29T12:58:48.594051Z",
          "shell.execute_reply.started": "2025-06-29T12:58:48.585475Z"
        },
        "id": "vqzKSB8K2ZoT",
        "tags": []
      },
      "outputs": [],
      "source": [
        "import torch.nn as nn\n",
        "import torch\n",
        "import torch.nn.functional as F\n",
        "import torch.nn.init as init\n",
        "import torchvision.transforms as transforms\n",
        "from  torchvision.transforms import Normalize\n",
        "\n",
        "\n",
        "\n",
        "class CNN(nn.Module):\n",
        "    def __init__(self):\n",
        "        \"\"\"\n",
        "        CNN卷积神经网络模型\n",
        "        卷积核数量由32依次递增\n",
        "        使用Xavier均匀分布初始化权重\n",
        "        使用SELU激活函数\n",
        "        \"\"\"\n",
        "        super().__init__()\n",
        "        # 也可以使用固定的均值和标准差进行标准化\n",
        "        self.normalize = nn.Sequential(Normalize(mean=0.2860, std=0.3530))\n",
        "\n",
        "        # 标准化层，将输入数据标准化为均值0，标准差1\n",
        "        # nn.BatchNorm2d(1, affine=False)  # 对单通道灰度图像进行标准化\n",
        "        # 也可以使用固定的均值和标准差进行标准化\n",
        "\n",
        "        # 第一个卷积块\n",
        "        self.conv1 = nn.Conv2d(1, 32, kernel_size=3, padding=1)  # 输入通道1，输出通道32\n",
        "        self.conv2 = nn.Conv2d(32, 32, kernel_size=3, padding=1)  # 输入通道1，输出通道32\n",
        "\n",
        "        self.pool = nn.AvgPool2d(kernel_size=2, stride=2)  # 平均池化层，也可以修改为最大值池化\n",
        "\n",
        "        # 第二个卷积块\n",
        "        self.conv3 = nn.Conv2d(32, 64, kernel_size=3, padding=1)  # 输入通道32，输出通道64\n",
        "        self.conv4 = nn.Conv2d(64, 64, kernel_size=3, padding=1)  # 输入通道64，输出通道64\n",
        "\n",
        "        # 第三个卷积块\n",
        "        self.conv5 = nn.Conv2d(64, 128, kernel_size=3, padding=1)  # 输入通道64，输出通道128\n",
        "        self.conv6 = nn.Conv2d(128, 128, kernel_size=3, padding=1)  # 输入通道128，输出通道128\n",
        "\n",
        "        # 全连接层\n",
        "        self.fc1 = nn.Linear(128 * 3 * 3, 256)  # 全连接层\n",
        "        self.dropout = nn.Dropout(0.2)  # dropout层防止过拟合\n",
        "        self.fc2 = nn.Linear(256, 10)  # 输出10个类别\n",
        "\n",
        "        # 初始化权重\n",
        "        self._initialize_weights()\n",
        "\n",
        "    def forward(self, x):\n",
        "        \"\"\"\n",
        "        前向传播，使用SELU激活函数，平均池化\n",
        "        \"\"\"\n",
        "        # 第一个卷积块\n",
        "        x = F.selu(self.conv1(x))\n",
        "        x = self.pool(F.selu(self.conv2(x)))  # 卷积->SELU激活->池化\n",
        "\n",
        "        # 第二个卷积块\n",
        "        x = F.selu(self.conv3(x))\n",
        "        x = self.pool(F.selu(self.conv4(x)))  # 卷积->SELU激活->池化\n",
        "\n",
        "        # 第三个卷积块\n",
        "        x = F.selu(self.conv5(x))\n",
        "        x = self.pool(F.selu(self.conv6(x)))  # 卷积->SELU激活->池化\n",
        "\n",
        "        # 展平\n",
        "        x = x.view( 128 * 3 * 3,-1)  # 展平为一维向量x.size(0)\n",
        "\n",
        "        # 全连接层\n",
        "        x = F.selu(self.fc1(x))  # 全连接->SELU激活\n",
        "        x = self.dropout(x)  # dropout\n",
        "        x = self.fc2(x)  # 输出层\n",
        "        return x\n",
        "\n",
        "    def _initialize_weights(self):\n",
        "        \"\"\"\n",
        "        使用Xavier均匀分布初始化权重\n",
        "        \"\"\"\n",
        "        for m in self.modules():\n",
        "            if isinstance(m, nn.Conv2d):\n",
        "                # 卷积层使用Xavier均匀分布初始化\n",
        "                init.xavier_uniform_(m.weight)\n",
        "                if m.bias is not None:\n",
        "                    init.constant_(m.bias, 0)\n",
        "            elif isinstance(m, nn.Linear):\n",
        "                # 全连接层使用Xavier均匀分布初始化\n",
        "                init.xavier_uniform_(m.weight)\n",
        "                init.constant_(m.bias, 0)\n"
      ]
    },
    {
      "cell_type": "code",
      "execution_count": 29,
      "metadata": {
        "colab": {
          "base_uri": "https://localhost:8080/"
        },
        "execution": {
          "iopub.execute_input": "2025-06-29T12:58:48.596226Z",
          "iopub.status.busy": "2025-06-29T12:58:48.595901Z",
          "iopub.status.idle": "2025-06-29T12:58:48.650438Z",
          "shell.execute_reply": "2025-06-29T12:58:48.649894Z",
          "shell.execute_reply.started": "2025-06-29T12:58:48.596200Z"
        },
        "id": "CCBjbmI22ZoU",
        "outputId": "b7df6642-7496-46e8-c419-522ec564212b"
      },
      "outputs": [
        {
          "name": "stdout",
          "output_type": "stream",
          "text": [
            "批次图像形状: torch.Size([64, 1, 28, 28])\n",
            "批次标签形状: torch.Size([64])\n",
            "----------------------------------------------------------------------------------------------------\n"
          ]
        }
      ],
      "source": [
        "# 实例化模型\n",
        "model = CNN()\n",
        "\n",
        "# 从train_loader获取第一个批次的数据\n",
        "dataiter = iter(train_loader)\n",
        "images, labels = next(dataiter)\n",
        "\n",
        "# 查看批次数据的形状\n",
        "print(\"批次图像形状:\", images.shape)\n",
        "print(\"批次标签形状:\", labels.shape)\n",
        "\n",
        "\n",
        "print('-'*100)\n",
        "# 进行前向传播\n",
        "with torch.no_grad():  # 不需要计算梯度\n",
        "    outputs = model(images)"
      ]
    },
    {
      "cell_type": "code",
      "execution_count": 30,
      "metadata": {
        "colab": {
          "base_uri": "https://localhost:8080/"
        },
        "execution": {
          "iopub.execute_input": "2025-06-29T12:58:48.657365Z",
          "iopub.status.busy": "2025-06-29T12:58:48.657116Z",
          "iopub.status.idle": "2025-06-29T12:58:48.662229Z",
          "shell.execute_reply": "2025-06-29T12:58:48.661619Z",
          "shell.execute_reply.started": "2025-06-29T12:58:48.657349Z"
        },
        "id": "c0rTzpNh2ZoU",
        "outputId": "a5b05d77-a93f-41a8-8a52-c9f9de9bc2ab"
      },
      "outputs": [
        {
          "name": "stdout",
          "output_type": "stream",
          "text": [
            "需要求梯度的参数总量: 584170\n",
            "模型总参数量: 584170\n",
            "\n",
            "各层参数量明细:\n",
            "conv1.weight: 288 参数\n",
            "conv1.bias: 32 参数\n",
            "conv2.weight: 9216 参数\n",
            "conv2.bias: 32 参数\n",
            "conv3.weight: 18432 参数\n",
            "conv3.bias: 64 参数\n",
            "conv4.weight: 36864 参数\n",
            "conv4.bias: 64 参数\n",
            "conv5.weight: 73728 参数\n",
            "conv5.bias: 128 参数\n",
            "conv6.weight: 147456 参数\n",
            "conv6.bias: 128 参数\n",
            "fc1.weight: 294912 参数\n",
            "fc1.bias: 256 参数\n",
            "fc2.weight: 2560 参数\n",
            "fc2.bias: 10 参数\n"
          ]
        }
      ],
      "source": [
        "# 计算模型的总参数量\n",
        "# 统计需要求梯度的参数总量\n",
        "total_params = sum(p.numel() for p in model.parameters() if p.requires_grad)\n",
        "print(f\"需要求梯度的参数总量: {total_params}\")\n",
        "\n",
        "# 统计所有参数总量\n",
        "all_params = sum(p.numel() for p in model.parameters())\n",
        "print(f\"模型总参数量: {all_params}\")\n",
        "\n",
        "# 查看每层参数量明细\n",
        "print(\"\\n各层参数量明细:\")\n",
        "for name, param in model.named_parameters():\n",
        "    print(f\"{name}: {param.numel()} 参数\")\n"
      ]
    },
    {
      "cell_type": "markdown",
      "metadata": {
        "id": "efyI2AwP2ZoU"
      },
      "source": [
        "# 设置交叉熵损失函数，SGD优化器"
      ]
    },
    {
      "cell_type": "code",
      "execution_count": 31,
      "metadata": {
        "execution": {
          "iopub.execute_input": "2025-06-29T12:58:48.663022Z",
          "iopub.status.busy": "2025-06-29T12:58:48.662793Z",
          "iopub.status.idle": "2025-06-29T12:58:48.675017Z",
          "shell.execute_reply": "2025-06-29T12:58:48.674585Z",
          "shell.execute_reply.started": "2025-06-29T12:58:48.663005Z"
        },
        "id": "RBavLYdP2ZoU"
      },
      "outputs": [],
      "source": [
        "model = CNN()\n",
        "# 定义损失函数和优化器\n",
        "loss_fn = nn.CrossEntropyLoss()  # 交叉熵损失函数，适用于多分类问题，里边会做softmax，还有会把0-9标签转换成one-hot编码\n",
        "# 用少量样本就能更新权重，训练更快，且更容易跳出局部最优,动量为0.9的含义指，当前的梯度是上一次的梯度乘以0.9加上当前的梯度乘以0.1\n",
        "optimizer = torch.optim.SGD(model.parameters(), lr=0.001, momentum=0.9)  # SGD优化器，学习率为0.01，动量为0.9\n"
      ]
    },
    {
      "cell_type": "code",
      "execution_count": 32,
      "metadata": {
        "colab": {
          "base_uri": "https://localhost:8080/",
          "height": 136,
          "referenced_widgets": [
            "34228d1ecbfa485ea5dbcd8126193d7e",
            "96305aae241740f4b5fb1627e6bc966b",
            "592d647961f4433590e6f3f757d4287f",
            "18243e5f089c4d1a97c48f28cf5e0eaa",
            "35067fc4a3aa4502b05e71c2294f810b",
            "d3ba93b7e3fe429a8a3eb32179497250",
            "e974b499813c4904bdac1c87016c9f11",
            "f8f3cff84d664a9690a12397213012d5",
            "d9bd8bc6ce594c8fac700f702fe5e0a8",
            "184c48fafcb94fc7b17ca26a09eae7c0",
            "41518ebbd6df4f9696836d56a32e3c60"
          ]
        },
        "execution": {
          "iopub.execute_input": "2025-06-29T12:58:48.676141Z",
          "iopub.status.busy": "2025-06-29T12:58:48.675670Z",
          "iopub.status.idle": "2025-06-29T13:02:40.406935Z",
          "shell.execute_reply": "2025-06-29T13:02:40.406203Z",
          "shell.execute_reply.started": "2025-06-29T12:58:48.676099Z"
        },
        "id": "IjRDTIuJ2ZoV",
        "outputId": "5402b94b-dcf6-4611-d08b-1ccd8a0c1bb9",
        "tags": []
      },
      "outputs": [
        {
          "name": "stdout",
          "output_type": "stream",
          "text": [
            "使用设备: cuda:0\n",
            "训练开始，共43000步\n"
          ]
        },
        {
          "data": {
            "application/vnd.jupyter.widget-view+json": {
              "model_id": "34228d1ecbfa485ea5dbcd8126193d7e",
              "version_major": 2,
              "version_minor": 0
            },
            "text/plain": [
              "  0%|          | 0/43000 [00:00<?, ?it/s]"
            ]
          },
          "metadata": {},
          "output_type": "display_data"
        },
        {
          "name": "stdout",
          "output_type": "stream",
          "text": [
            "早停触发!\n",
            "90.6200\n",
            "早停: 在26000 步\n"
          ]
        }
      ],
      "source": [
        "device = torch.device(\"cuda:0\" if torch.cuda.is_available() else \"cpu\") #如果GPU可用，则使用GPU，否则使用CPU\n",
        "print(f\"使用设备: {device}\")\n",
        "model = model.to(device) #将模型移动到GPU与训练模型，评估模型，保存模型中相同\n",
        "early_stopping=EarlyStopping(patience=5, delta=0.005)\n",
        "model_saver=ModelSaver(save_dir='model_weights', save_best_only=True)\n",
        "\n",
        "model, history = train_classification_model(model, train_loader, val_loader, loss_fn, optimizer, device, num_epochs=50, early_stopping=early_stopping, model_saver=model_saver,eval_step=500)\n"
      ]
    },
    {
      "cell_type": "code",
      "execution_count": 33,
      "metadata": {
        "colab": {
          "base_uri": "https://localhost:8080/"
        },
        "id": "57F8LPUizGGo",
        "outputId": "ebc0a2bb-045a-4142-c739-a7823dd3eded"
      },
      "outputs": [
        {
          "data": {
            "text/plain": [
              "[{'loss': 0.28472132749557494, 'acc': 89.98, 'step': 16500},\n",
              " {'loss': 0.27845978128910065, 'acc': 89.96, 'step': 17000},\n",
              " {'loss': 0.28720500897169116, 'acc': 89.2, 'step': 17500},\n",
              " {'loss': 0.27262920564413073, 'acc': 90.18, 'step': 18000},\n",
              " {'loss': 0.27333136197328567, 'acc': 89.98, 'step': 18500},\n",
              " {'loss': 0.27366809547543525, 'acc': 90.1, 'step': 19000},\n",
              " {'loss': 0.27125601304769514, 'acc': 90.02, 'step': 19500},\n",
              " {'loss': 0.26430629682540896, 'acc': 90.2, 'step': 20000},\n",
              " {'loss': 0.2850747118413448, 'acc': 89.36, 'step': 20500},\n",
              " {'loss': 0.2719411195218563, 'acc': 90.04, 'step': 21000},\n",
              " {'loss': 0.2703540573716164, 'acc': 90.06, 'step': 21500},\n",
              " {'loss': 0.26780077717900275, 'acc': 90.32, 'step': 22000},\n",
              " {'loss': 0.2834084368824959, 'acc': 89.98, 'step': 22500},\n",
              " {'loss': 0.2610310901045799, 'acc': 90.44, 'step': 23000},\n",
              " {'loss': 0.2585919251859188, 'acc': 90.62, 'step': 23500},\n",
              " {'loss': 0.2732979769706726, 'acc': 90.04, 'step': 24000},\n",
              " {'loss': 0.25712824149131774, 'acc': 90.6, 'step': 24500},\n",
              " {'loss': 0.2699458333015442, 'acc': 90.42, 'step': 25000},\n",
              " {'loss': 0.2624527634084225, 'acc': 90.54, 'step': 25500}]"
            ]
          },
          "execution_count": 33,
          "metadata": {},
          "output_type": "execute_result"
        }
      ],
      "source": [
        "history['val'][-20:-1]"
      ]
    },
    {
      "cell_type": "code",
      "execution_count": 34,
      "metadata": {
        "colab": {
          "base_uri": "https://localhost:8080/",
          "height": 465
        },
        "execution": {
          "iopub.status.busy": "2025-06-29T13:02:40.407501Z",
          "iopub.status.idle": "2025-06-29T13:02:40.407754Z",
          "shell.execute_reply": "2025-06-29T13:02:40.407655Z",
          "shell.execute_reply.started": "2025-06-29T13:02:40.407643Z"
        },
        "id": "jOf2j-Vp2ZoV",
        "outputId": "2ff257a1-07f8-41ad-f500-cd280a7a8643"
      },
      "outputs": [
        {
          "data": {
            "image/png": "[encoded data removed]",
            "text/plain": [
              "<Figure size 1000x500 with 2 Axes>"
            ]
          },
          "metadata": {},
          "output_type": "display_data"
        }
      ],
      "source": [
        "# 绘制学习损失曲线，sample_step是每500步绘制一次\n",
        "plot_learning_curves(history, sample_step=500)  #横坐标是 steps，纵坐标是 loss，accuracy"
      ]
    },
    {
      "cell_type": "code",
      "execution_count": 35,
      "metadata": {
        "colab": {
          "base_uri": "https://localhost:8080/"
        },
        "execution": {
          "iopub.status.busy": "2025-06-29T13:02:40.408364Z",
          "iopub.status.idle": "2025-06-29T13:02:40.408589Z",
          "shell.execute_reply": "2025-06-29T13:02:40.408482Z",
          "shell.execute_reply.started": "2025-06-29T13:02:40.408472Z"
        },
        "id": "yof2QMw92ZoV",
        "outputId": "06d4b3b7-d0e0-4d59-95d2-90803c4045ba",
        "tags": []
      },
      "outputs": [
        {
          "data": {
            "text/plain": [
              "(90.21, 0.2768390585422516)"
            ]
          },
          "execution_count": 35,
          "metadata": {},
          "output_type": "execute_result"
        }
      ],
      "source": [
        "# 在测试集上评估模型\n",
        "test_accuracy = evaluate_model(model, test_loader, device, loss_fn)\n",
        "test_accuracy"
      ]
    }
  ],
  "metadata": {
    "accelerator": "GPU",
    "colab": {
      "gpuType": "T4",
      "provenance": []
    },
    "kernelspec": {
      "display_name": "Python 3",
      "name": "python3"
    },
    "language_info": {
      "codemirror_mode": {
        "name": "ipython",
        "version": 3
      },
      "file_extension": ".py",
      "mimetype": "text/x-python",
      "name": "python",
      "nbconvert_exporter": "python",
      "pygments_lexer": "ipython3",
      "version": "3.12.1"
    },
    "widgets": {
      "application/vnd.jupyter.widget-state+json": {
        "18243e5f089c4d1a97c48f28cf5e0eaa": {
          "model_module": "@jupyter-widgets/controls",
          "model_module_version": "1.5.0",
          "model_name": "HTMLModel",
          "state": {
            "_dom_classes": [],
            "_model_module": "@jupyter-widgets/controls",
            "_model_module_version": "1.5.0",
            "_model_name": "HTMLModel",
            "_view_count": null,
            "_view_module": "@jupyter-widgets/controls",
            "_view_module_version": "1.5.0",
            "_view_name": "HTMLView",
            "description": "",
            "description_tooltip": null,
            "layout": "IPY_MODEL_184c48fafcb94fc7b17ca26a09eae7c0",
            "placeholder": "​",
            "style": "IPY_MODEL_41518ebbd6df4f9696836d56a32e3c60",
            "value": " 26000/43000 [07:48&lt;04:28, 63.27it/s, epoch=30, loss=0.1948, acc=92.19%]"
          }
        },
        "184c48fafcb94fc7b17ca26a09eae7c0": {
          "model_module": "@jupyter-widgets/base",
          "model_module_version": "1.2.0",
          "model_name": "LayoutModel",
          "state": {
            "_model_module": "@jupyter-widgets/base",
            "_model_module_version": "1.2.0",
            "_model_name": "LayoutModel",
            "_view_count": null,
            "_view_module": "@jupyter-widgets/base",
            "_view_module_version": "1.2.0",
            "_view_name": "LayoutView",
            "align_content": null,
            "align_items": null,
            "align_self": null,
            "border": null,
            "bottom": null,
            "display": null,
            "flex": null,
            "flex_flow": null,
            "grid_area": null,
            "grid_auto_columns": null,
            "grid_auto_flow": null,
            "grid_auto_rows": null,
            "grid_column": null,
            "grid_gap": null,
            "grid_row": null,
            "grid_template_areas": null,
            "grid_template_columns": null,
            "grid_template_rows": null,
            "height": null,
            "justify_content": null,
            "justify_items": null,
            "left": null,
            "margin": null,
            "max_height": null,
            "max_width": null,
            "min_height": null,
            "min_width": null,
            "object_fit": null,
            "object_position": null,
            "order": null,
            "overflow": null,
            "overflow_x": null,
            "overflow_y": null,
            "padding": null,
            "right": null,
            "top": null,
            "visibility": null,
            "width": null
          }
        },
        "34228d1ecbfa485ea5dbcd8126193d7e": {
          "model_module": "@jupyter-widgets/controls",
          "model_module_version": "1.5.0",
          "model_name": "HBoxModel",
          "state": {
            "_dom_classes": [],
            "_model_module": "@jupyter-widgets/controls",
            "_model_module_version": "1.5.0",
            "_model_name": "HBoxModel",
            "_view_count": null,
            "_view_module": "@jupyter-widgets/controls",
            "_view_module_version": "1.5.0",
            "_view_name": "HBoxView",
            "box_style": "",
            "children": [
              "IPY_MODEL_96305aae241740f4b5fb1627e6bc966b",
              "IPY_MODEL_592d647961f4433590e6f3f757d4287f",
              "IPY_MODEL_18243e5f089c4d1a97c48f28cf5e0eaa"
            ],
            "layout": "IPY_MODEL_35067fc4a3aa4502b05e71c2294f810b"
          }
        },
        "35067fc4a3aa4502b05e71c2294f810b": {
          "model_module": "@jupyter-widgets/base",
          "model_module_version": "1.2.0",
          "model_name": "LayoutModel",
          "state": {
            "_model_module": "@jupyter-widgets/base",
            "_model_module_version": "1.2.0",
            "_model_name": "LayoutModel",
            "_view_count": null,
            "_view_module": "@jupyter-widgets/base",
            "_view_module_version": "1.2.0",
            "_view_name": "LayoutView",
            "align_content": null,
            "align_items": null,
            "align_self": null,
            "border": null,
            "bottom": null,
            "display": null,
            "flex": null,
            "flex_flow": null,
            "grid_area": null,
            "grid_auto_columns": null,
            "grid_auto_flow": null,
            "grid_auto_rows": null,
            "grid_column": null,
            "grid_gap": null,
            "grid_row": null,
            "grid_template_areas": null,
            "grid_template_columns": null,
            "grid_template_rows": null,
            "height": null,
            "justify_content": null,
            "justify_items": null,
            "left": null,
            "margin": null,
            "max_height": null,
            "max_width": null,
            "min_height": null,
            "min_width": null,
            "object_fit": null,
            "object_position": null,
            "order": null,
            "overflow": null,
            "overflow_x": null,
            "overflow_y": null,
            "padding": null,
            "right": null,
            "top": null,
            "visibility": null,
            "width": null
          }
        },
        "41518ebbd6df4f9696836d56a32e3c60": {
          "model_module": "@jupyter-widgets/controls",
          "model_module_version": "1.5.0",
          "model_name": "DescriptionStyleModel",
          "state": {
            "_model_module": "@jupyter-widgets/controls",
            "_model_module_version": "1.5.0",
            "_model_name": "DescriptionStyleModel",
            "_view_count": null,
            "_view_module": "@jupyter-widgets/base",
            "_view_module_version": "1.2.0",
            "_view_name": "StyleView",
            "description_width": ""
          }
        },
        "592d647961f4433590e6f3f757d4287f": {
          "model_module": "@jupyter-widgets/controls",
          "model_module_version": "1.5.0",
          "model_name": "FloatProgressModel",
          "state": {
            "_dom_classes": [],
            "_model_module": "@jupyter-widgets/controls",
            "_model_module_version": "1.5.0",
            "_model_name": "FloatProgressModel",
            "_view_count": null,
            "_view_module": "@jupyter-widgets/controls",
            "_view_module_version": "1.5.0",
            "_view_name": "ProgressView",
            "bar_style": "danger",
            "description": "",
            "description_tooltip": null,
            "layout": "IPY_MODEL_f8f3cff84d664a9690a12397213012d5",
            "max": 43000,
            "min": 0,
            "orientation": "horizontal",
            "style": "IPY_MODEL_d9bd8bc6ce594c8fac700f702fe5e0a8",
            "value": 26000
          }
        },
        "96305aae241740f4b5fb1627e6bc966b": {
          "model_module": "@jupyter-widgets/controls",
          "model_module_version": "1.5.0",
          "model_name": "HTMLModel",
          "state": {
            "_dom_classes": [],
            "_model_module": "@jupyter-widgets/controls",
            "_model_module_version": "1.5.0",
            "_model_name": "HTMLModel",
            "_view_count": null,
            "_view_module": "@jupyter-widgets/controls",
            "_view_module_version": "1.5.0",
            "_view_name": "HTMLView",
            "description": "",
            "description_tooltip": null,
            "layout": "IPY_MODEL_d3ba93b7e3fe429a8a3eb32179497250",
            "placeholder": "​",
            "style": "IPY_MODEL_e974b499813c4904bdac1c87016c9f11",
            "value": " 60%"
          }
        },
        "d3ba93b7e3fe429a8a3eb32179497250": {
          "model_module": "@jupyter-widgets/base",
          "model_module_version": "1.2.0",
          "model_name": "LayoutModel",
          "state": {
            "_model_module": "@jupyter-widgets/base",
            "_model_module_version": "1.2.0",
            "_model_name": "LayoutModel",
            "_view_count": null,
            "_view_module": "@jupyter-widgets/base",
            "_view_module_version": "1.2.0",
            "_view_name": "LayoutView",
            "align_content": null,
            "align_items": null,
            "align_self": null,
            "border": null,
            "bottom": null,
            "display": null,
            "flex": null,
            "flex_flow": null,
            "grid_area": null,
            "grid_auto_columns": null,
            "grid_auto_flow": null,
            "grid_auto_rows": null,
            "grid_column": null,
            "grid_gap": null,
            "grid_row": null,
            "grid_template_areas": null,
            "grid_template_columns": null,
            "grid_template_rows": null,
            "height": null,
            "justify_content": null,
            "justify_items": null,
            "left": null,
            "margin": null,
            "max_height": null,
            "max_width": null,
            "min_height": null,
            "min_width": null,
            "object_fit": null,
            "object_position": null,
            "order": null,
            "overflow": null,
            "overflow_x": null,
            "overflow_y": null,
            "padding": null,
            "right": null,
            "top": null,
            "visibility": null,
            "width": null
          }
        },
        "d9bd8bc6ce594c8fac700f702fe5e0a8": {
          "model_module": "@jupyter-widgets/controls",
          "model_module_version": "1.5.0",
          "model_name": "ProgressStyleModel",
          "state": {
            "_model_module": "@jupyter-widgets/controls",
            "_model_module_version": "1.5.0",
            "_model_name": "ProgressStyleModel",
            "_view_count": null,
            "_view_module": "@jupyter-widgets/base",
            "_view_module_version": "1.2.0",
            "_view_name": "StyleView",
            "bar_color": null,
            "description_width": ""
          }
        },
        "e974b499813c4904bdac1c87016c9f11": {
          "model_module": "@jupyter-widgets/controls",
          "model_module_version": "1.5.0",
          "model_name": "DescriptionStyleModel",
          "state": {
            "_model_module": "@jupyter-widgets/controls",
            "_model_module_version": "1.5.0",
            "_model_name": "DescriptionStyleModel",
            "_view_count": null,
            "_view_module": "@jupyter-widgets/base",
            "_view_module_version": "1.2.0",
            "_view_name": "StyleView",
            "description_width": ""
          }
        },
        "f8f3cff84d664a9690a12397213012d5": {
          "model_module": "@jupyter-widgets/base",
          "model_module_version": "1.2.0",
          "model_name": "LayoutModel",
          "state": {
            "_model_module": "@jupyter-widgets/base",
            "_model_module_version": "1.2.0",
            "_model_name": "LayoutModel",
            "_view_count": null,
            "_view_module": "@jupyter-widgets/base",
            "_view_module_version": "1.2.0",
            "_view_name": "LayoutView",
            "align_content": null,
            "align_items": null,
            "align_self": null,
            "border": null,
            "bottom": null,
            "display": null,
            "flex": null,
            "flex_flow": null,
            "grid_area": null,
            "grid_auto_columns": null,
            "grid_auto_flow": null,
            "grid_auto_rows": null,
            "grid_column": null,
            "grid_gap": null,
            "grid_row": null,
            "grid_template_areas": null,
            "grid_template_columns": null,
            "grid_template_rows": null,
            "height": null,
            "justify_content": null,
            "justify_items": null,
            "left": null,
            "margin": null,
            "max_height": null,
            "max_width": null,
            "min_height": null,
            "min_width": null,
            "object_fit": null,
            "object_position": null,
            "order": null,
            "overflow": null,
            "overflow_x": null,
            "overflow_y": null,
            "padding": null,
            "right": null,
            "top": null,
            "visibility": null,
            "width": null
          }
        }
      }
    }
  },
  "nbformat": 4,
  "nbformat_minor": 0
}
