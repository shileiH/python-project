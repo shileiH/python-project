{
 "cells": [
  {
   "cell_type": "code",
   "execution_count": 1,
   "metadata": {
    "ExecutionIndicator": {
     "show": true
    },
    "execution": {
     "iopub.execute_input": "2025-06-29T12:50:15.276894Z",
     "iopub.status.busy": "2025-06-29T12:50:15.276670Z",
     "iopub.status.idle": "2025-06-29T12:50:17.808037Z",
     "shell.execute_reply": "2025-06-29T12:50:17.807406Z",
     "shell.execute_reply.started": "2025-06-29T12:50:15.276876Z"
    },
    "tags": []
   },
   "outputs": [
    {
     "name": "stderr",
     "output_type": "stream",
     "text": [
      "/opt/conda/lib/python3.11/site-packages/tqdm/auto.py:21: TqdmWarning: IProgress not found. Please update jupyter and ipywidgets. See https://ipywidgets.readthedocs.io/en/stable/user_install.html\n",
      "  from .autonotebook import tqdm as notebook_tqdm\n"
     ]
    }
   ],
   "source": [
    "import numpy as np\n",
    "import pandas as pd\n",
    "import matplotlib.pyplot as plt\n",
    "from sklearn.datasets import fetch_california_housing\n",
    "from sklearn.model_selection import train_test_split\n",
    "from sklearn.preprocessing import StandardScaler\n",
    "import torch\n",
    "import torch.nn as nn\n",
    "from tqdm.auto import tqdm\n",
    "from torch.utils.data import DataLoader, Dataset\n",
    "from deeplearning_model import EarlyStopping, ModelSaver,evaluate_regression_model,train_regression_model\n",
    "from deeplearning_model import plot_learning_curves,plot_learning_loss_curves\n",
    "from torch import optim\n",
    "import math"
   ]
  },
  {
   "cell_type": "code",
   "execution_count": 2,
   "metadata": {
    "ExecutionIndicator": {
     "show": true
    },
    "execution": {
     "iopub.execute_input": "2025-06-29T12:50:17.809915Z",
     "iopub.status.busy": "2025-06-29T12:50:17.809434Z",
     "iopub.status.idle": "2025-06-29T12:50:17.930487Z",
     "shell.execute_reply": "2025-06-29T12:50:17.929805Z",
     "shell.execute_reply.started": "2025-06-29T12:50:17.809883Z"
    },
    "tags": []
   },
   "outputs": [
    {
     "name": "stdout",
     "output_type": "stream",
     "text": [
      "训练集大小: 13209\n",
      "验证集大小: 3303\n",
      "测试集大小: 4128\n"
     ]
    }
   ],
   "source": [
    "\n",
    "\n",
    "# 加载加利福尼亚房价数据集\n",
    "housing = fetch_california_housing()\n",
    "X = housing.data\n",
    "y = housing.target\n",
    "\n",
    "# 数据拆分：训练集(60%)、验证集(20%)、测试集(20%)\n",
    "X_train_val, X_test, y_train_val, y_test = train_test_split(X, y, test_size=0.2, random_state=42)\n",
    "X_train, X_val, y_train, y_val = train_test_split(X_train_val, y_train_val, test_size=0.2, random_state=42)  # 0.25 x 0.8 = 0.2\n",
    "\n",
    "print(f\"训练集大小: {X_train.shape[0]}\")\n",
    "print(f\"验证集大小: {X_val.shape[0]}\")\n",
    "print(f\"测试集大小: {X_test.shape[0]}\")\n",
    "\n",
    "# 数据标准化\n",
    "scaler = StandardScaler()\n",
    "X_train_scaled = scaler.fit_transform(X_train)\n",
    "X_val_scaled = scaler.transform(X_val)\n",
    "X_test_scaled = scaler.transform(X_test)\n",
    "\n",
    "# 自定义数据集类\n",
    "class HousingDataset(Dataset):\n",
    "    def __init__(self, features, targets):\n",
    "        self.features = torch.FloatTensor(features)\n",
    "        self.targets = torch.FloatTensor(targets).view(-1, 1)\n",
    "        \n",
    "    def __len__(self):\n",
    "        return len(self.features) #返回样本数量\n",
    "    \n",
    "    def __getitem__(self, idx): #传入索引，返回对应索引样本的特征和目标\n",
    "        return self.features[idx], self.targets[idx]\n",
    "\n",
    "# 创建数据集实例\n",
    "train_dataset = HousingDataset(X_train_scaled, y_train)\n",
    "val_dataset = HousingDataset(X_val_scaled, y_val)\n",
    "test_dataset = HousingDataset(X_test_scaled, y_test)\n",
    "\n",
    "\n",
    "# 创建数据加载器\n",
    "train_loader = DataLoader(train_dataset, batch_size=64, shuffle=True)\n",
    "val_loader = DataLoader(val_dataset, batch_size=64)\n",
    "test_loader = DataLoader(test_dataset, batch_size=64)\n"
   ]
  },
  {
   "cell_type": "markdown",
   "metadata": {},
   "source": [
    "# 自定义全连接层layer"
   ]
  },
  {
   "cell_type": "code",
   "execution_count": 3,
   "metadata": {
    "execution": {
     "iopub.execute_input": "2025-06-29T12:50:17.931490Z",
     "iopub.status.busy": "2025-06-29T12:50:17.931208Z",
     "iopub.status.idle": "2025-06-29T12:50:17.938333Z",
     "shell.execute_reply": "2025-06-29T12:50:17.937747Z",
     "shell.execute_reply.started": "2025-06-29T12:50:17.931463Z"
    }
   },
   "outputs": [],
   "source": [
    "\n",
    "\n",
    "# 自定义线性层类，自定义权重，偏置属性，使用初始化分布方法和前向计算的foword方法\n",
    "\n",
    "class MyLinear(nn.Module):\n",
    "    def __init__(self, in_features, out_features, bias=True):\n",
    "        \"\"\"\n",
    "        自定义线性层的初始化\n",
    "        \n",
    "        参数:\n",
    "            in_features: 输入特征数量\n",
    "            out_features: 输出特征数量\n",
    "            bias: 是否使用偏置项\n",
    "        \"\"\"\n",
    "        super(MyLinear, self).__init__()\n",
    "        self.in_features = in_features\n",
    "        self.out_features = out_features\n",
    "\n",
    "        # 定义权重参数，使用正态分布初始化\n",
    "        # 使用Parameter将tensor注册为可学习参数\n",
    "        #torch.randn(out_features, in_features) *  0.01生成正态分布的随机数\n",
    "        self.weight = nn.Parameter(torch.Tensor(out_features, in_features))\n",
    "        \n",
    "        # 是否使用偏置\n",
    "        self.use_bias = bias\n",
    "        \n",
    "        # 如果使用偏置，则torch.zeros：初始化偏置参数全0，否则注册一个不存在的偏置参数\n",
    "        if bias:\n",
    "            self.bias = nn.Parameter(torch.zeros(out_features)) #torch.Tensor(out_features) 生成全0的tensor\n",
    "        else:\n",
    "            # 注册一个不存在的偏置参数\n",
    "            self.register_parameter('bias', None)\n",
    "        \n",
    "        # 初始化参数\n",
    "        self.reset_parameters()\n",
    "        \n",
    "    def reset_parameters(self):\n",
    "        \"\"\"\n",
    "        初始化参数\n",
    "        torch.randn使用kaiming_uniform_初始化方法\n",
    "        1 / math.sqrt(fan_in) 初始化偏置参数是kaiming_uniform_初始化方法\n",
    "        1 / math.sqrt(fan_in+fan_out)是Xavier 均匀分布初始化方法，也称为 Glorot 初始化。\n",
    "        \"\"\"\n",
    "        nn.init.kaiming_uniform_(self.weight, a=math.sqrt(5))\n",
    "        if self.use_bias:\n",
    "            fan_in, _ = nn.init._calculate_fan_in_and_fan_out(self.weight)\n",
    "            bound = 1 / math.sqrt(fan_in) \n",
    "            nn.init.uniform_(self.bias, -bound, bound)\n",
    "\n",
    "    def forward(self, x):\n",
    "        \"\"\"\n",
    "        前向传播计算\n",
    "        \n",
    "        参数:\n",
    "            x: 输入张量，形状为 [batch_size, in_features]\n",
    "            \n",
    "        返回:\n",
    "            输出张量，形状为 [batch_size, out_features]\n",
    "        \"\"\"\n",
    "        # 实现线性变换：y = xW^T + b,等价与F.linear(x, self.weight, self.bias)\n",
    "        output = torch.matmul(x, self.weight.t())\n",
    "        if self.bias is not None:\n",
    "            output += self.bias\n",
    "        return output\n",
    "    \n",
    "    def extra_repr(self):\n",
    "        \"\"\"\n",
    "        额外的表示信息，用于打印模型时显示\n",
    "        \"\"\"\n",
    "        return f'in_features={self.weight.size(1)}, out_features={self.weight.size(0)}, bias={self.use_bias}'\n",
    "\n"
   ]
  },
  {
   "cell_type": "code",
   "execution_count": 4,
   "metadata": {
    "ExecutionIndicator": {
     "show": true
    },
    "execution": {
     "iopub.execute_input": "2025-06-29T12:50:17.939268Z",
     "iopub.status.busy": "2025-06-29T12:50:17.939035Z",
     "iopub.status.idle": "2025-06-29T12:50:17.943801Z",
     "shell.execute_reply": "2025-06-29T12:50:17.943149Z",
     "shell.execute_reply.started": "2025-06-29T12:50:17.939250Z"
    },
    "tags": []
   },
   "outputs": [],
   "source": [
    "# 定义神经网络模型\n",
    "class RegressionModel(nn.Module):\n",
    "    def __init__(self, input_dim):\n",
    "        super(RegressionModel, self).__init__()\n",
    "\n",
    "        self.layer1 = nn.Linear(input_dim, 30)\n",
    "     \n",
    "        self.activation1 = nn.ReLU()\n",
    "        # 添加dropout防止过拟合\n",
    "        self.dropout1 = nn.Dropout(0.2)\n",
    "        # 第二层：线性层\n",
    "        self.layer2 = nn.Linear(30, 15)\n",
    "\n",
    "        # 第二层的激活函数\n",
    "        self.activation2 = nn.ReLU()\n",
    "\n",
    "        \n",
    "        # 输出层：线性层，从15到1个输出\n",
    "        self.output = nn.Linear(15, 1)\n",
    "        \n",
    "    def forward(self, x):\n",
    "        # 第一层的前向传播\n",
    "        x = self.layer1(x)\n",
    "        x = self.activation1(x)  # 应用激活函数\n",
    "        x = self.dropout1(x)     # 应用dropout\n",
    "        \n",
    "        # 第二层的前向传播\n",
    "        x = self.layer2(x)\n",
    "        x = self.activation2(x)  # 应用激活函数\n",
    "        \n",
    "        # 输出层\n",
    "        x = self.output(x)\n",
    "        return x"
   ]
  },
  {
   "cell_type": "markdown",
   "metadata": {},
   "source": [
    "# 自定义损失函数"
   ]
  },
  {
   "cell_type": "code",
   "execution_count": 5,
   "metadata": {
    "execution": {
     "iopub.execute_input": "2025-06-29T12:50:17.945976Z",
     "iopub.status.busy": "2025-06-29T12:50:17.945568Z",
     "iopub.status.idle": "2025-06-29T12:50:17.955639Z",
     "shell.execute_reply": "2025-06-29T12:50:17.955143Z",
     "shell.execute_reply.started": "2025-06-29T12:50:17.945949Z"
    }
   },
   "outputs": [
    {
     "data": {
      "text/plain": [
       "tensor(0.3750)"
      ]
     },
     "execution_count": 5,
     "metadata": {},
     "output_type": "execute_result"
    }
   ],
   "source": [
    "# 自定义MSE损失函数\n",
    "def mse_loss(array1, array2):\n",
    "    return ((array1 - array2) ** 2).mean()\n",
    "# 假设 y_true 是真实值的张量，y_pred 是模型预测值的张量\n",
    "y_true = torch.tensor([3, -0.5, 2, 7])\n",
    "y_pred = torch.tensor([2.5, 0.0, 2.0, 8])\n",
    "\n",
    "# 计算 MSE 损失\n",
    "loss = mse_loss(y_pred, y_true)\n",
    "loss"
   ]
  },
  {
   "cell_type": "code",
   "execution_count": 6,
   "metadata": {
    "execution": {
     "iopub.execute_input": "2025-06-29T12:50:17.956325Z",
     "iopub.status.busy": "2025-06-29T12:50:17.956165Z",
     "iopub.status.idle": "2025-06-29T12:50:17.959803Z",
     "shell.execute_reply": "2025-06-29T12:50:17.959149Z",
     "shell.execute_reply.started": "2025-06-29T12:50:17.956310Z"
    }
   },
   "outputs": [],
   "source": [
    "# 自定义MSE损失函数类\n",
    "class CustomMSELoss(nn.Module):\n",
    "    def __init__(self):\n",
    "        super(CustomMSELoss, self).__init__()\n",
    "    \n",
    "    def forward(self, predictions, targets):\n",
    "        # 计算预测值和真实值之间的平方差\n",
    "        squared_diff = (predictions - targets) ** 2\n",
    "        # 返回平均损失\n",
    "        return torch.mean(squared_diff)\n"
   ]
  },
  {
   "cell_type": "code",
   "execution_count": 7,
   "metadata": {
    "ExecutionIndicator": {
     "show": true
    },
    "execution": {
     "iopub.execute_input": "2025-06-29T12:50:17.960652Z",
     "iopub.status.busy": "2025-06-29T12:50:17.960416Z",
     "iopub.status.idle": "2025-06-29T12:50:18.897373Z",
     "shell.execute_reply": "2025-06-29T12:50:18.896765Z",
     "shell.execute_reply.started": "2025-06-29T12:50:17.960636Z"
    },
    "tags": []
   },
   "outputs": [
    {
     "name": "stdout",
     "output_type": "stream",
     "text": [
      "模型参数数量: 751\n",
      "RegressionModel(\n",
      "  (layer1): Linear(in_features=8, out_features=30, bias=True)\n",
      "  (activation1): ReLU()\n",
      "  (dropout1): Dropout(p=0.2, inplace=False)\n",
      "  (layer2): Linear(in_features=30, out_features=15, bias=True)\n",
      "  (activation2): ReLU()\n",
      "  (output): Linear(in_features=15, out_features=1, bias=True)\n",
      ")\n"
     ]
    }
   ],
   "source": [
    "# 初始化模型、损失函数和优化器\n",
    "input_dim = X_train.shape[1]\n",
    "model = RegressionModel(input_dim)\n",
    "criterion = CustomMSELoss()\n",
    "optimizer = optim.SGD(model.parameters(), lr=0.001,momentum=0.9)\n",
    "\n",
    "# 打印模型结构\n",
    "print(f\"模型参数数量: {sum(p.numel() for p in model.parameters())}\")\n",
    "print(model)"
   ]
  },
  {
   "cell_type": "code",
   "execution_count": 8,
   "metadata": {
    "execution": {
     "iopub.execute_input": "2025-06-29T12:50:18.898512Z",
     "iopub.status.busy": "2025-06-29T12:50:18.898102Z",
     "iopub.status.idle": "2025-06-29T12:51:22.503336Z",
     "shell.execute_reply": "2025-06-29T12:51:22.502703Z",
     "shell.execute_reply.started": "2025-06-29T12:50:18.898489Z"
    },
    "tags": []
   },
   "outputs": [
    {
     "name": "stderr",
     "output_type": "stream",
     "text": [
      "100%|██████████| 20700/20700 [01:03<00:00, 325.51it/s, epoch=99, loss=0.1454,0.1454, val_loss=0.3345, step=20700]\n"
     ]
    }
   ],
   "source": [
    "# 训练模型\n",
    "# 初始化早停和模型保存对象\n",
    "early_stopping = EarlyStopping(patience=10, verbose=True)\n",
    "model_saver = ModelSaver(save_dir='model_weights')\n",
    "device = torch.device(\"cuda:0\" if torch.cuda.is_available() else \"cpu\")\n",
    "model, record_dict = train_regression_model(\n",
    "    model=model,\n",
    "    train_loader=train_loader,\n",
    "    val_loader=val_loader,\n",
    "    criterion=criterion,\n",
    "    optimizer=optimizer,\n",
    "    num_epochs=100,\n",
    "    eval_step=500,\n",
    "    early_stopping=early_stopping,\n",
    "    model_saver=model_saver,\n",
    "    device=device\n",
    ")"
   ]
  },
  {
   "cell_type": "code",
   "execution_count": 9,
   "metadata": {
    "execution": {
     "iopub.execute_input": "2025-06-29T12:51:22.504166Z",
     "iopub.status.busy": "2025-06-29T12:51:22.503969Z",
     "iopub.status.idle": "2025-06-29T12:51:22.689833Z",
     "shell.execute_reply": "2025-06-29T12:51:22.689338Z",
     "shell.execute_reply.started": "2025-06-29T12:51:22.504149Z"
    },
    "tags": []
   },
   "outputs": [
    {
     "data": {
      "image/png": "[encoded data removed]",
      "text/plain": [
       "<Figure size 1000x500 with 1 Axes>"
      ]
     },
     "metadata": {},
     "output_type": "display_data"
    }
   ],
   "source": [
    "#画图\n",
    "plot_learning_loss_curves(record_dict,sample_step=500)"
   ]
  },
  {
   "cell_type": "code",
   "execution_count": 10,
   "metadata": {
    "execution": {
     "iopub.execute_input": "2025-06-29T12:51:22.690960Z",
     "iopub.status.busy": "2025-06-29T12:51:22.690494Z",
     "iopub.status.idle": "2025-06-29T12:51:22.736625Z",
     "shell.execute_reply": "2025-06-29T12:51:22.736147Z",
     "shell.execute_reply.started": "2025-06-29T12:51:22.690939Z"
    },
    "tags": []
   },
   "outputs": [
    {
     "name": "stdout",
     "output_type": "stream",
     "text": [
      "测试集上的损失为0.3199\n"
     ]
    }
   ],
   "source": [
    "device = torch.device(\"cuda:0\" if torch.cuda.is_available() else \"cpu\")\n",
    "test_loss=evaluate_regression_model(model,test_loader,device,criterion)\n",
    "print(f\"测试集上的损失为{test_loss:.4f}\")"
   ]
  }
 ],
 "metadata": {
  "kernelspec": {
   "display_name": "Python 3 (ipykernel)",
   "language": "python",
   "name": "python3"
  },
  "language_info": {
   "codemirror_mode": {
    "name": "ipython",
    "version": 3
   },
   "file_extension": ".py",
   "mimetype": "text/x-python",
   "name": "python",
   "nbconvert_exporter": "python",
   "pygments_lexer": "ipython3",
   "version": "3.11.11"
  }
 },
 "nbformat": 4,
 "nbformat_minor": 4
}
