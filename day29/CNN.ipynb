{
  "cells": [
    {
      "cell_type": "code",
      "execution_count": 5,
      "metadata": {
        "colab": {
          "base_uri": "https://localhost:8080/"
        },
        "id": "b1v7nIKe2wnB",
        "outputId": "9f61fc97-9437-4e85-9665-bea5fd7f7084"
      },
      "outputs": [
        {
          "name": "stdout",
          "output_type": "stream",
          "text": [
            "/content\n"
          ]
        }
      ],
      "source": [
        "!pwd"
      ]
    },
    {
      "cell_type": "code",
      "execution_count": 6,
      "metadata": {
        "colab": {
          "base_uri": "https://localhost:8080/"
        },
        "id": "Zb5kNhjG2zPS",
        "outputId": "acb20ec4-0f6f-471a-b35b-2475d70dfaf1"
      },
      "outputs": [
        {
          "name": "stdout",
          "output_type": "stream",
          "text": [
            "deeplearning_model.py  sample_data\n"
          ]
        }
      ],
      "source": [
        "!ls"
      ]
    },
    {
      "cell_type": "markdown",
      "metadata": {
        "id": "7hhMZpnw2ZoP"
      },
      "source": [
        "# CNN卷积神经网络"
      ]
    },
    {
      "cell_type": "code",
      "execution_count": 7,
      "metadata": {
        "colab": {
          "base_uri": "https://localhost:8080/",
          "height": 132
        },
        "execution": {
          "iopub.execute_input": "2025-06-29T12:54:32.282348Z",
          "iopub.status.busy": "2025-06-29T12:54:32.281867Z",
          "iopub.status.idle": "2025-06-29T12:54:32.361511Z",
          "shell.execute_reply": "2025-06-29T12:54:32.360967Z",
          "shell.execute_reply.started": "2025-06-29T12:54:32.282322Z"
        },
        "id": "QfixIZLQ2ZoR",
        "outputId": "d72d85c7-b1cd-4e1c-e32c-29432b2bf40f"
      },
      "outputs": [
        {
          "name": "stderr",
          "output_type": "stream",
          "text": [
            "100%|██████████| 26.4M/26.4M [00:02<00:00, 13.2MB/s]\n",
            "100%|██████████| 29.5k/29.5k [00:00<00:00, 209kB/s]\n",
            "100%|██████████| 4.42M/4.42M [00:01<00:00, 3.91MB/s]\n",
            "100%|██████████| 5.15k/5.15k [00:00<00:00, 863kB/s]\n"
          ]
        },
        {
          "name": "stdout",
          "output_type": "stream",
          "text": [
            "(<PIL.Image.Image image mode=L size=28x28 at 0x7873571838D0>, 9)\n"
          ]
        },
        {
          "data": {
            "image/jpeg": "[encoded data removed]",
            "image/png": "[encoded data removed]",
            "text/plain": [
              "<PIL.Image.Image image mode=L size=28x28>"
            ]
          },
          "execution_count": 7,
          "metadata": {},
          "output_type": "execute_result"
        }
      ],
      "source": [
        "import torch\n",
        "import torchvision\n",
        "import numpy as np\n",
        "import matplotlib.pyplot as plt\n",
        "from torchvision import datasets, transforms\n",
        "from deeplearning_model import EarlyStopping, ModelSaver,train_classification_model,plot_learning_curves\n",
        "from deeplearning_model import evaluate_classification_model as evaluate_model\n",
        "# 加载Fashion MNIST数据集，张量就是和numpy数组一样\n",
        "transform = transforms.Compose([])\n",
        "train_dataset = datasets.FashionMNIST(root='./data', train=True, download=True, transform=transform)\n",
        "test_dataset = datasets.FashionMNIST(root='./data', train=False, download=True, transform=transform)\n",
        "print(train_dataset[0])\n",
        "train_dataset[0][0]"
      ]
    },
    {
      "cell_type": "markdown",
      "metadata": {
        "id": "-w6-C80W2ZoS"
      },
      "source": [
        "# 加载数据并处理为tensor格式"
      ]
    },
    {
      "cell_type": "code",
      "execution_count": 8,
      "metadata": {
        "colab": {
          "base_uri": "https://localhost:8080/"
        },
        "execution": {
          "iopub.execute_input": "2025-06-29T12:54:32.362911Z",
          "iopub.status.busy": "2025-06-29T12:54:32.362450Z",
          "iopub.status.idle": "2025-06-29T12:54:32.436429Z",
          "shell.execute_reply": "2025-06-29T12:54:32.435902Z",
          "shell.execute_reply.started": "2025-06-29T12:54:32.362889Z"
        },
        "id": "r3m_8XtW2ZoS",
        "outputId": "0f14a28e-91d1-4acf-e230-d6b379061f77"
      },
      "outputs": [
        {
          "name": "stdout",
          "output_type": "stream",
          "text": [
            "训练集形状: (60000, 28, 28)\n",
            "训练集标签数量: 60000\n",
            "测试集形状: (10000, 28, 28)\n",
            "测试集标签数量: 10000\n"
          ]
        }
      ],
      "source": [
        "# 加载Fashion MNIST数据集，张量就是和numpy数组一样\n",
        "transform = transforms.Compose([\n",
        "    transforms.ToTensor(),\n",
        "    transforms.Normalize((0.286,), (0.353,))\n",
        "])\n",
        "train_dataset = datasets.FashionMNIST(root='./data', train=True, download=True, transform=transform)\n",
        "test_dataset = datasets.FashionMNIST(root='./data', train=False, download=True, transform=transform)\n",
        "\n",
        "\n",
        "# 获取图像和标签\n",
        "# 注意：由于使用了transform，图像已经被转换为张量且标准化\n",
        "# 我们需要从dataset中提取原始图像用于显示\n",
        "train_images = train_dataset.data.numpy()\n",
        "train_labels = train_dataset.targets.numpy()\n",
        "test_images = test_dataset.data.numpy()\n",
        "test_labels = test_dataset.targets.numpy()\n",
        "\n",
        "# 定义类别名称标签\n",
        "class_names = ['T-shirt/top', 'Trouser', 'Pullover', 'Dress', 'Coat', 'Sandal', 'Shirt', 'Sneaker', 'Bag', 'Ankle boot']\n",
        "\n",
        "# 查看数据集基本信息\n",
        "print(f\"训练集形状: {train_images.shape}\")\n",
        "print(f\"训练集标签数量: {len(train_labels)}\")\n",
        "print(f\"测试集形状: {test_images.shape}\")\n",
        "print(f\"测试集标签数量: {len(test_labels)}\")"
      ]
    },
    {
      "cell_type": "code",
      "execution_count": 9,
      "metadata": {
        "execution": {
          "iopub.execute_input": "2025-06-29T12:54:32.437701Z",
          "iopub.status.busy": "2025-06-29T12:54:32.437170Z",
          "iopub.status.idle": "2025-06-29T12:54:32.442202Z",
          "shell.execute_reply": "2025-06-29T12:54:32.441570Z",
          "shell.execute_reply.started": "2025-06-29T12:54:32.437671Z"
        },
        "id": "IPnWaMUo2ZoS"
      },
      "outputs": [],
      "source": [
        "# 计算训练集均值和方差，以便加载数据集时直接标准化\n",
        "def calculate_mean_std(train_dataset):\n",
        "    # 首先将所有图像数据堆叠为一个大张量\n",
        "    all_images = torch.stack([img_tensor for img_tensor, _ in train_dataset])\n",
        "    print(all_images.shape)\n",
        "    # 计算通道维度上的均值和标准差\n",
        "    # Fashion MNIST是灰度图像，只有一个通道\n",
        "    # 对所有像素值计算均值和标准差\n",
        "    mean = torch.mean(all_images)\n",
        "    std = torch.std(all_images)\n",
        "\n",
        "    print(f\"训练数据集均值: {mean.item():.4f}\")\n",
        "    print(f\"训练数据集标准差: {std.item():.4f}\")\n",
        "\n",
        "    # 检查数据集大小\n",
        "    print(f\"数据集中图像总数: {len(train_dataset)}\")\n",
        "\n",
        "# calculate_mean_std(train_dataset)"
      ]
    },
    {
      "cell_type": "code",
      "execution_count": 10,
      "metadata": {
        "execution": {
          "iopub.execute_input": "2025-06-29T12:57:57.199273Z",
          "iopub.status.busy": "2025-06-29T12:57:57.198947Z",
          "iopub.status.idle": "2025-06-29T12:57:57.207366Z",
          "shell.execute_reply": "2025-06-29T12:57:57.206688Z",
          "shell.execute_reply.started": "2025-06-29T12:57:57.199249Z"
        },
        "id": "eAkDsNfj2ZoT"
      },
      "outputs": [],
      "source": [
        "\n",
        "# 划分训练集，验证集，测试集\n",
        "from traceback import print_exception\n",
        "\n",
        "\n",
        "train_size = int(len(train_dataset) * 0.64)\n",
        "val_size = int(len(train_dataset) * 0.16)\n",
        "test_size = len(train_dataset) - train_size - val_size\n",
        "\n",
        "train_dataset, val_dataset, test_dataset = torch.utils.data.random_split(\n",
        "    train_dataset, [train_size, val_size, test_size],generator=torch.Generator().manual_seed(42)\n",
        ")\n",
        "\n",
        "# 创建数据加载器\n",
        "batch_size = 64\n",
        "train_loader = torch.utils.data.DataLoader(\n",
        "    train_dataset,\n",
        "    batch_size=batch_size,\n",
        "    shuffle=True #打乱数据集，每次迭代时，数据集的顺序都会被打乱\n",
        ")\n",
        "\n",
        "val_loader = torch.utils.data.DataLoader(\n",
        "    val_dataset,\n",
        "    batch_size=batch_size,\n",
        "    shuffle=False\n",
        ")\n",
        "\n",
        "test_loader = torch.utils.data.DataLoader(\n",
        "    test_dataset,\n",
        "    batch_size=batch_size,\n",
        "    shuffle=False\n",
        ")\n"
      ]
    },
    {
      "cell_type": "markdown",
      "metadata": {
        "id": "JiJZ_o242ZoT"
      },
      "source": [
        "# 定义CNN模型类"
      ]
    },
    {
      "cell_type": "code",
      "execution_count": 11,
      "metadata": {
        "ExecutionIndicator": {
          "show": true
        },
        "execution": {
          "iopub.execute_input": "2025-06-29T12:58:48.585502Z",
          "iopub.status.busy": "2025-06-29T12:58:48.584961Z",
          "iopub.status.idle": "2025-06-29T12:58:48.594720Z",
          "shell.execute_reply": "2025-06-29T12:58:48.594051Z",
          "shell.execute_reply.started": "2025-06-29T12:58:48.585475Z"
        },
        "id": "vqzKSB8K2ZoT",
        "tags": []
      },
      "outputs": [],
      "source": [
        "import torch.nn as nn\n",
        "import torch.nn.functional as F\n",
        "import torch.nn.init as init\n",
        "\n",
        "class CNN(nn.Module):\n",
        "    \"\"\"\n",
        "    CNN卷积神经网络模型\n",
        "    卷积核数量由32依次递增\n",
        "    使用Xavier均匀分布初始化权重\n",
        "    \"\"\"\n",
        "    def __init__(self, num_classes=10):\n",
        "        super(CNN, self).__init__()\n",
        "        # 第一个卷积层: 1通道输入，32通道输出，卷积核大小3x3，padding=1表示填充1个像素，使输出尺寸与输入尺寸相同\n",
        "        # self.conv1和self.conv2共同构成一个卷积块，起到提取高维特征的作用\n",
        "        self.conv1 = nn.Conv2d(1, 32, kernel_size=3, stride=1, padding=1)\n",
        "        self.conv2 = nn.Conv2d(32, 32, kernel_size=3, stride=1, padding=1)\n",
        "        # 第二个卷积层: 32通道输入，64通道输出，卷积核大小3x3\n",
        "        self.conv3 = nn.Conv2d(32, 64, kernel_size=3, stride=1, padding=1)\n",
        "        self.conv4 = nn.Conv2d(64, 64, kernel_size=3, stride=1, padding=1)\n",
        "        # 第三个卷积层: 64通道输入，128通道输出，卷积核大小3x3\n",
        "        self.conv5 = nn.Conv2d(64, 128, kernel_size=3, stride=1, padding=1)\n",
        "        self.conv6 = nn.Conv2d(128, 128, kernel_size=3, stride=1, padding=1)\n",
        "\n",
        "        # 池化层\n",
        "        self.pool = nn.MaxPool2d(kernel_size=2, stride=2)\n",
        "\n",
        "        # 全连接层\n",
        "        # 经过3次池化，图像尺寸变为原来的1/8，即28/8≈3\n",
        "        # 128个通道，每个通道3x3大小\n",
        "        self.fc1 = nn.Linear(128 * 3 * 3, 256)\n",
        "        self.fc2 = nn.Linear(256, 10)\n",
        "\n",
        "        # Dropout层，防止过拟合\n",
        "        self.dropout = nn.Dropout(0.5)\n",
        "\n",
        "        # 初始化权重\n",
        "        self._initialize_weights()\n",
        "\n",
        "    def forward(self, x):\n",
        "\n",
        "        # 第一个卷积块\n",
        "        x = self.conv1(x)\n",
        "        # print(f\"第一次卷积后形状: {x.shape}\")[64, 32, 28, 28]\n",
        "        x = F.relu(self.conv2(x))\n",
        "        # print(f\"第一次ReLU后形状: {x.shape}\")\n",
        "        x = self.pool(x)\n",
        "        # print(f\"第一次池化后形状: {x.shape}\")  # 输出尺寸: 14x14\n",
        "\n",
        "        # 第二个卷积块\n",
        "        x = self.conv3(x)\n",
        "        # print(f\"第二次卷积后形状: {x.shape}\") [64, 64, 14, 14]\n",
        "        x = F.relu(self.conv4(x))\n",
        "        # print(f\"第二次ReLU后形状: {x.shape}\")\n",
        "        x = self.pool(x)\n",
        "        # print(f\"第二次池化后形状: {x.shape}\")  # 输出尺寸: 7x7\n",
        "\n",
        "        # 第三个卷积块\n",
        "        x = self.conv5(x)\n",
        "        # print(f\"第三次卷积后形状: {x.shape}\") [64, 128, 7, 7]\n",
        "        x = F.relu(self.conv6(x))\n",
        "        # print(f\"第三次ReLU后形状: {x.shape}\")\n",
        "        x = self.pool(x)\n",
        "        # print(f\"第三次池化后形状: {x.shape}\")  # 输出尺寸: 3x3\n",
        "\n",
        "        # 展平操作\n",
        "        x = x.view(-1, 128 * 3 * 3)\n",
        "        # print(f\"展平后形状: {x.shape}\")\n",
        "\n",
        "        # 全连接层\n",
        "        x = self.fc1(x)\n",
        "        x = F.relu(x)\n",
        "        # print(f\"fc1全连接ReLU后形状: {x.shape}\")\n",
        "        x = self.dropout(x)\n",
        "        # print(f\"Dropout后形状: {x.shape}\")\n",
        "        x = self.fc2(x)\n",
        "        # print(f\"输出层形状: {x.shape}\")\n",
        "\n",
        "        return x\n",
        "\n",
        "    def _initialize_weights(self):\n",
        "        \"\"\"\n",
        "        使用Xavier均匀分布初始化权重\n",
        "        \"\"\"\n",
        "        for m in self.modules():\n",
        "            if isinstance(m, nn.Conv2d):\n",
        "                # 卷积层使用Xavier均匀分布初始化\n",
        "                init.xavier_uniform_(m.weight)\n",
        "                if m.bias is not None:\n",
        "                    init.constant_(m.bias, 0)\n",
        "            elif isinstance(m, nn.Linear):\n",
        "                # 全连接层使用Xavier均匀分布初始化\n",
        "                init.xavier_uniform_(m.weight)\n",
        "                init.constant_(m.bias, 0)\n"
      ]
    },
    {
      "cell_type": "code",
      "execution_count": 12,
      "metadata": {
        "colab": {
          "base_uri": "https://localhost:8080/"
        },
        "execution": {
          "iopub.execute_input": "2025-06-29T12:58:48.596226Z",
          "iopub.status.busy": "2025-06-29T12:58:48.595901Z",
          "iopub.status.idle": "2025-06-29T12:58:48.650438Z",
          "shell.execute_reply": "2025-06-29T12:58:48.649894Z",
          "shell.execute_reply.started": "2025-06-29T12:58:48.596200Z"
        },
        "id": "CCBjbmI22ZoU",
        "outputId": "c5008643-2a7c-4414-e69a-b8e280853611"
      },
      "outputs": [
        {
          "name": "stdout",
          "output_type": "stream",
          "text": [
            "批次图像形状: torch.Size([64, 1, 28, 28])\n",
            "批次标签形状: torch.Size([64])\n",
            "----------------------------------------------------------------------------------------------------\n"
          ]
        }
      ],
      "source": [
        "# 实例化模型\n",
        "model = CNN()\n",
        "\n",
        "# 从train_loader获取第一个批次的数据\n",
        "dataiter = iter(train_loader)\n",
        "images, labels = next(dataiter)\n",
        "\n",
        "# 查看批次数据的形状\n",
        "print(\"批次图像形状:\", images.shape)\n",
        "print(\"批次标签形状:\", labels.shape)\n",
        "\n",
        "\n",
        "print('-'*100)\n",
        "# 进行前向传播\n",
        "with torch.no_grad():  # 不需要计算梯度\n",
        "    outputs = model(images)"
      ]
    },
    {
      "cell_type": "code",
      "execution_count": 13,
      "metadata": {
        "colab": {
          "base_uri": "https://localhost:8080/"
        },
        "execution": {
          "iopub.execute_input": "2025-06-29T12:58:48.651672Z",
          "iopub.status.busy": "2025-06-29T12:58:48.651223Z",
          "iopub.status.idle": "2025-06-29T12:58:48.656027Z",
          "shell.execute_reply": "2025-06-29T12:58:48.655481Z",
          "shell.execute_reply.started": "2025-06-29T12:58:48.651642Z"
        },
        "id": "s5c6KXm12ZoU",
        "outputId": "8dc9e5fe-fda5-47b5-8c40-82c227269dc1"
      },
      "outputs": [
        {
          "data": {
            "text/plain": [
              "288"
            ]
          },
          "execution_count": 13,
          "metadata": {},
          "output_type": "execute_result"
        }
      ],
      "source": [
        "# 查看模型参数数量parameters接口是nn.Module的属性，返回一个生成器，生成器中的每个元素是一个参数的元组，元组中第一个元素是参数，第二个元素是参数的名称\n",
        "next(model.parameters()).numel()"
      ]
    },
    {
      "cell_type": "code",
      "execution_count": 14,
      "metadata": {
        "colab": {
          "base_uri": "https://localhost:8080/"
        },
        "execution": {
          "iopub.execute_input": "2025-06-29T12:58:48.657365Z",
          "iopub.status.busy": "2025-06-29T12:58:48.657116Z",
          "iopub.status.idle": "2025-06-29T12:58:48.662229Z",
          "shell.execute_reply": "2025-06-29T12:58:48.661619Z",
          "shell.execute_reply.started": "2025-06-29T12:58:48.657349Z"
        },
        "id": "c0rTzpNh2ZoU",
        "outputId": "a3ededc1-ff53-4e6d-e3b1-48edb3c07b39"
      },
      "outputs": [
        {
          "name": "stdout",
          "output_type": "stream",
          "text": [
            "需要求梯度的参数总量: 584170\n",
            "模型总参数量: 584170\n",
            "\n",
            "各层参数量明细:\n",
            "conv1.weight: 288 参数\n",
            "conv1.bias: 32 参数\n",
            "conv2.weight: 9216 参数\n",
            "conv2.bias: 32 参数\n",
            "conv3.weight: 18432 参数\n",
            "conv3.bias: 64 参数\n",
            "conv4.weight: 36864 参数\n",
            "conv4.bias: 64 参数\n",
            "conv5.weight: 73728 参数\n",
            "conv5.bias: 128 参数\n",
            "conv6.weight: 147456 参数\n",
            "conv6.bias: 128 参数\n",
            "fc1.weight: 294912 参数\n",
            "fc1.bias: 256 参数\n",
            "fc2.weight: 2560 参数\n",
            "fc2.bias: 10 参数\n"
          ]
        }
      ],
      "source": [
        "# 计算模型的总参数量\n",
        "# 统计需要求梯度的参数总量\n",
        "total_params = sum(p.numel() for p in model.parameters() if p.requires_grad)\n",
        "print(f\"需要求梯度的参数总量: {total_params}\")\n",
        "\n",
        "# 统计所有参数总量\n",
        "all_params = sum(p.numel() for p in model.parameters())\n",
        "print(f\"模型总参数量: {all_params}\")\n",
        "\n",
        "# 查看每层参数量明细\n",
        "print(\"\\n各层参数量明细:\")\n",
        "for name, param in model.named_parameters():\n",
        "    print(f\"{name}: {param.numel()} 参数\")\n",
        "\n",
        "# model.state_dict() 返回一个字典，字典的键是参数的名称，值是参数的值"
      ]
    },
    {
      "cell_type": "markdown",
      "metadata": {
        "id": "efyI2AwP2ZoU"
      },
      "source": [
        "# 设置交叉熵损失函数，SGD优化器"
      ]
    },
    {
      "cell_type": "code",
      "execution_count": 15,
      "metadata": {
        "execution": {
          "iopub.execute_input": "2025-06-29T12:58:48.663022Z",
          "iopub.status.busy": "2025-06-29T12:58:48.662793Z",
          "iopub.status.idle": "2025-06-29T12:58:48.675017Z",
          "shell.execute_reply": "2025-06-29T12:58:48.674585Z",
          "shell.execute_reply.started": "2025-06-29T12:58:48.663005Z"
        },
        "id": "RBavLYdP2ZoU"
      },
      "outputs": [],
      "source": [
        "model = CNN()\n",
        "# 定义损失函数和优化器\n",
        "loss_fn = nn.CrossEntropyLoss()  # 交叉熵损失函数，适用于多分类问题，里边会做softmax，还有会把0-9标签转换成one-hot编码\n",
        "# 用少量样本就能更新权重，训练更快，且更容易跳出局部最优,动量为0.9的含义指，当前的梯度是上一次的梯度乘以0.9加上当前的梯度乘以0.1\n",
        "optimizer = torch.optim.SGD(model.parameters(), lr=0.001, momentum=0.9)  # SGD优化器，学习率为0.01，动量为0.9\n"
      ]
    },
    {
      "cell_type": "code",
      "execution_count": 16,
      "metadata": {
        "colab": {
          "base_uri": "https://localhost:8080/",
          "height": 136,
          "referenced_widgets": [
            "85cf41e3f6054cdd8ab79683d99fb4d4",
            "43857540d13143f0b65dcd00007f9ac2",
            "51baadd98dac496dbc4078e0e980b08b",
            "b4bf1363c10c403bbde1fec87e3bc43f",
            "8eda4a7846974099bd20cfe200e0f041",
            "fb8eb82d5e0643f4bbd748b81956151c",
            "6a412bb5642549e3938ac554ae5055c5",
            "68dd58435e8c47dd91a66446efced237",
            "b680c68444f94c36b05c7ff1b6776d60",
            "11316c95aea94d7f8156ea5b40bfe994",
            "7a3a4672a2c349d39b704234fd883fdf"
          ]
        },
        "execution": {
          "iopub.execute_input": "2025-06-29T12:58:48.676141Z",
          "iopub.status.busy": "2025-06-29T12:58:48.675670Z",
          "iopub.status.idle": "2025-06-29T13:02:40.406935Z",
          "shell.execute_reply": "2025-06-29T13:02:40.406203Z",
          "shell.execute_reply.started": "2025-06-29T12:58:48.676099Z"
        },
        "id": "IjRDTIuJ2ZoV",
        "outputId": "ce07536f-e6c6-457c-c205-35bd7d9e3c5a",
        "tags": []
      },
      "outputs": [
        {
          "name": "stdout",
          "output_type": "stream",
          "text": [
            "使用设备: cuda:0\n",
            "训练开始，共30000步\n"
          ]
        },
        {
          "data": {
            "application/vnd.jupyter.widget-view+json": {
              "model_id": "85cf41e3f6054cdd8ab79683d99fb4d4",
              "version_major": 2,
              "version_minor": 0
            },
            "text/plain": [
              "  0%|          | 0/30000 [00:00<?, ?it/s]"
            ]
          },
          "metadata": {},
          "output_type": "display_data"
        },
        {
          "name": "stdout",
          "output_type": "stream",
          "text": [
            "早停触发!\n",
            "92.1354\n",
            "早停: 在27000 步\n"
          ]
        }
      ],
      "source": [
        "device = torch.device(\"cuda:0\" if torch.cuda.is_available() else \"cpu\") #如果GPU可用，则使用GPU，否则使用CPU\n",
        "print(f\"使用设备: {device}\")\n",
        "model = model.to(device) #将模型移动到GPU与训练模型，评估模型，保存模型中相同\n",
        "early_stopping=EarlyStopping(patience=5, delta=0.001)\n",
        "model_saver=ModelSaver(save_dir='model_weights', save_best_only=True)\n",
        "\n",
        "model, history = train_classification_model(model, train_loader, val_loader, loss_fn, optimizer, device, num_epochs=50, early_stopping=early_stopping, model_saver=model_saver)\n"
      ]
    },
    {
      "cell_type": "code",
      "execution_count": 17,
      "metadata": {
        "colab": {
          "base_uri": "https://localhost:8080/",
          "height": 465
        },
        "execution": {
          "iopub.status.busy": "2025-06-29T13:02:40.407501Z",
          "iopub.status.idle": "2025-06-29T13:02:40.407754Z",
          "shell.execute_reply": "2025-06-29T13:02:40.407655Z",
          "shell.execute_reply.started": "2025-06-29T13:02:40.407643Z"
        },
        "id": "jOf2j-Vp2ZoV",
        "outputId": "30f881ea-996f-4202-cbfd-ea7381aedaa6"
      },
      "outputs": [
        {
          "data": {
            "image/png": "[encoded data removed]",
            "text/plain": [
              "<Figure size 1000x500 with 2 Axes>"
            ]
          },
          "metadata": {},
          "output_type": "display_data"
        }
      ],
      "source": [
        "# 绘制学习损失曲线，sample_step是每500步绘制一次\n",
        "plot_learning_curves(history, sample_step=500)  #横坐标是 steps，纵坐标是 loss，accuracy"
      ]
    },
    {
      "cell_type": "code",
      "execution_count": 18,
      "metadata": {
        "colab": {
          "base_uri": "https://localhost:8080/"
        },
        "execution": {
          "iopub.status.busy": "2025-06-29T13:02:40.408364Z",
          "iopub.status.idle": "2025-06-29T13:02:40.408589Z",
          "shell.execute_reply": "2025-06-29T13:02:40.408482Z",
          "shell.execute_reply.started": "2025-06-29T13:02:40.408472Z"
        },
        "id": "yof2QMw92ZoV",
        "outputId": "f0ebace4-4142-4cf2-db3b-f7cc0a21f472",
        "tags": []
      },
      "outputs": [
        {
          "data": {
            "text/plain": [
              "(91.65, 0.2609978940834602)"
            ]
          },
          "execution_count": 18,
          "metadata": {},
          "output_type": "execute_result"
        }
      ],
      "source": [
        "# 在测试集上评估模型\n",
        "test_accuracy = evaluate_model(model, test_loader, device, loss_fn)\n",
        "test_accuracy"
      ]
    }
  ],
  "metadata": {
    "accelerator": "GPU",
    "colab": {
      "gpuType": "T4",
      "provenance": []
    },
    "kernelspec": {
      "display_name": "Python 3",
      "name": "python3"
    },
    "language_info": {
      "codemirror_mode": {
        "name": "ipython",
        "version": 3
      },
      "file_extension": ".py",
      "mimetype": "text/x-python",
      "name": "python",
      "nbconvert_exporter": "python",
      "pygments_lexer": "ipython3",
      "version": "3.12.1"
    },
    "widgets": {
      "application/vnd.jupyter.widget-state+json": {
        "11316c95aea94d7f8156ea5b40bfe994": {
          "model_module": "@jupyter-widgets/base",
          "model_module_version": "1.2.0",
          "model_name": "LayoutModel",
          "state": {
            "_model_module": "@jupyter-widgets/base",
            "_model_module_version": "1.2.0",
            "_model_name": "LayoutModel",
            "_view_count": null,
            "_view_module": "@jupyter-widgets/base",
            "_view_module_version": "1.2.0",
            "_view_name": "LayoutView",
            "align_content": null,
            "align_items": null,
            "align_self": null,
            "border": null,
            "bottom": null,
            "display": null,
            "flex": null,
            "flex_flow": null,
            "grid_area": null,
            "grid_auto_columns": null,
            "grid_auto_flow": null,
            "grid_auto_rows": null,
            "grid_column": null,
            "grid_gap": null,
            "grid_row": null,
            "grid_template_areas": null,
            "grid_template_columns": null,
            "grid_template_rows": null,
            "height": null,
            "justify_content": null,
            "justify_items": null,
            "left": null,
            "margin": null,
            "max_height": null,
            "max_width": null,
            "min_height": null,
            "min_width": null,
            "object_fit": null,
            "object_position": null,
            "order": null,
            "overflow": null,
            "overflow_x": null,
            "overflow_y": null,
            "padding": null,
            "right": null,
            "top": null,
            "visibility": null,
            "width": null
          }
        },
        "43857540d13143f0b65dcd00007f9ac2": {
          "model_module": "@jupyter-widgets/controls",
          "model_module_version": "1.5.0",
          "model_name": "HTMLModel",
          "state": {
            "_dom_classes": [],
            "_model_module": "@jupyter-widgets/controls",
            "_model_module_version": "1.5.0",
            "_model_name": "HTMLModel",
            "_view_count": null,
            "_view_module": "@jupyter-widgets/controls",
            "_view_module_version": "1.5.0",
            "_view_name": "HTMLView",
            "description": "",
            "description_tooltip": null,
            "layout": "IPY_MODEL_fb8eb82d5e0643f4bbd748b81956151c",
            "placeholder": "​",
            "style": "IPY_MODEL_6a412bb5642549e3938ac554ae5055c5",
            "value": " 90%"
          }
        },
        "51baadd98dac496dbc4078e0e980b08b": {
          "model_module": "@jupyter-widgets/controls",
          "model_module_version": "1.5.0",
          "model_name": "FloatProgressModel",
          "state": {
            "_dom_classes": [],
            "_model_module": "@jupyter-widgets/controls",
            "_model_module_version": "1.5.0",
            "_model_name": "FloatProgressModel",
            "_view_count": null,
            "_view_module": "@jupyter-widgets/controls",
            "_view_module_version": "1.5.0",
            "_view_name": "ProgressView",
            "bar_style": "danger",
            "description": "",
            "description_tooltip": null,
            "layout": "IPY_MODEL_68dd58435e8c47dd91a66446efced237",
            "max": 30000,
            "min": 0,
            "orientation": "horizontal",
            "style": "IPY_MODEL_b680c68444f94c36b05c7ff1b6776d60",
            "value": 27000
          }
        },
        "68dd58435e8c47dd91a66446efced237": {
          "model_module": "@jupyter-widgets/base",
          "model_module_version": "1.2.0",
          "model_name": "LayoutModel",
          "state": {
            "_model_module": "@jupyter-widgets/base",
            "_model_module_version": "1.2.0",
            "_model_name": "LayoutModel",
            "_view_count": null,
            "_view_module": "@jupyter-widgets/base",
            "_view_module_version": "1.2.0",
            "_view_name": "LayoutView",
            "align_content": null,
            "align_items": null,
            "align_self": null,
            "border": null,
            "bottom": null,
            "display": null,
            "flex": null,
            "flex_flow": null,
            "grid_area": null,
            "grid_auto_columns": null,
            "grid_auto_flow": null,
            "grid_auto_rows": null,
            "grid_column": null,
            "grid_gap": null,
            "grid_row": null,
            "grid_template_areas": null,
            "grid_template_columns": null,
            "grid_template_rows": null,
            "height": null,
            "justify_content": null,
            "justify_items": null,
            "left": null,
            "margin": null,
            "max_height": null,
            "max_width": null,
            "min_height": null,
            "min_width": null,
            "object_fit": null,
            "object_position": null,
            "order": null,
            "overflow": null,
            "overflow_x": null,
            "overflow_y": null,
            "padding": null,
            "right": null,
            "top": null,
            "visibility": null,
            "width": null
          }
        },
        "6a412bb5642549e3938ac554ae5055c5": {
          "model_module": "@jupyter-widgets/controls",
          "model_module_version": "1.5.0",
          "model_name": "DescriptionStyleModel",
          "state": {
            "_model_module": "@jupyter-widgets/controls",
            "_model_module_version": "1.5.0",
            "_model_name": "DescriptionStyleModel",
            "_view_count": null,
            "_view_module": "@jupyter-widgets/base",
            "_view_module_version": "1.2.0",
            "_view_name": "StyleView",
            "description_width": ""
          }
        },
        "7a3a4672a2c349d39b704234fd883fdf": {
          "model_module": "@jupyter-widgets/controls",
          "model_module_version": "1.5.0",
          "model_name": "DescriptionStyleModel",
          "state": {
            "_model_module": "@jupyter-widgets/controls",
            "_model_module_version": "1.5.0",
            "_model_name": "DescriptionStyleModel",
            "_view_count": null,
            "_view_module": "@jupyter-widgets/base",
            "_view_module_version": "1.2.0",
            "_view_name": "StyleView",
            "description_width": ""
          }
        },
        "85cf41e3f6054cdd8ab79683d99fb4d4": {
          "model_module": "@jupyter-widgets/controls",
          "model_module_version": "1.5.0",
          "model_name": "HBoxModel",
          "state": {
            "_dom_classes": [],
            "_model_module": "@jupyter-widgets/controls",
            "_model_module_version": "1.5.0",
            "_model_name": "HBoxModel",
            "_view_count": null,
            "_view_module": "@jupyter-widgets/controls",
            "_view_module_version": "1.5.0",
            "_view_name": "HBoxView",
            "box_style": "",
            "children": [
              "IPY_MODEL_43857540d13143f0b65dcd00007f9ac2",
              "IPY_MODEL_51baadd98dac496dbc4078e0e980b08b",
              "IPY_MODEL_b4bf1363c10c403bbde1fec87e3bc43f"
            ],
            "layout": "IPY_MODEL_8eda4a7846974099bd20cfe200e0f041"
          }
        },
        "8eda4a7846974099bd20cfe200e0f041": {
          "model_module": "@jupyter-widgets/base",
          "model_module_version": "1.2.0",
          "model_name": "LayoutModel",
          "state": {
            "_model_module": "@jupyter-widgets/base",
            "_model_module_version": "1.2.0",
            "_model_name": "LayoutModel",
            "_view_count": null,
            "_view_module": "@jupyter-widgets/base",
            "_view_module_version": "1.2.0",
            "_view_name": "LayoutView",
            "align_content": null,
            "align_items": null,
            "align_self": null,
            "border": null,
            "bottom": null,
            "display": null,
            "flex": null,
            "flex_flow": null,
            "grid_area": null,
            "grid_auto_columns": null,
            "grid_auto_flow": null,
            "grid_auto_rows": null,
            "grid_column": null,
            "grid_gap": null,
            "grid_row": null,
            "grid_template_areas": null,
            "grid_template_columns": null,
            "grid_template_rows": null,
            "height": null,
            "justify_content": null,
            "justify_items": null,
            "left": null,
            "margin": null,
            "max_height": null,
            "max_width": null,
            "min_height": null,
            "min_width": null,
            "object_fit": null,
            "object_position": null,
            "order": null,
            "overflow": null,
            "overflow_x": null,
            "overflow_y": null,
            "padding": null,
            "right": null,
            "top": null,
            "visibility": null,
            "width": null
          }
        },
        "b4bf1363c10c403bbde1fec87e3bc43f": {
          "model_module": "@jupyter-widgets/controls",
          "model_module_version": "1.5.0",
          "model_name": "HTMLModel",
          "state": {
            "_dom_classes": [],
            "_model_module": "@jupyter-widgets/controls",
            "_model_module_version": "1.5.0",
            "_model_name": "HTMLModel",
            "_view_count": null,
            "_view_module": "@jupyter-widgets/controls",
            "_view_module_version": "1.5.0",
            "_view_name": "HTMLView",
            "description": "",
            "description_tooltip": null,
            "layout": "IPY_MODEL_11316c95aea94d7f8156ea5b40bfe994",
            "placeholder": "​",
            "style": "IPY_MODEL_7a3a4672a2c349d39b704234fd883fdf",
            "value": " 27000/30000 [12:40&lt;01:08, 43.81it/s, epoch=44, loss=0.1423, acc=92.19%]"
          }
        },
        "b680c68444f94c36b05c7ff1b6776d60": {
          "model_module": "@jupyter-widgets/controls",
          "model_module_version": "1.5.0",
          "model_name": "ProgressStyleModel",
          "state": {
            "_model_module": "@jupyter-widgets/controls",
            "_model_module_version": "1.5.0",
            "_model_name": "ProgressStyleModel",
            "_view_count": null,
            "_view_module": "@jupyter-widgets/base",
            "_view_module_version": "1.2.0",
            "_view_name": "StyleView",
            "bar_color": null,
            "description_width": ""
          }
        },
        "fb8eb82d5e0643f4bbd748b81956151c": {
          "model_module": "@jupyter-widgets/base",
          "model_module_version": "1.2.0",
          "model_name": "LayoutModel",
          "state": {
            "_model_module": "@jupyter-widgets/base",
            "_model_module_version": "1.2.0",
            "_model_name": "LayoutModel",
            "_view_count": null,
            "_view_module": "@jupyter-widgets/base",
            "_view_module_version": "1.2.0",
            "_view_name": "LayoutView",
            "align_content": null,
            "align_items": null,
            "align_self": null,
            "border": null,
            "bottom": null,
            "display": null,
            "flex": null,
            "flex_flow": null,
            "grid_area": null,
            "grid_auto_columns": null,
            "grid_auto_flow": null,
            "grid_auto_rows": null,
            "grid_column": null,
            "grid_gap": null,
            "grid_row": null,
            "grid_template_areas": null,
            "grid_template_columns": null,
            "grid_template_rows": null,
            "height": null,
            "justify_content": null,
            "justify_items": null,
            "left": null,
            "margin": null,
            "max_height": null,
            "max_width": null,
            "min_height": null,
            "min_width": null,
            "object_fit": null,
            "object_position": null,
            "order": null,
            "overflow": null,
            "overflow_x": null,
            "overflow_y": null,
            "padding": null,
            "right": null,
            "top": null,
            "visibility": null,
            "width": null
          }
        }
      }
    }
  },
  "nbformat": 4,
  "nbformat_minor": 0
}
