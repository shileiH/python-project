{
  "cells": [
    {
      "cell_type": "code",
      "execution_count": 3,
      "metadata": {
        "id": "zGadS82htzT8"
      },
      "outputs": [],
      "source": [
        "import torch\n",
        "import torch.nn as nn\n",
        "import torch.nn.functional as F\n",
        "import torchvision\n",
        "import numpy as np\n",
        "import matplotlib.pyplot as plt\n",
        "from torchvision import datasets, transforms\n",
        "from deeplearning_model import plot_learning_curves,EarlyStopping,ModelSaver\n",
        "from deeplearning_model import train_classification_model,evaluate_classification_model"
      ]
    },
    {
      "cell_type": "code",
      "execution_count": 2,
      "metadata": {
        "colab": {
          "base_uri": "https://localhost:8080/"
        },
        "id": "_fUJ7PsPtzT_",
        "outputId": "c61dbe3a-223f-4150-a6ef-02ef45654d8e"
      },
      "outputs": [
        {
          "output_type": "stream",
          "name": "stdout",
          "text": [
            "/bin/bash: line 1: cd: ./content: No such file or directory\n"
          ]
        }
      ],
      "source": [
        "!mkdir ./competitions\n",
        "!cd ./competitions"
      ]
    },
    {
      "cell_type": "code",
      "source": [
        "!mkdir ./cifar-10\n",
        "!cd ./content"
      ],
      "metadata": {
        "colab": {
          "base_uri": "https://localhost:8080/"
        },
        "id": "CO3RG06iuVsW",
        "outputId": "6a9ff3a1-6f37-4c70-ccc6-dbaf8c733f74"
      },
      "execution_count": 6,
      "outputs": [
        {
          "output_type": "stream",
          "name": "stdout",
          "text": [
            "mkdir: cannot create directory ‘./cifar-10’: File exists\n",
            "/bin/bash: line 1: cd: ./content: No such file or directory\n"
          ]
        }
      ]
    },
    {
      "cell_type": "code",
      "execution_count": 4,
      "metadata": {
        "colab": {
          "base_uri": "https://localhost:8080/"
        },
        "id": "tcUWO-3KtzT_",
        "outputId": "f073b0aa-65e9-417b-9269-10b4ba4502b5"
      },
      "outputs": [
        {
          "output_type": "stream",
          "name": "stdout",
          "text": [
            "Collecting py7zr\n",
            "  Downloading py7zr-1.0.0-py3-none-any.whl.metadata (17 kB)\n",
            "Collecting texttable (from py7zr)\n",
            "  Downloading texttable-1.7.0-py2.py3-none-any.whl.metadata (9.8 kB)\n",
            "Requirement already satisfied: pycryptodomex>=3.20.0 in /usr/local/lib/python3.11/dist-packages (from py7zr) (3.23.0)\n",
            "Collecting brotli>=1.1.0 (from py7zr)\n",
            "  Downloading Brotli-1.1.0-cp311-cp311-manylinux_2_17_x86_64.manylinux2014_x86_64.whl.metadata (5.5 kB)\n",
            "Requirement already satisfied: psutil in /usr/local/lib/python3.11/dist-packages (from py7zr) (5.9.5)\n",
            "Collecting pyzstd>=0.16.1 (from py7zr)\n",
            "  Downloading pyzstd-0.17.0-cp311-cp311-manylinux_2_17_x86_64.manylinux2014_x86_64.whl.metadata (2.5 kB)\n",
            "Collecting pyppmd<1.3.0,>=1.1.0 (from py7zr)\n",
            "  Downloading pyppmd-1.2.0-cp311-cp311-manylinux_2_17_x86_64.manylinux2014_x86_64.whl.metadata (5.4 kB)\n",
            "Collecting pybcj<1.1.0,>=1.0.0 (from py7zr)\n",
            "  Downloading pybcj-1.0.6-cp311-cp311-manylinux_2_17_x86_64.manylinux2014_x86_64.whl.metadata (3.7 kB)\n",
            "Collecting multivolumefile>=0.2.3 (from py7zr)\n",
            "  Downloading multivolumefile-0.2.3-py3-none-any.whl.metadata (6.3 kB)\n",
            "Collecting inflate64<1.1.0,>=1.0.0 (from py7zr)\n",
            "  Downloading inflate64-1.0.3-cp311-cp311-manylinux_2_17_x86_64.manylinux2014_x86_64.whl.metadata (4.4 kB)\n",
            "Requirement already satisfied: typing-extensions>=4.13.2 in /usr/local/lib/python3.11/dist-packages (from pyzstd>=0.16.1->py7zr) (4.14.0)\n",
            "Downloading py7zr-1.0.0-py3-none-any.whl (69 kB)\n",
            "\u001b[2K   \u001b[90m━━━━━━━━━━━━━━━━━━━━━━━━━━━━━━━━━━━━━━━━\u001b[0m \u001b[32m69.7/69.7 kB\u001b[0m \u001b[31m996.0 kB/s\u001b[0m eta \u001b[36m0:00:00\u001b[0m\n",
            "\u001b[?25hDownloading Brotli-1.1.0-cp311-cp311-manylinux_2_17_x86_64.manylinux2014_x86_64.whl (2.9 MB)\n",
            "\u001b[2K   \u001b[90m━━━━━━━━━━━━━━━━━━━━━━━━━━━━━━━━━━━━━━━━\u001b[0m \u001b[32m2.9/2.9 MB\u001b[0m \u001b[31m40.6 MB/s\u001b[0m eta \u001b[36m0:00:00\u001b[0m\n",
            "\u001b[?25hDownloading inflate64-1.0.3-cp311-cp311-manylinux_2_17_x86_64.manylinux2014_x86_64.whl (96 kB)\n",
            "\u001b[2K   \u001b[90m━━━━━━━━━━━━━━━━━━━━━━━━━━━━━━━━━━━━━━━━\u001b[0m \u001b[32m96.4/96.4 kB\u001b[0m \u001b[31m9.5 MB/s\u001b[0m eta \u001b[36m0:00:00\u001b[0m\n",
            "\u001b[?25hDownloading multivolumefile-0.2.3-py3-none-any.whl (17 kB)\n",
            "Downloading pybcj-1.0.6-cp311-cp311-manylinux_2_17_x86_64.manylinux2014_x86_64.whl (50 kB)\n",
            "\u001b[2K   \u001b[90m━━━━━━━━━━━━━━━━━━━━━━━━━━━━━━━━━━━━━━━━\u001b[0m \u001b[32m50.7/50.7 kB\u001b[0m \u001b[31m5.2 MB/s\u001b[0m eta \u001b[36m0:00:00\u001b[0m\n",
            "\u001b[?25hDownloading pyppmd-1.2.0-cp311-cp311-manylinux_2_17_x86_64.manylinux2014_x86_64.whl (141 kB)\n",
            "\u001b[2K   \u001b[90m━━━━━━━━━━━━━━━━━━━━━━━━━━━━━━━━━━━━━━━━\u001b[0m \u001b[32m141.3/141.3 kB\u001b[0m \u001b[31m15.1 MB/s\u001b[0m eta \u001b[36m0:00:00\u001b[0m\n",
            "\u001b[?25hDownloading pyzstd-0.17.0-cp311-cp311-manylinux_2_17_x86_64.manylinux2014_x86_64.whl (412 kB)\n",
            "\u001b[2K   \u001b[90m━━━━━━━━━━━━━━━━━━━━━━━━━━━━━━━━━━━━━━━━\u001b[0m \u001b[32m412.9/412.9 kB\u001b[0m \u001b[31m32.9 MB/s\u001b[0m eta \u001b[36m0:00:00\u001b[0m\n",
            "\u001b[?25hDownloading texttable-1.7.0-py2.py3-none-any.whl (10 kB)\n",
            "Installing collected packages: texttable, brotli, pyzstd, pyppmd, pybcj, multivolumefile, inflate64, py7zr\n",
            "Successfully installed brotli-1.1.0 inflate64-1.0.3 multivolumefile-0.2.3 py7zr-1.0.0 pybcj-1.0.6 pyppmd-1.2.0 pyzstd-0.17.0 texttable-1.7.0\n"
          ]
        }
      ],
      "source": [
        "!pip install py7zr"
      ]
    },
    {
      "cell_type": "code",
      "source": [],
      "metadata": {
        "id": "hU0pFv8_uTFY"
      },
      "execution_count": null,
      "outputs": []
    },
    {
      "cell_type": "code",
      "execution_count": 8,
      "metadata": {
        "id": "XFyFqzgGtzT_"
      },
      "outputs": [],
      "source": [
        "#!pip install py7zr\n",
        "import py7zr\n",
        "a =py7zr.SevenZipFile(r'./train.7z','r')\n",
        "a.extractall(path=r'./competitions/cifar-10/')\n",
        "a.close()"
      ]
    },
    {
      "cell_type": "code",
      "execution_count": 9,
      "metadata": {
        "colab": {
          "base_uri": "https://localhost:8080/"
        },
        "id": "KVJZZcRztzUA",
        "outputId": "5ad08bcc-5b89-4576-c3e5-fe0b0e81687d"
      },
      "outputs": [
        {
          "output_type": "stream",
          "name": "stdout",
          "text": [
            "50000\n"
          ]
        }
      ],
      "source": [
        "!ls competitions/cifar-10/train|wc -l"
      ]
    },
    {
      "cell_type": "markdown",
      "metadata": {
        "id": "LRnLy56jtzUA"
      },
      "source": [
        "# 加载数据并处理为tensor"
      ]
    },
    {
      "cell_type": "code",
      "execution_count": 10,
      "metadata": {
        "id": "30GBIte8tzUB"
      },
      "outputs": [],
      "source": [
        "# 加载CIFAR-10数据集\n",
        "import os\n",
        "import pandas as pd\n",
        "from PIL import Image\n",
        "from torch.utils.data import Dataset\n",
        "\n",
        "# 定义CIFAR-10数据集类\n",
        "class CIFAR10Dataset(Dataset):\n",
        "    def __init__(self, img_dir, labels_file, transform=None):\n",
        "        self.img_dir = img_dir\n",
        "        self.transform = transform\n",
        "\n",
        "        # 读取标签文件，read_csv默认读取第一行作为列名\n",
        "        self.labels_df = pd.read_csv(labels_file)\n",
        "        self.img_names = self.labels_df.iloc[:, 0].values.astype(str)  # 第一列是图片名称，确保为字符串类型\n",
        "\n",
        "        # 类别名称字典，使用字典可以提高查找速度\n",
        "        self.class_names_dict = {'airplane': 0, 'automobile': 1, 'bird': 2, 'cat': 3,\n",
        "                                 'deer': 4, 'dog': 5, 'frog': 6, 'horse': 7, 'ship': 8, 'truck': 9}\n",
        "        # 将文本标签转换为数字ID\n",
        "        self.labels = [self.class_names_dict[label] for label in self.labels_df.iloc[:, 1].values]\n",
        "\n",
        "    def __len__(self):\n",
        "        return len(self.labels)\n",
        "\n",
        "    def __getitem__(self, idx):\n",
        "        img_path = os.path.join(self.img_dir, self.img_names[idx] + '.png') #图片路径\n",
        "        image = Image.open(img_path) #打开图片\n",
        "        label = self.labels[idx]\n",
        "\n",
        "        if self.transform:\n",
        "            image_tensor = self.transform(image)\n",
        "\n",
        "        return image_tensor, label\n",
        "\n",
        "# 定义数据预处理\n",
        "transform = transforms.Compose([\n",
        "    transforms.ToTensor(),\n",
        "    transforms.Normalize((0.4917, 0.4823, 0.4467), (0.2024, 0.1995, 0.2010))\n",
        "])"
      ]
    },
    {
      "cell_type": "markdown",
      "metadata": {
        "id": "PZOEhXCHtzUC"
      },
      "source": [
        "# 把数据集划分为训练集45000和验证集5000，并给DataLoader"
      ]
    },
    {
      "cell_type": "code",
      "execution_count": 11,
      "metadata": {
        "colab": {
          "base_uri": "https://localhost:8080/"
        },
        "id": "CCH41gQRtzUC",
        "outputId": "c6d381e0-8e90-43f8-c0d0-13b511172532"
      },
      "outputs": [
        {
          "output_type": "stream",
          "name": "stdout",
          "text": [
            "完整数据集大小: 50000\n",
            "训练集大小: 45000\n",
            "验证集大小: 5000\n"
          ]
        }
      ],
      "source": [
        "\n",
        "# 加载CIFAR-10数据集\n",
        "img_dir = r\"competitions/cifar-10/train\"\n",
        "labels_file = r\"./trainLabels.csv\"\n",
        "#img_dir = r\"D:\\cifar-10\\train\\train\"\n",
        "#labels_file = r\"D:\\cifar-10\\trainLabels.csv\"\n",
        "full_dataset = CIFAR10Dataset(img_dir=img_dir, labels_file=labels_file, transform=transform)\n",
        "\n",
        "# 定义类别名称\n",
        "class_names = ['airplane', 'automobile', 'bird', 'cat', 'deer', 'dog', 'frog', 'horse', 'ship', 'truck']\n",
        "\n",
        "# 划分训练集和验证集\n",
        "train_size = 45000\n",
        "val_size = 5000\n",
        "generator = torch.Generator().manual_seed(42)\n",
        "train_dataset, val_dataset = torch.utils.data.random_split(\n",
        "    full_dataset,\n",
        "    [train_size, val_size],\n",
        "    generator=generator\n",
        ")\n",
        "\n",
        "# 查看数据集基本信息\n",
        "print(f\"完整数据集大小: {len(full_dataset)}\")\n",
        "print(f\"训练集大小: {len(train_dataset)}\")\n",
        "print(f\"验证集大小: {len(val_dataset)}\")\n"
      ]
    },
    {
      "cell_type": "code",
      "execution_count": 12,
      "metadata": {
        "id": "pqkhSocvtzUD"
      },
      "outputs": [],
      "source": [
        "def cal_mean_std(ds):\n",
        "    mean = 0.\n",
        "    std = 0.\n",
        "    for img, _ in ds:\n",
        "        mean += img.mean(dim=(1, 2)) #dim=(1, 2)表示在通道维度上求平均\n",
        "        std += img.std(dim=(1, 2))  #dim=(1, 2)表示在通道维度上求标准差\n",
        "    mean /= len(ds)\n",
        "    std /= len(ds)\n",
        "    return mean, std\n",
        "# cal_mean_std(train_dataset)"
      ]
    },
    {
      "cell_type": "code",
      "execution_count": 13,
      "metadata": {
        "id": "gRgnZUXRtzUD"
      },
      "outputs": [],
      "source": [
        "\n",
        "# 创建数据加载器\n",
        "batch_size = 64\n",
        "train_loader = torch.utils.data.DataLoader(\n",
        "    train_dataset,\n",
        "    batch_size=batch_size,\n",
        "    shuffle=True #打乱数据集，每次迭代时，数据集的顺序都会被打乱\n",
        ")\n",
        "\n",
        "val_loader = torch.utils.data.DataLoader(\n",
        "    val_dataset,\n",
        "    batch_size=batch_size,\n",
        "    shuffle=False\n",
        ")"
      ]
    },
    {
      "cell_type": "markdown",
      "metadata": {
        "id": "rgfGvheatzUD"
      },
      "source": [
        "# 搭建InceptionNet模型"
      ]
    },
    {
      "cell_type": "code",
      "execution_count": 14,
      "metadata": {
        "id": "ft1AEgOJtzUE"
      },
      "outputs": [],
      "source": [
        "import torch\n",
        "import torch.nn as nn\n",
        "\n",
        "class InceptionBlockV1(nn.Module):\n",
        "    \"\"\"\n",
        "    Inception V1 模块\n",
        "    \"\"\"\n",
        "    def __init__(self, in_channels, out_1x1, red_3x3, out_3x3, red_5x5, out_5x5, out_pool):\n",
        "        \"\"\"\n",
        "        参数说明:\n",
        "            in_channels: 输入通道数\n",
        "            out_1x1: 1x1卷积输出通道数\n",
        "            red_3x3: 3x3卷积前1x1降维卷积输出通道数\n",
        "            out_3x3: 3x3卷积输出通道数\n",
        "            red_5x5: 5x5卷积前1x1降维卷积输出通道数\n",
        "            out_5x5: 5x5卷积输出通道数\n",
        "            out_pool: 池化后1x1卷积输出通道数\n",
        "        \"\"\"\n",
        "        super().__init__()\n",
        "        # 1x1卷积分支，输出64个通道\n",
        "        self.branch1 = nn.Sequential(\n",
        "            nn.Conv2d(in_channels, out_1x1, kernel_size=1),\n",
        "            nn.BatchNorm2d(out_1x1),\n",
        "            nn.ReLU(inplace=True)\n",
        "        )\n",
        "\n",
        "        # 1x1卷积+3x3卷积分支，先减少到96个通道，再卷积为128个通道\n",
        "        self.branch2 = nn.Sequential(\n",
        "            nn.Conv2d(in_channels, red_3x3, kernel_size=1),\n",
        "            nn.BatchNorm2d(red_3x3),\n",
        "            nn.ReLU(inplace=True),\n",
        "            nn.Conv2d(red_3x3, out_3x3, kernel_size=3, padding=1),\n",
        "            nn.BatchNorm2d(out_3x3),\n",
        "            nn.ReLU(inplace=True)\n",
        "        )\n",
        "\n",
        "        # 1x1卷积+5x5卷积分支，先减少到16个通道，再卷积为32个通道\n",
        "        self.branch3 = nn.Sequential(\n",
        "            nn.Conv2d(in_channels, red_5x5, kernel_size=1),\n",
        "            nn.BatchNorm2d(red_5x5),\n",
        "            nn.ReLU(inplace=True),\n",
        "            nn.Conv2d(red_5x5, out_5x5, kernel_size=5, padding=2),\n",
        "            nn.BatchNorm2d(out_5x5),\n",
        "            nn.ReLU(inplace=True)\n",
        "        )\n",
        "\n",
        "        # 3x3最大池化+1x1卷积分支，先池化后卷积输出32个通道\n",
        "        self.branch4 = nn.Sequential(\n",
        "            nn.MaxPool2d(kernel_size=3, stride=1, padding=1),\n",
        "            nn.Conv2d(in_channels, out_pool, kernel_size=1),\n",
        "            nn.BatchNorm2d(out_pool),\n",
        "            nn.ReLU(inplace=True)\n",
        "        )\n",
        "\n",
        "    def forward(self, x):\n",
        "        # 分别经过四个分支\n",
        "        branch1 = self.branch1(x)  # 1x1卷积分支\n",
        "        branch2 = self.branch2(x)  # 1x1+3x3卷积分支\n",
        "        branch3 = self.branch3(x)  # 1x1+5x5卷积分支\n",
        "        branch4 = self.branch4(x)  # 池化+1x1卷积分支\n",
        "\n",
        "        # 拼接四个分支的输出，通道维度(dim=1)上拼接\n",
        "        outputs = [branch1, branch2, branch3, branch4]\n",
        "        return torch.cat(outputs, 1)  # 返回拼接后的输出\n"
      ]
    },
    {
      "cell_type": "code",
      "execution_count": 15,
      "metadata": {
        "id": "d8jq-oCOtzUE"
      },
      "outputs": [],
      "source": [
        "\n",
        "# InceptionNet-V1主干网络mx模型类\n",
        "class InceptionNetV1(nn.Module):\n",
        "    def __init__(self, num_classes=10, relu='relu'):\n",
        "        \"\"\"\n",
        "        参数:\n",
        "            num_classes: 分类类别数，默认为10（CIFAR-10）\n",
        "            relu: 激活函数类型，'relu'或'selu'\n",
        "        \"\"\"\n",
        "        super().__init__()\n",
        "        # 中文注释：根据relu参数选择激活函数\n",
        "        if relu == 'selu':\n",
        "            self.activation = nn.SELU(inplace=True)\n",
        "        else:\n",
        "            self.activation = nn.ReLU(inplace=True)\n",
        "\n",
        "        # 中文注释：初始卷积层，先用5x5卷积获取更大感受野，再用3x3卷积\n",
        "        self.stem = nn.Sequential(\n",
        "            nn.Conv2d(3, 64, kernel_size=5, stride=1, padding=2),  # 5x5卷积，保持输入尺寸，若图片\n",
        "            nn.MaxPool2d(kernel_size=3, stride=2),  # 池化层，尺寸减半\n",
        "            nn.Conv2d(64, 64, kernel_size=3, stride=1, padding=1),  # 3x3卷积，进一步提取特征\n",
        "            nn.BatchNorm2d(64),\n",
        "            self._get_activation(),\n",
        "            nn.MaxPool2d(kernel_size=3, stride=1)  # 池化层\n",
        "        )\n",
        "\n",
        "        # Inception模块堆叠\n",
        "        # 第一组Inception模块\n",
        "        # 中文注释：第一组Inception模块\n",
        "        self.inception3a = InceptionBlockV1(64, 64, 96, 128, 16, 32, 32)\n",
        "        self.inception3b = InceptionBlockV1(256, 128, 128, 192, 32, 96, 64)\n",
        "        # 池化层\n",
        "        self.maxpool1 = nn.MaxPool2d(2, 2)  # 中文注释：尺寸减半\n",
        "\n",
        "        # 第二组Inception模块\n",
        "        # 中文注释：第二组Inception模块\n",
        "        self.inception4a = InceptionBlockV1(480, 192, 96, 208, 16, 48, 64)\n",
        "        self.inception4b = InceptionBlockV1(512, 160, 112, 224, 24, 64, 64)\n",
        "        self.inception4c = InceptionBlockV1(512, 128, 128, 256, 24, 64, 64)\n",
        "        self.inception4d = InceptionBlockV1(512, 112, 144, 288, 32, 64, 64)\n",
        "        self.inception4e = InceptionBlockV1(528, 256, 160, 320, 32, 128, 128)\n",
        "        self.maxpool2 = nn.MaxPool2d(2, 2)  # 中文注释：再次尺寸减半\n",
        "\n",
        "        # 第三组Inception模块\n",
        "        # 中文注释：第三组Inception模块\n",
        "        self.inception5a = InceptionBlockV1(832, 256, 160, 320, 32, 128, 128)\n",
        "        self.inception5b = InceptionBlockV1(832, 384, 192, 384, 48, 128, 128)\n",
        "\n",
        "        # 全局平均池化\n",
        "        self.avgpool = nn.AdaptiveAvgPool2d((1, 1))  # 输出(batch, 通道, 1, 1)\n",
        "\n",
        "        # 分类器\n",
        "        self.dropout = nn.Dropout(0.4)\n",
        "        self.fc = nn.Linear(1024, num_classes)  # 1024为最后Inception输出通道数\n",
        "\n",
        "        # 中文注释：InceptionNet-V1网络结构适配CIFAR-10，包含多个Inception模块和全局平均池化\n",
        "\n",
        "    def _get_activation(self):\n",
        "        # 中文注释：返回激活函数实例\n",
        "        return self.activation\n",
        "\n",
        "    def forward(self, x):\n",
        "        # stem\n",
        "        x = self.stem(x)\n",
        "        # 第一组Inception\n",
        "        x = self.inception3a(x)\n",
        "        x = self.inception3b(x)\n",
        "        x = self.maxpool1(x)\n",
        "        # 第二组Inception\n",
        "        x = self.inception4a(x)\n",
        "        x = self.inception4b(x)\n",
        "        x = self.inception4c(x)\n",
        "        x = self.inception4d(x)\n",
        "        x = self.inception4e(x)\n",
        "        x = self.maxpool2(x)\n",
        "        # 第三组Inception\n",
        "        x = self.inception5a(x)\n",
        "        x = self.inception5b(x)\n",
        "        # 全局平均池化\n",
        "        x = self.avgpool(x)\n",
        "        x = torch.flatten(x, 1)  # 展平成(batch, 1024)\n",
        "        x = self.dropout(x)\n",
        "        x = self.fc(x)\n",
        "        return x  # 输出分类结果"
      ]
    },
    {
      "cell_type": "code",
      "execution_count": 16,
      "metadata": {
        "colab": {
          "base_uri": "https://localhost:8080/"
        },
        "id": "MRQImksttzUF",
        "outputId": "2ed6ef83-2780-4815-f7cc-5721cb81c299"
      },
      "outputs": [
        {
          "output_type": "stream",
          "name": "stdout",
          "text": [
            "批次图像形状: torch.Size([64, 3, 32, 32])\n",
            "批次标签形状: torch.Size([64])\n",
            "----------------------------------------------------------------------------------------------------\n",
            "torch.Size([64, 10])\n"
          ]
        }
      ],
      "source": [
        "# 实例化模型\n",
        "model = InceptionNetV1(    )\n",
        "\n",
        "# 从train_loader获取第一个批次的数据\n",
        "dataiter = iter(train_loader)\n",
        "images, labels = next(dataiter)\n",
        "\n",
        "# 查看批次数据的形状\n",
        "print(\"批次图像形状:\", images.shape)\n",
        "print(\"批次标签形状:\", labels.shape)\n",
        "\n",
        "\n",
        "print('-'*100)\n",
        "# 进行前向传播\n",
        "with torch.no_grad():  # 不需要计算梯度\n",
        "    outputs = model(images)\n",
        "\n",
        "\n",
        "print(outputs.shape)\n"
      ]
    },
    {
      "cell_type": "code",
      "execution_count": 17,
      "metadata": {
        "colab": {
          "base_uri": "https://localhost:8080/"
        },
        "id": "4VQrxMOvtzUF",
        "outputId": "301113b6-fac1-45c4-c130-4750a8f297e8"
      },
      "outputs": [
        {
          "output_type": "stream",
          "name": "stdout",
          "text": [
            "需要求梯度的参数总量: 5888602\n",
            "模型总参数量: 5888602\n",
            "\n",
            "各层参数量明细:\n",
            "stem.0.weight: 4800 参数\n",
            "stem.0.bias: 64 参数\n",
            "stem.2.weight: 36864 参数\n",
            "stem.2.bias: 64 参数\n",
            "stem.3.weight: 64 参数\n",
            "stem.3.bias: 64 参数\n",
            "inception3a.branch1.0.weight: 4096 参数\n",
            "inception3a.branch1.0.bias: 64 参数\n",
            "inception3a.branch1.1.weight: 64 参数\n",
            "inception3a.branch1.1.bias: 64 参数\n",
            "inception3a.branch2.0.weight: 6144 参数\n",
            "inception3a.branch2.0.bias: 96 参数\n",
            "inception3a.branch2.1.weight: 96 参数\n",
            "inception3a.branch2.1.bias: 96 参数\n",
            "inception3a.branch2.3.weight: 110592 参数\n",
            "inception3a.branch2.3.bias: 128 参数\n",
            "inception3a.branch2.4.weight: 128 参数\n",
            "inception3a.branch2.4.bias: 128 参数\n",
            "inception3a.branch3.0.weight: 1024 参数\n",
            "inception3a.branch3.0.bias: 16 参数\n",
            "inception3a.branch3.1.weight: 16 参数\n",
            "inception3a.branch3.1.bias: 16 参数\n",
            "inception3a.branch3.3.weight: 12800 参数\n",
            "inception3a.branch3.3.bias: 32 参数\n",
            "inception3a.branch3.4.weight: 32 参数\n",
            "inception3a.branch3.4.bias: 32 参数\n",
            "inception3a.branch4.1.weight: 2048 参数\n",
            "inception3a.branch4.1.bias: 32 参数\n",
            "inception3a.branch4.2.weight: 32 参数\n",
            "inception3a.branch4.2.bias: 32 参数\n",
            "inception3b.branch1.0.weight: 32768 参数\n",
            "inception3b.branch1.0.bias: 128 参数\n",
            "inception3b.branch1.1.weight: 128 参数\n",
            "inception3b.branch1.1.bias: 128 参数\n",
            "inception3b.branch2.0.weight: 32768 参数\n",
            "inception3b.branch2.0.bias: 128 参数\n",
            "inception3b.branch2.1.weight: 128 参数\n",
            "inception3b.branch2.1.bias: 128 参数\n",
            "inception3b.branch2.3.weight: 221184 参数\n",
            "inception3b.branch2.3.bias: 192 参数\n",
            "inception3b.branch2.4.weight: 192 参数\n",
            "inception3b.branch2.4.bias: 192 参数\n",
            "inception3b.branch3.0.weight: 8192 参数\n",
            "inception3b.branch3.0.bias: 32 参数\n",
            "inception3b.branch3.1.weight: 32 参数\n",
            "inception3b.branch3.1.bias: 32 参数\n",
            "inception3b.branch3.3.weight: 76800 参数\n",
            "inception3b.branch3.3.bias: 96 参数\n",
            "inception3b.branch3.4.weight: 96 参数\n",
            "inception3b.branch3.4.bias: 96 参数\n",
            "inception3b.branch4.1.weight: 16384 参数\n",
            "inception3b.branch4.1.bias: 64 参数\n",
            "inception3b.branch4.2.weight: 64 参数\n",
            "inception3b.branch4.2.bias: 64 参数\n",
            "inception4a.branch1.0.weight: 92160 参数\n",
            "inception4a.branch1.0.bias: 192 参数\n",
            "inception4a.branch1.1.weight: 192 参数\n",
            "inception4a.branch1.1.bias: 192 参数\n",
            "inception4a.branch2.0.weight: 46080 参数\n",
            "inception4a.branch2.0.bias: 96 参数\n",
            "inception4a.branch2.1.weight: 96 参数\n",
            "inception4a.branch2.1.bias: 96 参数\n",
            "inception4a.branch2.3.weight: 179712 参数\n",
            "inception4a.branch2.3.bias: 208 参数\n",
            "inception4a.branch2.4.weight: 208 参数\n",
            "inception4a.branch2.4.bias: 208 参数\n",
            "inception4a.branch3.0.weight: 7680 参数\n",
            "inception4a.branch3.0.bias: 16 参数\n",
            "inception4a.branch3.1.weight: 16 参数\n",
            "inception4a.branch3.1.bias: 16 参数\n",
            "inception4a.branch3.3.weight: 19200 参数\n",
            "inception4a.branch3.3.bias: 48 参数\n",
            "inception4a.branch3.4.weight: 48 参数\n",
            "inception4a.branch3.4.bias: 48 参数\n",
            "inception4a.branch4.1.weight: 30720 参数\n",
            "inception4a.branch4.1.bias: 64 参数\n",
            "inception4a.branch4.2.weight: 64 参数\n",
            "inception4a.branch4.2.bias: 64 参数\n",
            "inception4b.branch1.0.weight: 81920 参数\n",
            "inception4b.branch1.0.bias: 160 参数\n",
            "inception4b.branch1.1.weight: 160 参数\n",
            "inception4b.branch1.1.bias: 160 参数\n",
            "inception4b.branch2.0.weight: 57344 参数\n",
            "inception4b.branch2.0.bias: 112 参数\n",
            "inception4b.branch2.1.weight: 112 参数\n",
            "inception4b.branch2.1.bias: 112 参数\n",
            "inception4b.branch2.3.weight: 225792 参数\n",
            "inception4b.branch2.3.bias: 224 参数\n",
            "inception4b.branch2.4.weight: 224 参数\n",
            "inception4b.branch2.4.bias: 224 参数\n",
            "inception4b.branch3.0.weight: 12288 参数\n",
            "inception4b.branch3.0.bias: 24 参数\n",
            "inception4b.branch3.1.weight: 24 参数\n",
            "inception4b.branch3.1.bias: 24 参数\n",
            "inception4b.branch3.3.weight: 38400 参数\n",
            "inception4b.branch3.3.bias: 64 参数\n",
            "inception4b.branch3.4.weight: 64 参数\n",
            "inception4b.branch3.4.bias: 64 参数\n",
            "inception4b.branch4.1.weight: 32768 参数\n",
            "inception4b.branch4.1.bias: 64 参数\n",
            "inception4b.branch4.2.weight: 64 参数\n",
            "inception4b.branch4.2.bias: 64 参数\n",
            "inception4c.branch1.0.weight: 65536 参数\n",
            "inception4c.branch1.0.bias: 128 参数\n",
            "inception4c.branch1.1.weight: 128 参数\n",
            "inception4c.branch1.1.bias: 128 参数\n",
            "inception4c.branch2.0.weight: 65536 参数\n",
            "inception4c.branch2.0.bias: 128 参数\n",
            "inception4c.branch2.1.weight: 128 参数\n",
            "inception4c.branch2.1.bias: 128 参数\n",
            "inception4c.branch2.3.weight: 294912 参数\n",
            "inception4c.branch2.3.bias: 256 参数\n",
            "inception4c.branch2.4.weight: 256 参数\n",
            "inception4c.branch2.4.bias: 256 参数\n",
            "inception4c.branch3.0.weight: 12288 参数\n",
            "inception4c.branch3.0.bias: 24 参数\n",
            "inception4c.branch3.1.weight: 24 参数\n",
            "inception4c.branch3.1.bias: 24 参数\n",
            "inception4c.branch3.3.weight: 38400 参数\n",
            "inception4c.branch3.3.bias: 64 参数\n",
            "inception4c.branch3.4.weight: 64 参数\n",
            "inception4c.branch3.4.bias: 64 参数\n",
            "inception4c.branch4.1.weight: 32768 参数\n",
            "inception4c.branch4.1.bias: 64 参数\n",
            "inception4c.branch4.2.weight: 64 参数\n",
            "inception4c.branch4.2.bias: 64 参数\n",
            "inception4d.branch1.0.weight: 57344 参数\n",
            "inception4d.branch1.0.bias: 112 参数\n",
            "inception4d.branch1.1.weight: 112 参数\n",
            "inception4d.branch1.1.bias: 112 参数\n",
            "inception4d.branch2.0.weight: 73728 参数\n",
            "inception4d.branch2.0.bias: 144 参数\n",
            "inception4d.branch2.1.weight: 144 参数\n",
            "inception4d.branch2.1.bias: 144 参数\n",
            "inception4d.branch2.3.weight: 373248 参数\n",
            "inception4d.branch2.3.bias: 288 参数\n",
            "inception4d.branch2.4.weight: 288 参数\n",
            "inception4d.branch2.4.bias: 288 参数\n",
            "inception4d.branch3.0.weight: 16384 参数\n",
            "inception4d.branch3.0.bias: 32 参数\n",
            "inception4d.branch3.1.weight: 32 参数\n",
            "inception4d.branch3.1.bias: 32 参数\n",
            "inception4d.branch3.3.weight: 51200 参数\n",
            "inception4d.branch3.3.bias: 64 参数\n",
            "inception4d.branch3.4.weight: 64 参数\n",
            "inception4d.branch3.4.bias: 64 参数\n",
            "inception4d.branch4.1.weight: 32768 参数\n",
            "inception4d.branch4.1.bias: 64 参数\n",
            "inception4d.branch4.2.weight: 64 参数\n",
            "inception4d.branch4.2.bias: 64 参数\n",
            "inception4e.branch1.0.weight: 135168 参数\n",
            "inception4e.branch1.0.bias: 256 参数\n",
            "inception4e.branch1.1.weight: 256 参数\n",
            "inception4e.branch1.1.bias: 256 参数\n",
            "inception4e.branch2.0.weight: 84480 参数\n",
            "inception4e.branch2.0.bias: 160 参数\n",
            "inception4e.branch2.1.weight: 160 参数\n",
            "inception4e.branch2.1.bias: 160 参数\n",
            "inception4e.branch2.3.weight: 460800 参数\n",
            "inception4e.branch2.3.bias: 320 参数\n",
            "inception4e.branch2.4.weight: 320 参数\n",
            "inception4e.branch2.4.bias: 320 参数\n",
            "inception4e.branch3.0.weight: 16896 参数\n",
            "inception4e.branch3.0.bias: 32 参数\n",
            "inception4e.branch3.1.weight: 32 参数\n",
            "inception4e.branch3.1.bias: 32 参数\n",
            "inception4e.branch3.3.weight: 102400 参数\n",
            "inception4e.branch3.3.bias: 128 参数\n",
            "inception4e.branch3.4.weight: 128 参数\n",
            "inception4e.branch3.4.bias: 128 参数\n",
            "inception4e.branch4.1.weight: 67584 参数\n",
            "inception4e.branch4.1.bias: 128 参数\n",
            "inception4e.branch4.2.weight: 128 参数\n",
            "inception4e.branch4.2.bias: 128 参数\n",
            "inception5a.branch1.0.weight: 212992 参数\n",
            "inception5a.branch1.0.bias: 256 参数\n",
            "inception5a.branch1.1.weight: 256 参数\n",
            "inception5a.branch1.1.bias: 256 参数\n",
            "inception5a.branch2.0.weight: 133120 参数\n",
            "inception5a.branch2.0.bias: 160 参数\n",
            "inception5a.branch2.1.weight: 160 参数\n",
            "inception5a.branch2.1.bias: 160 参数\n",
            "inception5a.branch2.3.weight: 460800 参数\n",
            "inception5a.branch2.3.bias: 320 参数\n",
            "inception5a.branch2.4.weight: 320 参数\n",
            "inception5a.branch2.4.bias: 320 参数\n",
            "inception5a.branch3.0.weight: 26624 参数\n",
            "inception5a.branch3.0.bias: 32 参数\n",
            "inception5a.branch3.1.weight: 32 参数\n",
            "inception5a.branch3.1.bias: 32 参数\n",
            "inception5a.branch3.3.weight: 102400 参数\n",
            "inception5a.branch3.3.bias: 128 参数\n",
            "inception5a.branch3.4.weight: 128 参数\n",
            "inception5a.branch3.4.bias: 128 参数\n",
            "inception5a.branch4.1.weight: 106496 参数\n",
            "inception5a.branch4.1.bias: 128 参数\n",
            "inception5a.branch4.2.weight: 128 参数\n",
            "inception5a.branch4.2.bias: 128 参数\n",
            "inception5b.branch1.0.weight: 319488 参数\n",
            "inception5b.branch1.0.bias: 384 参数\n",
            "inception5b.branch1.1.weight: 384 参数\n",
            "inception5b.branch1.1.bias: 384 参数\n",
            "inception5b.branch2.0.weight: 159744 参数\n",
            "inception5b.branch2.0.bias: 192 参数\n",
            "inception5b.branch2.1.weight: 192 参数\n",
            "inception5b.branch2.1.bias: 192 参数\n",
            "inception5b.branch2.3.weight: 663552 参数\n",
            "inception5b.branch2.3.bias: 384 参数\n",
            "inception5b.branch2.4.weight: 384 参数\n",
            "inception5b.branch2.4.bias: 384 参数\n",
            "inception5b.branch3.0.weight: 39936 参数\n",
            "inception5b.branch3.0.bias: 48 参数\n",
            "inception5b.branch3.1.weight: 48 参数\n",
            "inception5b.branch3.1.bias: 48 参数\n",
            "inception5b.branch3.3.weight: 153600 参数\n",
            "inception5b.branch3.3.bias: 128 参数\n",
            "inception5b.branch3.4.weight: 128 参数\n",
            "inception5b.branch3.4.bias: 128 参数\n",
            "inception5b.branch4.1.weight: 106496 参数\n",
            "inception5b.branch4.1.bias: 128 参数\n",
            "inception5b.branch4.2.weight: 128 参数\n",
            "inception5b.branch4.2.bias: 128 参数\n",
            "fc.weight: 10240 参数\n",
            "fc.bias: 10 参数\n"
          ]
        }
      ],
      "source": [
        "# 计算模型的总参数量\n",
        "# 统计需要求梯度的参数总量\n",
        "total_params = sum(p.numel() for p in model.parameters() if p.requires_grad)\n",
        "print(f\"需要求梯度的参数总量: {total_params}\")\n",
        "\n",
        "# 统计所有参数总量\n",
        "all_params = sum(p.numel() for p in model.parameters())\n",
        "print(f\"模型总参数量: {all_params}\")\n",
        "\n",
        "# 查看每层参数量明细\n",
        "print(\"\\n各层参数量明细:\")\n",
        "for name, param in model.named_parameters():\n",
        "    print(f\"{name}: {param.numel()} 参数\")"
      ]
    },
    {
      "cell_type": "markdown",
      "metadata": {
        "id": "jwc1oot4tzUF"
      },
      "source": [
        "# 设置交叉熵损失函数，SGD优化器"
      ]
    },
    {
      "cell_type": "code",
      "execution_count": 18,
      "metadata": {
        "id": "8bS5p2gntzUG"
      },
      "outputs": [],
      "source": [
        "# 定义损失函数和优化器\n",
        "from torchvision.models import ResNet\n",
        "\n",
        "\n",
        "loss_fn = nn.CrossEntropyLoss()  # 交叉熵损失函数，适用于多分类问题，里边会做softmax，还有会把0-9标签转换成one-hot编码\n",
        "\n",
        "model = InceptionNetV1()\n",
        "optimizer = torch.optim.SGD(model.parameters(), lr=0.001, momentum=0.9)  # SGD优化器，学习率为0.01，动量为0.9"
      ]
    },
    {
      "cell_type": "code",
      "execution_count": 19,
      "metadata": {
        "colab": {
          "base_uri": "https://localhost:8080/",
          "height": 136,
          "referenced_widgets": [
            "84f38b60dae0425fb4c42a54e68ced0b",
            "c5c04279bade4d1f8a34a8e2202231b9",
            "7ae68820887b46799b8304ddf01025c9",
            "a30b3331859941a989a145dd05f403df",
            "727dafe78215489bb5af7395a44b318d",
            "bb569ddfc732418bbc6893e194b8e45c",
            "2174f76a2a3344718e6e1c66aabdb384",
            "97759d140d104256804f7c7c2f40de11",
            "8b6f4ea6082341b1953ddce5443e076a",
            "15d2f803b2f34330979e2fb7bfe9706f",
            "e0602a4fe3df46d3be9ad6326ad913a3"
          ]
        },
        "id": "_7n_AW08tzUG",
        "outputId": "c0131a7e-a40c-4811-a61a-16ea36167192"
      },
      "outputs": [
        {
          "output_type": "stream",
          "name": "stdout",
          "text": [
            "使用设备: cuda:0\n",
            "训练开始，共35200步\n"
          ]
        },
        {
          "output_type": "display_data",
          "data": {
            "text/plain": [
              "  0%|          | 0/35200 [00:00<?, ?it/s]"
            ],
            "application/vnd.jupyter.widget-view+json": {
              "version_major": 2,
              "version_minor": 0,
              "model_id": "84f38b60dae0425fb4c42a54e68ced0b"
            }
          },
          "metadata": {}
        },
        {
          "output_type": "stream",
          "name": "stdout",
          "text": [
            "早停触发!\n",
            "80.1400\n",
            "早停: 在16000 步\n"
          ]
        }
      ],
      "source": [
        "device = torch.device(\"cuda:0\" if torch.cuda.is_available() else \"cpu\")\n",
        "print(f\"使用设备: {device}\")\n",
        "model = model.to(device) #将模型移动到GPU\n",
        "early_stopping=EarlyStopping(patience=5, delta=0.001)\n",
        "model_saver=ModelSaver(save_dir='model_weights', save_best_only=True)\n",
        "\n",
        "\n",
        "model, history = train_classification_model(model, train_loader, val_loader, loss_fn, optimizer, device, num_epochs=50, early_stopping=early_stopping, model_saver=model_saver, tensorboard_logger=None)\n",
        "\n"
      ]
    },
    {
      "cell_type": "code",
      "execution_count": 20,
      "metadata": {
        "colab": {
          "base_uri": "https://localhost:8080/"
        },
        "id": "dYC-nTHztzUG",
        "outputId": "abeeaf1f-ce25-4042-9d34-2a8d0a898419"
      },
      "outputs": [
        {
          "output_type": "execute_result",
          "data": {
            "text/plain": [
              "[{'loss': 0.7988115711212158, 'acc': 78.72, 'step': 11500},\n",
              " {'loss': 0.9189668428421021, 'acc': 77.28, 'step': 12000},\n",
              " {'loss': 0.8651242225646972, 'acc': 78.32, 'step': 12500},\n",
              " {'loss': 0.8346926387786865, 'acc': 78.64, 'step': 13000},\n",
              " {'loss': 0.8163467240810395, 'acc': 80.14, 'step': 13500},\n",
              " {'loss': 0.943292449760437, 'acc': 77.56, 'step': 14000},\n",
              " {'loss': 0.8292272993564606, 'acc': 79.62, 'step': 14500},\n",
              " {'loss': 0.8506329380989075, 'acc': 79.4, 'step': 15000},\n",
              " {'loss': 1.2715815608978271, 'acc': 72.04, 'step': 15500}]"
            ]
          },
          "metadata": {},
          "execution_count": 20
        }
      ],
      "source": [
        "history['val'][-10:-1]"
      ]
    },
    {
      "cell_type": "markdown",
      "metadata": {
        "id": "n3neqV2utzUH"
      },
      "source": [
        "# 绘制损失曲线和准确率曲线"
      ]
    },
    {
      "cell_type": "code",
      "execution_count": 21,
      "metadata": {
        "colab": {
          "base_uri": "https://localhost:8080/",
          "height": 465
        },
        "id": "94CVfxKXtzUH",
        "outputId": "24f57307-5bfc-4951-c732-756ea05f67b0"
      },
      "outputs": [
        {
          "output_type": "display_data",
          "data": {
            "text/plain": [
              "<Figure size 1000x500 with 2 Axes>"
            ],
            "image/png": "[encoded data removed]"
          },
          "metadata": {}
        }
      ],
      "source": [
        "plot_learning_curves(history, sample_step=500)  #横坐标是 steps"
      ]
    },
    {
      "cell_type": "code",
      "execution_count": 22,
      "metadata": {
        "colab": {
          "base_uri": "https://localhost:8080/",
          "height": 321
        },
        "id": "5anDPdO0tzUH",
        "outputId": "29a9cdad-2e3a-4f54-8442-0fccc846059b"
      },
      "outputs": [
        {
          "output_type": "error",
          "ename": "KeyboardInterrupt",
          "evalue": "",
          "traceback": [
            "\u001b[0;31m---------------------------------------------------------------------------\u001b[0m",
            "\u001b[0;31mKeyboardInterrupt\u001b[0m                         Traceback (most recent call last)",
            "\u001b[0;32m/tmp/ipython-input-22-3045356582.py\u001b[0m in \u001b[0;36m<cell line: 0>\u001b[0;34m()\u001b[0m\n\u001b[1;32m      1\u001b[0m \u001b[0ma\u001b[0m \u001b[0;34m=\u001b[0m\u001b[0mpy7zr\u001b[0m\u001b[0;34m.\u001b[0m\u001b[0mSevenZipFile\u001b[0m\u001b[0;34m(\u001b[0m\u001b[0;34mr'./test.7z'\u001b[0m\u001b[0;34m,\u001b[0m\u001b[0;34m'r'\u001b[0m\u001b[0;34m)\u001b[0m\u001b[0;34m\u001b[0m\u001b[0;34m\u001b[0m\u001b[0m\n\u001b[0;32m----> 2\u001b[0;31m \u001b[0ma\u001b[0m\u001b[0;34m.\u001b[0m\u001b[0mextractall\u001b[0m\u001b[0;34m(\u001b[0m\u001b[0mpath\u001b[0m\u001b[0;34m=\u001b[0m\u001b[0;34mr'./competitions/cifar-10/'\u001b[0m\u001b[0;34m)\u001b[0m\u001b[0;34m\u001b[0m\u001b[0;34m\u001b[0m\u001b[0m\n\u001b[0m\u001b[1;32m      3\u001b[0m \u001b[0ma\u001b[0m\u001b[0;34m.\u001b[0m\u001b[0mclose\u001b[0m\u001b[0;34m(\u001b[0m\u001b[0;34m)\u001b[0m\u001b[0;34m\u001b[0m\u001b[0;34m\u001b[0m\u001b[0m\n",
            "\u001b[0;32m/usr/local/lib/python3.11/dist-packages/py7zr/py7zr.py\u001b[0m in \u001b[0;36mextractall\u001b[0;34m(self, path, callback, factory)\u001b[0m\n\u001b[1;32m   1021\u001b[0m         \u001b[0mto\u001b[0m \u001b[0mextract\u001b[0m \u001b[0mto\u001b[0m\u001b[0;34m.\u001b[0m\u001b[0;34m\u001b[0m\u001b[0;34m\u001b[0m\u001b[0m\n\u001b[1;32m   1022\u001b[0m         \"\"\"\n\u001b[0;32m-> 1023\u001b[0;31m         \u001b[0mself\u001b[0m\u001b[0;34m.\u001b[0m\u001b[0m_extract\u001b[0m\u001b[0;34m(\u001b[0m\u001b[0mpath\u001b[0m\u001b[0;34m=\u001b[0m\u001b[0mpath\u001b[0m\u001b[0;34m,\u001b[0m \u001b[0mcallback\u001b[0m\u001b[0;34m=\u001b[0m\u001b[0mcallback\u001b[0m\u001b[0;34m,\u001b[0m \u001b[0mwriter_factory\u001b[0m\u001b[0;34m=\u001b[0m\u001b[0mfactory\u001b[0m\u001b[0;34m)\u001b[0m\u001b[0;34m\u001b[0m\u001b[0;34m\u001b[0m\u001b[0m\n\u001b[0m\u001b[1;32m   1024\u001b[0m \u001b[0;34m\u001b[0m\u001b[0m\n\u001b[1;32m   1025\u001b[0m     def extract(\n",
            "\u001b[0;32m/usr/local/lib/python3.11/dist-packages/py7zr/py7zr.py\u001b[0m in \u001b[0;36m_extract\u001b[0;34m(self, path, targets, callback, recursive, writer_factory)\u001b[0m\n\u001b[1;32m    576\u001b[0m             \u001b[0;31m# Currently always overwrite by latter archives.\u001b[0m\u001b[0;34m\u001b[0m\u001b[0;34m\u001b[0m\u001b[0m\n\u001b[1;32m    577\u001b[0m             \u001b[0;31m# TODO: provide option to select overwrite or skip.\u001b[0m\u001b[0;34m\u001b[0m\u001b[0;34m\u001b[0m\u001b[0m\n\u001b[0;32m--> 578\u001b[0;31m             \u001b[0;32mif\u001b[0m \u001b[0mf\u001b[0m\u001b[0;34m.\u001b[0m\u001b[0mfilename\u001b[0m \u001b[0;32mnot\u001b[0m \u001b[0;32min\u001b[0m \u001b[0mfnames\u001b[0m\u001b[0;34m:\u001b[0m\u001b[0;34m\u001b[0m\u001b[0;34m\u001b[0m\u001b[0m\n\u001b[0m\u001b[1;32m    579\u001b[0m                 \u001b[0moutname\u001b[0m \u001b[0;34m=\u001b[0m \u001b[0mf\u001b[0m\u001b[0;34m.\u001b[0m\u001b[0mfilename\u001b[0m\u001b[0;34m\u001b[0m\u001b[0;34m\u001b[0m\u001b[0m\n\u001b[1;32m    580\u001b[0m                 \u001b[0mfnames\u001b[0m\u001b[0;34m[\u001b[0m\u001b[0mf\u001b[0m\u001b[0;34m.\u001b[0m\u001b[0mfilename\u001b[0m\u001b[0;34m]\u001b[0m \u001b[0;34m=\u001b[0m \u001b[0;36m0\u001b[0m\u001b[0;34m\u001b[0m\u001b[0;34m\u001b[0m\u001b[0m\n",
            "\u001b[0;32m/usr/local/lib/python3.11/dist-packages/py7zr/py7zr.py\u001b[0m in \u001b[0;36mfilename\u001b[0;34m(self)\u001b[0m\n\u001b[1;32m    118\u001b[0m         \u001b[0;32mreturn\u001b[0m \u001b[0mself\u001b[0m\u001b[0;34m.\u001b[0m\u001b[0m_get_property\u001b[0m\u001b[0;34m(\u001b[0m\u001b[0;34m\"folder\"\u001b[0m\u001b[0;34m)\u001b[0m\u001b[0;34m\u001b[0m\u001b[0;34m\u001b[0m\u001b[0m\n\u001b[1;32m    119\u001b[0m \u001b[0;34m\u001b[0m\u001b[0m\n\u001b[0;32m--> 120\u001b[0;31m     \u001b[0;34m@\u001b[0m\u001b[0mproperty\u001b[0m\u001b[0;34m\u001b[0m\u001b[0;34m\u001b[0m\u001b[0m\n\u001b[0m\u001b[1;32m    121\u001b[0m     \u001b[0;32mdef\u001b[0m \u001b[0mfilename\u001b[0m\u001b[0;34m(\u001b[0m\u001b[0mself\u001b[0m\u001b[0;34m)\u001b[0m \u001b[0;34m->\u001b[0m \u001b[0mstr\u001b[0m\u001b[0;34m:\u001b[0m\u001b[0;34m\u001b[0m\u001b[0;34m\u001b[0m\u001b[0m\n\u001b[1;32m    122\u001b[0m         \u001b[0;34m\"\"\"return filename of archive file.\"\"\"\u001b[0m\u001b[0;34m\u001b[0m\u001b[0;34m\u001b[0m\u001b[0m\n",
            "\u001b[0;31mKeyboardInterrupt\u001b[0m: "
          ]
        }
      ],
      "source": [
        "a =py7zr.SevenZipFile(r'./test.7z','r')\n",
        "a.extractall(path=r'./competitions/cifar-10/')\n",
        "a.close()"
      ]
    },
    {
      "cell_type": "code",
      "execution_count": null,
      "metadata": {
        "id": "VJ99w0yltzUH"
      },
      "outputs": [],
      "source": [
        "!ls competitions/cifar-10/test|wc -l"
      ]
    },
    {
      "cell_type": "code",
      "execution_count": null,
      "metadata": {
        "id": "u_mBXB5LtzUH"
      },
      "outputs": [],
      "source": [
        "# 导入所需库\n",
        "import os\n",
        "import pandas as pd\n",
        "from PIL import Image\n",
        "import torch\n",
        "from torch.utils.data import Dataset, DataLoader\n",
        "from torchvision import transforms\n",
        "import tqdm\n",
        "\n",
        "# 定义测试数据集类\n",
        "class CIFAR10TestDataset(Dataset):\n",
        "    def __init__(self, img_dir, transform=None):\n",
        "        \"\"\"\n",
        "        初始化测试数据集\n",
        "\n",
        "        参数:\n",
        "            img_dir: 测试图片目录\n",
        "            transform: 图像预处理变换\n",
        "        \"\"\"\n",
        "        self.img_dir = img_dir\n",
        "        self.transform = transform\n",
        "        self.img_files = [f for f in os.listdir(img_dir) if f.endswith('.png')]\n",
        "\n",
        "    def __len__(self):\n",
        "        return len(self.img_files)\n",
        "\n",
        "    def __getitem__(self, idx):\n",
        "        img_path = os.path.join(self.img_dir, self.img_files[idx])\n",
        "        image = Image.open(img_path).convert('RGB')\n",
        "\n",
        "        if self.transform:\n",
        "            image = self.transform(image)\n",
        "\n",
        "        # 提取图像ID（文件名去掉扩展名）\n",
        "        img_id = int(os.path.splitext(self.img_files[idx])[0])\n",
        "\n",
        "        return image, img_id\n",
        "\n",
        "# 定义预测函数\n",
        "def predict_test_set(model, img_dir, labels_file, device, batch_size=64):\n",
        "    \"\"\"\n",
        "    预测测试集并生成提交文件\n",
        "\n",
        "    参数:\n",
        "        model: 训练好的模型\n",
        "        img_dir: 测试图片目录\n",
        "        labels_file: 提交模板文件路径\n",
        "        device: 计算设备\n",
        "        batch_size: 批处理大小\n",
        "    \"\"\"\n",
        "    # 图像预处理变换（与训练集相同）\n",
        "    transform = transforms.Compose([\n",
        "        transforms.ToTensor(),\n",
        "        transforms.Normalize((0.4917, 0.4823, 0.4467), (0.2024, 0.1995, 0.2010))\n",
        "    ])\n",
        "\n",
        "    # 创建测试数据集和数据加载器\n",
        "    test_dataset = CIFAR10TestDataset(img_dir, transform=transform)\n",
        "    test_loader = DataLoader(test_dataset, batch_size=batch_size, shuffle=False, num_workers=4)\n",
        "\n",
        "    # 设置模型为评估模式\n",
        "    model.eval()\n",
        "\n",
        "    # 读取提交模板\n",
        "    submission_df = pd.read_csv(labels_file)\n",
        "    predictions = {}\n",
        "\n",
        "    # 使用tqdm显示进度条\n",
        "    print(\"正在预测测试集...\")\n",
        "    with torch.no_grad():\n",
        "        for images, img_ids in tqdm.tqdm(test_loader, desc=\"预测进度\"):\n",
        "            images = images.to(device)\n",
        "            outputs = model(images)\n",
        "            _, predicted = torch.max(outputs, 1) #取最大的索引，作为预测结果\n",
        "\n",
        "            # 记录每个图像的预测结果\n",
        "            for i, img_id in enumerate(img_ids):\n",
        "                predictions[img_id.item()] = predicted[i].item() #因为一个批次有多个图像，所以需要predicted[i]\n",
        "\n",
        "    # 定义类别名称\n",
        "    class_names = ['airplane', 'automobile', 'bird', 'cat', 'deer', 'dog', 'frog', 'horse', 'ship', 'truck']\n",
        "\n",
        "    # 将数值标签转换为类别名称\n",
        "    labeled_predictions = {img_id: class_names[pred] for img_id, pred in predictions.items()}\n",
        "\n",
        "    # 直接创建DataFrame\n",
        "    submission_df = pd.DataFrame({\n",
        "        'id': list(labeled_predictions.keys()),\n",
        "        'label': list(labeled_predictions.values())\n",
        "    })\n",
        "    # 按id列排序\n",
        "    submission_df = submission_df.sort_values(by='id')\n",
        "\n",
        "    # 检查id列是否有重复值\n",
        "    has_duplicates = submission_df['id'].duplicated().any()\n",
        "    print(f\"id列是否有重复值: {has_duplicates}\")\n",
        "    # 保存预测结果\n",
        "    output_file = 'cifar10_submission.csv'\n",
        "    submission_df.to_csv(output_file, index=False)\n",
        "    print(f\"预测完成，结果已保存至 {output_file}\")\n",
        "\n",
        "# 执行测试集预测\n",
        "img_dir = r\"competitions/cifar-10/test\"\n",
        "labels_file = r\"./sampleSubmission.csv\"\n",
        "predict_test_set(model, img_dir, labels_file, device, batch_size=128)\n"
      ]
    },
    {
      "cell_type": "code",
      "execution_count": null,
      "metadata": {
        "id": "K8qEVskStzUI"
      },
      "outputs": [],
      "source": [
        "!head -10 cifar10_submission.csv"
      ]
    }
  ],
  "metadata": {
    "kernelspec": {
      "display_name": "Python 3",
      "name": "python3"
    },
    "language_info": {
      "codemirror_mode": {
        "name": "ipython",
        "version": 3
      },
      "file_extension": ".py",
      "mimetype": "text/x-python",
      "name": "python",
      "nbconvert_exporter": "python",
      "pygments_lexer": "ipython3",
      "version": "3.12.1"
    },
    "colab": {
      "provenance": [],
      "gpuType": "T4"
    },
    "accelerator": "GPU",
    "widgets": {
      "application/vnd.jupyter.widget-state+json": {
        "84f38b60dae0425fb4c42a54e68ced0b": {
          "model_module": "@jupyter-widgets/controls",
          "model_name": "HBoxModel",
          "model_module_version": "1.5.0",
          "state": {
            "_dom_classes": [],
            "_model_module": "@jupyter-widgets/controls",
            "_model_module_version": "1.5.0",
            "_model_name": "HBoxModel",
            "_view_count": null,
            "_view_module": "@jupyter-widgets/controls",
            "_view_module_version": "1.5.0",
            "_view_name": "HBoxView",
            "box_style": "",
            "children": [
              "IPY_MODEL_c5c04279bade4d1f8a34a8e2202231b9",
              "IPY_MODEL_7ae68820887b46799b8304ddf01025c9",
              "IPY_MODEL_a30b3331859941a989a145dd05f403df"
            ],
            "layout": "IPY_MODEL_727dafe78215489bb5af7395a44b318d"
          }
        },
        "c5c04279bade4d1f8a34a8e2202231b9": {
          "model_module": "@jupyter-widgets/controls",
          "model_name": "HTMLModel",
          "model_module_version": "1.5.0",
          "state": {
            "_dom_classes": [],
            "_model_module": "@jupyter-widgets/controls",
            "_model_module_version": "1.5.0",
            "_model_name": "HTMLModel",
            "_view_count": null,
            "_view_module": "@jupyter-widgets/controls",
            "_view_module_version": "1.5.0",
            "_view_name": "HTMLView",
            "description": "",
            "description_tooltip": null,
            "layout": "IPY_MODEL_bb569ddfc732418bbc6893e194b8e45c",
            "placeholder": "​",
            "style": "IPY_MODEL_2174f76a2a3344718e6e1c66aabdb384",
            "value": " 45%"
          }
        },
        "7ae68820887b46799b8304ddf01025c9": {
          "model_module": "@jupyter-widgets/controls",
          "model_name": "FloatProgressModel",
          "model_module_version": "1.5.0",
          "state": {
            "_dom_classes": [],
            "_model_module": "@jupyter-widgets/controls",
            "_model_module_version": "1.5.0",
            "_model_name": "FloatProgressModel",
            "_view_count": null,
            "_view_module": "@jupyter-widgets/controls",
            "_view_module_version": "1.5.0",
            "_view_name": "ProgressView",
            "bar_style": "danger",
            "description": "",
            "description_tooltip": null,
            "layout": "IPY_MODEL_97759d140d104256804f7c7c2f40de11",
            "max": 35200,
            "min": 0,
            "orientation": "horizontal",
            "style": "IPY_MODEL_8b6f4ea6082341b1953ddce5443e076a",
            "value": 16000
          }
        },
        "a30b3331859941a989a145dd05f403df": {
          "model_module": "@jupyter-widgets/controls",
          "model_name": "HTMLModel",
          "model_module_version": "1.5.0",
          "state": {
            "_dom_classes": [],
            "_model_module": "@jupyter-widgets/controls",
            "_model_module_version": "1.5.0",
            "_model_name": "HTMLModel",
            "_view_count": null,
            "_view_module": "@jupyter-widgets/controls",
            "_view_module_version": "1.5.0",
            "_view_name": "HTMLView",
            "description": "",
            "description_tooltip": null,
            "layout": "IPY_MODEL_15d2f803b2f34330979e2fb7bfe9706f",
            "placeholder": "​",
            "style": "IPY_MODEL_e0602a4fe3df46d3be9ad6326ad913a3",
            "value": " 16000/35200 [21:33&lt;23:32, 13.59it/s, epoch=22, loss=0.0498, acc=98.44%, val_loss=1.2716, val_acc=72.04%]"
          }
        },
        "727dafe78215489bb5af7395a44b318d": {
          "model_module": "@jupyter-widgets/base",
          "model_name": "LayoutModel",
          "model_module_version": "1.2.0",
          "state": {
            "_model_module": "@jupyter-widgets/base",
            "_model_module_version": "1.2.0",
            "_model_name": "LayoutModel",
            "_view_count": null,
            "_view_module": "@jupyter-widgets/base",
            "_view_module_version": "1.2.0",
            "_view_name": "LayoutView",
            "align_content": null,
            "align_items": null,
            "align_self": null,
            "border": null,
            "bottom": null,
            "display": null,
            "flex": null,
            "flex_flow": null,
            "grid_area": null,
            "grid_auto_columns": null,
            "grid_auto_flow": null,
            "grid_auto_rows": null,
            "grid_column": null,
            "grid_gap": null,
            "grid_row": null,
            "grid_template_areas": null,
            "grid_template_columns": null,
            "grid_template_rows": null,
            "height": null,
            "justify_content": null,
            "justify_items": null,
            "left": null,
            "margin": null,
            "max_height": null,
            "max_width": null,
            "min_height": null,
            "min_width": null,
            "object_fit": null,
            "object_position": null,
            "order": null,
            "overflow": null,
            "overflow_x": null,
            "overflow_y": null,
            "padding": null,
            "right": null,
            "top": null,
            "visibility": null,
            "width": null
          }
        },
        "bb569ddfc732418bbc6893e194b8e45c": {
          "model_module": "@jupyter-widgets/base",
          "model_name": "LayoutModel",
          "model_module_version": "1.2.0",
          "state": {
            "_model_module": "@jupyter-widgets/base",
            "_model_module_version": "1.2.0",
            "_model_name": "LayoutModel",
            "_view_count": null,
            "_view_module": "@jupyter-widgets/base",
            "_view_module_version": "1.2.0",
            "_view_name": "LayoutView",
            "align_content": null,
            "align_items": null,
            "align_self": null,
            "border": null,
            "bottom": null,
            "display": null,
            "flex": null,
            "flex_flow": null,
            "grid_area": null,
            "grid_auto_columns": null,
            "grid_auto_flow": null,
            "grid_auto_rows": null,
            "grid_column": null,
            "grid_gap": null,
            "grid_row": null,
            "grid_template_areas": null,
            "grid_template_columns": null,
            "grid_template_rows": null,
            "height": null,
            "justify_content": null,
            "justify_items": null,
            "left": null,
            "margin": null,
            "max_height": null,
            "max_width": null,
            "min_height": null,
            "min_width": null,
            "object_fit": null,
            "object_position": null,
            "order": null,
            "overflow": null,
            "overflow_x": null,
            "overflow_y": null,
            "padding": null,
            "right": null,
            "top": null,
            "visibility": null,
            "width": null
          }
        },
        "2174f76a2a3344718e6e1c66aabdb384": {
          "model_module": "@jupyter-widgets/controls",
          "model_name": "DescriptionStyleModel",
          "model_module_version": "1.5.0",
          "state": {
            "_model_module": "@jupyter-widgets/controls",
            "_model_module_version": "1.5.0",
            "_model_name": "DescriptionStyleModel",
            "_view_count": null,
            "_view_module": "@jupyter-widgets/base",
            "_view_module_version": "1.2.0",
            "_view_name": "StyleView",
            "description_width": ""
          }
        },
        "97759d140d104256804f7c7c2f40de11": {
          "model_module": "@jupyter-widgets/base",
          "model_name": "LayoutModel",
          "model_module_version": "1.2.0",
          "state": {
            "_model_module": "@jupyter-widgets/base",
            "_model_module_version": "1.2.0",
            "_model_name": "LayoutModel",
            "_view_count": null,
            "_view_module": "@jupyter-widgets/base",
            "_view_module_version": "1.2.0",
            "_view_name": "LayoutView",
            "align_content": null,
            "align_items": null,
            "align_self": null,
            "border": null,
            "bottom": null,
            "display": null,
            "flex": null,
            "flex_flow": null,
            "grid_area": null,
            "grid_auto_columns": null,
            "grid_auto_flow": null,
            "grid_auto_rows": null,
            "grid_column": null,
            "grid_gap": null,
            "grid_row": null,
            "grid_template_areas": null,
            "grid_template_columns": null,
            "grid_template_rows": null,
            "height": null,
            "justify_content": null,
            "justify_items": null,
            "left": null,
            "margin": null,
            "max_height": null,
            "max_width": null,
            "min_height": null,
            "min_width": null,
            "object_fit": null,
            "object_position": null,
            "order": null,
            "overflow": null,
            "overflow_x": null,
            "overflow_y": null,
            "padding": null,
            "right": null,
            "top": null,
            "visibility": null,
            "width": null
          }
        },
        "8b6f4ea6082341b1953ddce5443e076a": {
          "model_module": "@jupyter-widgets/controls",
          "model_name": "ProgressStyleModel",
          "model_module_version": "1.5.0",
          "state": {
            "_model_module": "@jupyter-widgets/controls",
            "_model_module_version": "1.5.0",
            "_model_name": "ProgressStyleModel",
            "_view_count": null,
            "_view_module": "@jupyter-widgets/base",
            "_view_module_version": "1.2.0",
            "_view_name": "StyleView",
            "bar_color": null,
            "description_width": ""
          }
        },
        "15d2f803b2f34330979e2fb7bfe9706f": {
          "model_module": "@jupyter-widgets/base",
          "model_name": "LayoutModel",
          "model_module_version": "1.2.0",
          "state": {
            "_model_module": "@jupyter-widgets/base",
            "_model_module_version": "1.2.0",
            "_model_name": "LayoutModel",
            "_view_count": null,
            "_view_module": "@jupyter-widgets/base",
            "_view_module_version": "1.2.0",
            "_view_name": "LayoutView",
            "align_content": null,
            "align_items": null,
            "align_self": null,
            "border": null,
            "bottom": null,
            "display": null,
            "flex": null,
            "flex_flow": null,
            "grid_area": null,
            "grid_auto_columns": null,
            "grid_auto_flow": null,
            "grid_auto_rows": null,
            "grid_column": null,
            "grid_gap": null,
            "grid_row": null,
            "grid_template_areas": null,
            "grid_template_columns": null,
            "grid_template_rows": null,
            "height": null,
            "justify_content": null,
            "justify_items": null,
            "left": null,
            "margin": null,
            "max_height": null,
            "max_width": null,
            "min_height": null,
            "min_width": null,
            "object_fit": null,
            "object_position": null,
            "order": null,
            "overflow": null,
            "overflow_x": null,
            "overflow_y": null,
            "padding": null,
            "right": null,
            "top": null,
            "visibility": null,
            "width": null
          }
        },
        "e0602a4fe3df46d3be9ad6326ad913a3": {
          "model_module": "@jupyter-widgets/controls",
          "model_name": "DescriptionStyleModel",
          "model_module_version": "1.5.0",
          "state": {
            "_model_module": "@jupyter-widgets/controls",
            "_model_module_version": "1.5.0",
            "_model_name": "DescriptionStyleModel",
            "_view_count": null,
            "_view_module": "@jupyter-widgets/base",
            "_view_module_version": "1.2.0",
            "_view_name": "StyleView",
            "description_width": ""
          }
        }
      }
    }
  },
  "nbformat": 4,
  "nbformat_minor": 0
}