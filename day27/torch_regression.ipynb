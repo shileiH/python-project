{
 "cells": [
  {
   "cell_type": "code",
   "execution_count": 2,
   "id": "1b4c1f1b-db1b-4a19-96c3-ff605b08451c",
   "metadata": {
    "execution": {
     "iopub.execute_input": "2025-06-25T13:25:04.263231Z",
     "iopub.status.busy": "2025-06-25T13:25:04.262802Z",
     "iopub.status.idle": "2025-06-25T13:25:06.892654Z",
     "shell.execute_reply": "2025-06-25T13:25:06.892098Z",
     "shell.execute_reply.started": "2025-06-25T13:25:04.263201Z"
    },
    "tags": []
   },
   "outputs": [],
   "source": [
    "import numpy as np\n",
    "import pandas as pd\n",
    "import matplotlib.pyplot as plt\n",
    "from sklearn.datasets import fetch_california_housing\n",
    "from sklearn.model_selection import train_test_split\n",
    "from sklearn.preprocessing import StandardScaler\n",
    "from deeplearing_model import evaluate_regression_model,ModelSaver,EarlyStopping,plot_learning_curves,plot_learning_loss_curves\n",
    "import torch\n",
    "import torch.nn as nn\n",
    "import torch.optim as optim\n",
    "from torch.utils.data import DataLoader, Dataset"
   ]
  },
  {
   "cell_type": "markdown",
   "id": "f5278c9b",
   "metadata": {},
   "source": [
    "# 准备数据"
   ]
  },
  {
   "cell_type": "code",
   "execution_count": 3,
   "id": "2b2b376b-c390-4f1a-9fc5-3752a09fbb0e",
   "metadata": {
    "ExecutionIndicator": {
     "show": false
    },
    "execution": {
     "iopub.execute_input": "2025-06-25T13:25:06.894083Z",
     "iopub.status.busy": "2025-06-25T13:25:06.893689Z",
     "iopub.status.idle": "2025-06-25T13:25:06.911621Z",
     "shell.execute_reply": "2025-06-25T13:25:06.911045Z",
     "shell.execute_reply.started": "2025-06-25T13:25:06.894061Z"
    },
    "tags": []
   },
   "outputs": [
    {
     "name": "stdout",
     "output_type": "stream",
     "text": [
      "训练集大小: 13209\n",
      "验证集大小: 3303\n",
      "测试集大小: 4128\n"
     ]
    }
   ],
   "source": [
    "# 加载加利福尼亚房价数据集\n",
    "housing = fetch_california_housing()\n",
    "X = housing.data\n",
    "y = housing.target\n",
    "\n",
    "# 数据拆分：训练集(64%)、验证集(16%)、测试集(20%)\n",
    "X_train_val, X_test, y_train_val, y_test = train_test_split(X, y, test_size=0.2, random_state=42)\n",
    "X_train, X_val, y_train, y_val = train_test_split(X_train_val, y_train_val, test_size=0.2, random_state=42)  # 0.25 x 0.8 = 0.2\n",
    "\n",
    "print(f\"训练集大小: {X_train.shape[0]}\")\n",
    "print(f\"验证集大小: {X_val.shape[0]}\")\n",
    "print(f\"测试集大小: {X_test.shape[0]}\")"
   ]
  },
  {
   "cell_type": "code",
   "execution_count": 4,
   "id": "6b68c883-3224-47b0-b989-38833b4b58f8",
   "metadata": {
    "ExecutionIndicator": {
     "show": true
    },
    "execution": {
     "iopub.execute_input": "2025-06-25T13:25:06.912464Z",
     "iopub.status.busy": "2025-06-25T13:25:06.912261Z",
     "iopub.status.idle": "2025-06-25T13:25:06.922206Z",
     "shell.execute_reply": "2025-06-25T13:25:06.921710Z",
     "shell.execute_reply.started": "2025-06-25T13:25:06.912432Z"
    },
    "tags": []
   },
   "outputs": [],
   "source": [
    "# 数据标准化\n",
    "scaler = StandardScaler()\n",
    "X_train_scaled = scaler.fit_transform(X_train)\n",
    "X_val_scaled = scaler.transform(X_val)\n",
    "X_test_scaled = scaler.transform(X_test)\n",
    "\n",
    "# 自定义数据集类\n",
    "class HousingDataset(Dataset):\n",
    "    def __init__(self, features, targets):\n",
    "        self.features = torch.FloatTensor(features)\n",
    "        self.targets = torch.FloatTensor(targets).view(-1, 1)\n",
    "        \n",
    "    def __len__(self):\n",
    "        return len(self.features) #返回样本数量\n",
    "    \n",
    "    def __getitem__(self, idx): #传入索引，返回对应索引样本的特征和目标\n",
    "        return self.features[idx], self.targets[idx]\n",
    "\n",
    "# 创建数据集实例\n",
    "train_dataset = HousingDataset(X_train_scaled, y_train)\n",
    "val_dataset = HousingDataset(X_val_scaled, y_val)\n",
    "test_dataset = HousingDataset(X_test_scaled, y_test)"
   ]
  },
  {
   "cell_type": "code",
   "execution_count": 5,
   "id": "5ef15039",
   "metadata": {
    "execution": {
     "iopub.execute_input": "2025-06-25T13:25:06.923378Z",
     "iopub.status.busy": "2025-06-25T13:25:06.922880Z",
     "iopub.status.idle": "2025-06-25T13:25:06.929927Z",
     "shell.execute_reply": "2025-06-25T13:25:06.929414Z",
     "shell.execute_reply.started": "2025-06-25T13:25:06.923349Z"
    }
   },
   "outputs": [
    {
     "data": {
      "text/plain": [
       "'\\noptimizer = optim.Adam(model.parameters(), lr=0.001, betas=(0.9, 0.999), eps=1e-08, weight_decay=0)\\n参数解释：\\n- lr: 学习率，控制参数更新步长,默认: 0.001\\n- betas: 用于计算梯度及其平方的运行平均值的系数,默认: (0.9, 0.999)\\n- eps: 添加到分母以提高数值稳定性的项,默认: 1e-8\\n- weight_decay: 权重衰减L2惩罚,默认: 0\\n'"
      ]
     },
     "execution_count": 5,
     "metadata": {},
     "output_type": "execute_result"
    }
   ],
   "source": [
    "# Adam优化器的特点\n",
    "\"\"\"\n",
    "Adam优化器的特点\n",
    "1. 自适应学习率 - 为每个参数计算不同的学习率，适应性强\n",
    "2. 结合了动量Momentum和RMSProp的优点 - 加速收敛并处理稀疏梯度\n",
    "3. 偏差修正 - 修正初始训练阶段的估计偏差\n",
    "4. 计算效率高 - 计算量小，内存需求低\n",
    "5. 超参数稳健 - 默认超参数通常工作良好，不需要频繁调整\n",
    "\"\"\"\n",
    "\n",
    "# Adam优化器参数说明\n",
    "\"\"\"\n",
    "optimizer = optim.Adam(model.parameters(), lr=0.001, betas=(0.9, 0.999), eps=1e-08, weight_decay=0)\n",
    "参数解释：\n",
    "- lr: 学习率，控制参数更新步长,默认: 0.001\n",
    "- betas: 用于计算梯度及其平方的运行平均值的系数,默认: (0.9, 0.999)\n",
    "- eps: 添加到分母以提高数值稳定性的项,默认: 1e-8\n",
    "- weight_decay: 权重衰减L2惩罚,默认: 0\n",
    "\"\"\""
   ]
  },
  {
   "cell_type": "code",
   "execution_count": 6,
   "id": "5173baa2-9620-417d-8eef-574aebede700",
   "metadata": {
    "execution": {
     "iopub.execute_input": "2025-06-25T13:25:06.931362Z",
     "iopub.status.busy": "2025-06-25T13:25:06.931037Z",
     "iopub.status.idle": "2025-06-25T13:25:36.348481Z",
     "shell.execute_reply": "2025-06-25T13:25:36.347876Z",
     "shell.execute_reply.started": "2025-06-25T13:25:06.931344Z"
    }
   },
   "outputs": [],
   "source": [
    "# 创建数据加载器\n",
    "batch_size = 64  # 每批处理的样本数量\n",
    "train_loader = DataLoader(train_dataset, batch_size=batch_size, shuffle=True)  # 训练数据加载器，打乱数据\n",
    "val_loader = DataLoader(val_dataset, batch_size=batch_size)  # 验证数据加载器\n",
    "test_loader = DataLoader(test_dataset, batch_size=batch_size)  # 测试数据加载器\n",
    "\n",
    "# 定义神经网络模型\n",
    "class HousingModel(nn.Module):\n",
    "    def __init__(self, input_size):\n",
    "        super(HousingModel, self).__init__()\n",
    "        self.layer1 = nn.Linear(input_size, 30)  # 输入层到30个神经元的隐藏层\n",
    "        self.activation = nn.ReLU()  # ReLU激活函数，增加非线性\n",
    "        self.layer2 = nn.Linear(30, 1)  # 隐藏层到输出层，输出房价预测值\n",
    "        \n",
    "    def forward(self, x):\n",
    "        x = self.layer1(x)  # 第一层线性变换\n",
    "        x = self.activation(x)  # 应用激活函数\n",
    "        x = self.layer2(x)  # 第二层线性变换得到输出\n",
    "        return x\n",
    "\n",
    "# 初始化模型\n",
    "input_size = X_train.shape[1]  # 特征数量，8列数据\n",
    "model = HousingModel(input_size) #初始化模型，输入8列数据，输出1列数据\n",
    "\n",
    "# 定义损失函数和优化器\n",
    "criterion = nn.MSELoss()  # 均方误差损失函数，适用于回归问题\n",
    "optimizer = optim.Adam(model.parameters(), lr=0.001)  # Adam优化器，学习率为0.001"
   ]
  },
  {
   "cell_type": "code",
   "execution_count": 7,
   "id": "1a7fe2d4",
   "metadata": {},
   "outputs": [],
   "source": [
    "from tqdm.auto import tqdm\n",
    "# 定义训练函数\n",
    "def train_regression_model(model, train_loader, val_loader, criterion, optimizer, num_epochs=100, device='cpu', eval_interval=50,\n",
    "model_saver=None,\n",
    "early_stopping=None):\n",
    "    \"\"\"\n",
    "    训练回归模型的函数\n",
    "    \n",
    "    参数:\n",
    "        model: 要训练的模型\n",
    "        train_loader: 训练数据加载器\n",
    "        val_loader: 验证数据加载器\n",
    "        criterion: 损失函数\n",
    "        optimizer: 优化器\n",
    "        num_epochs: 训练轮数，默认100\n",
    "        device: 训练设备，默认CPU\n",
    "        eval_interval: 验证评估间隔，默认50个epoch评估一次\n",
    "        \n",
    "    返回:\n",
    "        train_losses: 训练损失列表\n",
    "        val_losses: 验证损失列表\n",
    "    \"\"\"\n",
    "\n",
    "    \n",
    "    record_dict = {\n",
    "        \"train\": [],\n",
    "        \"val\": []\n",
    "    }\n",
    "    \n",
    "    model.train()\n",
    "    epoch_val_loss=0\n",
    "    global_step = 0  # 全局步数计数器\n",
    "    \n",
    "    with tqdm(total=num_epochs * len(train_loader), desc=\"train progress\") as pbar:\n",
    "        for epoch in range(num_epochs):\n",
    "            # 训练模式\n",
    "            model.train()  # 设置模型为训练模式，启用dropout和batch normalization\n",
    "        \n",
    "            \n",
    "            # 使用tqdm包装训练数据加载器，显示进度条\n",
    "            for features, targets in tqdm(train_loader, desc=f\"Epoch {epoch+1}/{num_epochs} 训练\", leave=False):\n",
    "                # 将数据移至指定设备\n",
    "                features, targets = features.to(device), targets.to(device)\n",
    "                \n",
    "                # 前向传播\n",
    "                outputs = model(features)  # 模型预测\n",
    "                loss = criterion(outputs, targets)  # 计算损失\n",
    "                \n",
    "                # 反向传播和优化\n",
    "                optimizer.zero_grad()  # 清除之前的梯度\n",
    "                loss.backward()  # 反向传播计算梯度\n",
    "                optimizer.step()  # 更新模型参数\n",
    "                \n",
    "                global_step += 1  # 更新全局步数\n",
    "\n",
    "                # 在每个批次后记录训练损失\n",
    "                epoch_train_loss = loss.item()\n",
    "                record_dict[\"train\"].append({\n",
    "                    \"loss\": epoch_train_loss,\n",
    "                    \"step\": global_step\n",
    "                })\n",
    "        \n",
    "                # 验证\n",
    "                if global_step % eval_interval == 0:\n",
    "                    epoch_val_loss = evaluate_regression_model(model, val_loader, device, criterion)\n",
    "            \n",
    "                    # 记录验证数据\n",
    "                    record_dict[\"val\"].append({\n",
    "                        \"loss\": epoch_val_loss, \n",
    "                        \"step\": global_step\n",
    "                    })\n",
    "                    # 保存模型权重\n",
    "                    # 如果有模型保存器，保存模型\n",
    "                    if model_saver is not None:\n",
    "                        model_saver(model, -epoch_val_loss, epoch)\n",
    "                    \n",
    "                    # 如果有早停器，检查是否应该早停\n",
    "                    if early_stopping is not None:\n",
    "                        early_stopping(-epoch_val_loss)\n",
    "                        if early_stopping.early_stop:\n",
    "                            print(f'早停: 已有{early_stopping.patience}轮验证损失没有改善！')\n",
    "                            return model,record_dict\n",
    "            \n",
    "                # 更新进度条\n",
    "                pbar.update(1)\n",
    "                pbar.set_postfix({\"loss\": f\"{epoch_train_loss:.4f}\", \"val_loss\": f\"{epoch_val_loss:.4f},global_step{global_step}\"})\n",
    "        return model,record_dict\n"
   ]
  },
  {
   "cell_type": "code",
   "execution_count": 8,
   "id": "890f407f",
   "metadata": {
    "execution": {
     "iopub.execute_input": "2025-06-25T13:25:36.349624Z",
     "iopub.status.busy": "2025-06-25T13:25:36.349262Z",
     "iopub.status.idle": "2025-06-25T13:25:36.538524Z",
     "shell.execute_reply": "2025-06-25T13:25:36.537953Z",
     "shell.execute_reply.started": "2025-06-25T13:25:36.349605Z"
    }
   },
   "outputs": [
    {
     "data": {
      "application/vnd.jupyter.widget-view+json": {
       "model_id": "1fbc01ebe9bd4e3c83a97b2a1641c407",
       "version_major": 2,
       "version_minor": 0
      },
      "text/plain": [
       "train progress:   0%|          | 0/20700 [00:00<?, ?it/s]"
      ]
     },
     "metadata": {},
     "output_type": "display_data"
    },
    {
     "data": {
      "application/vnd.jupyter.widget-view+json": {
       "model_id": "835a6557f6ec495dbfcc85a6d60592d4",
       "version_major": 2,
       "version_minor": 0
      },
      "text/plain": [
       "Epoch 1/100 训练:   0%|          | 0/207 [00:00<?, ?it/s]"
      ]
     },
     "metadata": {},
     "output_type": "display_data"
    },
    {
     "data": {
      "application/vnd.jupyter.widget-view+json": {
       "model_id": "278cb4b948304cb69e28581ae8419508",
       "version_major": 2,
       "version_minor": 0
      },
      "text/plain": [
       "Epoch 2/100 训练:   0%|          | 0/207 [00:00<?, ?it/s]"
      ]
     },
     "metadata": {},
     "output_type": "display_data"
    },
    {
     "data": {
      "application/vnd.jupyter.widget-view+json": {
       "model_id": "745c85a1d1c84f08b6191951b4cb90f1",
       "version_major": 2,
       "version_minor": 0
      },
      "text/plain": [
       "Epoch 3/100 训练:   0%|          | 0/207 [00:00<?, ?it/s]"
      ]
     },
     "metadata": {},
     "output_type": "display_data"
    },
    {
     "data": {
      "application/vnd.jupyter.widget-view+json": {
       "model_id": "904be84855e843b1bacc062e3536b215",
       "version_major": 2,
       "version_minor": 0
      },
      "text/plain": [
       "Epoch 4/100 训练:   0%|          | 0/207 [00:00<?, ?it/s]"
      ]
     },
     "metadata": {},
     "output_type": "display_data"
    },
    {
     "data": {
      "application/vnd.jupyter.widget-view+json": {
       "model_id": "a26c99afdc4046c6a52236cc7a4319c7",
       "version_major": 2,
       "version_minor": 0
      },
      "text/plain": [
       "Epoch 5/100 训练:   0%|          | 0/207 [00:00<?, ?it/s]"
      ]
     },
     "metadata": {},
     "output_type": "display_data"
    },
    {
     "data": {
      "application/vnd.jupyter.widget-view+json": {
       "model_id": "1e9f6391daec4af4bb1e9b9021a110db",
       "version_major": 2,
       "version_minor": 0
      },
      "text/plain": [
       "Epoch 6/100 训练:   0%|          | 0/207 [00:00<?, ?it/s]"
      ]
     },
     "metadata": {},
     "output_type": "display_data"
    },
    {
     "data": {
      "application/vnd.jupyter.widget-view+json": {
       "model_id": "491f0d03cb9a4bc2abb3e5040be268c6",
       "version_major": 2,
       "version_minor": 0
      },
      "text/plain": [
       "Epoch 7/100 训练:   0%|          | 0/207 [00:00<?, ?it/s]"
      ]
     },
     "metadata": {},
     "output_type": "display_data"
    },
    {
     "data": {
      "application/vnd.jupyter.widget-view+json": {
       "model_id": "e79b7db79b7a4bd7a3038f0c04d44853",
       "version_major": 2,
       "version_minor": 0
      },
      "text/plain": [
       "Epoch 8/100 训练:   0%|          | 0/207 [00:00<?, ?it/s]"
      ]
     },
     "metadata": {},
     "output_type": "display_data"
    },
    {
     "data": {
      "application/vnd.jupyter.widget-view+json": {
       "model_id": "7e9c972880924b04b5fbe7603bbb7b58",
       "version_major": 2,
       "version_minor": 0
      },
      "text/plain": [
       "Epoch 9/100 训练:   0%|          | 0/207 [00:00<?, ?it/s]"
      ]
     },
     "metadata": {},
     "output_type": "display_data"
    },
    {
     "data": {
      "application/vnd.jupyter.widget-view+json": {
       "model_id": "6205062974ae4176acc87bbcc2eac0e9",
       "version_major": 2,
       "version_minor": 0
      },
      "text/plain": [
       "Epoch 10/100 训练:   0%|          | 0/207 [00:00<?, ?it/s]"
      ]
     },
     "metadata": {},
     "output_type": "display_data"
    },
    {
     "data": {
      "application/vnd.jupyter.widget-view+json": {
       "model_id": "32da27922f444e35a0b0f7805151286d",
       "version_major": 2,
       "version_minor": 0
      },
      "text/plain": [
       "Epoch 11/100 训练:   0%|          | 0/207 [00:00<?, ?it/s]"
      ]
     },
     "metadata": {},
     "output_type": "display_data"
    },
    {
     "data": {
      "application/vnd.jupyter.widget-view+json": {
       "model_id": "9a9216483b6c402f90c8002d8517484c",
       "version_major": 2,
       "version_minor": 0
      },
      "text/plain": [
       "Epoch 12/100 训练:   0%|          | 0/207 [00:00<?, ?it/s]"
      ]
     },
     "metadata": {},
     "output_type": "display_data"
    },
    {
     "data": {
      "application/vnd.jupyter.widget-view+json": {
       "model_id": "d6bb598770ae4c6ebd4cd14dee5d431f",
       "version_major": 2,
       "version_minor": 0
      },
      "text/plain": [
       "Epoch 13/100 训练:   0%|          | 0/207 [00:00<?, ?it/s]"
      ]
     },
     "metadata": {},
     "output_type": "display_data"
    },
    {
     "data": {
      "application/vnd.jupyter.widget-view+json": {
       "model_id": "1cd91fa1e14944d7918588f1cddd02a5",
       "version_major": 2,
       "version_minor": 0
      },
      "text/plain": [
       "Epoch 14/100 训练:   0%|          | 0/207 [00:00<?, ?it/s]"
      ]
     },
     "metadata": {},
     "output_type": "display_data"
    },
    {
     "data": {
      "application/vnd.jupyter.widget-view+json": {
       "model_id": "2fb45e30a4114ff9933f09b311d9ac3c",
       "version_major": 2,
       "version_minor": 0
      },
      "text/plain": [
       "Epoch 15/100 训练:   0%|          | 0/207 [00:00<?, ?it/s]"
      ]
     },
     "metadata": {},
     "output_type": "display_data"
    },
    {
     "data": {
      "application/vnd.jupyter.widget-view+json": {
       "model_id": "cb584061ce9644178a13d619378d4bc9",
       "version_major": 2,
       "version_minor": 0
      },
      "text/plain": [
       "Epoch 16/100 训练:   0%|          | 0/207 [00:00<?, ?it/s]"
      ]
     },
     "metadata": {},
     "output_type": "display_data"
    },
    {
     "data": {
      "application/vnd.jupyter.widget-view+json": {
       "model_id": "100291891f69487eb315c5e749b3027c",
       "version_major": 2,
       "version_minor": 0
      },
      "text/plain": [
       "Epoch 17/100 训练:   0%|          | 0/207 [00:00<?, ?it/s]"
      ]
     },
     "metadata": {},
     "output_type": "display_data"
    },
    {
     "data": {
      "application/vnd.jupyter.widget-view+json": {
       "model_id": "15d9a6aa1b8b41868aae94526d8c4132",
       "version_major": 2,
       "version_minor": 0
      },
      "text/plain": [
       "Epoch 18/100 训练:   0%|          | 0/207 [00:00<?, ?it/s]"
      ]
     },
     "metadata": {},
     "output_type": "display_data"
    },
    {
     "data": {
      "application/vnd.jupyter.widget-view+json": {
       "model_id": "5697b8b0d9fc4e718c2bc540ee8e8013",
       "version_major": 2,
       "version_minor": 0
      },
      "text/plain": [
       "Epoch 19/100 训练:   0%|          | 0/207 [00:00<?, ?it/s]"
      ]
     },
     "metadata": {},
     "output_type": "display_data"
    },
    {
     "data": {
      "application/vnd.jupyter.widget-view+json": {
       "model_id": "ddd03ef7f42c4ddc91ecf200102e76bf",
       "version_major": 2,
       "version_minor": 0
      },
      "text/plain": [
       "Epoch 20/100 训练:   0%|          | 0/207 [00:00<?, ?it/s]"
      ]
     },
     "metadata": {},
     "output_type": "display_data"
    },
    {
     "data": {
      "application/vnd.jupyter.widget-view+json": {
       "model_id": "0bfebac461434b33899c41314c2bd1f6",
       "version_major": 2,
       "version_minor": 0
      },
      "text/plain": [
       "Epoch 21/100 训练:   0%|          | 0/207 [00:00<?, ?it/s]"
      ]
     },
     "metadata": {},
     "output_type": "display_data"
    },
    {
     "data": {
      "application/vnd.jupyter.widget-view+json": {
       "model_id": "3ba1a3d4e6d94391bd1954f0a31f825a",
       "version_major": 2,
       "version_minor": 0
      },
      "text/plain": [
       "Epoch 22/100 训练:   0%|          | 0/207 [00:00<?, ?it/s]"
      ]
     },
     "metadata": {},
     "output_type": "display_data"
    },
    {
     "data": {
      "application/vnd.jupyter.widget-view+json": {
       "model_id": "28284ebdc1ba450e938d50a83d9145de",
       "version_major": 2,
       "version_minor": 0
      },
      "text/plain": [
       "Epoch 23/100 训练:   0%|          | 0/207 [00:00<?, ?it/s]"
      ]
     },
     "metadata": {},
     "output_type": "display_data"
    },
    {
     "data": {
      "application/vnd.jupyter.widget-view+json": {
       "model_id": "4e87f10cba8e4ecfbe436106bf947856",
       "version_major": 2,
       "version_minor": 0
      },
      "text/plain": [
       "Epoch 24/100 训练:   0%|          | 0/207 [00:00<?, ?it/s]"
      ]
     },
     "metadata": {},
     "output_type": "display_data"
    },
    {
     "data": {
      "application/vnd.jupyter.widget-view+json": {
       "model_id": "7a2b65ef9c484b44b938dc5bea0d4368",
       "version_major": 2,
       "version_minor": 0
      },
      "text/plain": [
       "Epoch 25/100 训练:   0%|          | 0/207 [00:00<?, ?it/s]"
      ]
     },
     "metadata": {},
     "output_type": "display_data"
    },
    {
     "data": {
      "application/vnd.jupyter.widget-view+json": {
       "model_id": "868a0a5c7dd54836a282cacaa5487864",
       "version_major": 2,
       "version_minor": 0
      },
      "text/plain": [
       "Epoch 26/100 训练:   0%|          | 0/207 [00:00<?, ?it/s]"
      ]
     },
     "metadata": {},
     "output_type": "display_data"
    },
    {
     "data": {
      "application/vnd.jupyter.widget-view+json": {
       "model_id": "c4fbba86ac55420c9a98218f2db4c91b",
       "version_major": 2,
       "version_minor": 0
      },
      "text/plain": [
       "Epoch 27/100 训练:   0%|          | 0/207 [00:00<?, ?it/s]"
      ]
     },
     "metadata": {},
     "output_type": "display_data"
    },
    {
     "data": {
      "application/vnd.jupyter.widget-view+json": {
       "model_id": "9b41db4be08a43c28d6405095aa79f5d",
       "version_major": 2,
       "version_minor": 0
      },
      "text/plain": [
       "Epoch 28/100 训练:   0%|          | 0/207 [00:00<?, ?it/s]"
      ]
     },
     "metadata": {},
     "output_type": "display_data"
    },
    {
     "data": {
      "application/vnd.jupyter.widget-view+json": {
       "model_id": "92f53dd59b024160b1e3eb160a5cc980",
       "version_major": 2,
       "version_minor": 0
      },
      "text/plain": [
       "Epoch 29/100 训练:   0%|          | 0/207 [00:00<?, ?it/s]"
      ]
     },
     "metadata": {},
     "output_type": "display_data"
    },
    {
     "data": {
      "application/vnd.jupyter.widget-view+json": {
       "model_id": "7c336168b87d4137ba0d934d7f0cb2a9",
       "version_major": 2,
       "version_minor": 0
      },
      "text/plain": [
       "Epoch 30/100 训练:   0%|          | 0/207 [00:00<?, ?it/s]"
      ]
     },
     "metadata": {},
     "output_type": "display_data"
    },
    {
     "data": {
      "application/vnd.jupyter.widget-view+json": {
       "model_id": "58149fb2389d426a9d0d090c41518511",
       "version_major": 2,
       "version_minor": 0
      },
      "text/plain": [
       "Epoch 31/100 训练:   0%|          | 0/207 [00:00<?, ?it/s]"
      ]
     },
     "metadata": {},
     "output_type": "display_data"
    },
    {
     "data": {
      "application/vnd.jupyter.widget-view+json": {
       "model_id": "b4c6001709e24cbaa4df963356621687",
       "version_major": 2,
       "version_minor": 0
      },
      "text/plain": [
       "Epoch 32/100 训练:   0%|          | 0/207 [00:00<?, ?it/s]"
      ]
     },
     "metadata": {},
     "output_type": "display_data"
    },
    {
     "data": {
      "application/vnd.jupyter.widget-view+json": {
       "model_id": "efd5ac47b71e4063a1ab7ef985d91dd5",
       "version_major": 2,
       "version_minor": 0
      },
      "text/plain": [
       "Epoch 33/100 训练:   0%|          | 0/207 [00:00<?, ?it/s]"
      ]
     },
     "metadata": {},
     "output_type": "display_data"
    },
    {
     "data": {
      "application/vnd.jupyter.widget-view+json": {
       "model_id": "2ec18a7d0b7d4a72a89c0df4c0616b43",
       "version_major": 2,
       "version_minor": 0
      },
      "text/plain": [
       "Epoch 34/100 训练:   0%|          | 0/207 [00:00<?, ?it/s]"
      ]
     },
     "metadata": {},
     "output_type": "display_data"
    },
    {
     "data": {
      "application/vnd.jupyter.widget-view+json": {
       "model_id": "5a2d07d7c0ac45a6ad308e8b70c1a028",
       "version_major": 2,
       "version_minor": 0
      },
      "text/plain": [
       "Epoch 35/100 训练:   0%|          | 0/207 [00:00<?, ?it/s]"
      ]
     },
     "metadata": {},
     "output_type": "display_data"
    },
    {
     "data": {
      "application/vnd.jupyter.widget-view+json": {
       "model_id": "516502755005466eb5fb7788a6406223",
       "version_major": 2,
       "version_minor": 0
      },
      "text/plain": [
       "Epoch 36/100 训练:   0%|          | 0/207 [00:00<?, ?it/s]"
      ]
     },
     "metadata": {},
     "output_type": "display_data"
    },
    {
     "data": {
      "application/vnd.jupyter.widget-view+json": {
       "model_id": "b88eb10bdf7c4130a5127c626b8fc573",
       "version_major": 2,
       "version_minor": 0
      },
      "text/plain": [
       "Epoch 37/100 训练:   0%|          | 0/207 [00:00<?, ?it/s]"
      ]
     },
     "metadata": {},
     "output_type": "display_data"
    },
    {
     "data": {
      "application/vnd.jupyter.widget-view+json": {
       "model_id": "22033056b17f455eae8f7488719c132a",
       "version_major": 2,
       "version_minor": 0
      },
      "text/plain": [
       "Epoch 38/100 训练:   0%|          | 0/207 [00:00<?, ?it/s]"
      ]
     },
     "metadata": {},
     "output_type": "display_data"
    },
    {
     "data": {
      "application/vnd.jupyter.widget-view+json": {
       "model_id": "925f9ea5997347a7b121317de5a9f4f5",
       "version_major": 2,
       "version_minor": 0
      },
      "text/plain": [
       "Epoch 39/100 训练:   0%|          | 0/207 [00:00<?, ?it/s]"
      ]
     },
     "metadata": {},
     "output_type": "display_data"
    },
    {
     "data": {
      "application/vnd.jupyter.widget-view+json": {
       "model_id": "c13c26e1c64248c19bebfbc820c992b7",
       "version_major": 2,
       "version_minor": 0
      },
      "text/plain": [
       "Epoch 40/100 训练:   0%|          | 0/207 [00:00<?, ?it/s]"
      ]
     },
     "metadata": {},
     "output_type": "display_data"
    },
    {
     "data": {
      "application/vnd.jupyter.widget-view+json": {
       "model_id": "5c8f16857c6a4806abe5f586a552d711",
       "version_major": 2,
       "version_minor": 0
      },
      "text/plain": [
       "Epoch 41/100 训练:   0%|          | 0/207 [00:00<?, ?it/s]"
      ]
     },
     "metadata": {},
     "output_type": "display_data"
    },
    {
     "data": {
      "application/vnd.jupyter.widget-view+json": {
       "model_id": "15b7b10615be44baa0b82ea500d67518",
       "version_major": 2,
       "version_minor": 0
      },
      "text/plain": [
       "Epoch 42/100 训练:   0%|          | 0/207 [00:00<?, ?it/s]"
      ]
     },
     "metadata": {},
     "output_type": "display_data"
    },
    {
     "data": {
      "application/vnd.jupyter.widget-view+json": {
       "model_id": "daecccad07904bb1b0cb629922d797fc",
       "version_major": 2,
       "version_minor": 0
      },
      "text/plain": [
       "Epoch 43/100 训练:   0%|          | 0/207 [00:00<?, ?it/s]"
      ]
     },
     "metadata": {},
     "output_type": "display_data"
    },
    {
     "data": {
      "application/vnd.jupyter.widget-view+json": {
       "model_id": "7850573d82544adeaaee64280c44ed9d",
       "version_major": 2,
       "version_minor": 0
      },
      "text/plain": [
       "Epoch 44/100 训练:   0%|          | 0/207 [00:00<?, ?it/s]"
      ]
     },
     "metadata": {},
     "output_type": "display_data"
    },
    {
     "data": {
      "application/vnd.jupyter.widget-view+json": {
       "model_id": "abbc66477b85431d8477cbfe21d1d267",
       "version_major": 2,
       "version_minor": 0
      },
      "text/plain": [
       "Epoch 45/100 训练:   0%|          | 0/207 [00:00<?, ?it/s]"
      ]
     },
     "metadata": {},
     "output_type": "display_data"
    },
    {
     "data": {
      "application/vnd.jupyter.widget-view+json": {
       "model_id": "5ae66e973f134c0bbaa3e94b39468a92",
       "version_major": 2,
       "version_minor": 0
      },
      "text/plain": [
       "Epoch 46/100 训练:   0%|          | 0/207 [00:00<?, ?it/s]"
      ]
     },
     "metadata": {},
     "output_type": "display_data"
    },
    {
     "data": {
      "application/vnd.jupyter.widget-view+json": {
       "model_id": "4d6dd13f32b0496bb0dc3747ae8f36dc",
       "version_major": 2,
       "version_minor": 0
      },
      "text/plain": [
       "Epoch 47/100 训练:   0%|          | 0/207 [00:00<?, ?it/s]"
      ]
     },
     "metadata": {},
     "output_type": "display_data"
    },
    {
     "data": {
      "application/vnd.jupyter.widget-view+json": {
       "model_id": "12908aea52ab4003bedfe9c8f340e2ab",
       "version_major": 2,
       "version_minor": 0
      },
      "text/plain": [
       "Epoch 48/100 训练:   0%|          | 0/207 [00:00<?, ?it/s]"
      ]
     },
     "metadata": {},
     "output_type": "display_data"
    },
    {
     "data": {
      "application/vnd.jupyter.widget-view+json": {
       "model_id": "136afeda32c548b8a69038d349a03a15",
       "version_major": 2,
       "version_minor": 0
      },
      "text/plain": [
       "Epoch 49/100 训练:   0%|          | 0/207 [00:00<?, ?it/s]"
      ]
     },
     "metadata": {},
     "output_type": "display_data"
    },
    {
     "data": {
      "application/vnd.jupyter.widget-view+json": {
       "model_id": "efc6f33b14b24d1392975855e97aaf80",
       "version_major": 2,
       "version_minor": 0
      },
      "text/plain": [
       "Epoch 50/100 训练:   0%|          | 0/207 [00:00<?, ?it/s]"
      ]
     },
     "metadata": {},
     "output_type": "display_data"
    },
    {
     "data": {
      "application/vnd.jupyter.widget-view+json": {
       "model_id": "e799d1d1076a4791b71b00517ba0a1f2",
       "version_major": 2,
       "version_minor": 0
      },
      "text/plain": [
       "Epoch 51/100 训练:   0%|          | 0/207 [00:00<?, ?it/s]"
      ]
     },
     "metadata": {},
     "output_type": "display_data"
    },
    {
     "data": {
      "application/vnd.jupyter.widget-view+json": {
       "model_id": "35635379f6f7446da6259709f367c131",
       "version_major": 2,
       "version_minor": 0
      },
      "text/plain": [
       "Epoch 52/100 训练:   0%|          | 0/207 [00:00<?, ?it/s]"
      ]
     },
     "metadata": {},
     "output_type": "display_data"
    },
    {
     "data": {
      "application/vnd.jupyter.widget-view+json": {
       "model_id": "1fa8f308dd9f4510b2e9f7370896acc1",
       "version_major": 2,
       "version_minor": 0
      },
      "text/plain": [
       "Epoch 53/100 训练:   0%|          | 0/207 [00:00<?, ?it/s]"
      ]
     },
     "metadata": {},
     "output_type": "display_data"
    },
    {
     "data": {
      "application/vnd.jupyter.widget-view+json": {
       "model_id": "ad6f0255892b48258b5894d0705fcfe1",
       "version_major": 2,
       "version_minor": 0
      },
      "text/plain": [
       "Epoch 54/100 训练:   0%|          | 0/207 [00:00<?, ?it/s]"
      ]
     },
     "metadata": {},
     "output_type": "display_data"
    },
    {
     "data": {
      "application/vnd.jupyter.widget-view+json": {
       "model_id": "3c9296c5928b4f4d94bfea253e7293fa",
       "version_major": 2,
       "version_minor": 0
      },
      "text/plain": [
       "Epoch 55/100 训练:   0%|          | 0/207 [00:00<?, ?it/s]"
      ]
     },
     "metadata": {},
     "output_type": "display_data"
    },
    {
     "data": {
      "application/vnd.jupyter.widget-view+json": {
       "model_id": "42ca9008b0124c5f8df9db54b18388b5",
       "version_major": 2,
       "version_minor": 0
      },
      "text/plain": [
       "Epoch 56/100 训练:   0%|          | 0/207 [00:00<?, ?it/s]"
      ]
     },
     "metadata": {},
     "output_type": "display_data"
    },
    {
     "data": {
      "application/vnd.jupyter.widget-view+json": {
       "model_id": "a2bf275b24be4decae01dc453fd2ec0e",
       "version_major": 2,
       "version_minor": 0
      },
      "text/plain": [
       "Epoch 57/100 训练:   0%|          | 0/207 [00:00<?, ?it/s]"
      ]
     },
     "metadata": {},
     "output_type": "display_data"
    },
    {
     "data": {
      "application/vnd.jupyter.widget-view+json": {
       "model_id": "068282677de84f32b9f15d46a3004a5a",
       "version_major": 2,
       "version_minor": 0
      },
      "text/plain": [
       "Epoch 58/100 训练:   0%|          | 0/207 [00:00<?, ?it/s]"
      ]
     },
     "metadata": {},
     "output_type": "display_data"
    },
    {
     "data": {
      "application/vnd.jupyter.widget-view+json": {
       "model_id": "8b1d9355e9f44d2bb79a76f408850833",
       "version_major": 2,
       "version_minor": 0
      },
      "text/plain": [
       "Epoch 59/100 训练:   0%|          | 0/207 [00:00<?, ?it/s]"
      ]
     },
     "metadata": {},
     "output_type": "display_data"
    },
    {
     "data": {
      "application/vnd.jupyter.widget-view+json": {
       "model_id": "d184802cb27e4df2a837075f12182ca1",
       "version_major": 2,
       "version_minor": 0
      },
      "text/plain": [
       "Epoch 60/100 训练:   0%|          | 0/207 [00:00<?, ?it/s]"
      ]
     },
     "metadata": {},
     "output_type": "display_data"
    },
    {
     "data": {
      "application/vnd.jupyter.widget-view+json": {
       "model_id": "868159a686614bfb93dfa04560b25ed9",
       "version_major": 2,
       "version_minor": 0
      },
      "text/plain": [
       "Epoch 61/100 训练:   0%|          | 0/207 [00:00<?, ?it/s]"
      ]
     },
     "metadata": {},
     "output_type": "display_data"
    },
    {
     "data": {
      "application/vnd.jupyter.widget-view+json": {
       "model_id": "70509339cfbc4a168c65c4217e811d52",
       "version_major": 2,
       "version_minor": 0
      },
      "text/plain": [
       "Epoch 62/100 训练:   0%|          | 0/207 [00:00<?, ?it/s]"
      ]
     },
     "metadata": {},
     "output_type": "display_data"
    },
    {
     "data": {
      "application/vnd.jupyter.widget-view+json": {
       "model_id": "ca0340802b0a411da61607a64cdae4c9",
       "version_major": 2,
       "version_minor": 0
      },
      "text/plain": [
       "Epoch 63/100 训练:   0%|          | 0/207 [00:00<?, ?it/s]"
      ]
     },
     "metadata": {},
     "output_type": "display_data"
    },
    {
     "data": {
      "application/vnd.jupyter.widget-view+json": {
       "model_id": "4f3c5430f75d40a9815b698bf27ae998",
       "version_major": 2,
       "version_minor": 0
      },
      "text/plain": [
       "Epoch 64/100 训练:   0%|          | 0/207 [00:00<?, ?it/s]"
      ]
     },
     "metadata": {},
     "output_type": "display_data"
    },
    {
     "data": {
      "application/vnd.jupyter.widget-view+json": {
       "model_id": "426bd6aedafd4f3a9cf0f4176357eb60",
       "version_major": 2,
       "version_minor": 0
      },
      "text/plain": [
       "Epoch 65/100 训练:   0%|          | 0/207 [00:00<?, ?it/s]"
      ]
     },
     "metadata": {},
     "output_type": "display_data"
    },
    {
     "data": {
      "application/vnd.jupyter.widget-view+json": {
       "model_id": "bce504ac47644b21b029b09ebeb8a4f2",
       "version_major": 2,
       "version_minor": 0
      },
      "text/plain": [
       "Epoch 66/100 训练:   0%|          | 0/207 [00:00<?, ?it/s]"
      ]
     },
     "metadata": {},
     "output_type": "display_data"
    },
    {
     "data": {
      "application/vnd.jupyter.widget-view+json": {
       "model_id": "e03b867d0c9b4cd7a745e0f56208b58b",
       "version_major": 2,
       "version_minor": 0
      },
      "text/plain": [
       "Epoch 67/100 训练:   0%|          | 0/207 [00:00<?, ?it/s]"
      ]
     },
     "metadata": {},
     "output_type": "display_data"
    },
    {
     "data": {
      "application/vnd.jupyter.widget-view+json": {
       "model_id": "27ee5df0fbc14398ab1572067af77ea7",
       "version_major": 2,
       "version_minor": 0
      },
      "text/plain": [
       "Epoch 68/100 训练:   0%|          | 0/207 [00:00<?, ?it/s]"
      ]
     },
     "metadata": {},
     "output_type": "display_data"
    },
    {
     "data": {
      "application/vnd.jupyter.widget-view+json": {
       "model_id": "8cd929b1f3a443499a91ddf003ebd3c2",
       "version_major": 2,
       "version_minor": 0
      },
      "text/plain": [
       "Epoch 69/100 训练:   0%|          | 0/207 [00:00<?, ?it/s]"
      ]
     },
     "metadata": {},
     "output_type": "display_data"
    },
    {
     "data": {
      "application/vnd.jupyter.widget-view+json": {
       "model_id": "542d9b921b84437f80ccabc54a4f9a19",
       "version_major": 2,
       "version_minor": 0
      },
      "text/plain": [
       "Epoch 70/100 训练:   0%|          | 0/207 [00:00<?, ?it/s]"
      ]
     },
     "metadata": {},
     "output_type": "display_data"
    },
    {
     "data": {
      "application/vnd.jupyter.widget-view+json": {
       "model_id": "e628327db56c4558b7bd0789384289b7",
       "version_major": 2,
       "version_minor": 0
      },
      "text/plain": [
       "Epoch 71/100 训练:   0%|          | 0/207 [00:00<?, ?it/s]"
      ]
     },
     "metadata": {},
     "output_type": "display_data"
    },
    {
     "data": {
      "application/vnd.jupyter.widget-view+json": {
       "model_id": "0f9cd7a2366741438913df9301aced5a",
       "version_major": 2,
       "version_minor": 0
      },
      "text/plain": [
       "Epoch 72/100 训练:   0%|          | 0/207 [00:00<?, ?it/s]"
      ]
     },
     "metadata": {},
     "output_type": "display_data"
    },
    {
     "data": {
      "application/vnd.jupyter.widget-view+json": {
       "model_id": "7762267e77fb4c9fbb5646570b9a0625",
       "version_major": 2,
       "version_minor": 0
      },
      "text/plain": [
       "Epoch 73/100 训练:   0%|          | 0/207 [00:00<?, ?it/s]"
      ]
     },
     "metadata": {},
     "output_type": "display_data"
    },
    {
     "data": {
      "application/vnd.jupyter.widget-view+json": {
       "model_id": "1efdfa76c0ea4faaabf70da00bbe91ae",
       "version_major": 2,
       "version_minor": 0
      },
      "text/plain": [
       "Epoch 74/100 训练:   0%|          | 0/207 [00:00<?, ?it/s]"
      ]
     },
     "metadata": {},
     "output_type": "display_data"
    },
    {
     "data": {
      "application/vnd.jupyter.widget-view+json": {
       "model_id": "a20824b9347e4ae1b9ce6d67568dd3f8",
       "version_major": 2,
       "version_minor": 0
      },
      "text/plain": [
       "Epoch 75/100 训练:   0%|          | 0/207 [00:00<?, ?it/s]"
      ]
     },
     "metadata": {},
     "output_type": "display_data"
    },
    {
     "data": {
      "application/vnd.jupyter.widget-view+json": {
       "model_id": "1f14b9bd500a411ea211707b07f74179",
       "version_major": 2,
       "version_minor": 0
      },
      "text/plain": [
       "Epoch 76/100 训练:   0%|          | 0/207 [00:00<?, ?it/s]"
      ]
     },
     "metadata": {},
     "output_type": "display_data"
    },
    {
     "data": {
      "application/vnd.jupyter.widget-view+json": {
       "model_id": "1a860a6e262049448f0ba7243298c19e",
       "version_major": 2,
       "version_minor": 0
      },
      "text/plain": [
       "Epoch 77/100 训练:   0%|          | 0/207 [00:00<?, ?it/s]"
      ]
     },
     "metadata": {},
     "output_type": "display_data"
    },
    {
     "data": {
      "application/vnd.jupyter.widget-view+json": {
       "model_id": "1fb25e75034a446e91b0bebe950de651",
       "version_major": 2,
       "version_minor": 0
      },
      "text/plain": [
       "Epoch 78/100 训练:   0%|          | 0/207 [00:00<?, ?it/s]"
      ]
     },
     "metadata": {},
     "output_type": "display_data"
    },
    {
     "data": {
      "application/vnd.jupyter.widget-view+json": {
       "model_id": "b632feb675d742b7a9915c915baee5b2",
       "version_major": 2,
       "version_minor": 0
      },
      "text/plain": [
       "Epoch 79/100 训练:   0%|          | 0/207 [00:00<?, ?it/s]"
      ]
     },
     "metadata": {},
     "output_type": "display_data"
    },
    {
     "data": {
      "application/vnd.jupyter.widget-view+json": {
       "model_id": "24cdff0bb85c46c6bbc379768060facd",
       "version_major": 2,
       "version_minor": 0
      },
      "text/plain": [
       "Epoch 80/100 训练:   0%|          | 0/207 [00:00<?, ?it/s]"
      ]
     },
     "metadata": {},
     "output_type": "display_data"
    },
    {
     "name": "stdout",
     "output_type": "stream",
     "text": [
      "早停触发! 最佳验证准确率: -0.3361\n",
      "早停: 已有10轮验证损失没有改善！\n"
     ]
    }
   ],
   "source": [
    "\n",
    "\n",
    "early_stopping = EarlyStopping(patience=10, verbose=True)\n",
    "model_saver = ModelSaver(save_dir='model_weights')\n",
    "device = torch.device(\"cuda:0\" if torch.cuda.is_available() else \"cpu\")\n",
    "model, record_dict = train_regression_model(\n",
    "    model=model,\n",
    "    train_loader=train_loader,\n",
    "    val_loader=val_loader,\n",
    "    criterion=criterion,\n",
    "    optimizer=optimizer,\n",
    "    num_epochs=100,\n",
    "    eval_interval=500,\n",
    "    early_stopping=early_stopping,\n",
    "    model_saver=model_saver,\n",
    "    device=device\n",
    ")"
   ]
  },
  {
   "cell_type": "code",
   "execution_count": 11,
   "id": "cec953ec",
   "metadata": {},
   "outputs": [
    {
     "name": "stdout",
     "output_type": "stream",
     "text": [
      "训练集 - 均方误差: 0.3010\n",
      "验证集 - 均方误差: 0.3428\n",
      "测试集 - 均方误差: 0.3252\n"
     ]
    }
   ],
   "source": [
    "train_loss = evaluate_regression_model(model, train_loader,device, criterion)\n",
    "val_loss= evaluate_regression_model(model, val_loader,device, criterion)\n",
    "test_loss = evaluate_regression_model(model, test_loader,device, criterion)\n",
    "\n",
    "print(f\"训练集 - 均方误差: {train_loss:.4f}\")\n",
    "print(f\"验证集 - 均方误差: {val_loss:.4f}\")\n",
    "print(f\"测试集 - 均方误差: {test_loss:.4f}\")"
   ]
  },
  {
   "cell_type": "code",
   "execution_count": 12,
   "id": "1797a25e",
   "metadata": {
    "execution": {
     "iopub.execute_input": "2025-06-25T13:25:36.539742Z",
     "iopub.status.busy": "2025-06-25T13:25:36.539277Z",
     "iopub.status.idle": "2025-06-25T13:25:36.728469Z",
     "shell.execute_reply": "2025-06-25T13:25:36.727748Z",
     "shell.execute_reply.started": "2025-06-25T13:25:36.539712Z"
    },
    "tags": []
   },
   "outputs": [
    {
     "data": {
      "image/png": "[encoded data removed]",
      "text/plain": [
       "<Figure size 1000x500 with 1 Axes>"
      ]
     },
     "metadata": {},
     "output_type": "display_data"
    }
   ],
   "source": [
    "#画图\n",
    "plot_learning_loss_curves(record_dict,sample_step=500)\n"
   ]
  },
  {
   "cell_type": "code",
   "execution_count": 13,
   "id": "73870a5d",
   "metadata": {},
   "outputs": [
    {
     "name": "stdout",
     "output_type": "stream",
     "text": [
      "测试集上的损失为0.3252\n"
     ]
    }
   ],
   "source": [
    "device = torch.device(\"cuda:0\" if torch.cuda.is_available() else \"cpu\")\n",
    "test_loss=evaluate_regression_model(model,test_loader,device,criterion)\n",
    "print(f\"测试集上的损失为{test_loss:.4f}\")"
   ]
  }
 ],
 "metadata": {
  "kernelspec": {
   "display_name": "Python 3",
   "language": "python",
   "name": "python3"
  },
  "language_info": {
   "codemirror_mode": {
    "name": "ipython",
    "version": 3
   },
   "file_extension": ".py",
   "mimetype": "text/x-python",
   "name": "python",
   "nbconvert_exporter": "python",
   "pygments_lexer": "ipython3",
   "version": "3.12.1"
  }
 },
 "nbformat": 4,
 "nbformat_minor": 5
}
