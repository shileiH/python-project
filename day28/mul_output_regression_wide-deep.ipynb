{
 "cells": [
  {
   "cell_type": "code",
   "execution_count": 1,
   "id": "1b4c1f1b-db1b-4a19-96c3-ff605b08451c",
   "metadata": {
    "execution": {
     "iopub.execute_input": "2025-06-25T13:25:04.263231Z",
     "iopub.status.busy": "2025-06-25T13:25:04.262802Z",
     "iopub.status.idle": "2025-06-25T13:25:06.892654Z",
     "shell.execute_reply": "2025-06-25T13:25:06.892098Z",
     "shell.execute_reply.started": "2025-06-25T13:25:04.263201Z"
    },
    "tags": []
   },
   "outputs": [],
   "source": [
    "import numpy as np\n",
    "import pandas as pd\n",
    "import matplotlib.pyplot as plt\n",
    "from sklearn.datasets import fetch_california_housing\n",
    "from sklearn.model_selection import train_test_split\n",
    "from sklearn.preprocessing import StandardScaler\n",
    "from deeplearing_model import ModelSaver,EarlyStopping,plot_learning_curves,plot_learning_loss_curves\n",
    "from deeplearing_model import evaluate_milti_output_model,train_milti_output_model\n",
    "import torch\n",
    "import torch.nn as nn\n",
    "import torch.optim as optim\n",
    "from torch.utils.data import DataLoader, Dataset"
   ]
  },
  {
   "cell_type": "markdown",
   "id": "f5278c9b",
   "metadata": {},
   "source": [
    "# 准备数据"
   ]
  },
  {
   "cell_type": "code",
   "execution_count": 2,
   "id": "2b2b376b-c390-4f1a-9fc5-3752a09fbb0e",
   "metadata": {
    "ExecutionIndicator": {
     "show": false
    },
    "execution": {
     "iopub.execute_input": "2025-06-25T13:25:06.894083Z",
     "iopub.status.busy": "2025-06-25T13:25:06.893689Z",
     "iopub.status.idle": "2025-06-25T13:25:06.911621Z",
     "shell.execute_reply": "2025-06-25T13:25:06.911045Z",
     "shell.execute_reply.started": "2025-06-25T13:25:06.894061Z"
    },
    "tags": []
   },
   "outputs": [
    {
     "name": "stdout",
     "output_type": "stream",
     "text": [
      "训练集大小: 13209\n",
      "验证集大小: 3303\n",
      "测试集大小: 4128\n"
     ]
    }
   ],
   "source": [
    "# 加载加利福尼亚房价数据集\n",
    "housing = fetch_california_housing()\n",
    "X = housing.data\n",
    "y = housing.target\n",
    "\n",
    "# 数据拆分：训练集(64%)、验证集(16%)、测试集(20%)\n",
    "X_train_val, X_test, y_train_val, y_test = train_test_split(X, y, test_size=0.2, random_state=42)\n",
    "X_train, X_val, y_train, y_val = train_test_split(X_train_val, y_train_val, test_size=0.2, random_state=42)  # 0.25 x 0.8 = 0.2\n",
    "\n",
    "print(f\"训练集大小: {X_train.shape[0]}\")\n",
    "print(f\"验证集大小: {X_val.shape[0]}\")\n",
    "print(f\"测试集大小: {X_test.shape[0]}\")"
   ]
  },
  {
   "cell_type": "code",
   "execution_count": 3,
   "id": "6b68c883-3224-47b0-b989-38833b4b58f8",
   "metadata": {
    "ExecutionIndicator": {
     "show": true
    },
    "execution": {
     "iopub.execute_input": "2025-06-25T13:25:06.912464Z",
     "iopub.status.busy": "2025-06-25T13:25:06.912261Z",
     "iopub.status.idle": "2025-06-25T13:25:06.922206Z",
     "shell.execute_reply": "2025-06-25T13:25:06.921710Z",
     "shell.execute_reply.started": "2025-06-25T13:25:06.912432Z"
    },
    "tags": []
   },
   "outputs": [],
   "source": [
    "# 数据标准化\n",
    "scaler = StandardScaler()\n",
    "X_train_scaled = scaler.fit_transform(X_train)\n",
    "X_val_scaled = scaler.transform(X_val)\n",
    "X_test_scaled = scaler.transform(X_test)\n",
    "\n",
    "# 自定义数据集类\n",
    "class HousingDataset(Dataset):\n",
    "    def __init__(self, features, targets):\n",
    "        self.features = torch.FloatTensor(features)\n",
    "        self.targets = torch.FloatTensor(targets).view(-1, 1)\n",
    "        \n",
    "    def __len__(self):\n",
    "        return len(self.features) #返回样本数量\n",
    "    \n",
    "    def __getitem__(self, idx): #传入索引，返回对应索引样本的特征和目标\n",
    "        return self.features[idx], self.targets[idx]\n",
    "\n",
    "# 创建数据集实例\n",
    "train_dataset = HousingDataset(X_train_scaled, y_train)\n",
    "val_dataset = HousingDataset(X_val_scaled, y_val)\n",
    "test_dataset = HousingDataset(X_test_scaled, y_test)"
   ]
  },
  {
   "cell_type": "code",
   "execution_count": 4,
   "id": "5ef15039",
   "metadata": {
    "execution": {
     "iopub.execute_input": "2025-06-25T13:25:06.923378Z",
     "iopub.status.busy": "2025-06-25T13:25:06.922880Z",
     "iopub.status.idle": "2025-06-25T13:25:06.929927Z",
     "shell.execute_reply": "2025-06-25T13:25:06.929414Z",
     "shell.execute_reply.started": "2025-06-25T13:25:06.923349Z"
    }
   },
   "outputs": [
    {
     "data": {
      "text/plain": [
       "'\\noptimizer = optim.Adam(model.parameters(), lr=0.001, betas=(0.9, 0.999), eps=1e-08, weight_decay=0)\\n参数解释：\\n- lr: 学习率，控制参数更新步长,默认: 0.001\\n- betas: 用于计算梯度及其平方的运行平均值的系数,默认: (0.9, 0.999)\\n- eps: 添加到分母以提高数值稳定性的项,默认: 1e-8\\n- weight_decay: 权重衰减L2惩罚,默认: 0\\n'"
      ]
     },
     "execution_count": 4,
     "metadata": {},
     "output_type": "execute_result"
    }
   ],
   "source": [
    "# Adam优化器的特点\n",
    "\"\"\"\n",
    "Adam优化器的特点\n",
    "1. 自适应学习率 - 为每个参数计算不同的学习率，适应性强\n",
    "2. 结合了动量Momentum和RMSProp的优点 - 加速收敛并处理稀疏梯度\n",
    "3. 偏差修正 - 修正初始训练阶段的估计偏差\n",
    "4. 计算效率高 - 计算量小，内存需求低\n",
    "5. 超参数稳健 - 默认超参数通常工作良好，不需要频繁调整\n",
    "\"\"\"\n",
    "\n",
    "# Adam优化器参数说明\n",
    "\"\"\"\n",
    "optimizer = optim.Adam(model.parameters(), lr=0.001, betas=(0.9, 0.999), eps=1e-08, weight_decay=0)\n",
    "参数解释：\n",
    "- lr: 学习率，控制参数更新步长,默认: 0.001\n",
    "- betas: 用于计算梯度及其平方的运行平均值的系数,默认: (0.9, 0.999)\n",
    "- eps: 添加到分母以提高数值稳定性的项,默认: 1e-8\n",
    "- weight_decay: 权重衰减L2惩罚,默认: 0\n",
    "\"\"\""
   ]
  },
  {
   "cell_type": "code",
   "execution_count": 12,
   "id": "5173baa2-9620-417d-8eef-574aebede700",
   "metadata": {
    "execution": {
     "iopub.execute_input": "2025-06-25T13:25:06.931362Z",
     "iopub.status.busy": "2025-06-25T13:25:06.931037Z",
     "iopub.status.idle": "2025-06-25T13:25:36.348481Z",
     "shell.execute_reply": "2025-06-25T13:25:36.347876Z",
     "shell.execute_reply.started": "2025-06-25T13:25:06.931344Z"
    }
   },
   "outputs": [
    {
     "name": "stdout",
     "output_type": "stream",
     "text": [
      "WideDeepgModel(\n",
      "  (deep): Sequential(\n",
      "    (0): Linear(in_features=8, out_features=30, bias=True)\n",
      "    (1): ReLU()\n",
      "    (2): Dropout(p=0.2, inplace=False)\n",
      "    (3): Linear(in_features=30, out_features=30, bias=True)\n",
      "    (4): ReLU()\n",
      "  )\n",
      "  (output): Linear(in_features=38, out_features=1, bias=True)\n",
      ")\n"
     ]
    }
   ],
   "source": [
    "# 创建数据加载器\n",
    "batch_size = 64  # 每批处理的样本数量\n",
    "train_loader = DataLoader(train_dataset, batch_size=batch_size, shuffle=True)  # 训练数据加载器，打乱数据\n",
    "val_loader = DataLoader(val_dataset, batch_size=batch_size)  # 验证数据加载器\n",
    "test_loader = DataLoader(test_dataset, batch_size=batch_size)  # 测试数据加载器\n",
    "\n",
    "# 定义WideDeep神经网络模型,多输出模型\n",
    "class WideDeepgModel(nn.Module):\n",
    "    def __init__(self, input_size):\n",
    "        super().__init__()\n",
    "    \n",
    "        \n",
    "        # Deep部分 - 使用Sequential构建多层神经网络\n",
    "        self.deep = nn.Sequential(\n",
    "            nn.Linear(input_size, 30),  # 第一层隐藏层\n",
    "            nn.ReLU(),\n",
    "            nn.Dropout(0.2),  # 第一层添加dropout，防止过拟合\n",
    "            nn.Linear(30, 30),  # 第二层隐藏层\n",
    "            nn.ReLU()\n",
    "        )\n",
    "        self.output = nn.Linear(30 + input_size, 1)\n",
    "        \n",
    "    def forward(self, x):\n",
    "        # Wide部分直接线性映射\n",
    "        wide_output = x # 宽路径输出\n",
    "        \n",
    "        # Deep部分使用Sequential处理\n",
    "        deep_output = self.deep(x)  # Deep部分的最终输出\n",
    "        \n",
    "        # 连接Wide和Deep,combined shape是[batch_size, 30 + input_dim]\n",
    "        combined = torch.cat([wide_output, deep_output], dim=1)\n",
    "        \n",
    "        # 输出层，输出shape是[batch_size, 1]\n",
    "        output = self.output(combined)\n",
    "        # 返回两个输出：最终输出(wide+deep)和deep特征\n",
    "        return output, deep_output  # 返回合并输出和输入特征\n",
    "\n",
    "# 初始化模型\n",
    "input_size = X_train.shape[1]  # 特征数量，8列数据\n",
    "model = WideDeepgModel(input_size) #初始化模型，输入8列数据，输出1列数据\n",
    "\n",
    "# 定义损失函数和优化器\n",
    "criterion = nn.MSELoss()  # 均方误差损失函数，适用于回归问题\n",
    "optimizer = optim.Adam(model.parameters(), lr=0.001)  # Adam优化器，学习率为0.001\n",
    "\n",
    "# 打印模型结构\n",
    "print(model)"
   ]
  },
  {
   "cell_type": "code",
   "execution_count": 13,
   "id": "890f407f",
   "metadata": {
    "execution": {
     "iopub.execute_input": "2025-06-25T13:25:36.349624Z",
     "iopub.status.busy": "2025-06-25T13:25:36.349262Z",
     "iopub.status.idle": "2025-06-25T13:25:36.538524Z",
     "shell.execute_reply": "2025-06-25T13:25:36.537953Z",
     "shell.execute_reply.started": "2025-06-25T13:25:36.349605Z"
    }
   },
   "outputs": [
    {
     "data": {
      "application/vnd.jupyter.widget-view+json": {
       "model_id": "b7e8856c0f2a4eae8d49f1655bbb432f",
       "version_major": 2,
       "version_minor": 0
      },
      "text/plain": [
       "  0%|          | 0/20700 [00:00<?, ?it/s]"
      ]
     },
     "metadata": {},
     "output_type": "display_data"
    },
    {
     "name": "stderr",
     "output_type": "stream",
     "text": [
      "d:\\python\\Lib\\site-packages\\torch\\nn\\modules\\loss.py:610: UserWarning: Using a target size (torch.Size([39, 1])) that is different to the input size (torch.Size([39, 30])). This will likely lead to incorrect results due to broadcasting. Please ensure they have the same size.\n",
      "  return F.mse_loss(input, target, reduction=self.reduction)\n"
     ]
    },
    {
     "name": "stdout",
     "output_type": "stream",
     "text": [
      "早停触发!\n",
      "1.4935\n",
      "早停: 已有5轮验证损失没有改善！\n"
     ]
    }
   ],
   "source": [
    "\n",
    "\n",
    "early_stopping = EarlyStopping(patience=10, verbose=True)\n",
    "model_saver = ModelSaver(save_dir='model_weights')\n",
    "device = torch.device(\"cuda:0\" if torch.cuda.is_available() else \"cpu\")\n",
    "\n",
    "model, record_dict = train_milti_output_model(\n",
    "    model=model,\n",
    "    train_loader=train_loader,\n",
    "    val_loader=val_loader,\n",
    "    criterion=criterion,\n",
    "    optimizer=optimizer,\n",
    "    num_epochs=100,\n",
    "    eval_step=500,\n",
    "    early_stopping=early_stopping,\n",
    "    model_saver=model_saver,\n",
    "    device=device\n",
    ")"
   ]
  },
  {
   "cell_type": "code",
   "execution_count": 7,
   "id": "cec953ec",
   "metadata": {},
   "outputs": [
    {
     "name": "stderr",
     "output_type": "stream",
     "text": [
      "d:\\python\\Lib\\site-packages\\torch\\nn\\modules\\loss.py:610: UserWarning: Using a target size (torch.Size([25, 1])) that is different to the input size (torch.Size([25, 30])). This will likely lead to incorrect results due to broadcasting. Please ensure they have the same size.\n",
      "  return F.mse_loss(input, target, reduction=self.reduction)\n",
      "d:\\python\\Lib\\site-packages\\torch\\nn\\modules\\loss.py:610: UserWarning: Using a target size (torch.Size([32, 1])) that is different to the input size (torch.Size([32, 30])). This will likely lead to incorrect results due to broadcasting. Please ensure they have the same size.\n",
      "  return F.mse_loss(input, target, reduction=self.reduction)\n"
     ]
    },
    {
     "name": "stdout",
     "output_type": "stream",
     "text": [
      "训练集 - 均方误差: 0.7209\n",
      "验证集 - 均方误差: 0.8028\n",
      "测试集 - 均方误差: 0.7499\n"
     ]
    }
   ],
   "source": [
    "train_loss = evaluate_milti_output_model(model, train_loader,device, criterion)\n",
    "val_loss= evaluate_milti_output_model(model, val_loader,device, criterion)\n",
    "test_loss = evaluate_milti_output_model(model, test_loader,device, criterion)\n",
    "\n",
    "print(f\"训练集 - 均方误差: {train_loss:.4f}\")\n",
    "print(f\"验证集 - 均方误差: {val_loss:.4f}\")\n",
    "print(f\"测试集 - 均方误差: {test_loss:.4f}\")"
   ]
  },
  {
   "cell_type": "code",
   "execution_count": 8,
   "id": "1797a25e",
   "metadata": {
    "execution": {
     "iopub.execute_input": "2025-06-25T13:25:36.539742Z",
     "iopub.status.busy": "2025-06-25T13:25:36.539277Z",
     "iopub.status.idle": "2025-06-25T13:25:36.728469Z",
     "shell.execute_reply": "2025-06-25T13:25:36.727748Z",
     "shell.execute_reply.started": "2025-06-25T13:25:36.539712Z"
    },
    "tags": []
   },
   "outputs": [
    {
     "data": {
      "image/png": "[encoded data removed]",
      "text/plain": [
       "<Figure size 1000x500 with 1 Axes>"
      ]
     },
     "metadata": {},
     "output_type": "display_data"
    }
   ],
   "source": [
    "#画图\n",
    "plot_learning_loss_curves(record_dict,sample_step=500)\n"
   ]
  },
  {
   "cell_type": "code",
   "execution_count": 9,
   "id": "73870a5d",
   "metadata": {},
   "outputs": [
    {
     "name": "stdout",
     "output_type": "stream",
     "text": [
      "测试集上的损失为0.7499\n"
     ]
    },
    {
     "name": "stderr",
     "output_type": "stream",
     "text": [
      "d:\\python\\Lib\\site-packages\\torch\\nn\\modules\\loss.py:610: UserWarning: Using a target size (torch.Size([64, 1])) that is different to the input size (torch.Size([64, 30])). This will likely lead to incorrect results due to broadcasting. Please ensure they have the same size.\n",
      "  return F.mse_loss(input, target, reduction=self.reduction)\n",
      "d:\\python\\Lib\\site-packages\\torch\\nn\\modules\\loss.py:610: UserWarning: Using a target size (torch.Size([32, 1])) that is different to the input size (torch.Size([32, 30])). This will likely lead to incorrect results due to broadcasting. Please ensure they have the same size.\n",
      "  return F.mse_loss(input, target, reduction=self.reduction)\n"
     ]
    }
   ],
   "source": [
    "device = torch.device(\"cuda:0\" if torch.cuda.is_available() else \"cpu\")\n",
    "test_loss=evaluate_milti_output_model(model,test_loader,device,criterion)\n",
    "print(f\"测试集上的损失为{test_loss:.4f}\")"
   ]
  }
 ],
 "metadata": {
  "kernelspec": {
   "display_name": "Python 3",
   "language": "python",
   "name": "python3"
  },
  "language_info": {
   "codemirror_mode": {
    "name": "ipython",
    "version": 3
   },
   "file_extension": ".py",
   "mimetype": "text/x-python",
   "name": "python",
   "nbconvert_exporter": "python",
   "pygments_lexer": "ipython3",
   "version": "3.12.1"
  }
 },
 "nbformat": 4,
 "nbformat_minor": 5
}
