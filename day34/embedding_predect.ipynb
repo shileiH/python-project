{
 "cells": [
  {
   "cell_type": "code",
   "execution_count": 103,
   "metadata": {},
   "outputs": [],
   "source": [
    "import numpy as np\n",
    "import matplotlib.pyplot as plt\n",
    "import tensorflow as tf\n",
    "from tensorflow import keras\n",
    "from tensorflow.keras.datasets import imdb\n",
    "from tensorflow.keras.preprocessing.sequence import pad_sequences"
   ]
  },
  {
   "cell_type": "code",
   "execution_count": 104,
   "metadata": {},
   "outputs": [
    {
     "name": "stdout",
     "output_type": "stream",
     "text": [
      "训练集样本数: 25000, 测试集样本数: 25000\n",
      "标签示例: [1 0 0 1 0 0 1 0 1 0]\n",
      "一个样本的词索引序列: [1, 14, 22, 16, 43, 530, 973, 1622, 1385, 65, 458, 4468, 66, 3941, 4, 173, 36, 256, 5, 25, 100, 43, 838, 112, 50, 670, 2, 9, 35, 480, 284, 5, 150, 4, 172, 112, 167, 2, 336, 385, 39, 4, 172, 4536, 1111, 17, 546, 38, 13, 447, 4, 192, 50, 16, 6, 147, 2025, 19, 14, 22, 4, 1920, 4613, 469, 4, 22, 71, 87, 12, 16, 43, 530, 38, 76, 15, 13, 1247, 4, 22, 17, 515, 17, 12, 16, 626, 18, 2, 5, 62, 386, 12, 8, 316, 8, 106, 5, 4, 2223, 5244, 16]...\n"
     ]
    }
   ],
   "source": [
    "\n",
    "# 加载IMDB数据集\n",
    "# num_words=10000表示只保留最常见的10000个词，本身数据集有88582个词，如果未出现词，则用<UNK>表示\n",
    "# 参数说明：\n",
    "# - num_words: 保留的最常见词的数量\n",
    "# - skip_top: 跳过最常见的若干词（通常是停用词）\n",
    "# - maxlen: 序列最大长度\n",
    "# - index_from: 词索引的起始值，默认为3；0,1,2,3标签id被[]使用\n",
    "vocab_size=10000 # 保留最常用的10000个词\n",
    "(x_train, y_train), (x_test, y_test) = imdb.load_data(num_words=vocab_size, index_from=3)\n",
    "\n",
    "print(f\"训练集样本数: {len(x_train)}, 测试集样本数: {len(x_test)}\")\n",
    "print(f\"标签示例: {y_train[:10]}\")  # 0表示负面评论，1表示正面评论\n",
    "\n",
    "# 查看一个样本的词索引序列\n",
    "print(f\"一个样本的词索引序列: {x_train[0][:100]}...\")\n"
   ]
  },
  {
   "cell_type": "code",
   "execution_count": 105,
   "metadata": {},
   "outputs": [],
   "source": [
    "# 获取词索引映射，返回一个字典（词典），key是词，value是索引（token）\n",
    "word_index = imdb.get_word_index() # 获取词索引映射\n",
    "\n",
    "word_index = {word: idx + 3 for word, idx in word_index.items()}  # 0,1,2,3空出来做别的事,这里的idx是从1开始的,所以加3\n",
    "word_index.update({\n",
    "    \"[PAD]\": 0,  # 填充 token\n",
    "    \"[BOS]\": 1,  # begin of sentence\n",
    "    \"[UNK]\": 2,  # 未知 token\n",
    "    \"[EOS]\": 3,  # end of sentence\n",
    "})\n",
    "# 创建索引到词的映射\n",
    "reverse_word_index = {i: word for word, i in word_index.items()} #\n"
   ]
  },
  {
   "cell_type": "code",
   "execution_count": 106,
   "metadata": {},
   "outputs": [
    {
     "data": {
      "text/plain": [
       "4"
      ]
     },
     "execution_count": 106,
     "metadata": {},
     "output_type": "execute_result"
    }
   ],
   "source": [
    "word_index['the']"
   ]
  },
  {
   "cell_type": "code",
   "execution_count": 107,
   "metadata": {},
   "outputs": [
    {
     "data": {
      "text/plain": [
       "'the'"
      ]
     },
     "execution_count": 107,
     "metadata": {},
     "output_type": "execute_result"
    }
   ],
   "source": [
    "reverse_word_index[4]"
   ]
  },
  {
   "cell_type": "code",
   "execution_count": 108,
   "metadata": {},
   "outputs": [
    {
     "name": "stdout",
     "output_type": "stream",
     "text": [
      "\n",
      "解码后的样本文本:\n",
      "[BOS] this film was just brilliant casting location scenery story direction everyone's really suited the part they played and you could just imagine being there robert [UNK] is an amazing actor and now the same being director [UNK] father came from the same scottish island as myself so i loved the fact there was a real connection with this film the witty remarks throughout the film were great it was just brilliant so much that i bought the film as soon as it was released for [UNK] and would recommend it to everyone to watch and the fly fishing was amazing really cried at the end it was so sad and you know what they say if you cry at a film it must have been good and this definitely was also [UNK] to the two little boy's that played the [UNK] of norman and paul they were just brilliant children are often left out of the [UNK] list i think because the stars that play them all grown up are such a big profile for the whole film but these children are amazing and should be praised for what they have done don't you think the whole story was so lovely because it was true and was someone's life after all that was shared with us all\n"
     ]
    }
   ],
   "source": [
    "# 将一个样本的索引序列转换为文本\n",
    "def decode_review(indices):\n",
    "    return ' '.join([reverse_word_index.get(i, '?') for i in indices])\n",
    "\n",
    "print(\"\\n解码后的样本文本:\")\n",
    "print(decode_review(x_train[0]))"
   ]
  },
  {
   "cell_type": "code",
   "execution_count": 109,
   "metadata": {},
   "outputs": [
    {
     "data": {
      "text/plain": [
       "218"
      ]
     },
     "execution_count": 109,
     "metadata": {},
     "output_type": "execute_result"
    }
   ],
   "source": [
    "len(x_train[0])"
   ]
  },
  {
   "cell_type": "code",
   "execution_count": 110,
   "metadata": {},
   "outputs": [
    {
     "name": "stdout",
     "output_type": "stream",
     "text": [
      "验证集样本数: 10000\n",
      "测试集样本数: 15000\n",
      "验证集标签示例: [0 1 1 0 1 1 1 0 0 1]\n",
      "测试集标签示例: [1 1 0 1 0 0 1 0 1 1]\n"
     ]
    }
   ],
   "source": [
    "# 将测试集划分为验证集和测试集\n",
    "# 从原始测试集中取前10000个样本作为验证集\n",
    "x_val = x_test[:10000]\n",
    "y_val = y_test[:10000]\n",
    "\n",
    "# 剩余的15000个样本作为测试集\n",
    "x_test = x_test[10000:]\n",
    "y_test = y_test[10000:]\n",
    "\n",
    "print(f\"验证集样本数: {len(x_val)}\")\n",
    "print(f\"测试集样本数: {len(x_test)}\")\n",
    "print(f\"验证集标签示例: {y_val[:10]}\")\n",
    "print(f\"测试集标签示例: {y_test[:10]}\")"
   ]
  },
  {
   "cell_type": "code",
   "execution_count": 111,
   "metadata": {},
   "outputs": [
    {
     "data": {
      "text/plain": [
       "[['hello', 'world'],\n",
       " ['tokenize', 'text', 'datas', 'with', 'batch'],\n",
       " ['this', 'is', 'a', 'test']]"
      ]
     },
     "execution_count": 111,
     "metadata": {},
     "output_type": "execute_result"
    }
   ],
   "source": [
    "raw_text = [\"hello world\".split(), \"tokenize text datas with batch\".split(), \"this is a test\".split()]\n",
    "raw_text #用.split()划分成列表"
   ]
  },
  {
   "cell_type": "markdown",
   "metadata": {},
   "source": [
    "# 通过直方图来观察样本长度分布"
   ]
  },
  {
   "cell_type": "code",
   "execution_count": 112,
   "metadata": {},
   "outputs": [
    {
     "data": {
      "image/png": "[encoded data removed]",
      "text/plain": [
       "<Figure size 1000x600 with 1 Axes>"
      ]
     },
     "metadata": {},
     "output_type": "display_data"
    },
    {
     "name": "stdout",
     "output_type": "stream",
     "text": [
      "Number of samples with length <= 500: 22892 (91.57%)\n"
     ]
    }
   ],
   "source": [
    "import matplotlib.pyplot as plt\n",
    "\n",
    "# 计算每个样本的长度\n",
    "sample_lens = [len(sample) for sample in x_train]\n",
    "\n",
    "# 绘制直方图\n",
    "plt.figure(figsize=(10,6))\n",
    "plt.hist(sample_lens, bins=50, color='skyblue', edgecolor='black')\n",
    "plt.axvline(x=500, color='r', linestyle='--', label=f'500 Length')\n",
    "plt.title('Distribution of Sample Lengths')  # 英文标题\n",
    "plt.xlabel('Sample Length')  # 英文x轴\n",
    "plt.ylabel('Frequency')      # 英文y轴\n",
    "\n",
    "plt.grid(True)\n",
    "plt.show()\n",
    "\n",
    "# 统计长度小于等于500的样本数量以及百分比\n",
    "count_le_500 = sum([1 for l in sample_lens if l <= 500])\n",
    "percent_le_500 = count_le_500 / len(sample_lens) * 100  # 计算百分比\n",
    "print(f\"Number of samples with length <= 500: {count_le_500} ({percent_le_500:.2f}%)\")  # 英文输出，带百分比\n"
   ]
  },
  {
   "cell_type": "markdown",
   "metadata": {},
   "source": [
    "# Tokenizer"
   ]
  },
  {
   "cell_type": "code",
   "execution_count": 113,
   "metadata": {},
   "outputs": [],
   "source": [
    "class Tokenizer:\n",
    "    def __init__(self, word_index, reverse_word_index, max_len=None):\n",
    "        \"\"\"\n",
    "        参数:\n",
    "            word_index: dict, 词到索引的映射\n",
    "            reverse_word_index: dict, 索引到词的映射\n",
    "            max_len: int or None, 截断的最大长度（可选），用于encode和pad_sequence\n",
    "        \"\"\"\n",
    "        # 根据file_context_1，初始化word2idx和idx2word\n",
    "        # word_index 已经包含了所有词和特殊token的映射\n",
    "        self.word2idx = word_index.copy()  # 词到索引的映射\n",
    "        self.idx2word = reverse_word_index.copy()  # 索引到词的映射\n",
    "\n",
    "        # 特殊token的索引\n",
    "        self.pad_token = self.word2idx[\"[PAD]\"]   # 填充token\n",
    "        self.bos_token = self.word2idx[\"[BOS]\"]   # 句子起始\n",
    "        self.unk_token = self.word2idx[\"[UNK]\"]   # 未知token\n",
    "        self.end_token = self.word2idx[\"[END]\"] if \"[END]\" in self.word2idx else self.word2idx.get(\"[EOS]\", None)  # 句子结束（兼容旧词表）\n",
    "\n",
    "        self.max_len = max_len  # 截断最大长度属性\n",
    "\n",
    "    def fit(self, texts):\n",
    "        \"\"\"\n",
    "        参数:\n",
    "            texts: List[List[str]], 输入的分词文本列表\n",
    "        功能:\n",
    "            增量构建词表，避免覆盖已有特殊token\n",
    "        \"\"\"\n",
    "        idx = max(self.word2idx.values()) + 1  # 从当前最大索引+1开始\n",
    "        for sentence in texts:\n",
    "            for word in sentence:\n",
    "                if word not in self.word2idx:\n",
    "                    self.word2idx[word] = idx\n",
    "                    self.idx2word[idx] = word\n",
    "                    idx += 1\n",
    "        # 中文注释：增量构建词表，避免覆盖已有特殊token\n",
    "\n",
    "    def encode(self, sentence, add_bos=False, add_end=False, max_length=None, truncating='post'):\n",
    "        \"\"\"\n",
    "        参数:\n",
    "            sentence: List[str], 输入的分词句子\n",
    "            add_bos: bool, 是否添加BOS\n",
    "            add_end: bool, 是否添加END\n",
    "            max_length: int or None, 截断的最大长度（优先于类属性）\n",
    "            truncating: str, 'post'或'pre'，截断方式\n",
    "        返回:\n",
    "            tokens: List[int], 编码后的索引序列\n",
    "        \"\"\"\n",
    "        tokens = []\n",
    "        if add_bos:\n",
    "            tokens.append(self.bos_token)  # 添加BOS\n",
    "        for word in sentence:\n",
    "            tokens.append(self.word2idx.get(word, self.unk_token))  # 未知词用UNK\n",
    "        if add_end:\n",
    "            tokens.append(self.end_token)  # 添加END\n",
    "\n",
    "        # 截断逻辑\n",
    "        use_maxlen = max_length if max_length is not None else self.max_len\n",
    "        if use_maxlen is not None and len(tokens) > use_maxlen:\n",
    "            if truncating == 'post':\n",
    "                tokens = tokens[:use_maxlen]\n",
    "            else:\n",
    "                tokens = tokens[-use_maxlen:]\n",
    "        # 中文注释：编码时可选加BOS/END，未知词用UNK，支持截断\n",
    "        return tokens\n",
    "\n",
    "\n",
    "    def decode(self, sequences, skip_special_tokens=True):\n",
    "        \"\"\"\n",
    "        参数:\n",
    "            sequences: List[int], 索引序列\n",
    "            skip_special_tokens: bool, 是否跳过特殊token\n",
    "        返回:\n",
    "            words: List[str], 解码后的单词列表\n",
    "        \"\"\"\n",
    "        result = []\n",
    "        for sequence in sequences:\n",
    "            words = []\n",
    "            for idx in sequence:\n",
    "                if idx == self.pad_token:\n",
    "                    continue  # 跳过填充标记\n",
    "                word = self.idx2word.get(idx, '?')\n",
    "                # if word not in ['[PAD]', '[BOS]', '[UNK]', '[EOS]']:\n",
    "                words.append(word)\n",
    "            result.append(' '.join(words))\n",
    "        return result\n",
    "\n",
    "    def pad_sequence(self, sequences, maxlen=None, padding='post', truncating='post'):\n",
    "        \"\"\"\n",
    "        参数:\n",
    "            sequences: List[List[int]], 需要填充的索引序列列表\n",
    "            maxlen: int or None, 填充/截断的最大长度（优先于类属性）\n",
    "            padding: str, 'post'或'pre'，填充方式\n",
    "            truncating: str, 'post'或'pre'，截断方式\n",
    "        返回:\n",
    "            padded: List[List[int]], 填充后的序列\n",
    "        \"\"\"\n",
    "        # 中文注释：支持前/后填充和截断，默认后填充/截断\n",
    "        use_maxlen = maxlen if maxlen is not None else self.max_len\n",
    "        if use_maxlen is None:\n",
    "            use_maxlen = max(len(seq) for seq in sequences)\n",
    "        padded = []\n",
    "        for seq in sequences:\n",
    "            # 先截断\n",
    "            if len(seq) > use_maxlen:\n",
    "                if truncating == 'post':\n",
    "                    seq = seq[:use_maxlen]\n",
    "                else:\n",
    "                    seq = seq[-use_maxlen:]\n",
    "            # 再填充\n",
    "            if len(seq) < use_maxlen:\n",
    "                pad_length = use_maxlen - len(seq)\n",
    "                if padding == 'post':\n",
    "                    seq = seq + [self.pad_token] * pad_length\n",
    "                else:\n",
    "                    seq = [self.pad_token] * pad_length + seq\n",
    "            padded.append(seq)\n",
    "        return padded\n",
    "\n",
    "    def vocab_size(self):\n",
    "        \"\"\"\n",
    "        返回:\n",
    "            int, 词表大小\n",
    "        \"\"\"\n",
    "        return len(self.word2idx)\n",
    "\n",
    "    def __len__(self):\n",
    "        \"\"\"\n",
    "        返回:\n",
    "            int, 词表大小\n",
    "        \"\"\"\n",
    "        return self.vocab_size()\n",
    "\n",
    "    def save_vocab(self, filepath):\n",
    "        \"\"\"\n",
    "        参数:\n",
    "            filepath: str, 保存词表的文件路径\n",
    "        功能:\n",
    "            保存词表到文件\n",
    "        \"\"\"\n",
    "        with open(filepath, 'w', encoding='utf-8') as f:\n",
    "            for word, idx in self.word2idx.items():\n",
    "                f.write(f\"{word}\\t{idx}\\n\")\n",
    "        # 中文注释：保存词表到文件\n",
    "\n",
    "    def load_vocab(self, filepath):\n",
    "        \"\"\"\n",
    "        参数:\n",
    "            filepath: str, 词表文件路径\n",
    "        功能:\n",
    "            从文件加载词表\n",
    "        \"\"\"\n",
    "        self.word2idx = {}\n",
    "        self.idx2word = {}\n",
    "        with open(filepath, 'r', encoding='utf-8') as f:\n",
    "            for line in f:\n",
    "                word, idx = line.strip().split('\\t')\n",
    "                idx = int(idx)\n",
    "                self.word2idx[word] = idx\n",
    "                self.idx2word[idx] = word\n",
    "        # 中文注释：从文件加载词表\n"
   ]
  },
  {
   "cell_type": "code",
   "execution_count": 114,
   "metadata": {},
   "outputs": [
    {
     "name": "stdout",
     "output_type": "stream",
     "text": [
      "Encoded sequences: [[1, 4825, 182, 3], [1, 88588, 3004, 88589, 19, 19233, 3], [1, 14, 9, 6, 2181, 3]]\n",
      "Padded sequences: [[1, 4825, 182, 3, 0, 0, 0, 0, 0, 0, 0, 0, 0, 0, 0, 0, 0, 0, 0, 0, 0, 0, 0, 0, 0, 0, 0, 0, 0, 0, 0, 0, 0, 0, 0, 0, 0, 0, 0, 0, 0, 0, 0, 0, 0, 0, 0, 0, 0, 0, 0, 0, 0, 0, 0, 0, 0, 0, 0, 0, 0, 0, 0, 0, 0, 0, 0, 0, 0, 0, 0, 0, 0, 0, 0, 0, 0, 0, 0, 0, 0, 0, 0, 0, 0, 0, 0, 0, 0, 0, 0, 0, 0, 0, 0, 0, 0, 0, 0, 0, 0, 0, 0, 0, 0, 0, 0, 0, 0, 0, 0, 0, 0, 0, 0, 0, 0, 0, 0, 0, 0, 0, 0, 0, 0, 0, 0, 0, 0, 0, 0, 0, 0, 0, 0, 0, 0, 0, 0, 0, 0, 0, 0, 0, 0, 0, 0, 0, 0, 0, 0, 0, 0, 0, 0, 0, 0, 0, 0, 0, 0, 0, 0, 0, 0, 0, 0, 0, 0, 0, 0, 0, 0, 0, 0, 0, 0, 0, 0, 0, 0, 0, 0, 0, 0, 0, 0, 0, 0, 0, 0, 0, 0, 0, 0, 0, 0, 0, 0, 0, 0, 0, 0, 0, 0, 0, 0, 0, 0, 0, 0, 0, 0, 0, 0, 0, 0, 0, 0, 0, 0, 0, 0, 0, 0, 0, 0, 0, 0, 0, 0, 0, 0, 0, 0, 0, 0, 0, 0, 0, 0, 0, 0, 0, 0, 0, 0, 0, 0, 0, 0, 0, 0, 0, 0, 0, 0, 0, 0, 0, 0, 0, 0, 0, 0, 0, 0, 0, 0, 0, 0, 0, 0, 0, 0, 0, 0, 0, 0, 0, 0, 0, 0, 0, 0, 0, 0, 0, 0, 0, 0, 0, 0, 0, 0, 0, 0, 0, 0, 0, 0, 0, 0, 0, 0, 0, 0, 0, 0, 0, 0, 0, 0, 0, 0, 0, 0, 0, 0, 0, 0, 0, 0, 0, 0, 0, 0, 0, 0, 0, 0, 0, 0, 0, 0, 0, 0, 0, 0, 0, 0, 0, 0, 0, 0, 0, 0, 0, 0, 0, 0, 0, 0, 0, 0, 0, 0, 0, 0, 0, 0, 0, 0, 0, 0, 0, 0, 0, 0, 0, 0, 0, 0, 0, 0, 0, 0, 0, 0, 0, 0, 0, 0, 0, 0, 0, 0, 0, 0, 0, 0, 0, 0, 0, 0, 0, 0, 0, 0, 0, 0, 0, 0, 0, 0, 0, 0, 0, 0, 0, 0, 0, 0, 0, 0, 0, 0, 0, 0, 0, 0, 0, 0, 0, 0, 0, 0, 0, 0, 0, 0, 0, 0, 0, 0, 0, 0, 0, 0, 0, 0, 0, 0, 0, 0, 0, 0, 0, 0, 0, 0, 0, 0, 0, 0, 0, 0, 0, 0, 0, 0, 0, 0, 0, 0, 0, 0, 0, 0, 0, 0, 0, 0, 0, 0, 0, 0, 0, 0, 0, 0, 0, 0, 0, 0, 0, 0, 0, 0, 0, 0, 0, 0, 0, 0, 0, 0, 0, 0, 0], [1, 88588, 3004, 88589, 19, 19233, 3, 0, 0, 0, 0, 0, 0, 0, 0, 0, 0, 0, 0, 0, 0, 0, 0, 0, 0, 0, 0, 0, 0, 0, 0, 0, 0, 0, 0, 0, 0, 0, 0, 0, 0, 0, 0, 0, 0, 0, 0, 0, 0, 0, 0, 0, 0, 0, 0, 0, 0, 0, 0, 0, 0, 0, 0, 0, 0, 0, 0, 0, 0, 0, 0, 0, 0, 0, 0, 0, 0, 0, 0, 0, 0, 0, 0, 0, 0, 0, 0, 0, 0, 0, 0, 0, 0, 0, 0, 0, 0, 0, 0, 0, 0, 0, 0, 0, 0, 0, 0, 0, 0, 0, 0, 0, 0, 0, 0, 0, 0, 0, 0, 0, 0, 0, 0, 0, 0, 0, 0, 0, 0, 0, 0, 0, 0, 0, 0, 0, 0, 0, 0, 0, 0, 0, 0, 0, 0, 0, 0, 0, 0, 0, 0, 0, 0, 0, 0, 0, 0, 0, 0, 0, 0, 0, 0, 0, 0, 0, 0, 0, 0, 0, 0, 0, 0, 0, 0, 0, 0, 0, 0, 0, 0, 0, 0, 0, 0, 0, 0, 0, 0, 0, 0, 0, 0, 0, 0, 0, 0, 0, 0, 0, 0, 0, 0, 0, 0, 0, 0, 0, 0, 0, 0, 0, 0, 0, 0, 0, 0, 0, 0, 0, 0, 0, 0, 0, 0, 0, 0, 0, 0, 0, 0, 0, 0, 0, 0, 0, 0, 0, 0, 0, 0, 0, 0, 0, 0, 0, 0, 0, 0, 0, 0, 0, 0, 0, 0, 0, 0, 0, 0, 0, 0, 0, 0, 0, 0, 0, 0, 0, 0, 0, 0, 0, 0, 0, 0, 0, 0, 0, 0, 0, 0, 0, 0, 0, 0, 0, 0, 0, 0, 0, 0, 0, 0, 0, 0, 0, 0, 0, 0, 0, 0, 0, 0, 0, 0, 0, 0, 0, 0, 0, 0, 0, 0, 0, 0, 0, 0, 0, 0, 0, 0, 0, 0, 0, 0, 0, 0, 0, 0, 0, 0, 0, 0, 0, 0, 0, 0, 0, 0, 0, 0, 0, 0, 0, 0, 0, 0, 0, 0, 0, 0, 0, 0, 0, 0, 0, 0, 0, 0, 0, 0, 0, 0, 0, 0, 0, 0, 0, 0, 0, 0, 0, 0, 0, 0, 0, 0, 0, 0, 0, 0, 0, 0, 0, 0, 0, 0, 0, 0, 0, 0, 0, 0, 0, 0, 0, 0, 0, 0, 0, 0, 0, 0, 0, 0, 0, 0, 0, 0, 0, 0, 0, 0, 0, 0, 0, 0, 0, 0, 0, 0, 0, 0, 0, 0, 0, 0, 0, 0, 0, 0, 0, 0, 0, 0, 0, 0, 0, 0, 0, 0, 0, 0, 0, 0, 0, 0, 0, 0, 0, 0, 0, 0, 0, 0, 0, 0, 0, 0, 0, 0, 0, 0, 0, 0, 0, 0, 0, 0, 0, 0, 0, 0, 0, 0, 0, 0, 0, 0, 0, 0, 0, 0, 0, 0, 0, 0, 0, 0, 0, 0, 0, 0, 0, 0, 0, 0, 0, 0, 0], [1, 14, 9, 6, 2181, 3, 0, 0, 0, 0, 0, 0, 0, 0, 0, 0, 0, 0, 0, 0, 0, 0, 0, 0, 0, 0, 0, 0, 0, 0, 0, 0, 0, 0, 0, 0, 0, 0, 0, 0, 0, 0, 0, 0, 0, 0, 0, 0, 0, 0, 0, 0, 0, 0, 0, 0, 0, 0, 0, 0, 0, 0, 0, 0, 0, 0, 0, 0, 0, 0, 0, 0, 0, 0, 0, 0, 0, 0, 0, 0, 0, 0, 0, 0, 0, 0, 0, 0, 0, 0, 0, 0, 0, 0, 0, 0, 0, 0, 0, 0, 0, 0, 0, 0, 0, 0, 0, 0, 0, 0, 0, 0, 0, 0, 0, 0, 0, 0, 0, 0, 0, 0, 0, 0, 0, 0, 0, 0, 0, 0, 0, 0, 0, 0, 0, 0, 0, 0, 0, 0, 0, 0, 0, 0, 0, 0, 0, 0, 0, 0, 0, 0, 0, 0, 0, 0, 0, 0, 0, 0, 0, 0, 0, 0, 0, 0, 0, 0, 0, 0, 0, 0, 0, 0, 0, 0, 0, 0, 0, 0, 0, 0, 0, 0, 0, 0, 0, 0, 0, 0, 0, 0, 0, 0, 0, 0, 0, 0, 0, 0, 0, 0, 0, 0, 0, 0, 0, 0, 0, 0, 0, 0, 0, 0, 0, 0, 0, 0, 0, 0, 0, 0, 0, 0, 0, 0, 0, 0, 0, 0, 0, 0, 0, 0, 0, 0, 0, 0, 0, 0, 0, 0, 0, 0, 0, 0, 0, 0, 0, 0, 0, 0, 0, 0, 0, 0, 0, 0, 0, 0, 0, 0, 0, 0, 0, 0, 0, 0, 0, 0, 0, 0, 0, 0, 0, 0, 0, 0, 0, 0, 0, 0, 0, 0, 0, 0, 0, 0, 0, 0, 0, 0, 0, 0, 0, 0, 0, 0, 0, 0, 0, 0, 0, 0, 0, 0, 0, 0, 0, 0, 0, 0, 0, 0, 0, 0, 0, 0, 0, 0, 0, 0, 0, 0, 0, 0, 0, 0, 0, 0, 0, 0, 0, 0, 0, 0, 0, 0, 0, 0, 0, 0, 0, 0, 0, 0, 0, 0, 0, 0, 0, 0, 0, 0, 0, 0, 0, 0, 0, 0, 0, 0, 0, 0, 0, 0, 0, 0, 0, 0, 0, 0, 0, 0, 0, 0, 0, 0, 0, 0, 0, 0, 0, 0, 0, 0, 0, 0, 0, 0, 0, 0, 0, 0, 0, 0, 0, 0, 0, 0, 0, 0, 0, 0, 0, 0, 0, 0, 0, 0, 0, 0, 0, 0, 0, 0, 0, 0, 0, 0, 0, 0, 0, 0, 0, 0, 0, 0, 0, 0, 0, 0, 0, 0, 0, 0, 0, 0, 0, 0, 0, 0, 0, 0, 0, 0, 0, 0, 0, 0, 0, 0, 0, 0, 0, 0, 0, 0, 0, 0, 0, 0, 0, 0, 0, 0, 0, 0, 0, 0, 0, 0, 0, 0, 0, 0, 0, 0, 0, 0, 0, 0, 0, 0, 0, 0, 0, 0, 0, 0, 0, 0, 0, 0, 0, 0, 0, 0, 0, 0]]\n"
     ]
    }
   ],
   "source": [
    "# 创建Tokenizer实例，并进行测试\n",
    "tokenizer = Tokenizer(word_index,reverse_word_index,max_len=500)  # 创建分词器实例\n",
    "\n",
    "# 测试数据\n",
    "texts = [\n",
    "    ['hello', 'world'],\n",
    "    ['tokenize', 'text', 'datas', 'with', 'batch'],\n",
    "    ['this', 'is', 'a', 'test']\n",
    "]\n",
    "\n",
    "# 构建词表\n",
    "tokenizer.fit(texts)\n",
    "\n",
    "# 编码测试\n",
    "encoded = [tokenizer.encode(sentence, add_bos=True, add_end=True) for sentence in texts]\n",
    "print(\"Encoded sequences:\", encoded)  # 输出编码后的序列\n",
    "\n",
    "\n",
    "# 填充测试\n",
    "padded = tokenizer.pad_sequence(encoded)\n",
    "print(\"Padded sequences:\", padded)  # 输出填充后的序列\n",
    "\n",
    "\n",
    "\n",
    "\n"
   ]
  },
  {
   "cell_type": "markdown",
   "metadata": {},
   "source": [
    "# 设置dataset 和 dataloader"
   ]
  },
  {
   "cell_type": "code",
   "execution_count": 115,
   "metadata": {},
   "outputs": [],
   "source": [
    "import torch\n",
    "from torch.utils.data import Dataset, DataLoader\n",
    "\n",
    "# 定义自定义数据集类，包含输入文本、分词器和标签\n",
    "class TextDataset(Dataset):\n",
    "    def __init__(self, texts, tokenizer, labels=None):\n",
    "        \"\"\"\n",
    "        texts: 原始文本数据（分词后的列表）\n",
    "        tokenizer: 分词器对象\n",
    "        labels: 标签列表\n",
    "        \"\"\"\n",
    "        self.tokenizer = tokenizer  # 中文注释：保存分词器\n",
    "        self.texts = tokenizer.decode(texts)       # 中文注释：保存原始文本\n",
    "        self.labels = labels        # 中文注释：保存标签\n",
    "\n",
    "        # 不进行编码和填充，直接保存原始分词文本\n",
    "        # 中文注释：此处不再提前编码，保持原始词列表\n",
    "\n",
    "    def __len__(self):\n",
    "        # 中文注释：返回数据集的样本数量\n",
    "        return len(self.texts)\n",
    "\n",
    "    def __getitem__(self, idx):\n",
    "        # 中文注释：返回指定索引的样本（词列表和标签）\n",
    "        if self.labels is not None:\n",
    "            return self.texts[idx], self.labels[idx]\n",
    "        return self.texts[idx]\n",
    "\n",
    "def collate_fn(batch, tokenizer, maxlen=500):\n",
    "    \"\"\"\n",
    "    自定义批处理函数，用于在加载数据时进行编码\n",
    "    \n",
    "    参数:\n",
    "    - batch: 批次数据\n",
    "    - tokenizer: 分词器实例\n",
    "    - maxlen: 最大序列长度\n",
    "    \n",
    "    返回:\n",
    "    - 编码后的序列和标签（如果有的话）\n",
    "    \"\"\"\n",
    "    if isinstance(batch[0], tuple):\n",
    "        # print(batch)\n",
    "        # 如果批次包含标签\n",
    "        text_list = [item[0].split() for item in batch]  #batch是128样本，每个样本类型是元组，第一个元素是文本，第二个元素是标签\n",
    "        label_list = [item[1] for item in batch]\n",
    "        # print(text_list)\n",
    "        encoded = tokenizer.encode(text_list, max_length=maxlen, truncating='post', add_bos=False, add_end=True)\n",
    "        sequences = torch.tensor(encoded, dtype=torch.long)\n",
    "        labels = torch.tensor(label_list, dtype=torch.float).view(-1, 1)  # 将标签reshape为二维 [batch_size, 1]\n",
    "        return sequences, labels\n",
    "    else:\n",
    "        # 如果批次只有文本\n",
    "        text_list = [item.split() for item in batch]\n",
    "        encoded = tokenizer.encode(text_list, max_lenth=maxlen, truncating='post', add_bos=False, add_end=True)\n",
    "        sequences = torch.tensor(encoded, dtype=torch.long)\n",
    "        return sequences\n",
    "\n",
    "# 示例：创建数据集\n",
    "train_dataset = TextDataset(x_train, tokenizer, y_train)\n",
    "val_dataset = TextDataset(x_val, tokenizer, y_val)\n",
    "test_dataset = TextDataset(x_test, tokenizer, y_test)\n",
    "\n",
    "# 创建数据加载器，collate_fn返回词而不是id\n",
    "batch_size = 64\n",
    "train_dataloader = DataLoader(\n",
    "    train_dataset, \n",
    "    batch_size=batch_size, \n",
    "    shuffle=True,\n",
    "    collate_fn=lambda batch: collate_fn(batch, tokenizer)\n",
    ")\n",
    "val_dataloader = DataLoader(\n",
    "    val_dataset, \n",
    "    batch_size=batch_size, \n",
    "    shuffle=False,\n",
    "    collate_fn=lambda batch: collate_fn(batch, tokenizer)\n",
    ")\n",
    "test_dataloader = DataLoader(\n",
    "    test_dataset, \n",
    "    batch_size=batch_size, \n",
    "    shuffle=False,\n",
    "    collate_fn=lambda batch: collate_fn(batch, tokenizer)\n",
    ")\n"
   ]
  },
  {
   "cell_type": "code",
   "execution_count": 116,
   "metadata": {},
   "outputs": [
    {
     "name": "stdout",
     "output_type": "stream",
     "text": [
      "训练集大小: 25000\n",
      "验证集大小: 10000\n",
      "测试集大小: 15000\n",
      "Sample 0: Words: [BOS] this film was just brilliant casting location scenery story direction everyone's really suited the part they played and you could just imagine being there robert [UNK] is an amazing actor and now the same being director [UNK] father came from the same scottish island as myself so i loved the fact there was a real connection with this film the witty remarks throughout the film were great it was just brilliant so much that i bought the film as soon as it was released for [UNK] and would recommend it to everyone to watch and the fly fishing was amazing really cried at the end it was so sad and you know what they say if you cry at a film it must have been good and this definitely was also [UNK] to the two little boy's that played the [UNK] of norman and paul they were just brilliant children are often left out of the [UNK] list i think because the stars that play them all grown up are such a big profile for the whole film but these children are amazing and should be praised for what they have done don't you think the whole story was so lovely because it was true and was someone's life after all that was shared with us all, Label: 1\n",
      "Sample 1: Words: [BOS] big hair big boobs bad music and a giant safety pin these are the words to best describe this terrible movie i love cheesy horror movies and i've seen hundreds but this had got to be on of the worst ever made the plot is paper thin and ridiculous the acting is an abomination the script is completely laughable the best is the end showdown with the cop and how he worked out who the killer is it's just so damn terribly written the clothes are sickening and funny in equal [UNK] the hair is big lots of boobs [UNK] men wear those cut [UNK] shirts that show off their [UNK] sickening that men actually wore them and the music is just [UNK] trash that plays over and over again in almost every scene there is trashy music boobs and [UNK] taking away bodies and the gym still doesn't close for [UNK] all joking aside this is a truly bad film whose only charm is to look back on the disaster that was the 80's and have a good old laugh at how bad everything was back then, Label: 0\n",
      "Sample 2: Words: [BOS] this has to be one of the worst films of the 1990s when my friends i were watching this film being the target audience it was aimed at we just sat watched the first half an hour with our jaws touching the floor at how bad it really was the rest of the time everyone else in the theatre just started talking to each other leaving or generally crying into their popcorn that they actually paid money they had [UNK] working to watch this feeble excuse for a film it must have looked like a great idea on paper but on film it looks like no one in the film has a clue what is going on crap acting crap costumes i can't get across how [UNK] this is to watch save yourself an hour a bit of your life, Label: 0\n"
     ]
    },
    {
     "data": {
      "text/plain": [
       "([\"[BOS] this film was just brilliant casting location scenery story direction everyone's really suited the part they played and you could just imagine being there robert [UNK] is an amazing actor and now the same being director [UNK] father came from the same scottish island as myself so i loved the fact there was a real connection with this film the witty remarks throughout the film were great it was just brilliant so much that i bought the film as soon as it was released for [UNK] and would recommend it to everyone to watch and the fly fishing was amazing really cried at the end it was so sad and you know what they say if you cry at a film it must have been good and this definitely was also [UNK] to the two little boy's that played the [UNK] of norman and paul they were just brilliant children are often left out of the [UNK] list i think because the stars that play them all grown up are such a big profile for the whole film but these children are amazing and should be praised for what they have done don't you think the whole story was so lovely because it was true and was someone's life after all that was shared with us all\",\n",
       "  \"[BOS] big hair big boobs bad music and a giant safety pin these are the words to best describe this terrible movie i love cheesy horror movies and i've seen hundreds but this had got to be on of the worst ever made the plot is paper thin and ridiculous the acting is an abomination the script is completely laughable the best is the end showdown with the cop and how he worked out who the killer is it's just so damn terribly written the clothes are sickening and funny in equal [UNK] the hair is big lots of boobs [UNK] men wear those cut [UNK] shirts that show off their [UNK] sickening that men actually wore them and the music is just [UNK] trash that plays over and over again in almost every scene there is trashy music boobs and [UNK] taking away bodies and the gym still doesn't close for [UNK] all joking aside this is a truly bad film whose only charm is to look back on the disaster that was the 80's and have a good old laugh at how bad everything was back then\",\n",
       "  \"[BOS] this has to be one of the worst films of the 1990s when my friends i were watching this film being the target audience it was aimed at we just sat watched the first half an hour with our jaws touching the floor at how bad it really was the rest of the time everyone else in the theatre just started talking to each other leaving or generally crying into their popcorn that they actually paid money they had [UNK] working to watch this feeble excuse for a film it must have looked like a great idea on paper but on film it looks like no one in the film has a clue what is going on crap acting crap costumes i can't get across how [UNK] this is to watch save yourself an hour a bit of your life\"],\n",
       " array([1, 0, 0], dtype=int64))"
      ]
     },
     "execution_count": 116,
     "metadata": {},
     "output_type": "execute_result"
    }
   ],
   "source": [
    "\n",
    "# 打印数据集和数据加载器信息（词而非id）\n",
    "print(f\"训练集大小: {len(train_dataset)}\")  # 中文注释：打印训练集样本数\n",
    "print(f\"验证集大小: {len(val_dataset)}\")   # 中文注释：打印验证集样本数\n",
    "print(f\"测试集大小: {len(test_dataset)}\")  # 中文注释：打印测试集样本数\n",
    "\n",
    "# 打印前3个样本的词内容\n",
    "for i in range(3):\n",
    "    if train_dataset.labels is not None:\n",
    "        print(f\"Sample {i}: Words: {train_dataset[i][0]}, Label: {train_dataset[i][1]}\")  # 中文注释：输出词和标签\n",
    "    else:\n",
    "        print(f\"Sample {i}: Words: {train_dataset[i]}\")  # 中文注释：输出词\n",
    "train_dataset[0:3]"
   ]
  },
  {
   "cell_type": "code",
   "execution_count": 117,
   "metadata": {},
   "outputs": [
    {
     "name": "stdout",
     "output_type": "stream",
     "text": [
      "Index: 0, Value: a\n",
      "Index: 1, Value: b\n",
      "Index: 2, Value: c\n"
     ]
    }
   ],
   "source": [
    "# 中文注释：enumerate()函数用于在遍历可迭代对象时，同时获取元素的索引和值\n",
    "example_list = ['a', 'b', 'c']\n",
    "for idx, value in enumerate(example_list):\n",
    "    print(f\"Index: {idx}, Value: {value}\")  # 输出索引和值\n"
   ]
  },
  {
   "cell_type": "code",
   "execution_count": 118,
   "metadata": {},
   "outputs": [
    {
     "name": "stdout",
     "output_type": "stream",
     "text": [
      "\n",
      "训练数据加载器示例:\n"
     ]
    },
    {
     "ename": "TypeError",
     "evalue": "unhashable type: 'list'",
     "output_type": "error",
     "traceback": [
      "\u001b[1;31m---------------------------------------------------------------------------\u001b[0m",
      "\u001b[1;31mTypeError\u001b[0m                                 Traceback (most recent call last)",
      "Cell \u001b[1;32mIn[118], line 4\u001b[0m\n\u001b[0;32m      1\u001b[0m \u001b[38;5;66;03m# 中文注释：遍历训练数据加载器\u001b[39;00m\n\u001b[0;32m      2\u001b[0m \u001b[38;5;66;03m# 示例：遍历训练数据加载器\u001b[39;00m\n\u001b[0;32m      3\u001b[0m \u001b[38;5;28mprint\u001b[39m(\u001b[38;5;124m\"\u001b[39m\u001b[38;5;130;01m\\n\u001b[39;00m\u001b[38;5;124m训练数据加载器示例:\u001b[39m\u001b[38;5;124m\"\u001b[39m)\n\u001b[1;32m----> 4\u001b[0m \u001b[38;5;28;43;01mfor\u001b[39;49;00m\u001b[43m \u001b[49m\u001b[43mi\u001b[49m\u001b[43m,\u001b[49m\u001b[43m \u001b[49m\u001b[43m(\u001b[49m\u001b[43mbatch_sequences\u001b[49m\u001b[43m,\u001b[49m\u001b[43m \u001b[49m\u001b[43mbatch_labels\u001b[49m\u001b[43m)\u001b[49m\u001b[43m \u001b[49m\u001b[38;5;129;43;01min\u001b[39;49;00m\u001b[43m \u001b[49m\u001b[38;5;28;43menumerate\u001b[39;49m\u001b[43m(\u001b[49m\u001b[43mtrain_dataloader\u001b[49m\u001b[43m)\u001b[49m\u001b[43m:\u001b[49m\n\u001b[0;32m      5\u001b[0m \u001b[43m    \u001b[49m\u001b[38;5;28;43mprint\u001b[39;49m\u001b[43m(\u001b[49m\u001b[38;5;124;43mf\u001b[39;49m\u001b[38;5;124;43m\"\u001b[39;49m\u001b[38;5;124;43m批次 \u001b[39;49m\u001b[38;5;132;43;01m{\u001b[39;49;00m\u001b[43mi\u001b[49m\u001b[38;5;241;43m+\u001b[39;49m\u001b[38;5;241;43m1\u001b[39;49m\u001b[38;5;132;43;01m}\u001b[39;49;00m\u001b[38;5;124;43m:\u001b[39;49m\u001b[38;5;124;43m\"\u001b[39;49m\u001b[43m)\u001b[49m\n\u001b[0;32m      6\u001b[0m \u001b[43m    \u001b[49m\u001b[38;5;28;43mprint\u001b[39;49m\u001b[43m(\u001b[49m\u001b[38;5;124;43mf\u001b[39;49m\u001b[38;5;124;43m\"\u001b[39;49m\u001b[38;5;124;43m序列形状: \u001b[39;49m\u001b[38;5;132;43;01m{\u001b[39;49;00m\u001b[43mbatch_sequences\u001b[49m\u001b[38;5;241;43m.\u001b[39;49m\u001b[43mshape\u001b[49m\u001b[38;5;132;43;01m}\u001b[39;49;00m\u001b[38;5;124;43m\"\u001b[39;49m\u001b[43m)\u001b[49m\n",
      "File \u001b[1;32md:\\python\\Lib\\site-packages\\torch\\utils\\data\\dataloader.py:733\u001b[0m, in \u001b[0;36m_BaseDataLoaderIter.__next__\u001b[1;34m(self)\u001b[0m\n\u001b[0;32m    730\u001b[0m \u001b[38;5;28;01mif\u001b[39;00m \u001b[38;5;28mself\u001b[39m\u001b[38;5;241m.\u001b[39m_sampler_iter \u001b[38;5;129;01mis\u001b[39;00m \u001b[38;5;28;01mNone\u001b[39;00m:\n\u001b[0;32m    731\u001b[0m     \u001b[38;5;66;03m# TODO(https://github.com/pytorch/pytorch/issues/76750)\u001b[39;00m\n\u001b[0;32m    732\u001b[0m     \u001b[38;5;28mself\u001b[39m\u001b[38;5;241m.\u001b[39m_reset()  \u001b[38;5;66;03m# type: ignore[call-arg]\u001b[39;00m\n\u001b[1;32m--> 733\u001b[0m data \u001b[38;5;241m=\u001b[39m \u001b[38;5;28;43mself\u001b[39;49m\u001b[38;5;241;43m.\u001b[39;49m\u001b[43m_next_data\u001b[49m\u001b[43m(\u001b[49m\u001b[43m)\u001b[49m\n\u001b[0;32m    734\u001b[0m \u001b[38;5;28mself\u001b[39m\u001b[38;5;241m.\u001b[39m_num_yielded \u001b[38;5;241m+\u001b[39m\u001b[38;5;241m=\u001b[39m \u001b[38;5;241m1\u001b[39m\n\u001b[0;32m    735\u001b[0m \u001b[38;5;28;01mif\u001b[39;00m (\n\u001b[0;32m    736\u001b[0m     \u001b[38;5;28mself\u001b[39m\u001b[38;5;241m.\u001b[39m_dataset_kind \u001b[38;5;241m==\u001b[39m _DatasetKind\u001b[38;5;241m.\u001b[39mIterable\n\u001b[0;32m    737\u001b[0m     \u001b[38;5;129;01mand\u001b[39;00m \u001b[38;5;28mself\u001b[39m\u001b[38;5;241m.\u001b[39m_IterableDataset_len_called \u001b[38;5;129;01mis\u001b[39;00m \u001b[38;5;129;01mnot\u001b[39;00m \u001b[38;5;28;01mNone\u001b[39;00m\n\u001b[0;32m    738\u001b[0m     \u001b[38;5;129;01mand\u001b[39;00m \u001b[38;5;28mself\u001b[39m\u001b[38;5;241m.\u001b[39m_num_yielded \u001b[38;5;241m>\u001b[39m \u001b[38;5;28mself\u001b[39m\u001b[38;5;241m.\u001b[39m_IterableDataset_len_called\n\u001b[0;32m    739\u001b[0m ):\n",
      "File \u001b[1;32md:\\python\\Lib\\site-packages\\torch\\utils\\data\\dataloader.py:789\u001b[0m, in \u001b[0;36m_SingleProcessDataLoaderIter._next_data\u001b[1;34m(self)\u001b[0m\n\u001b[0;32m    787\u001b[0m \u001b[38;5;28;01mdef\u001b[39;00m \u001b[38;5;21m_next_data\u001b[39m(\u001b[38;5;28mself\u001b[39m):\n\u001b[0;32m    788\u001b[0m     index \u001b[38;5;241m=\u001b[39m \u001b[38;5;28mself\u001b[39m\u001b[38;5;241m.\u001b[39m_next_index()  \u001b[38;5;66;03m# may raise StopIteration\u001b[39;00m\n\u001b[1;32m--> 789\u001b[0m     data \u001b[38;5;241m=\u001b[39m \u001b[38;5;28;43mself\u001b[39;49m\u001b[38;5;241;43m.\u001b[39;49m\u001b[43m_dataset_fetcher\u001b[49m\u001b[38;5;241;43m.\u001b[39;49m\u001b[43mfetch\u001b[49m\u001b[43m(\u001b[49m\u001b[43mindex\u001b[49m\u001b[43m)\u001b[49m  \u001b[38;5;66;03m# may raise StopIteration\u001b[39;00m\n\u001b[0;32m    790\u001b[0m     \u001b[38;5;28;01mif\u001b[39;00m \u001b[38;5;28mself\u001b[39m\u001b[38;5;241m.\u001b[39m_pin_memory:\n\u001b[0;32m    791\u001b[0m         data \u001b[38;5;241m=\u001b[39m _utils\u001b[38;5;241m.\u001b[39mpin_memory\u001b[38;5;241m.\u001b[39mpin_memory(data, \u001b[38;5;28mself\u001b[39m\u001b[38;5;241m.\u001b[39m_pin_memory_device)\n",
      "File \u001b[1;32md:\\python\\Lib\\site-packages\\torch\\utils\\data\\_utils\\fetch.py:55\u001b[0m, in \u001b[0;36m_MapDatasetFetcher.fetch\u001b[1;34m(self, possibly_batched_index)\u001b[0m\n\u001b[0;32m     53\u001b[0m \u001b[38;5;28;01melse\u001b[39;00m:\n\u001b[0;32m     54\u001b[0m     data \u001b[38;5;241m=\u001b[39m \u001b[38;5;28mself\u001b[39m\u001b[38;5;241m.\u001b[39mdataset[possibly_batched_index]\n\u001b[1;32m---> 55\u001b[0m \u001b[38;5;28;01mreturn\u001b[39;00m \u001b[38;5;28;43mself\u001b[39;49m\u001b[38;5;241;43m.\u001b[39;49m\u001b[43mcollate_fn\u001b[49m\u001b[43m(\u001b[49m\u001b[43mdata\u001b[49m\u001b[43m)\u001b[49m\n",
      "Cell \u001b[1;32mIn[115], line 69\u001b[0m, in \u001b[0;36m<lambda>\u001b[1;34m(batch)\u001b[0m\n\u001b[0;32m     63\u001b[0m \u001b[38;5;66;03m# 创建数据加载器，collate_fn返回词而不是id\u001b[39;00m\n\u001b[0;32m     64\u001b[0m batch_size \u001b[38;5;241m=\u001b[39m \u001b[38;5;241m64\u001b[39m\n\u001b[0;32m     65\u001b[0m train_dataloader \u001b[38;5;241m=\u001b[39m DataLoader(\n\u001b[0;32m     66\u001b[0m     train_dataset, \n\u001b[0;32m     67\u001b[0m     batch_size\u001b[38;5;241m=\u001b[39mbatch_size, \n\u001b[0;32m     68\u001b[0m     shuffle\u001b[38;5;241m=\u001b[39m\u001b[38;5;28;01mTrue\u001b[39;00m,\n\u001b[1;32m---> 69\u001b[0m     collate_fn\u001b[38;5;241m=\u001b[39m\u001b[38;5;28;01mlambda\u001b[39;00m batch: \u001b[43mcollate_fn\u001b[49m\u001b[43m(\u001b[49m\u001b[43mbatch\u001b[49m\u001b[43m,\u001b[49m\u001b[43m \u001b[49m\u001b[43mtokenizer\u001b[49m\u001b[43m)\u001b[49m\n\u001b[0;32m     70\u001b[0m )\n\u001b[0;32m     71\u001b[0m val_dataloader \u001b[38;5;241m=\u001b[39m DataLoader(\n\u001b[0;32m     72\u001b[0m     val_dataset, \n\u001b[0;32m     73\u001b[0m     batch_size\u001b[38;5;241m=\u001b[39mbatch_size, \n\u001b[0;32m     74\u001b[0m     shuffle\u001b[38;5;241m=\u001b[39m\u001b[38;5;28;01mFalse\u001b[39;00m,\n\u001b[0;32m     75\u001b[0m     collate_fn\u001b[38;5;241m=\u001b[39m\u001b[38;5;28;01mlambda\u001b[39;00m batch: collate_fn(batch, tokenizer)\n\u001b[0;32m     76\u001b[0m )\n\u001b[0;32m     77\u001b[0m test_dataloader \u001b[38;5;241m=\u001b[39m DataLoader(\n\u001b[0;32m     78\u001b[0m     test_dataset, \n\u001b[0;32m     79\u001b[0m     batch_size\u001b[38;5;241m=\u001b[39mbatch_size, \n\u001b[0;32m     80\u001b[0m     shuffle\u001b[38;5;241m=\u001b[39m\u001b[38;5;28;01mFalse\u001b[39;00m,\n\u001b[0;32m     81\u001b[0m     collate_fn\u001b[38;5;241m=\u001b[39m\u001b[38;5;28;01mlambda\u001b[39;00m batch: collate_fn(batch, tokenizer)\n\u001b[0;32m     82\u001b[0m )\n",
      "Cell \u001b[1;32mIn[115], line 47\u001b[0m, in \u001b[0;36mcollate_fn\u001b[1;34m(batch, tokenizer, maxlen)\u001b[0m\n\u001b[0;32m     45\u001b[0m label_list \u001b[38;5;241m=\u001b[39m [item[\u001b[38;5;241m1\u001b[39m] \u001b[38;5;28;01mfor\u001b[39;00m item \u001b[38;5;129;01min\u001b[39;00m batch]\n\u001b[0;32m     46\u001b[0m \u001b[38;5;66;03m# print(text_list)\u001b[39;00m\n\u001b[1;32m---> 47\u001b[0m encoded \u001b[38;5;241m=\u001b[39m \u001b[43mtokenizer\u001b[49m\u001b[38;5;241;43m.\u001b[39;49m\u001b[43mencode\u001b[49m\u001b[43m(\u001b[49m\u001b[43mtext_list\u001b[49m\u001b[43m,\u001b[49m\u001b[43m \u001b[49m\u001b[43mmax_length\u001b[49m\u001b[38;5;241;43m=\u001b[39;49m\u001b[43mmaxlen\u001b[49m\u001b[43m,\u001b[49m\u001b[43m \u001b[49m\u001b[43mtruncating\u001b[49m\u001b[38;5;241;43m=\u001b[39;49m\u001b[38;5;124;43m'\u001b[39;49m\u001b[38;5;124;43mpost\u001b[39;49m\u001b[38;5;124;43m'\u001b[39;49m\u001b[43m,\u001b[49m\u001b[43m \u001b[49m\u001b[43madd_bos\u001b[49m\u001b[38;5;241;43m=\u001b[39;49m\u001b[38;5;28;43;01mFalse\u001b[39;49;00m\u001b[43m,\u001b[49m\u001b[43m \u001b[49m\u001b[43madd_end\u001b[49m\u001b[38;5;241;43m=\u001b[39;49m\u001b[38;5;28;43;01mTrue\u001b[39;49;00m\u001b[43m)\u001b[49m\n\u001b[0;32m     48\u001b[0m sequences \u001b[38;5;241m=\u001b[39m torch\u001b[38;5;241m.\u001b[39mtensor(encoded, dtype\u001b[38;5;241m=\u001b[39mtorch\u001b[38;5;241m.\u001b[39mlong)\n\u001b[0;32m     49\u001b[0m labels \u001b[38;5;241m=\u001b[39m torch\u001b[38;5;241m.\u001b[39mtensor(label_list, dtype\u001b[38;5;241m=\u001b[39mtorch\u001b[38;5;241m.\u001b[39mfloat)\u001b[38;5;241m.\u001b[39mview(\u001b[38;5;241m-\u001b[39m\u001b[38;5;241m1\u001b[39m, \u001b[38;5;241m1\u001b[39m)  \u001b[38;5;66;03m# 将标签reshape为二维 [batch_size, 1]\u001b[39;00m\n",
      "Cell \u001b[1;32mIn[113], line 53\u001b[0m, in \u001b[0;36mTokenizer.encode\u001b[1;34m(self, sentence, add_bos, add_end, max_length, truncating)\u001b[0m\n\u001b[0;32m     51\u001b[0m     tokens\u001b[38;5;241m.\u001b[39mappend(\u001b[38;5;28mself\u001b[39m\u001b[38;5;241m.\u001b[39mbos_token)  \u001b[38;5;66;03m# 添加BOS\u001b[39;00m\n\u001b[0;32m     52\u001b[0m \u001b[38;5;28;01mfor\u001b[39;00m word \u001b[38;5;129;01min\u001b[39;00m sentence:\n\u001b[1;32m---> 53\u001b[0m     tokens\u001b[38;5;241m.\u001b[39mappend(\u001b[38;5;28;43mself\u001b[39;49m\u001b[38;5;241;43m.\u001b[39;49m\u001b[43mword2idx\u001b[49m\u001b[38;5;241;43m.\u001b[39;49m\u001b[43mget\u001b[49m\u001b[43m(\u001b[49m\u001b[43mword\u001b[49m\u001b[43m,\u001b[49m\u001b[43m \u001b[49m\u001b[38;5;28;43mself\u001b[39;49m\u001b[38;5;241;43m.\u001b[39;49m\u001b[43munk_token\u001b[49m\u001b[43m)\u001b[49m)  \u001b[38;5;66;03m# 未知词用UNK\u001b[39;00m\n\u001b[0;32m     54\u001b[0m \u001b[38;5;28;01mif\u001b[39;00m add_end:\n\u001b[0;32m     55\u001b[0m     tokens\u001b[38;5;241m.\u001b[39mappend(\u001b[38;5;28mself\u001b[39m\u001b[38;5;241m.\u001b[39mend_token)  \u001b[38;5;66;03m# 添加END\u001b[39;00m\n",
      "\u001b[1;31mTypeError\u001b[0m: unhashable type: 'list'"
     ]
    }
   ],
   "source": [
    "\n",
    "# 中文注释：遍历训练数据加载器\n",
    "# 示例：遍历训练数据加载器\n",
    "print(\"\\n训练数据加载器示例:\")\n",
    "for i, (batch_sequences, batch_labels) in enumerate(train_dataloader):\n",
    "    print(f\"批次 {i+1}:\")\n",
    "    print(f\"序列形状: {batch_sequences.shape}\")\n",
    "    print(f\"标签形状: {batch_labels.shape}\")\n",
    "    if i == 0:  # 只打印第一个批次\n",
    "        break\n",
    "batch_sequences\n"
   ]
  }
 ],
 "metadata": {
  "kernelspec": {
   "display_name": "Python 3",
   "language": "python",
   "name": "python3"
  },
  "language_info": {
   "codemirror_mode": {
    "name": "ipython",
    "version": 3
   },
   "file_extension": ".py",
   "mimetype": "text/x-python",
   "name": "python",
   "nbconvert_exporter": "python",
   "pygments_lexer": "ipython3",
   "version": "3.12.1"
  }
 },
 "nbformat": 4,
 "nbformat_minor": 2
}
