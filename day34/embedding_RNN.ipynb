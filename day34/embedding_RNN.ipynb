{
  "cells": [
    {
      "cell_type": "code",
      "execution_count": 3,
      "id": "initial_id",
      "metadata": {
        "collapsed": true,
        "colab": {
          "base_uri": "https://localhost:8080/"
        },
        "id": "initial_id",
        "outputId": "30b70a74-e4a0-4193-d680-830a4b02dd9c"
      },
      "outputs": [
        {
          "output_type": "stream",
          "name": "stdout",
          "text": [
            "Downloading data from https://storage.googleapis.com/tensorflow/tf-keras-datasets/imdb.npz\n",
            "\u001b[1m17464789/17464789\u001b[0m \u001b[32m━━━━━━━━━━━━━━━━━━━━\u001b[0m\u001b[37m\u001b[0m \u001b[1m0s\u001b[0m 0us/step\n",
            "训练集样本数: 25000, 测试集样本数: 25000\n",
            "标签示例: [1 0 0 1 0 0 1 0 1 0]\n",
            "一个样本的词索引序列: [1, 14, 22, 16, 43, 530, 973, 1622, 1385, 65, 458, 4468, 66, 3941, 4, 173, 36, 256, 5, 25, 100, 43, 838, 112, 50, 670, 2, 9, 35, 480, 284, 5, 150, 4, 172, 112, 167, 2, 336, 385, 39, 4, 172, 4536, 1111, 17, 546, 38, 13, 447, 4, 192, 50, 16, 6, 147, 2025, 19, 14, 22, 4, 1920, 4613, 469, 4, 22, 71, 87, 12, 16, 43, 530, 38, 76, 15, 13, 1247, 4, 22, 17, 515, 17, 12, 16, 626, 18, 2, 5, 62, 386, 12, 8, 316, 8, 106, 5, 4, 2223, 5244, 16]...\n",
            "Downloading data from https://storage.googleapis.com/tensorflow/tf-keras-datasets/imdb_word_index.json\n",
            "\u001b[1m1641221/1641221\u001b[0m \u001b[32m━━━━━━━━━━━━━━━━━━━━\u001b[0m\u001b[37m\u001b[0m \u001b[1m0s\u001b[0m 0us/step\n",
            "\n",
            "解码后的样本文本:\n",
            "[BOS] this film was just brilliant casting location scenery story direction everyone's really suited the part they played and you could just imagine being there robert [UNK] is an amazing actor and now the same being director [UNK] father came from the same scottish island as myself so i loved the fact there was a real connection with this film the witty remarks throughout the film were great it was just brilliant so much that i bought the film as soon as it was released for [UNK] and would recommend it to everyone to watch and the fly fishing was amazing really cried at the end it was so sad and you know what they say if you cry at a film it must have been good and this definitely was also [UNK] to the two little boy's that played the [UNK] of norman and paul they were just brilliant children are often left out of the [UNK] list i think because the stars that play them all grown up are such a big profile for the whole film but these children are amazing and should be praised for what they have done don't you think the whole story was so lovely because it was true and was someone's life after all that was shared with us all\n"
          ]
        }
      ],
      "source": [
        "import numpy as np\n",
        "import matplotlib.pyplot as plt\n",
        "import tensorflow as tf\n",
        "from tensorflow import keras\n",
        "from tensorflow.keras.datasets import imdb\n",
        "\n",
        "# 加载IMDB数据集\n",
        "# num_words=10000表示只保留最常见的10000个词，本身数据集有88582个词，如果未出现词，则用<UNK>表示\n",
        "# 参数说明：\n",
        "# - num_words: 保留的最常见词的数量\n",
        "# - skip_top: 跳过最常见的若干词（通常是停用词）\n",
        "# - maxlen: 序列最大长度\n",
        "# - index_from: 词索引的起始值，默认为3\n",
        "vocab_size=10000\n",
        "(x_train, y_train), (x_test, y_test) = imdb.load_data(num_words=vocab_size, index_from=3)\n",
        "\n",
        "print(f\"训练集样本数: {len(x_train)}, 测试集样本数: {len(x_test)}\")\n",
        "print(f\"标签示例: {y_train[:10]}\")  # 0表示负面评论，1表示正面评论\n",
        "\n",
        "# 查看一个样本的词索引序列\n",
        "print(f\"一个样本的词索引序列: {x_train[0][:100]}...\")\n",
        "\n",
        "# 获取词索引映射，返回一个字典（词典），key是词，value是索引（token）\n",
        "word_index = imdb.get_word_index()\n",
        "\n",
        "word_index = {word: idx + 3 for word, idx in word_index.items()}  # 0,1,2,3空出来做别的事,这里的idx是从1开始的,所以加3\n",
        "word_index.update({\n",
        "    \"[PAD]\": 0,  # 填充 token\n",
        "    \"[BOS]\": 1,  # begin of sentence\n",
        "    \"[UNK]\": 2,  # 未知 token\n",
        "    \"[EOS]\": 3,  # end of sentence\n",
        "})\n",
        "# 创建索引到词的映射\n",
        "reverse_word_index = {i: word for word, i in word_index.items()}\n",
        "\n",
        "# 将一个样本的索引序列转换为文本\n",
        "def decode_review(indices):\n",
        "    return ' '.join([reverse_word_index.get(i, '?') for i in indices])\n",
        "\n",
        "print(\"\\n解码后的样本文本:\")\n",
        "print(decode_review(x_train[0]))\n"
      ]
    },
    {
      "cell_type": "code",
      "execution_count": 4,
      "id": "7f05dccc",
      "metadata": {
        "colab": {
          "base_uri": "https://localhost:8080/",
          "height": 35
        },
        "id": "7f05dccc",
        "outputId": "abdd80ee-aa1a-4b9e-efe9-ebaaaef8ebeb"
      },
      "outputs": [
        {
          "output_type": "execute_result",
          "data": {
            "text/plain": [
              "'the'"
            ],
            "application/vnd.google.colaboratory.intrinsic+json": {
              "type": "string"
            }
          },
          "metadata": {},
          "execution_count": 4
        }
      ],
      "source": [
        "reverse_word_index[4]"
      ]
    },
    {
      "cell_type": "code",
      "execution_count": 5,
      "id": "e0159de3",
      "metadata": {
        "colab": {
          "base_uri": "https://localhost:8080/"
        },
        "id": "e0159de3",
        "outputId": "a5e4d563-7cbd-45e8-8976-27f2508178dc"
      },
      "outputs": [
        {
          "output_type": "execute_result",
          "data": {
            "text/plain": [
              "4"
            ]
          },
          "metadata": {},
          "execution_count": 5
        }
      ],
      "source": [
        "word_index['the']"
      ]
    },
    {
      "cell_type": "code",
      "execution_count": 6,
      "id": "3ab8ed72",
      "metadata": {
        "colab": {
          "base_uri": "https://localhost:8080/"
        },
        "id": "3ab8ed72",
        "outputId": "d33cb3fc-5755-49d1-f780-db5ca185cf17"
      },
      "outputs": [
        {
          "output_type": "stream",
          "name": "stdout",
          "text": [
            "验证集样本数: 10000\n",
            "测试集样本数: 15000\n",
            "验证集标签示例: [0 1 1 0 1 1 1 0 0 1]\n",
            "测试集标签示例: [1 1 0 1 0 0 1 0 1 1]\n"
          ]
        }
      ],
      "source": [
        "# 将测试集划分为验证集和测试集\n",
        "# 从原始测试集中取前10000个样本作为验证集\n",
        "x_val = x_test[:10000]\n",
        "y_val = y_test[:10000]\n",
        "\n",
        "# 剩余的15000个样本作为测试集\n",
        "x_test = x_test[10000:]\n",
        "y_test = y_test[10000:]\n",
        "\n",
        "print(f\"验证集样本数: {len(x_val)}\")\n",
        "print(f\"测试集样本数: {len(x_test)}\")\n",
        "print(f\"验证集标签示例: {y_val[:10]}\")\n",
        "print(f\"测试集标签示例: {y_test[:10]}\")\n"
      ]
    },
    {
      "cell_type": "code",
      "execution_count": 7,
      "id": "272d907e",
      "metadata": {
        "colab": {
          "base_uri": "https://localhost:8080/"
        },
        "id": "272d907e",
        "outputId": "76cadb9f-8dc2-437b-e0bc-8242d80b14a3"
      },
      "outputs": [
        {
          "output_type": "execute_result",
          "data": {
            "text/plain": [
              "[['hello', 'world'],\n",
              " ['tokenize', 'text', 'datas', 'with', 'batch'],\n",
              " ['this', 'is', 'a', 'test']]"
            ]
          },
          "metadata": {},
          "execution_count": 7
        }
      ],
      "source": [
        "raw_text = [\"hello world\".split(), \"tokenize text datas with batch\".split(), \"this is a test\".split()]\n",
        "raw_text"
      ]
    },
    {
      "cell_type": "markdown",
      "id": "f2df0a9f",
      "metadata": {
        "id": "f2df0a9f"
      },
      "source": [
        "# 通过直方图来观察样本长度分布"
      ]
    },
    {
      "cell_type": "code",
      "execution_count": 8,
      "id": "881921a0",
      "metadata": {
        "colab": {
          "base_uri": "https://localhost:8080/",
          "height": 564
        },
        "id": "881921a0",
        "outputId": "1ce74e5e-2342-4548-e1a9-072bc733f979"
      },
      "outputs": [
        {
          "output_type": "display_data",
          "data": {
            "text/plain": [
              "<Figure size 1000x600 with 1 Axes>"
            ],
            "image/png": "[encoded data removed]"
          },
          "metadata": {}
        }
      ],
      "source": [
        "import matplotlib.pyplot as plt\n",
        "\n",
        "# 计算每个样本的长度\n",
        "train_lengths = [len(x) for x in x_train]\n",
        "\n",
        "# 绘制直方图\n",
        "plt.figure(figsize=(10, 6))\n",
        "plt.hist(train_lengths, bins=50, alpha=0.7, color='blue')\n",
        "plt.xlabel('Sample Length')\n",
        "plt.ylabel('Sample Count')\n",
        "plt.title('Training Set Sample Length Distribution')\n",
        "plt.grid(True, linestyle='--', alpha=0.7)\n",
        "\n",
        "# 计算一些统计信息\n",
        "max_length = max(train_lengths)\n",
        "min_length = min(train_lengths)\n",
        "avg_length = 500 #自定义了一个长度\n",
        "\n",
        "# 在图上显示统计信息\n",
        "plt.axvline(x=avg_length, color='r', linestyle='--', label=f'Average Length: {avg_length:.1f}')\n",
        "plt.text(max_length*0.7, plt.ylim()[1]*0.9, f'Max Length: {max_length}')\n",
        "plt.text(max_length*0.7, plt.ylim()[1]*0.85, f'Min Length: {min_length}')\n",
        "plt.text(max_length*0.7, plt.ylim()[1]*0.8, f'Average Length: {avg_length:.1f}')\n",
        "plt.legend()\n",
        "\n",
        "plt.show()\n"
      ]
    },
    {
      "cell_type": "markdown",
      "id": "72202119",
      "metadata": {
        "id": "72202119"
      },
      "source": [
        "# Tokenizer"
      ]
    },
    {
      "cell_type": "code",
      "execution_count": 9,
      "id": "1f1980b6",
      "metadata": {
        "colab": {
          "base_uri": "https://localhost:8080/"
        },
        "id": "1f1980b6",
        "outputId": "e57267fa-9159-4526-ced7-e9697273f2b5"
      },
      "outputs": [
        {
          "output_type": "stream",
          "name": "stdout",
          "text": [
            "编码后的序列:\n",
            "[[    1  4825   182     3     0     0     0]\n",
            " [    1     2  3004     2    19 19233     3]\n",
            " [    1    14     9     6  2181     3     0]]\n",
            "\n",
            "解码后的文本:\n",
            "['[BOS] hello world [EOS]', '[BOS] [UNK] text [UNK] with batch [EOS]', '[BOS] this is a test [EOS]']\n"
          ]
        }
      ],
      "source": [
        "import numpy as np\n",
        "\n",
        "class Tokenizer:\n",
        "    def __init__(self, word_index, reverse_word_index):\n",
        "        self.word_index = word_index\n",
        "        self.reverse_word_index = reverse_word_index\n",
        "        self.pad_token = 0  # <PAD>\n",
        "        self.start_token = 1  # <START>\n",
        "        self.unk_token = 2  # <UNK>\n",
        "        self.end_token = 3  # <END>\n",
        "\n",
        "    def encode(self, texts, maxlen=None, padding='post', truncating='post', add_start=False, add_end=False):\n",
        "        \"\"\"\n",
        "        将文本序列转换为数字序列\n",
        "\n",
        "        参数:\n",
        "        - texts: 文本列表，每个元素是一个词列表\n",
        "        - maxlen: 序列最大长度，如果为None则使用最长序列的长度\n",
        "        - padding: 'pre'或'post'，表示在序列前或后填充\n",
        "        - truncating: 'pre'或'post'，表示从序列前或后截断\n",
        "        - add_start: 是否添加开始标记\n",
        "        - add_end: 是否添加结束标记\n",
        "\n",
        "        返回:\n",
        "        - 编码后的序列\n",
        "        \"\"\"\n",
        "        result = [] #编码后的序列，存储整个batch的序列\n",
        "\n",
        "        # 计算需要的序列长度\n",
        "        batch_max_len = max([len(seq) for seq in texts]) #batch内最长序列长度\n",
        "        if add_start:\n",
        "            batch_max_len += 1\n",
        "        if add_end:\n",
        "            batch_max_len += 1\n",
        "\n",
        "        # 如果maxlen为None或者batch内最大长度小于maxlen，使用batch内最大长度\n",
        "        if maxlen is None or batch_max_len < maxlen:\n",
        "            maxlen = batch_max_len\n",
        "\n",
        "        for text in texts:\n",
        "            sequence = []\n",
        "\n",
        "            # 添加开始标记\n",
        "            if add_start:\n",
        "                sequence.append(self.start_token)\n",
        "\n",
        "            # 将词转换为索引\n",
        "            for word in text:\n",
        "                sequence.append(self.word_index.get(word, self.unk_token))\n",
        "\n",
        "            # 添加结束标记\n",
        "            if add_end:\n",
        "                sequence.append(self.end_token)\n",
        "\n",
        "            # 截断序列\n",
        "            if len(sequence) > maxlen:\n",
        "                if truncating == 'pre':\n",
        "                    sequence = sequence[-maxlen:]\n",
        "                else:  # truncating == 'post'\n",
        "                    sequence = sequence[:maxlen]\n",
        "\n",
        "            # 填充序列\n",
        "            pad_length = maxlen - len(sequence)\n",
        "            if pad_length > 0:\n",
        "                if padding == 'pre':\n",
        "                    sequence = [self.pad_token] * pad_length + sequence\n",
        "                else:  # padding == 'post'\n",
        "                    sequence = sequence + [self.pad_token] * pad_length\n",
        "\n",
        "            result.append(sequence)\n",
        "\n",
        "        return np.array(result)\n",
        "\n",
        "    def decode(self, sequences):\n",
        "        \"\"\"\n",
        "        将数字序列转换回文本\n",
        "\n",
        "        参数:\n",
        "        - sequences: 数字序列列表\n",
        "\n",
        "        返回:\n",
        "        - 解码后的文本列表\n",
        "        \"\"\"\n",
        "        result = []\n",
        "        for sequence in sequences:\n",
        "            words = []\n",
        "            for idx in sequence:\n",
        "                if idx == self.pad_token:\n",
        "                    continue  # 跳过填充标记\n",
        "                word = self.reverse_word_index.get(idx, '?')\n",
        "                # if word not in ['[PAD]', '[BOS]', '[UNK]', '[EOS]']:\n",
        "                words.append(word)\n",
        "            result.append(' '.join(words))\n",
        "        return result\n",
        "\n",
        "# 创建Tokenizer实例\n",
        "tokenizer = Tokenizer(word_index, reverse_word_index)\n",
        "\n",
        "# 测试编码\n",
        "encoded = tokenizer.encode(raw_text, maxlen=500, padding='post', add_start=True, add_end=True)\n",
        "print(\"编码后的序列:\")\n",
        "print(encoded)\n",
        "\n",
        "# 测试解码\n",
        "decoded = tokenizer.decode(encoded)\n",
        "print(\"\\n解码后的文本:\")\n",
        "print(decoded)\n"
      ]
    },
    {
      "cell_type": "markdown",
      "id": "1f2cddf5",
      "metadata": {
        "id": "1f2cddf5"
      },
      "source": [
        "# Dataset和DataLoader"
      ]
    },
    {
      "cell_type": "code",
      "execution_count": 10,
      "id": "c207da73",
      "metadata": {
        "colab": {
          "base_uri": "https://localhost:8080/"
        },
        "id": "c207da73",
        "outputId": "eeb6231e-3db9-48c4-d35a-d7837fbbe9b9"
      },
      "outputs": [
        {
          "output_type": "stream",
          "name": "stdout",
          "text": [
            "训练集大小: 25000\n",
            "验证集大小: 10000\n",
            "测试集大小: 15000\n"
          ]
        },
        {
          "output_type": "execute_result",
          "data": {
            "text/plain": [
              "([\"[BOS] this film was just brilliant casting location scenery story direction everyone's really suited the part they played and you could just imagine being there robert [UNK] is an amazing actor and now the same being director [UNK] father came from the same scottish island as myself so i loved the fact there was a real connection with this film the witty remarks throughout the film were great it was just brilliant so much that i bought the film as soon as it was released for [UNK] and would recommend it to everyone to watch and the fly fishing was amazing really cried at the end it was so sad and you know what they say if you cry at a film it must have been good and this definitely was also [UNK] to the two little boy's that played the [UNK] of norman and paul they were just brilliant children are often left out of the [UNK] list i think because the stars that play them all grown up are such a big profile for the whole film but these children are amazing and should be praised for what they have done don't you think the whole story was so lovely because it was true and was someone's life after all that was shared with us all\",\n",
              "  \"[BOS] big hair big boobs bad music and a giant safety pin these are the words to best describe this terrible movie i love cheesy horror movies and i've seen hundreds but this had got to be on of the worst ever made the plot is paper thin and ridiculous the acting is an abomination the script is completely laughable the best is the end showdown with the cop and how he worked out who the killer is it's just so damn terribly written the clothes are sickening and funny in equal [UNK] the hair is big lots of boobs [UNK] men wear those cut [UNK] shirts that show off their [UNK] sickening that men actually wore them and the music is just [UNK] trash that plays over and over again in almost every scene there is trashy music boobs and [UNK] taking away bodies and the gym still doesn't close for [UNK] all joking aside this is a truly bad film whose only charm is to look back on the disaster that was the 80's and have a good old laugh at how bad everything was back then\",\n",
              "  \"[BOS] this has to be one of the worst films of the 1990s when my friends i were watching this film being the target audience it was aimed at we just sat watched the first half an hour with our jaws touching the floor at how bad it really was the rest of the time everyone else in the theatre just started talking to each other leaving or generally crying into their popcorn that they actually paid money they had [UNK] working to watch this feeble excuse for a film it must have looked like a great idea on paper but on film it looks like no one in the film has a clue what is going on crap acting crap costumes i can't get across how [UNK] this is to watch save yourself an hour a bit of your life\"],\n",
              " array([1, 0, 0]))"
            ]
          },
          "metadata": {},
          "execution_count": 10
        }
      ],
      "source": [
        "import torch\n",
        "from torch.utils.data import Dataset, DataLoader, random_split\n",
        "\n",
        "class TextDataset(Dataset):\n",
        "    \"\"\"\n",
        "    文本数据集类\n",
        "    \"\"\"\n",
        "    def __init__(self, sequences, tokenizer, labels=None):\n",
        "        \"\"\"\n",
        "        初始化文本数据集\n",
        "\n",
        "        参数:\n",
        "        - sequences: 编码后的序列\n",
        "        - tokenizer: 分词器实例\n",
        "        - labels: 标签（可选）\n",
        "        \"\"\"\n",
        "        # 将编码序列解码为文本\n",
        "        self.texts = tokenizer.decode(sequences)\n",
        "        self.tokenizer = tokenizer\n",
        "        self.labels = labels\n",
        "\n",
        "    def __len__(self):\n",
        "        \"\"\"\n",
        "        返回数据集大小\n",
        "        \"\"\"\n",
        "        return len(self.texts)\n",
        "\n",
        "    def __getitem__(self, idx):\n",
        "        \"\"\"\n",
        "        获取指定索引的样本\n",
        "\n",
        "        参数:\n",
        "        - idx: 索引\n",
        "\n",
        "        返回:\n",
        "        - 样本（文本和标签，如果有的话）\n",
        "        \"\"\"\n",
        "        if self.labels is not None:\n",
        "            return self.texts[idx], self.labels[idx]\n",
        "        return self.texts[idx]\n",
        "\n",
        "def collate_fn(batch, tokenizer, maxlen=500):\n",
        "    \"\"\"\n",
        "    自定义批处理函数，用于在加载数据时进行编码\n",
        "\n",
        "    参数:\n",
        "    - batch: 批次数据\n",
        "    - tokenizer: 分词器实例\n",
        "    - maxlen: 最大序列长度\n",
        "\n",
        "    返回:\n",
        "    - 编码后的序列和标签（如果有的话）\n",
        "    \"\"\"\n",
        "    if isinstance(batch[0], tuple):\n",
        "        # print(batch)\n",
        "        # 如果批次包含标签\n",
        "        text_list = [item[0].split() for item in batch]  #batch是128样本，每个样本类型是元组，第一个元素是文本，第二个元素是标签\n",
        "        label_list = [item[1] for item in batch]\n",
        "        # print(text_list)\n",
        "        encoded = tokenizer.encode(text_list, maxlen=maxlen, padding='pre', add_start=False, add_end=True)\n",
        "        sequences = torch.tensor(encoded, dtype=torch.long)\n",
        "        labels = torch.tensor(label_list, dtype=torch.float).view(-1, 1)  # 将标签reshape为二维 [batch_size, 1]\n",
        "        return sequences, labels\n",
        "    else:\n",
        "        # 如果批次只有文本\n",
        "        text_list = [item.split() for item in batch]\n",
        "        encoded = tokenizer.encode(text_list, maxlen=maxlen, padding='pre', add_start=False, add_end=True)\n",
        "        sequences = torch.tensor(encoded, dtype=torch.long)\n",
        "        return sequences\n",
        "\n",
        "# 示例：创建数据集和数据加载器\n",
        "# 假设我们有训练、验证和测试数据\n",
        "# 创建对应的数据集\n",
        "train_dataset = TextDataset(x_train, tokenizer, y_train)\n",
        "val_dataset = TextDataset(x_val, tokenizer, y_val)\n",
        "test_dataset = TextDataset(x_test, tokenizer, y_test)\n",
        "\n",
        "# 创建数据加载器\n",
        "batch_size = 128\n",
        "train_dataloader = DataLoader(\n",
        "    train_dataset,\n",
        "    batch_size=batch_size,\n",
        "    shuffle=True,\n",
        "    collate_fn=lambda batch: collate_fn(batch, tokenizer)\n",
        ")\n",
        "val_dataloader = DataLoader(\n",
        "    val_dataset,\n",
        "    batch_size=batch_size,\n",
        "    shuffle=False,\n",
        "    collate_fn=lambda batch: collate_fn(batch, tokenizer)\n",
        ")\n",
        "test_dataloader = DataLoader(\n",
        "    test_dataset,\n",
        "    batch_size=batch_size,\n",
        "    shuffle=False,\n",
        "    collate_fn=lambda batch: collate_fn(batch, tokenizer)\n",
        ")\n",
        "\n",
        "# 打印数据集和数据加载器信息\n",
        "print(f\"训练集大小: {len(train_dataset)}\")\n",
        "print(f\"验证集大小: {len(val_dataset)}\")\n",
        "print(f\"测试集大小: {len(test_dataset)}\")\n",
        "\n",
        "train_dataset[0:3]\n"
      ]
    },
    {
      "cell_type": "code",
      "execution_count": 11,
      "id": "c581e1ec",
      "metadata": {
        "colab": {
          "base_uri": "https://localhost:8080/"
        },
        "id": "c581e1ec",
        "outputId": "ff6cc0e2-dded-462c-f761-24904db3133d"
      },
      "outputs": [
        {
          "output_type": "stream",
          "name": "stdout",
          "text": [
            "\n",
            "训练数据加载器示例:\n",
            "批次 1:\n",
            "序列形状: torch.Size([128, 500])\n",
            "标签形状: torch.Size([128, 1])\n"
          ]
        },
        {
          "output_type": "execute_result",
          "data": {
            "text/plain": [
              "tensor([[   0,    0,    0,  ..., 2441,   20,    3],\n",
              "        [   0,    0,    0,  ...,   19, 7053,    3],\n",
              "        [   0,    0,    0,  ..., 2109,   64,    3],\n",
              "        ...,\n",
              "        [   1,  518, 2129,  ...,   78,  796,   97],\n",
              "        [   0,    0,    0,  ...,  675,  503,    3],\n",
              "        [   0,    0,    0,  ...,   11,  119,    3]])"
            ]
          },
          "metadata": {},
          "execution_count": 11
        }
      ],
      "source": [
        "# 示例：遍历训练数据加载器\n",
        "print(\"\\n训练数据加载器示例:\")\n",
        "for i, (batch_sequences, batch_labels) in enumerate(train_dataloader):\n",
        "    print(f\"批次 {i+1}:\")\n",
        "    print(f\"序列形状: {batch_sequences.shape}\")\n",
        "    print(f\"标签形状: {batch_labels.shape}\")\n",
        "    if i == 0:  # 只打印第一个批次\n",
        "        break\n",
        "batch_sequences"
      ]
    },
    {
      "cell_type": "markdown",
      "id": "3fc9a057",
      "metadata": {
        "id": "3fc9a057"
      },
      "source": [
        "# 搭建模型"
      ]
    },
    {
      "cell_type": "code",
      "execution_count": 12,
      "id": "d445876c",
      "metadata": {
        "colab": {
          "base_uri": "https://localhost:8080/"
        },
        "id": "d445876c",
        "outputId": "68c3d29f-eada-41c6-d1b7-c1437841acc0"
      },
      "outputs": [
        {
          "output_type": "execute_result",
          "data": {
            "text/plain": [
              "torch.Size([1, 64, 1])"
            ]
          },
          "metadata": {},
          "execution_count": 12
        }
      ],
      "source": [
        "from torch import nn\n",
        "m = nn.AdaptiveAvgPool1d(1)  #输出形状为[batch_size, embedding_dim, 1],把最后一个维度size变成1\n",
        "input = torch.randn(1, 64, 8)\n",
        "output = m(input)\n",
        "output.shape"
      ]
    },
    {
      "cell_type": "code",
      "execution_count": 13,
      "id": "9693b445",
      "metadata": {
        "colab": {
          "base_uri": "https://localhost:8080/"
        },
        "id": "9693b445",
        "outputId": "ab0c89ad-e56d-4f85-a781-87da0f5e6e91"
      },
      "outputs": [
        {
          "output_type": "stream",
          "name": "stdout",
          "text": [
            "Using device: cuda\n",
            "模型结构:\n",
            "SentimentClassifier(\n",
            "  (embedding): Embedding(10000, 16)\n",
            "  (rnn): RNN(16, 64, batch_first=True)\n",
            "  (fc1): Linear(in_features=64, out_features=64, bias=True)\n",
            "  (fc): Linear(in_features=64, out_features=1, bias=True)\n",
            "  (dropout): Dropout(p=0.3, inplace=False)\n",
            ")\n",
            "单层单向RNN模型参数数量: 169,473\n"
          ]
        }
      ],
      "source": [
        "import torch\n",
        "import torch.nn as nn\n",
        "import torch.nn.functional as F\n",
        "\n",
        "class SentimentClassifier(nn.Module):\n",
        "    def __init__(self, vocab_size, embedding_dim=16, hidden_dim=64, output_dim=1,\n",
        "                 rnn_layers=1, bidirectional=False, dropout_rate=0.3):\n",
        "        super().__init__()\n",
        "\n",
        "        # 嵌入层\n",
        "        self.embedding = nn.Embedding(vocab_size, embedding_dim)\n",
        "\n",
        "        # 设置RNN层\n",
        "        self.rnn = nn.RNN(embedding_dim, hidden_dim,\n",
        "                         num_layers=rnn_layers, # 层数\n",
        "                         bidirectional=bidirectional, # 是否双向\n",
        "                         batch_first=True,\n",
        "                         dropout=dropout_rate if rnn_layers > 1 else 0)\n",
        "\n",
        "        # 确定输出维度\n",
        "        fc_input_dim = hidden_dim * 2 if bidirectional else hidden_dim\n",
        "\n",
        "        # 增加一个fc层，输入是fc_input_dim，输出是hidden_dim\n",
        "        self.fc1 = nn.Linear(fc_input_dim, hidden_dim)\n",
        "\n",
        "        # 全连接层\n",
        "        self.fc = nn.Linear(hidden_dim, output_dim)\n",
        "\n",
        "        # Dropout层，防止过拟合\n",
        "        self.dropout = nn.Dropout(dropout_rate)\n",
        "\n",
        "    def forward(self, x):\n",
        "        # x形状: [batch_size, seq_len]\n",
        "\n",
        "        # 通过嵌入层\n",
        "        embedded = self.embedding(x)  # [batch_size, seq_len, embedding_dim]\n",
        "\n",
        "        # 通过RNN层\n",
        "        outputs, hidden = self.rnn(embedded)\n",
        "\n",
        "        # print(f'outputs.shape: {outputs.shape}')\n",
        "        # print(f'hidden.shape: {hidden.shape}')\n",
        "\n",
        "        # 取最后一个时间步的输出 (这也是为什么要设置padding_first=True的原因)\n",
        "        x = outputs[:, -1, :]\n",
        "        # # 打印一下形状，观察数据\n",
        "        # print(f'x.shape: {x.shape}')\n",
        "        # print(f'hidden.shape: {hidden.shape}')\n",
        "\n",
        "\n",
        "        # hidden_reshaped = hidden.squeeze(0)\n",
        "        # x_reshaped = x\n",
        "\n",
        "\n",
        "        # # 判断两个张量是否相等\n",
        "        # is_equal = torch.allclose(x_reshaped, hidden_reshaped)\n",
        "        # print(f'outputs的最后一个时间步与hidden是否相等: {is_equal}')\n",
        "\n",
        "        # 应用dropout\n",
        "        x = self.dropout(x)\n",
        "        x = self.fc1(x)\n",
        "        x = self.fc(x)\n",
        "\n",
        "        return x\n",
        "\n",
        "\n",
        "# 判断设备，如果有GPU则用cuda，否则用cpu，并打印设备信息（中文注释）\n",
        "device = torch.device(\"cuda\" if torch.cuda.is_available() else \"cpu\")\n",
        "print(f\"Using device: {device}\")  # 打印当前使用的设备\n",
        "\n",
        "# 初始化模型\n",
        "model = SentimentClassifier(vocab_size, rnn_layers=1, bidirectional=False).to(device)\n",
        "print(f\"模型结构:\\n{model}\")\n",
        "\n",
        "# 打印模型参数数量\n",
        "def count_parameters(model):\n",
        "    return sum(p.numel() for p in model.parameters() if p.requires_grad)\n",
        "\n",
        "print(f\"单层单向RNN模型参数数量: {count_parameters(model):,}\")\n"
      ]
    },
    {
      "cell_type": "code",
      "execution_count": 20,
      "id": "f9f4f8f8",
      "metadata": {
        "colab": {
          "base_uri": "https://localhost:8080/"
        },
        "id": "f9f4f8f8",
        "outputId": "ebcc2034-e6a0-4769-c0ff-65166ab75f3c"
      },
      "outputs": [
        {
          "output_type": "stream",
          "name": "stdout",
          "text": [
            "模型各层参数尺寸:\n",
            "embedding.weight: torch.Size([10000, 16])\n",
            "rnn.weight_ih_l0: torch.Size([64, 16])\n",
            "rnn.weight_hh_l0: torch.Size([64, 64])\n",
            "rnn.bias_ih_l0: torch.Size([64])\n",
            "rnn.bias_hh_l0: torch.Size([64])\n",
            "fc1.weight: torch.Size([64, 64])\n",
            "fc1.bias: torch.Size([64])\n",
            "fc.weight: torch.Size([1, 64])\n",
            "fc.bias: torch.Size([1])\n",
            "\n",
            "RNN层详细信息:\n",
            "- weight_ih_l0: torch.Size([64, 16])\n",
            "- weight_hh_l0: torch.Size([64, 64])\n",
            "- bias_ih_l0: torch.Size([64])\n",
            "- bias_hh_l0: torch.Size([64])\n"
          ]
        }
      ],
      "source": [
        "# 定义一个函数来输出模型每层的参数尺寸\n",
        "def print_model_layers_shapes(model):\n",
        "    print(\"模型各层参数尺寸:\")\n",
        "    for name, param in model.named_parameters():\n",
        "        print(f\"{name}: {param.shape}\")\n",
        "\n",
        "# 对当前模型进行参数尺寸分析\n",
        "print_model_layers_shapes(model)\n",
        "\n",
        "\n",
        "# 对RNN层参数尺寸的详细解释\n",
        "print(f\"\\nRNN层详细信息:\")\n",
        "for name, param in model.rnn.named_parameters():\n",
        "    print(f\"- {name}: {param.shape}\")\n"
      ]
    },
    {
      "cell_type": "code",
      "execution_count": 21,
      "id": "5f0b3c05",
      "metadata": {
        "colab": {
          "base_uri": "https://localhost:8080/"
        },
        "id": "5f0b3c05",
        "outputId": "1b94b0fb-7e05-47d4-d538-cb8d6ab8f501"
      },
      "outputs": [
        {
          "output_type": "stream",
          "name": "stdout",
          "text": [
            "双向RNN模型结构:\n",
            "SentimentClassifier(\n",
            "  (embedding): Embedding(10000, 16)\n",
            "  (rnn): RNN(16, 64, batch_first=True, bidirectional=True)\n",
            "  (fc1): Linear(in_features=128, out_features=64, bias=True)\n",
            "  (fc): Linear(in_features=64, out_features=1, bias=True)\n",
            "  (dropout): Dropout(p=0.3, inplace=False)\n",
            ")\n",
            "双层双向RNN模型参数数量: 178,817\n",
            "\n",
            "双向RNN层详细信息:\n",
            "- weight_ih_l0: torch.Size([64, 16])\n",
            "- weight_hh_l0: torch.Size([64, 64])\n",
            "- bias_ih_l0: torch.Size([64])\n",
            "- bias_hh_l0: torch.Size([64])\n",
            "- weight_ih_l0_reverse: torch.Size([64, 16])\n",
            "- weight_hh_l0_reverse: torch.Size([64, 64])\n",
            "- bias_ih_l0_reverse: torch.Size([64])\n",
            "- bias_hh_l0_reverse: torch.Size([64])\n"
          ]
        }
      ],
      "source": [
        "# 初始化双向RNN模型\n",
        "bidirectional_model = SentimentClassifier(vocab_size, rnn_layers=1, bidirectional=True).to(device)\n",
        "print(f\"双向RNN模型结构:\\n{bidirectional_model}\")\n",
        "\n",
        "# 计算双向RNN模型参数数量\n",
        "print(f\"双层双向RNN模型参数数量: {count_parameters(bidirectional_model):,}\")\n",
        "\n",
        "\n",
        "# 对双向RNN层参数尺寸的详细解释\n",
        "print(f\"\\n双向RNN层详细信息:\")\n",
        "for name, param in bidirectional_model.rnn.named_parameters():\n",
        "    print(f\"- {name}: {param.shape}\")\n",
        "\n",
        "\n",
        "\n"
      ]
    },
    {
      "cell_type": "code",
      "execution_count": 18,
      "id": "8e15cf57",
      "metadata": {
        "colab": {
          "base_uri": "https://localhost:8080/"
        },
        "id": "8e15cf57",
        "outputId": "a2626a44-abe4-4cf7-d5c5-89ad94b2157f"
      },
      "outputs": [
        {
          "output_type": "stream",
          "name": "stdout",
          "text": [
            "双层单向RNN模型结构:\n",
            "SentimentClassifier(\n",
            "  (embedding): Embedding(10000, 16)\n",
            "  (rnn): RNN(16, 64, num_layers=2, batch_first=True, dropout=0.3)\n",
            "  (fc1): Linear(in_features=64, out_features=64, bias=True)\n",
            "  (fc): Linear(in_features=64, out_features=1, bias=True)\n",
            "  (dropout): Dropout(p=0.3, inplace=False)\n",
            ")\n",
            "双层单向RNN模型参数数量: 177,793\n",
            "\n",
            "双层单向RNN层详细信息:\n",
            "- weight_ih_l0: torch.Size([64, 16])\n",
            "- weight_hh_l0: torch.Size([64, 64])\n",
            "- bias_ih_l0: torch.Size([64])\n",
            "- bias_hh_l0: torch.Size([64])\n",
            "- weight_ih_l1: torch.Size([64, 64])\n",
            "- weight_hh_l1: torch.Size([64, 64])\n",
            "- bias_ih_l1: torch.Size([64])\n",
            "- bias_hh_l1: torch.Size([64])\n"
          ]
        }
      ],
      "source": [
        "# 初始化双层单向RNN模型\n",
        "two_layer_model = SentimentClassifier(vocab_size, rnn_layers=2, bidirectional=False).to(device)\n",
        "print(f\"双层单向RNN模型结构:\\n{two_layer_model}\")\n",
        "\n",
        "# 计算双层单向RNN模型参数数量\n",
        "print(f\"双层单向RNN模型参数数量: {count_parameters(two_layer_model):,}\")\n",
        "\n",
        "# 对双层单向RNN层参数尺寸的详细解释\n",
        "print(f\"\\n双层单向RNN层详细信息:\")\n",
        "for name, param in two_layer_model.rnn.named_parameters():\n",
        "    print(f\"- {name}: {param.shape}\")\n",
        "\n"
      ]
    },
    {
      "cell_type": "code",
      "execution_count": 22,
      "id": "19962cc7",
      "metadata": {
        "colab": {
          "base_uri": "https://localhost:8080/"
        },
        "id": "19962cc7",
        "outputId": "0a702f6d-a343-48e1-b125-e9be2acc94f5"
      },
      "outputs": [
        {
          "output_type": "stream",
          "name": "stdout",
          "text": [
            "使用设备: cuda\n",
            "输入形状: torch.Size([128, 500])\n",
            "输出形状: torch.Size([128, 1])\n"
          ]
        }
      ],
      "source": [
        "# 设置设备\n",
        "device = torch.device('cuda' if torch.cuda.is_available() else 'cpu')\n",
        "print(f\"使用设备: {device}\")\n",
        "# 验证模型的前向计算\n",
        "# 从训练数据中获取一个批次的样本\n",
        "sample_batch, sample_labels = next(iter(train_dataloader))\n",
        "print(f\"输入形状: {sample_batch.shape}\")\n",
        "\n",
        "# 将样本移动到设备上\n",
        "sample_batch = sample_batch.to(device)\n",
        "sample_labels = sample_labels.to(device)\n",
        "\n",
        "# 进行前向计算\n",
        "with torch.no_grad():\n",
        "    outputs = bidirectional_model(sample_batch)\n",
        "    print(f\"输出形状: {outputs.shape}\")\n",
        "\n"
      ]
    },
    {
      "cell_type": "markdown",
      "id": "f6b527a4",
      "metadata": {
        "id": "f6b527a4"
      },
      "source": [
        "# 训练，画图，评估"
      ]
    },
    {
      "cell_type": "code",
      "execution_count": 25,
      "id": "4f63a223",
      "metadata": {
        "colab": {
          "base_uri": "https://localhost:8080/",
          "height": 257,
          "referenced_widgets": [
            "3e39c47e14564f6b895701cca1262d74",
            "cde2d59ded1548338cf8910fd0a310aa",
            "9959b5443724405d8a3536854c303373",
            "34c41edc16f844348234c71b4cb26566",
            "0e53ca91a7d64e7c9ff2d48550d7e6eb",
            "a74faa0d0fbe4b698e43c445fb586e36",
            "9953b45fa4a94831a7fcde2a848323f1",
            "f7dda9630f8f4535958dd5e4449f3937",
            "61540bddc9a74d0b91f853b21439fe7a",
            "1c7bf5e82801470a9a82c12379a3a0b7",
            "6fb40bb1267748979687584750ea2902"
          ]
        },
        "id": "4f63a223",
        "outputId": "d6790e5a-f5fe-42ee-82d0-9533a95baaf7"
      },
      "outputs": [
        {
          "output_type": "stream",
          "name": "stdout",
          "text": [
            "模型结构:\n",
            "SentimentClassifier(\n",
            "  (embedding): Embedding(10000, 16)\n",
            "  (rnn): RNN(16, 64, num_layers=2, batch_first=True, dropout=0.3)\n",
            "  (fc1): Linear(in_features=64, out_features=64, bias=True)\n",
            "  (fc): Linear(in_features=64, out_features=1, bias=True)\n",
            "  (dropout): Dropout(p=0.3, inplace=False)\n",
            ")\n",
            "训练开始，共3920步\n"
          ]
        },
        {
          "output_type": "display_data",
          "data": {
            "text/plain": [
              "  0%|          | 0/3920 [00:00<?, ?it/s]"
            ],
            "application/vnd.jupyter.widget-view+json": {
              "version_major": 2,
              "version_minor": 0,
              "model_id": "3e39c47e14564f6b895701cca1262d74"
            }
          },
          "metadata": {}
        },
        {
          "output_type": "stream",
          "name": "stdout",
          "text": [
            "早停触发!\n",
            "76.7700\n",
            "早停: 在3700 步\n"
          ]
        }
      ],
      "source": [
        "from deeplearning_model_new import train_two_classification_model, evaluate_two_classification_model,plot_learning_curves,EarlyStopping,ModelSaver\n",
        "\n",
        "model = SentimentClassifier(vocab_size, rnn_layers=2, bidirectional=False)\n",
        "print(f\"模型结构:\\n{model}\")\n",
        "\n",
        "# 定义损失函数和优化器\n",
        "criterion = nn.BCEWithLogitsLoss() #WithLogitsLoss代表的含义是：把输出结果通过sigmoid函数，然后计算损失\n",
        "optimizer = torch.optim.Adam(model.parameters(), lr=0.001)\n",
        "# 将模型移动到设备上\n",
        "model = model.to(device)\n",
        "\n",
        "\n",
        "# 训练参数\n",
        "num_epochs = 20\n",
        "eval_step = 100\n",
        "\n",
        "# 训练模型\n",
        "# 创建早停和模型保存器\n",
        "early_stopping = EarlyStopping(patience=5, delta=0.001)\n",
        "model_saver = ModelSaver(save_dir='weights')\n",
        "\n",
        "model, record_dict = train_two_classification_model(\n",
        "    model=model,\n",
        "    train_loader=train_dataloader,\n",
        "    val_loader=val_dataloader,\n",
        "    criterion=criterion,\n",
        "    optimizer=optimizer,\n",
        "    device=device,\n",
        "    num_epochs=num_epochs,\n",
        "    eval_step=eval_step,\n",
        "    early_stopping=early_stopping,\n",
        "    model_saver=model_saver\n",
        ")\n",
        "\n",
        "\n"
      ]
    },
    {
      "cell_type": "code",
      "execution_count": 26,
      "id": "0fb25282",
      "metadata": {
        "colab": {
          "base_uri": "https://localhost:8080/",
          "height": 465
        },
        "id": "0fb25282",
        "outputId": "3a01b86a-83fb-43d3-f1ef-ba3eaa296ea4"
      },
      "outputs": [
        {
          "output_type": "display_data",
          "data": {
            "text/plain": [
              "<Figure size 1000x500 with 2 Axes>"
            ],
            "image/png": "[encoded data removed]"
          },
          "metadata": {}
        }
      ],
      "source": [
        "# 绘制学习曲线\n",
        "plot_learning_curves(record_dict,sample_step=100)\n"
      ]
    },
    {
      "cell_type": "code",
      "execution_count": 27,
      "id": "55a18ae6",
      "metadata": {
        "colab": {
          "base_uri": "https://localhost:8080/"
        },
        "id": "55a18ae6",
        "outputId": "0681faa0-af8e-4b59-d8dc-9a8be3ecb494"
      },
      "outputs": [
        {
          "output_type": "stream",
          "name": "stdout",
          "text": [
            "测试集准确率: 75.19%, 测试集损失: 0.5395\n"
          ]
        }
      ],
      "source": [
        "\n",
        "\n",
        "# 在测试集上评估最终模型\n",
        "test_acc, test_loss = evaluate_two_classification_model(model, test_dataloader, device, criterion)\n",
        "print(f\"测试集准确率: {test_acc:.2f}%, 测试集损失: {test_loss:.4f}\")"
      ]
    }
  ],
  "metadata": {
    "kernelspec": {
      "display_name": "Python 3",
      "name": "python3"
    },
    "language_info": {
      "codemirror_mode": {
        "name": "ipython",
        "version": 3
      },
      "file_extension": ".py",
      "mimetype": "text/x-python",
      "name": "python",
      "nbconvert_exporter": "python",
      "pygments_lexer": "ipython3",
      "version": "3.12.1"
    },
    "colab": {
      "provenance": [],
      "gpuType": "T4"
    },
    "accelerator": "GPU",
    "widgets": {
      "application/vnd.jupyter.widget-state+json": {
        "3e39c47e14564f6b895701cca1262d74": {
          "model_module": "@jupyter-widgets/controls",
          "model_name": "HBoxModel",
          "model_module_version": "1.5.0",
          "state": {
            "_dom_classes": [],
            "_model_module": "@jupyter-widgets/controls",
            "_model_module_version": "1.5.0",
            "_model_name": "HBoxModel",
            "_view_count": null,
            "_view_module": "@jupyter-widgets/controls",
            "_view_module_version": "1.5.0",
            "_view_name": "HBoxView",
            "box_style": "",
            "children": [
              "IPY_MODEL_cde2d59ded1548338cf8910fd0a310aa",
              "IPY_MODEL_9959b5443724405d8a3536854c303373",
              "IPY_MODEL_34c41edc16f844348234c71b4cb26566"
            ],
            "layout": "IPY_MODEL_0e53ca91a7d64e7c9ff2d48550d7e6eb"
          }
        },
        "cde2d59ded1548338cf8910fd0a310aa": {
          "model_module": "@jupyter-widgets/controls",
          "model_name": "HTMLModel",
          "model_module_version": "1.5.0",
          "state": {
            "_dom_classes": [],
            "_model_module": "@jupyter-widgets/controls",
            "_model_module_version": "1.5.0",
            "_model_name": "HTMLModel",
            "_view_count": null,
            "_view_module": "@jupyter-widgets/controls",
            "_view_module_version": "1.5.0",
            "_view_name": "HTMLView",
            "description": "",
            "description_tooltip": null,
            "layout": "IPY_MODEL_a74faa0d0fbe4b698e43c445fb586e36",
            "placeholder": "​",
            "style": "IPY_MODEL_9953b45fa4a94831a7fcde2a848323f1",
            "value": " 94%"
          }
        },
        "9959b5443724405d8a3536854c303373": {
          "model_module": "@jupyter-widgets/controls",
          "model_name": "FloatProgressModel",
          "model_module_version": "1.5.0",
          "state": {
            "_dom_classes": [],
            "_model_module": "@jupyter-widgets/controls",
            "_model_module_version": "1.5.0",
            "_model_name": "FloatProgressModel",
            "_view_count": null,
            "_view_module": "@jupyter-widgets/controls",
            "_view_module_version": "1.5.0",
            "_view_name": "ProgressView",
            "bar_style": "danger",
            "description": "",
            "description_tooltip": null,
            "layout": "IPY_MODEL_f7dda9630f8f4535958dd5e4449f3937",
            "max": 3920,
            "min": 0,
            "orientation": "horizontal",
            "style": "IPY_MODEL_61540bddc9a74d0b91f853b21439fe7a",
            "value": 3700
          }
        },
        "34c41edc16f844348234c71b4cb26566": {
          "model_module": "@jupyter-widgets/controls",
          "model_name": "HTMLModel",
          "model_module_version": "1.5.0",
          "state": {
            "_dom_classes": [],
            "_model_module": "@jupyter-widgets/controls",
            "_model_module_version": "1.5.0",
            "_model_name": "HTMLModel",
            "_view_count": null,
            "_view_module": "@jupyter-widgets/controls",
            "_view_module_version": "1.5.0",
            "_view_name": "HTMLView",
            "description": "",
            "description_tooltip": null,
            "layout": "IPY_MODEL_1c7bf5e82801470a9a82c12379a3a0b7",
            "placeholder": "​",
            "style": "IPY_MODEL_6fb40bb1267748979687584750ea2902",
            "value": " 3700/3920 [02:01&lt;00:04, 44.04it/s, epoch=18, loss=0.4321, acc=82.81%, val_loss=0.5769, val_acc=71.58%]"
          }
        },
        "0e53ca91a7d64e7c9ff2d48550d7e6eb": {
          "model_module": "@jupyter-widgets/base",
          "model_name": "LayoutModel",
          "model_module_version": "1.2.0",
          "state": {
            "_model_module": "@jupyter-widgets/base",
            "_model_module_version": "1.2.0",
            "_model_name": "LayoutModel",
            "_view_count": null,
            "_view_module": "@jupyter-widgets/base",
            "_view_module_version": "1.2.0",
            "_view_name": "LayoutView",
            "align_content": null,
            "align_items": null,
            "align_self": null,
            "border": null,
            "bottom": null,
            "display": null,
            "flex": null,
            "flex_flow": null,
            "grid_area": null,
            "grid_auto_columns": null,
            "grid_auto_flow": null,
            "grid_auto_rows": null,
            "grid_column": null,
            "grid_gap": null,
            "grid_row": null,
            "grid_template_areas": null,
            "grid_template_columns": null,
            "grid_template_rows": null,
            "height": null,
            "justify_content": null,
            "justify_items": null,
            "left": null,
            "margin": null,
            "max_height": null,
            "max_width": null,
            "min_height": null,
            "min_width": null,
            "object_fit": null,
            "object_position": null,
            "order": null,
            "overflow": null,
            "overflow_x": null,
            "overflow_y": null,
            "padding": null,
            "right": null,
            "top": null,
            "visibility": null,
            "width": null
          }
        },
        "a74faa0d0fbe4b698e43c445fb586e36": {
          "model_module": "@jupyter-widgets/base",
          "model_name": "LayoutModel",
          "model_module_version": "1.2.0",
          "state": {
            "_model_module": "@jupyter-widgets/base",
            "_model_module_version": "1.2.0",
            "_model_name": "LayoutModel",
            "_view_count": null,
            "_view_module": "@jupyter-widgets/base",
            "_view_module_version": "1.2.0",
            "_view_name": "LayoutView",
            "align_content": null,
            "align_items": null,
            "align_self": null,
            "border": null,
            "bottom": null,
            "display": null,
            "flex": null,
            "flex_flow": null,
            "grid_area": null,
            "grid_auto_columns": null,
            "grid_auto_flow": null,
            "grid_auto_rows": null,
            "grid_column": null,
            "grid_gap": null,
            "grid_row": null,
            "grid_template_areas": null,
            "grid_template_columns": null,
            "grid_template_rows": null,
            "height": null,
            "justify_content": null,
            "justify_items": null,
            "left": null,
            "margin": null,
            "max_height": null,
            "max_width": null,
            "min_height": null,
            "min_width": null,
            "object_fit": null,
            "object_position": null,
            "order": null,
            "overflow": null,
            "overflow_x": null,
            "overflow_y": null,
            "padding": null,
            "right": null,
            "top": null,
            "visibility": null,
            "width": null
          }
        },
        "9953b45fa4a94831a7fcde2a848323f1": {
          "model_module": "@jupyter-widgets/controls",
          "model_name": "DescriptionStyleModel",
          "model_module_version": "1.5.0",
          "state": {
            "_model_module": "@jupyter-widgets/controls",
            "_model_module_version": "1.5.0",
            "_model_name": "DescriptionStyleModel",
            "_view_count": null,
            "_view_module": "@jupyter-widgets/base",
            "_view_module_version": "1.2.0",
            "_view_name": "StyleView",
            "description_width": ""
          }
        },
        "f7dda9630f8f4535958dd5e4449f3937": {
          "model_module": "@jupyter-widgets/base",
          "model_name": "LayoutModel",
          "model_module_version": "1.2.0",
          "state": {
            "_model_module": "@jupyter-widgets/base",
            "_model_module_version": "1.2.0",
            "_model_name": "LayoutModel",
            "_view_count": null,
            "_view_module": "@jupyter-widgets/base",
            "_view_module_version": "1.2.0",
            "_view_name": "LayoutView",
            "align_content": null,
            "align_items": null,
            "align_self": null,
            "border": null,
            "bottom": null,
            "display": null,
            "flex": null,
            "flex_flow": null,
            "grid_area": null,
            "grid_auto_columns": null,
            "grid_auto_flow": null,
            "grid_auto_rows": null,
            "grid_column": null,
            "grid_gap": null,
            "grid_row": null,
            "grid_template_areas": null,
            "grid_template_columns": null,
            "grid_template_rows": null,
            "height": null,
            "justify_content": null,
            "justify_items": null,
            "left": null,
            "margin": null,
            "max_height": null,
            "max_width": null,
            "min_height": null,
            "min_width": null,
            "object_fit": null,
            "object_position": null,
            "order": null,
            "overflow": null,
            "overflow_x": null,
            "overflow_y": null,
            "padding": null,
            "right": null,
            "top": null,
            "visibility": null,
            "width": null
          }
        },
        "61540bddc9a74d0b91f853b21439fe7a": {
          "model_module": "@jupyter-widgets/controls",
          "model_name": "ProgressStyleModel",
          "model_module_version": "1.5.0",
          "state": {
            "_model_module": "@jupyter-widgets/controls",
            "_model_module_version": "1.5.0",
            "_model_name": "ProgressStyleModel",
            "_view_count": null,
            "_view_module": "@jupyter-widgets/base",
            "_view_module_version": "1.2.0",
            "_view_name": "StyleView",
            "bar_color": null,
            "description_width": ""
          }
        },
        "1c7bf5e82801470a9a82c12379a3a0b7": {
          "model_module": "@jupyter-widgets/base",
          "model_name": "LayoutModel",
          "model_module_version": "1.2.0",
          "state": {
            "_model_module": "@jupyter-widgets/base",
            "_model_module_version": "1.2.0",
            "_model_name": "LayoutModel",
            "_view_count": null,
            "_view_module": "@jupyter-widgets/base",
            "_view_module_version": "1.2.0",
            "_view_name": "LayoutView",
            "align_content": null,
            "align_items": null,
            "align_self": null,
            "border": null,
            "bottom": null,
            "display": null,
            "flex": null,
            "flex_flow": null,
            "grid_area": null,
            "grid_auto_columns": null,
            "grid_auto_flow": null,
            "grid_auto_rows": null,
            "grid_column": null,
            "grid_gap": null,
            "grid_row": null,
            "grid_template_areas": null,
            "grid_template_columns": null,
            "grid_template_rows": null,
            "height": null,
            "justify_content": null,
            "justify_items": null,
            "left": null,
            "margin": null,
            "max_height": null,
            "max_width": null,
            "min_height": null,
            "min_width": null,
            "object_fit": null,
            "object_position": null,
            "order": null,
            "overflow": null,
            "overflow_x": null,
            "overflow_y": null,
            "padding": null,
            "right": null,
            "top": null,
            "visibility": null,
            "width": null
          }
        },
        "6fb40bb1267748979687584750ea2902": {
          "model_module": "@jupyter-widgets/controls",
          "model_name": "DescriptionStyleModel",
          "model_module_version": "1.5.0",
          "state": {
            "_model_module": "@jupyter-widgets/controls",
            "_model_module_version": "1.5.0",
            "_model_name": "DescriptionStyleModel",
            "_view_count": null,
            "_view_module": "@jupyter-widgets/base",
            "_view_module_version": "1.2.0",
            "_view_name": "StyleView",
            "description_width": ""
          }
        }
      }
    }
  },
  "nbformat": 4,
  "nbformat_minor": 5
}